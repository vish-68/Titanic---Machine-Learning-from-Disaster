{
 "cells": [
  {
   "cell_type": "markdown",
   "metadata": {},
   "source": [
    "# Titanic Data from kaggle "
   ]
  },
  {
   "cell_type": "markdown",
   "metadata": {},
   "source": [
    "# Training Dataset"
   ]
  },
  {
   "cell_type": "code",
   "execution_count": 1,
   "metadata": {},
   "outputs": [],
   "source": [
    "# importing libraries\n",
    "\n",
    "import numpy as np\n",
    "import pandas as pd\n",
    "import matplotlib.pyplot as plt\n",
    "import seaborn as sns\n",
    "\n",
    "pd.set_option(\"display.max_columns\",None)\n",
    "pd.set_option(\"display.max_rows\",None)\n",
    "\n",
    "# import warnings\n",
    "import warnings\n",
    "warnings.filterwarnings(\"ignore\")\n",
    "\n",
    "# label encoding \n",
    "from sklearn import preprocessing\n",
    "\n",
    "# scaling data\n",
    "from sklearn.preprocessing import StandardScaler\n",
    "\n",
    "# train test split\n",
    "from sklearn.model_selection import train_test_split\n",
    "\n",
    "# Evaluation matrix\n",
    "from sklearn.metrics import confusion_matrix, accuracy_score, classification_report\n",
    "\n",
    "# models\n",
    "from sklearn.linear_model import LogisticRegression\n",
    "from sklearn import metrics # for AUC\n",
    "from sklearn.linear_model import SGDClassifier\n",
    "from sklearn.neighbors import KNeighborsClassifier\n",
    "from sklearn.tree import DecisionTreeClassifier\n",
    "from sklearn.ensemble import RandomForestClassifier\n",
    "from sklearn.svm import SVC\n",
    "from sklearn.model_selection import KFold\n",
    "from sklearn.model_selection import cross_val_score \n",
    "from sklearn.ensemble import VotingClassifier\n",
    "\n",
    "#importing pickle for saving model\n",
    "import pickle"
   ]
  },
  {
   "cell_type": "code",
   "execution_count": 2,
   "metadata": {},
   "outputs": [
    {
     "name": "stdout",
     "output_type": "stream",
     "text": [
      "(891, 11)\n"
     ]
    },
    {
     "data": {
      "text/html": [
       "<div>\n",
       "<style scoped>\n",
       "    .dataframe tbody tr th:only-of-type {\n",
       "        vertical-align: middle;\n",
       "    }\n",
       "\n",
       "    .dataframe tbody tr th {\n",
       "        vertical-align: top;\n",
       "    }\n",
       "\n",
       "    .dataframe thead th {\n",
       "        text-align: right;\n",
       "    }\n",
       "</style>\n",
       "<table border=\"1\" class=\"dataframe\">\n",
       "  <thead>\n",
       "    <tr style=\"text-align: right;\">\n",
       "      <th></th>\n",
       "      <th>Survived</th>\n",
       "      <th>Pclass</th>\n",
       "      <th>Name</th>\n",
       "      <th>Sex</th>\n",
       "      <th>Age</th>\n",
       "      <th>SibSp</th>\n",
       "      <th>Parch</th>\n",
       "      <th>Ticket</th>\n",
       "      <th>Fare</th>\n",
       "      <th>Cabin</th>\n",
       "      <th>Embarked</th>\n",
       "    </tr>\n",
       "    <tr>\n",
       "      <th>PassengerId</th>\n",
       "      <th></th>\n",
       "      <th></th>\n",
       "      <th></th>\n",
       "      <th></th>\n",
       "      <th></th>\n",
       "      <th></th>\n",
       "      <th></th>\n",
       "      <th></th>\n",
       "      <th></th>\n",
       "      <th></th>\n",
       "      <th></th>\n",
       "    </tr>\n",
       "  </thead>\n",
       "  <tbody>\n",
       "    <tr>\n",
       "      <th>1</th>\n",
       "      <td>0</td>\n",
       "      <td>3</td>\n",
       "      <td>Braund, Mr. Owen Harris</td>\n",
       "      <td>male</td>\n",
       "      <td>22.0</td>\n",
       "      <td>1</td>\n",
       "      <td>0</td>\n",
       "      <td>A/5 21171</td>\n",
       "      <td>7.2500</td>\n",
       "      <td>NaN</td>\n",
       "      <td>S</td>\n",
       "    </tr>\n",
       "    <tr>\n",
       "      <th>2</th>\n",
       "      <td>1</td>\n",
       "      <td>1</td>\n",
       "      <td>Cumings, Mrs. John Bradley (Florence Briggs Th...</td>\n",
       "      <td>female</td>\n",
       "      <td>38.0</td>\n",
       "      <td>1</td>\n",
       "      <td>0</td>\n",
       "      <td>PC 17599</td>\n",
       "      <td>71.2833</td>\n",
       "      <td>C85</td>\n",
       "      <td>C</td>\n",
       "    </tr>\n",
       "    <tr>\n",
       "      <th>3</th>\n",
       "      <td>1</td>\n",
       "      <td>3</td>\n",
       "      <td>Heikkinen, Miss. Laina</td>\n",
       "      <td>female</td>\n",
       "      <td>26.0</td>\n",
       "      <td>0</td>\n",
       "      <td>0</td>\n",
       "      <td>STON/O2. 3101282</td>\n",
       "      <td>7.9250</td>\n",
       "      <td>NaN</td>\n",
       "      <td>S</td>\n",
       "    </tr>\n",
       "    <tr>\n",
       "      <th>4</th>\n",
       "      <td>1</td>\n",
       "      <td>1</td>\n",
       "      <td>Futrelle, Mrs. Jacques Heath (Lily May Peel)</td>\n",
       "      <td>female</td>\n",
       "      <td>35.0</td>\n",
       "      <td>1</td>\n",
       "      <td>0</td>\n",
       "      <td>113803</td>\n",
       "      <td>53.1000</td>\n",
       "      <td>C123</td>\n",
       "      <td>S</td>\n",
       "    </tr>\n",
       "    <tr>\n",
       "      <th>5</th>\n",
       "      <td>0</td>\n",
       "      <td>3</td>\n",
       "      <td>Allen, Mr. William Henry</td>\n",
       "      <td>male</td>\n",
       "      <td>35.0</td>\n",
       "      <td>0</td>\n",
       "      <td>0</td>\n",
       "      <td>373450</td>\n",
       "      <td>8.0500</td>\n",
       "      <td>NaN</td>\n",
       "      <td>S</td>\n",
       "    </tr>\n",
       "  </tbody>\n",
       "</table>\n",
       "</div>"
      ],
      "text/plain": [
       "             Survived  Pclass  \\\n",
       "PassengerId                     \n",
       "1                   0       3   \n",
       "2                   1       1   \n",
       "3                   1       3   \n",
       "4                   1       1   \n",
       "5                   0       3   \n",
       "\n",
       "                                                          Name     Sex   Age  \\\n",
       "PassengerId                                                                    \n",
       "1                                      Braund, Mr. Owen Harris    male  22.0   \n",
       "2            Cumings, Mrs. John Bradley (Florence Briggs Th...  female  38.0   \n",
       "3                                       Heikkinen, Miss. Laina  female  26.0   \n",
       "4                 Futrelle, Mrs. Jacques Heath (Lily May Peel)  female  35.0   \n",
       "5                                     Allen, Mr. William Henry    male  35.0   \n",
       "\n",
       "             SibSp  Parch            Ticket     Fare Cabin Embarked  \n",
       "PassengerId                                                          \n",
       "1                1      0         A/5 21171   7.2500   NaN        S  \n",
       "2                1      0          PC 17599  71.2833   C85        C  \n",
       "3                0      0  STON/O2. 3101282   7.9250   NaN        S  \n",
       "4                1      0            113803  53.1000  C123        S  \n",
       "5                0      0            373450   8.0500   NaN        S  "
      ]
     },
     "execution_count": 2,
     "metadata": {},
     "output_type": "execute_result"
    }
   ],
   "source": [
    "train_df=pd.read_csv(r'C:\\Users\\vishal\\Web Deployment\\Titanic Machine Learning from Disaster\\data\\train.csv',\n",
    "                     index_col=0,header=0)\n",
    "print(train_df.shape)\n",
    "train_df.head()"
   ]
  },
  {
   "cell_type": "code",
   "execution_count": 3,
   "metadata": {},
   "outputs": [],
   "source": [
    "train_df=train_df[['Pclass', 'Name', 'Sex', 'Age', 'SibSp', 'Parch', 'Ticket',\n",
    "       'Fare', 'Cabin', 'Embarked','Survived']]"
   ]
  },
  {
   "cell_type": "code",
   "execution_count": 4,
   "metadata": {},
   "outputs": [
    {
     "name": "stdout",
     "output_type": "stream",
     "text": [
      "<class 'pandas.core.frame.DataFrame'>\n",
      "Int64Index: 891 entries, 1 to 891\n",
      "Data columns (total 11 columns):\n",
      " #   Column    Non-Null Count  Dtype  \n",
      "---  ------    --------------  -----  \n",
      " 0   Pclass    891 non-null    int64  \n",
      " 1   Name      891 non-null    object \n",
      " 2   Sex       891 non-null    object \n",
      " 3   Age       714 non-null    float64\n",
      " 4   SibSp     891 non-null    int64  \n",
      " 5   Parch     891 non-null    int64  \n",
      " 6   Ticket    891 non-null    object \n",
      " 7   Fare      891 non-null    float64\n",
      " 8   Cabin     204 non-null    object \n",
      " 9   Embarked  889 non-null    object \n",
      " 10  Survived  891 non-null    int64  \n",
      "dtypes: float64(2), int64(4), object(5)\n",
      "memory usage: 83.5+ KB\n"
     ]
    }
   ],
   "source": [
    "train_df.info()"
   ]
  },
  {
   "cell_type": "code",
   "execution_count": 5,
   "metadata": {},
   "outputs": [
    {
     "data": {
      "text/html": [
       "<div>\n",
       "<style scoped>\n",
       "    .dataframe tbody tr th:only-of-type {\n",
       "        vertical-align: middle;\n",
       "    }\n",
       "\n",
       "    .dataframe tbody tr th {\n",
       "        vertical-align: top;\n",
       "    }\n",
       "\n",
       "    .dataframe thead th {\n",
       "        text-align: right;\n",
       "    }\n",
       "</style>\n",
       "<table border=\"1\" class=\"dataframe\">\n",
       "  <thead>\n",
       "    <tr style=\"text-align: right;\">\n",
       "      <th></th>\n",
       "      <th>Pclass</th>\n",
       "      <th>Name</th>\n",
       "      <th>Sex</th>\n",
       "      <th>Age</th>\n",
       "      <th>SibSp</th>\n",
       "      <th>Parch</th>\n",
       "      <th>Ticket</th>\n",
       "      <th>Fare</th>\n",
       "      <th>Cabin</th>\n",
       "      <th>Embarked</th>\n",
       "      <th>Survived</th>\n",
       "    </tr>\n",
       "  </thead>\n",
       "  <tbody>\n",
       "    <tr>\n",
       "      <th>count</th>\n",
       "      <td>891.000000</td>\n",
       "      <td>891</td>\n",
       "      <td>891</td>\n",
       "      <td>714.000000</td>\n",
       "      <td>891.000000</td>\n",
       "      <td>891.000000</td>\n",
       "      <td>891</td>\n",
       "      <td>891.000000</td>\n",
       "      <td>204</td>\n",
       "      <td>889</td>\n",
       "      <td>891.000000</td>\n",
       "    </tr>\n",
       "    <tr>\n",
       "      <th>unique</th>\n",
       "      <td>NaN</td>\n",
       "      <td>891</td>\n",
       "      <td>2</td>\n",
       "      <td>NaN</td>\n",
       "      <td>NaN</td>\n",
       "      <td>NaN</td>\n",
       "      <td>681</td>\n",
       "      <td>NaN</td>\n",
       "      <td>147</td>\n",
       "      <td>3</td>\n",
       "      <td>NaN</td>\n",
       "    </tr>\n",
       "    <tr>\n",
       "      <th>top</th>\n",
       "      <td>NaN</td>\n",
       "      <td>Futrelle, Mrs. Jacques Heath (Lily May Peel)</td>\n",
       "      <td>male</td>\n",
       "      <td>NaN</td>\n",
       "      <td>NaN</td>\n",
       "      <td>NaN</td>\n",
       "      <td>347082</td>\n",
       "      <td>NaN</td>\n",
       "      <td>C23 C25 C27</td>\n",
       "      <td>S</td>\n",
       "      <td>NaN</td>\n",
       "    </tr>\n",
       "    <tr>\n",
       "      <th>freq</th>\n",
       "      <td>NaN</td>\n",
       "      <td>1</td>\n",
       "      <td>577</td>\n",
       "      <td>NaN</td>\n",
       "      <td>NaN</td>\n",
       "      <td>NaN</td>\n",
       "      <td>7</td>\n",
       "      <td>NaN</td>\n",
       "      <td>4</td>\n",
       "      <td>644</td>\n",
       "      <td>NaN</td>\n",
       "    </tr>\n",
       "    <tr>\n",
       "      <th>mean</th>\n",
       "      <td>2.308642</td>\n",
       "      <td>NaN</td>\n",
       "      <td>NaN</td>\n",
       "      <td>29.699118</td>\n",
       "      <td>0.523008</td>\n",
       "      <td>0.381594</td>\n",
       "      <td>NaN</td>\n",
       "      <td>32.204208</td>\n",
       "      <td>NaN</td>\n",
       "      <td>NaN</td>\n",
       "      <td>0.383838</td>\n",
       "    </tr>\n",
       "    <tr>\n",
       "      <th>std</th>\n",
       "      <td>0.836071</td>\n",
       "      <td>NaN</td>\n",
       "      <td>NaN</td>\n",
       "      <td>14.526497</td>\n",
       "      <td>1.102743</td>\n",
       "      <td>0.806057</td>\n",
       "      <td>NaN</td>\n",
       "      <td>49.693429</td>\n",
       "      <td>NaN</td>\n",
       "      <td>NaN</td>\n",
       "      <td>0.486592</td>\n",
       "    </tr>\n",
       "    <tr>\n",
       "      <th>min</th>\n",
       "      <td>1.000000</td>\n",
       "      <td>NaN</td>\n",
       "      <td>NaN</td>\n",
       "      <td>0.420000</td>\n",
       "      <td>0.000000</td>\n",
       "      <td>0.000000</td>\n",
       "      <td>NaN</td>\n",
       "      <td>0.000000</td>\n",
       "      <td>NaN</td>\n",
       "      <td>NaN</td>\n",
       "      <td>0.000000</td>\n",
       "    </tr>\n",
       "    <tr>\n",
       "      <th>25%</th>\n",
       "      <td>2.000000</td>\n",
       "      <td>NaN</td>\n",
       "      <td>NaN</td>\n",
       "      <td>20.125000</td>\n",
       "      <td>0.000000</td>\n",
       "      <td>0.000000</td>\n",
       "      <td>NaN</td>\n",
       "      <td>7.910400</td>\n",
       "      <td>NaN</td>\n",
       "      <td>NaN</td>\n",
       "      <td>0.000000</td>\n",
       "    </tr>\n",
       "    <tr>\n",
       "      <th>50%</th>\n",
       "      <td>3.000000</td>\n",
       "      <td>NaN</td>\n",
       "      <td>NaN</td>\n",
       "      <td>28.000000</td>\n",
       "      <td>0.000000</td>\n",
       "      <td>0.000000</td>\n",
       "      <td>NaN</td>\n",
       "      <td>14.454200</td>\n",
       "      <td>NaN</td>\n",
       "      <td>NaN</td>\n",
       "      <td>0.000000</td>\n",
       "    </tr>\n",
       "    <tr>\n",
       "      <th>75%</th>\n",
       "      <td>3.000000</td>\n",
       "      <td>NaN</td>\n",
       "      <td>NaN</td>\n",
       "      <td>38.000000</td>\n",
       "      <td>1.000000</td>\n",
       "      <td>0.000000</td>\n",
       "      <td>NaN</td>\n",
       "      <td>31.000000</td>\n",
       "      <td>NaN</td>\n",
       "      <td>NaN</td>\n",
       "      <td>1.000000</td>\n",
       "    </tr>\n",
       "    <tr>\n",
       "      <th>max</th>\n",
       "      <td>3.000000</td>\n",
       "      <td>NaN</td>\n",
       "      <td>NaN</td>\n",
       "      <td>80.000000</td>\n",
       "      <td>8.000000</td>\n",
       "      <td>6.000000</td>\n",
       "      <td>NaN</td>\n",
       "      <td>512.329200</td>\n",
       "      <td>NaN</td>\n",
       "      <td>NaN</td>\n",
       "      <td>1.000000</td>\n",
       "    </tr>\n",
       "  </tbody>\n",
       "</table>\n",
       "</div>"
      ],
      "text/plain": [
       "            Pclass                                          Name   Sex  \\\n",
       "count   891.000000                                           891   891   \n",
       "unique         NaN                                           891     2   \n",
       "top            NaN  Futrelle, Mrs. Jacques Heath (Lily May Peel)  male   \n",
       "freq           NaN                                             1   577   \n",
       "mean      2.308642                                           NaN   NaN   \n",
       "std       0.836071                                           NaN   NaN   \n",
       "min       1.000000                                           NaN   NaN   \n",
       "25%       2.000000                                           NaN   NaN   \n",
       "50%       3.000000                                           NaN   NaN   \n",
       "75%       3.000000                                           NaN   NaN   \n",
       "max       3.000000                                           NaN   NaN   \n",
       "\n",
       "               Age       SibSp       Parch  Ticket        Fare        Cabin  \\\n",
       "count   714.000000  891.000000  891.000000     891  891.000000          204   \n",
       "unique         NaN         NaN         NaN     681         NaN          147   \n",
       "top            NaN         NaN         NaN  347082         NaN  C23 C25 C27   \n",
       "freq           NaN         NaN         NaN       7         NaN            4   \n",
       "mean     29.699118    0.523008    0.381594     NaN   32.204208          NaN   \n",
       "std      14.526497    1.102743    0.806057     NaN   49.693429          NaN   \n",
       "min       0.420000    0.000000    0.000000     NaN    0.000000          NaN   \n",
       "25%      20.125000    0.000000    0.000000     NaN    7.910400          NaN   \n",
       "50%      28.000000    0.000000    0.000000     NaN   14.454200          NaN   \n",
       "75%      38.000000    1.000000    0.000000     NaN   31.000000          NaN   \n",
       "max      80.000000    8.000000    6.000000     NaN  512.329200          NaN   \n",
       "\n",
       "       Embarked    Survived  \n",
       "count       889  891.000000  \n",
       "unique        3         NaN  \n",
       "top           S         NaN  \n",
       "freq        644         NaN  \n",
       "mean        NaN    0.383838  \n",
       "std         NaN    0.486592  \n",
       "min         NaN    0.000000  \n",
       "25%         NaN    0.000000  \n",
       "50%         NaN    0.000000  \n",
       "75%         NaN    1.000000  \n",
       "max         NaN    1.000000  "
      ]
     },
     "execution_count": 5,
     "metadata": {},
     "output_type": "execute_result"
    }
   ],
   "source": [
    "train_df.describe(include='all')"
   ]
  },
  {
   "cell_type": "code",
   "execution_count": 6,
   "metadata": {},
   "outputs": [
    {
     "data": {
      "text/plain": [
       "Index(['Pclass', 'Name', 'Sex', 'Age', 'SibSp', 'Parch', 'Ticket', 'Fare',\n",
       "       'Cabin', 'Embarked', 'Survived'],\n",
       "      dtype='object')"
      ]
     },
     "execution_count": 6,
     "metadata": {},
     "output_type": "execute_result"
    }
   ],
   "source": [
    "train_df.columns"
   ]
  },
  {
   "cell_type": "markdown",
   "metadata": {},
   "source": [
    "## Data Preprocessing"
   ]
  },
  {
   "cell_type": "code",
   "execution_count": 7,
   "metadata": {},
   "outputs": [],
   "source": [
    "train_df.drop(['Name','Ticket','Cabin'],axis=1,inplace=True)"
   ]
  },
  {
   "cell_type": "code",
   "execution_count": 8,
   "metadata": {
    "scrolled": true
   },
   "outputs": [
    {
     "data": {
      "image/png": "[encoded data removed]",
      "text/plain": [
       "<Figure size 1080x216 with 1 Axes>"
      ]
     },
     "metadata": {
      "needs_background": "light"
     },
     "output_type": "display_data"
    },
    {
     "name": "stdout",
     "output_type": "stream",
     "text": [
      "Pclass        0\n",
      "Sex           0\n",
      "Age         177\n",
      "SibSp         0\n",
      "Parch         0\n",
      "Fare          0\n",
      "Embarked      2\n",
      "Survived      0\n",
      "dtype: int64\n"
     ]
    }
   ],
   "source": [
    "plt.figure(figsize=(15,3))\n",
    "sns.heatmap(train_df.isnull(),yticklabels=False,cbar=False)\n",
    "plt.show()\n",
    "print(train_df.isnull().sum())"
   ]
  },
  {
   "cell_type": "code",
   "execution_count": 9,
   "metadata": {},
   "outputs": [],
   "source": [
    "train_df['Age'].fillna(train_df['Age'].mean(),inplace=True)\n",
    "train_df['Embarked'].fillna(train_df['Embarked'].mode()[0],inplace=True)"
   ]
  },
  {
   "cell_type": "code",
   "execution_count": 10,
   "metadata": {},
   "outputs": [
    {
     "data": {
      "text/plain": [
       "Pclass      0\n",
       "Sex         0\n",
       "Age         0\n",
       "SibSp       0\n",
       "Parch       0\n",
       "Fare        0\n",
       "Embarked    0\n",
       "Survived    0\n",
       "dtype: int64"
      ]
     },
     "execution_count": 10,
     "metadata": {},
     "output_type": "execute_result"
    }
   ],
   "source": [
    "train_df.isnull().sum()"
   ]
  },
  {
   "cell_type": "markdown",
   "metadata": {},
   "source": [
    "## Pre-processing"
   ]
  },
  {
   "cell_type": "code",
   "execution_count": 11,
   "metadata": {
    "scrolled": true
   },
   "outputs": [
    {
     "name": "stdout",
     "output_type": "stream",
     "text": [
      "Feature Sex\n",
      "mapping {'female': 0, 'male': 1}\n",
      "Feature Embarked\n",
      "mapping {'C': 0, 'Q': 1, 'S': 2}\n"
     ]
    }
   ],
   "source": [
    "# For preprocessing the data\n",
    "from sklearn import preprocessing\n",
    "le=preprocessing.LabelEncoder()\n",
    "\n",
    "col=['Sex','Embarked']\n",
    "for x in col:\n",
    "    train_df[x]=le.fit_transform(train_df[x])\n",
    "    le_name_mapping = dict(zip(le.classes_, le.transform(le.classes_)))\n",
    "    print('Feature', x)\n",
    "    print('mapping', le_name_mapping)"
   ]
  },
  {
   "cell_type": "code",
   "execution_count": 12,
   "metadata": {},
   "outputs": [
    {
     "data": {
      "text/html": [
       "<div>\n",
       "<style scoped>\n",
       "    .dataframe tbody tr th:only-of-type {\n",
       "        vertical-align: middle;\n",
       "    }\n",
       "\n",
       "    .dataframe tbody tr th {\n",
       "        vertical-align: top;\n",
       "    }\n",
       "\n",
       "    .dataframe thead th {\n",
       "        text-align: right;\n",
       "    }\n",
       "</style>\n",
       "<table border=\"1\" class=\"dataframe\">\n",
       "  <thead>\n",
       "    <tr style=\"text-align: right;\">\n",
       "      <th></th>\n",
       "      <th>Pclass</th>\n",
       "      <th>Sex</th>\n",
       "      <th>Age</th>\n",
       "      <th>SibSp</th>\n",
       "      <th>Parch</th>\n",
       "      <th>Fare</th>\n",
       "      <th>Embarked</th>\n",
       "      <th>Survived</th>\n",
       "    </tr>\n",
       "    <tr>\n",
       "      <th>PassengerId</th>\n",
       "      <th></th>\n",
       "      <th></th>\n",
       "      <th></th>\n",
       "      <th></th>\n",
       "      <th></th>\n",
       "      <th></th>\n",
       "      <th></th>\n",
       "      <th></th>\n",
       "    </tr>\n",
       "  </thead>\n",
       "  <tbody>\n",
       "    <tr>\n",
       "      <th>1</th>\n",
       "      <td>3</td>\n",
       "      <td>1</td>\n",
       "      <td>22.0</td>\n",
       "      <td>1</td>\n",
       "      <td>0</td>\n",
       "      <td>7.2500</td>\n",
       "      <td>2</td>\n",
       "      <td>0</td>\n",
       "    </tr>\n",
       "    <tr>\n",
       "      <th>2</th>\n",
       "      <td>1</td>\n",
       "      <td>0</td>\n",
       "      <td>38.0</td>\n",
       "      <td>1</td>\n",
       "      <td>0</td>\n",
       "      <td>71.2833</td>\n",
       "      <td>0</td>\n",
       "      <td>1</td>\n",
       "    </tr>\n",
       "    <tr>\n",
       "      <th>3</th>\n",
       "      <td>3</td>\n",
       "      <td>0</td>\n",
       "      <td>26.0</td>\n",
       "      <td>0</td>\n",
       "      <td>0</td>\n",
       "      <td>7.9250</td>\n",
       "      <td>2</td>\n",
       "      <td>1</td>\n",
       "    </tr>\n",
       "    <tr>\n",
       "      <th>4</th>\n",
       "      <td>1</td>\n",
       "      <td>0</td>\n",
       "      <td>35.0</td>\n",
       "      <td>1</td>\n",
       "      <td>0</td>\n",
       "      <td>53.1000</td>\n",
       "      <td>2</td>\n",
       "      <td>1</td>\n",
       "    </tr>\n",
       "    <tr>\n",
       "      <th>5</th>\n",
       "      <td>3</td>\n",
       "      <td>1</td>\n",
       "      <td>35.0</td>\n",
       "      <td>0</td>\n",
       "      <td>0</td>\n",
       "      <td>8.0500</td>\n",
       "      <td>2</td>\n",
       "      <td>0</td>\n",
       "    </tr>\n",
       "  </tbody>\n",
       "</table>\n",
       "</div>"
      ],
      "text/plain": [
       "             Pclass  Sex   Age  SibSp  Parch     Fare  Embarked  Survived\n",
       "PassengerId                                                              \n",
       "1                 3    1  22.0      1      0   7.2500         2         0\n",
       "2                 1    0  38.0      1      0  71.2833         0         1\n",
       "3                 3    0  26.0      0      0   7.9250         2         1\n",
       "4                 1    0  35.0      1      0  53.1000         2         1\n",
       "5                 3    1  35.0      0      0   8.0500         2         0"
      ]
     },
     "execution_count": 12,
     "metadata": {},
     "output_type": "execute_result"
    }
   ],
   "source": [
    "train_df.head()"
   ]
  },
  {
   "cell_type": "code",
   "execution_count": 13,
   "metadata": {
    "scrolled": true
   },
   "outputs": [
    {
     "data": {
      "image/png": "[encoded data removed]",
      "text/plain": [
       "<Figure size 432x288 with 1 Axes>"
      ]
     },
     "metadata": {
      "needs_background": "light"
     },
     "output_type": "display_data"
    },
    {
     "data": {
      "image/png": "[encoded data removed]",
      "text/plain": [
       "<Figure size 432x288 with 1 Axes>"
      ]
     },
     "metadata": {
      "needs_background": "light"
     },
     "output_type": "display_data"
    },
    {
     "data": {
      "image/png": "[encoded data removed]",
      "text/plain": [
       "<Figure size 432x288 with 1 Axes>"
      ]
     },
     "metadata": {
      "needs_background": "light"
     },
     "output_type": "display_data"
    },
    {
     "data": {
      "image/png": "[encoded data removed]",
      "text/plain": [
       "<Figure size 432x288 with 1 Axes>"
      ]
     },
     "metadata": {
      "needs_background": "light"
     },
     "output_type": "display_data"
    },
    {
     "data": {
      "image/png": "[encoded data removed]",
      "text/plain": [
       "<Figure size 432x288 with 1 Axes>"
      ]
     },
     "metadata": {
      "needs_background": "light"
     },
     "output_type": "display_data"
    },
    {
     "data": {
      "image/png": "[encoded data removed]",
      "text/plain": [
       "<Figure size 432x288 with 1 Axes>"
      ]
     },
     "metadata": {
      "needs_background": "light"
     },
     "output_type": "display_data"
    },
    {
     "data": {
      "image/png": "[encoded data removed]",
      "text/plain": [
       "<Figure size 432x288 with 1 Axes>"
      ]
     },
     "metadata": {
      "needs_background": "light"
     },
     "output_type": "display_data"
    },
    {
     "data": {
      "image/png": "[encoded data removed]",
      "text/plain": [
       "<Figure size 432x288 with 1 Axes>"
      ]
     },
     "metadata": {
      "needs_background": "light"
     },
     "output_type": "display_data"
    }
   ],
   "source": [
    "for i in train_df.columns:\n",
    "    train_df.boxplot(column=i)\n",
    "    plt.show()"
   ]
  },
  {
   "cell_type": "code",
   "execution_count": 14,
   "metadata": {},
   "outputs": [
    {
     "data": {
      "text/plain": [
       "Pclass        int64\n",
       "Sex           int32\n",
       "Age         float64\n",
       "SibSp         int64\n",
       "Parch         int64\n",
       "Fare        float64\n",
       "Embarked      int32\n",
       "Survived      int64\n",
       "dtype: object"
      ]
     },
     "execution_count": 14,
     "metadata": {},
     "output_type": "execute_result"
    }
   ],
   "source": [
    "train_df.dtypes"
   ]
  },
  {
   "cell_type": "markdown",
   "metadata": {},
   "source": [
    "## Creating X and Y"
   ]
  },
  {
   "cell_type": "code",
   "execution_count": 15,
   "metadata": {},
   "outputs": [],
   "source": [
    "X = train_df.iloc[:,0:-1]\n",
    "Y = train_df.iloc[:,-1]"
   ]
  },
  {
   "cell_type": "code",
   "execution_count": 16,
   "metadata": {},
   "outputs": [
    {
     "name": "stdout",
     "output_type": "stream",
     "text": [
      "[[ 0.82737724  0.73769513 -0.5924806  ... -0.47367361 -0.50244517\n",
      "   0.58595414]\n",
      " [-1.56610693 -1.35557354  0.63878901 ... -0.47367361  0.78684529\n",
      "  -1.9423032 ]\n",
      " [ 0.82737724 -1.35557354 -0.2846632  ... -0.47367361 -0.48885426\n",
      "   0.58595414]\n",
      " ...\n",
      " [ 0.82737724 -1.35557354  0.         ...  2.00893337 -0.17626324\n",
      "   0.58595414]\n",
      " [-1.56610693  0.73769513 -0.2846632  ... -0.47367361 -0.04438104\n",
      "  -1.9423032 ]\n",
      " [ 0.82737724  0.73769513  0.17706291 ... -0.47367361 -0.49237783\n",
      "  -0.67817453]]\n"
     ]
    }
   ],
   "source": [
    "from sklearn.preprocessing import StandardScaler\n",
    "scaler = StandardScaler()\n",
    "scaler.fit(X)\n",
    "X = scaler.transform(X)\n",
    "print(X)"
   ]
  },
  {
   "cell_type": "markdown",
   "metadata": {},
   "source": [
    "## Scaling Data"
   ]
  },
  {
   "cell_type": "code",
   "execution_count": 17,
   "metadata": {},
   "outputs": [
    {
     "name": "stdout",
     "output_type": "stream",
     "text": [
      "[[ 8.27377244e-01  7.37695132e-01 -5.92480600e-01 ... -4.73673609e-01\n",
      "  -5.02445171e-01  5.85954143e-01]\n",
      " [-1.56610693e+00 -1.35557354e+00  6.38789012e-01 ... -4.73673609e-01\n",
      "   7.86845294e-01 -1.94230320e+00]\n",
      " [ 8.27377244e-01 -1.35557354e+00 -2.84663197e-01 ... -4.73673609e-01\n",
      "  -4.88854258e-01  5.85954143e-01]\n",
      " ...\n",
      " [ 8.27377244e-01 -1.35557354e+00 -2.23290646e-16 ...  2.00893337e+00\n",
      "  -1.76263239e-01  5.85954143e-01]\n",
      " [-1.56610693e+00  7.37695132e-01 -2.84663197e-01 ... -4.73673609e-01\n",
      "  -4.43810379e-02 -1.94230320e+00]\n",
      " [ 8.27377244e-01  7.37695132e-01  1.77062908e-01 ... -4.73673609e-01\n",
      "  -4.92377828e-01 -6.78174528e-01]]\n"
     ]
    }
   ],
   "source": [
    "scaler = StandardScaler()\n",
    "\n",
    "scaler.fit(X)\n",
    "\n",
    "X = scaler.transform(X)\n",
    "print(X)"
   ]
  },
  {
   "cell_type": "markdown",
   "metadata": {},
   "source": [
    "## Splitting Data"
   ]
  },
  {
   "cell_type": "code",
   "execution_count": 18,
   "metadata": {},
   "outputs": [],
   "source": [
    "X_train, X_test, Y_train, Y_test = train_test_split(X, Y, test_size=0.2,random_state=10)"
   ]
  },
  {
   "cell_type": "markdown",
   "metadata": {},
   "source": [
    "## Logistic Regression"
   ]
  },
  {
   "cell_type": "code",
   "execution_count": 19,
   "metadata": {
    "scrolled": true
   },
   "outputs": [
    {
     "name": "stdout",
     "output_type": "stream",
     "text": [
      "[(0, 0), (0, 0), (0, 0), (1, 1), (1, 1), (0, 0), (0, 0), (0, 0), (1, 0), (0, 0), (0, 0), (1, 1), (1, 1), (0, 0), (0, 0), (0, 0), (0, 0), (0, 0), (0, 1), (0, 0), (0, 0), (0, 0), (1, 1), (0, 0), (0, 0), (0, 0), (0, 0), (1, 1), (0, 0), (1, 1), (1, 1), (0, 0), (0, 1), (0, 0), (1, 1), (0, 0), (0, 1), (0, 0), (0, 0), (1, 0), (0, 0), (0, 0), (0, 0), (1, 0), (1, 0), (0, 0), (0, 0), (0, 0), (1, 1), (0, 0), (1, 0), (0, 0), (0, 0), (1, 0), (1, 0), (1, 1), (0, 0), (1, 1), (1, 1), (0, 0), (0, 0), (1, 1), (0, 1), (0, 1), (0, 0), (0, 0), (0, 0), (0, 0), (0, 0), (1, 1), (0, 0), (0, 0), (1, 0), (0, 0), (1, 1), (0, 0), (0, 0), (1, 0), (0, 1), (0, 0), (0, 0), (0, 0), (0, 0), (1, 1), (1, 1), (0, 0), (1, 1), (0, 1), (0, 0), (1, 1), (1, 0), (0, 0), (0, 0), (0, 0), (1, 1), (0, 1), (1, 1), (0, 0), (1, 1), (0, 0), (1, 0), (0, 0), (0, 0), (0, 0), (1, 1), (1, 1), (0, 0), (1, 0), (1, 1), (1, 1), (1, 1), (0, 0), (1, 1), (0, 0), (0, 0), (0, 0), (0, 0), (1, 1), (1, 1), (0, 1), (1, 1), (0, 0), (1, 1), (1, 1), (1, 0), (1, 1), (1, 1), (0, 0), (0, 0), (1, 0), (1, 1), (0, 0), (0, 0), (1, 1), (1, 1), (0, 1), (0, 0), (1, 1), (1, 1), (0, 0), (0, 1), (0, 0), (1, 0), (0, 0), (0, 0), (0, 0), (0, 0), (0, 0), (0, 0), (0, 0), (0, 0), (0, 0), (1, 1), (0, 0), (0, 0), (0, 1), (0, 0), (0, 0), (0, 0), (0, 0), (0, 0), (1, 1), (1, 0), (0, 0), (0, 0), (0, 0), (1, 0), (0, 0), (1, 1), (0, 0), (0, 1), (1, 1), (0, 0), (0, 1), (0, 0), (0, 0), (0, 0), (0, 0), (0, 1)]\n"
     ]
    }
   ],
   "source": [
    "from sklearn.linear_model import LogisticRegression\n",
    "classifier=LogisticRegression()\n",
    "\n",
    "classifier.fit(X_train,Y_train)\n",
    "\n",
    "Y_pred=classifier.predict(X_test)\n",
    "print(list(zip(Y_test,Y_pred)))\n",
    "\n",
    "# print(list(zip(train_df.columns[:-1],classifier.coef_.ravel())))"
   ]
  },
  {
   "cell_type": "code",
   "execution_count": 20,
   "metadata": {},
   "outputs": [
    {
     "name": "stdout",
     "output_type": "stream",
     "text": [
      "[[102  15]\n",
      " [ 17  45]]\n",
      "Classification report: \n",
      "              precision    recall  f1-score   support\n",
      "\n",
      "           0       0.86      0.87      0.86       117\n",
      "           1       0.75      0.73      0.74        62\n",
      "\n",
      "    accuracy                           0.82       179\n",
      "   macro avg       0.80      0.80      0.80       179\n",
      "weighted avg       0.82      0.82      0.82       179\n",
      "\n",
      "Accuracy of the model:  0.8212290502793296\n"
     ]
    }
   ],
   "source": [
    "from sklearn.metrics import confusion_matrix, accuracy_score, classification_report\n",
    "\n",
    "cfm=confusion_matrix(Y_test,Y_pred)\n",
    "print(cfm)\n",
    "\n",
    "print(\"Classification report: \")\n",
    "print(classification_report(Y_test,Y_pred))\n",
    "\n",
    "acc=accuracy_score(Y_test, Y_pred)\n",
    "print(\"Accuracy of the model: \",acc)"
   ]
  },
  {
   "cell_type": "markdown",
   "metadata": {},
   "source": [
    "## Logistic Tune Model"
   ]
  },
  {
   "cell_type": "code",
   "execution_count": 21,
   "metadata": {},
   "outputs": [],
   "source": [
    "X_train, X_test, Y_train, Y_test = train_test_split(X, Y, test_size=0.2,random_state=10)"
   ]
  },
  {
   "cell_type": "code",
   "execution_count": 22,
   "metadata": {
    "scrolled": true
   },
   "outputs": [
    {
     "name": "stdout",
     "output_type": "stream",
     "text": [
      "[(0, 0), (0, 0), (0, 0), (1, 1), (1, 1), (0, 0), (0, 0), (0, 0), (1, 0), (0, 0), (0, 0), (1, 1), (1, 1), (0, 0), (0, 0), (0, 0), (0, 0), (0, 0), (0, 1), (0, 0), (0, 0), (0, 0), (1, 1), (0, 0), (0, 0), (0, 0), (0, 0), (1, 1), (0, 0), (1, 1), (1, 1), (0, 0), (0, 1), (0, 0), (1, 1), (0, 0), (0, 1), (0, 0), (0, 0), (1, 0), (0, 0), (0, 0), (0, 0), (1, 0), (1, 0), (0, 0), (0, 0), (0, 0), (1, 1), (0, 0), (1, 0), (0, 0), (0, 0), (1, 0), (1, 0), (1, 1), (0, 0), (1, 1), (1, 1), (0, 0), (0, 0), (1, 1), (0, 1), (0, 1), (0, 0), (0, 0), (0, 0), (0, 0), (0, 0), (1, 1), (0, 0), (0, 0), (1, 0), (0, 0), (1, 1), (0, 0), (0, 0), (1, 0), (0, 1), (0, 0), (0, 0), (0, 0), (0, 0), (1, 1), (1, 1), (0, 0), (1, 1), (0, 1), (0, 0), (1, 1), (1, 0), (0, 0), (0, 0), (0, 0), (1, 1), (0, 1), (1, 1), (0, 0), (1, 1), (0, 0), (1, 0), (0, 0), (0, 0), (0, 0), (1, 1), (1, 1), (0, 0), (1, 0), (1, 1), (1, 1), (1, 1), (0, 0), (1, 1), (0, 0), (0, 0), (0, 0), (0, 0), (1, 1), (1, 1), (0, 1), (1, 1), (0, 0), (1, 1), (1, 1), (1, 0), (1, 1), (1, 1), (0, 0), (0, 0), (1, 0), (1, 1), (0, 0), (0, 0), (1, 1), (1, 1), (0, 1), (0, 0), (1, 1), (1, 1), (0, 0), (0, 1), (0, 0), (1, 0), (0, 0), (0, 0), (0, 0), (0, 0), (0, 0), (0, 0), (0, 0), (0, 0), (0, 0), (1, 1), (0, 0), (0, 0), (0, 1), (0, 0), (0, 0), (0, 0), (0, 0), (0, 0), (1, 1), (1, 0), (0, 0), (0, 0), (0, 0), (1, 0), (0, 0), (1, 1), (0, 0), (0, 1), (1, 1), (0, 0), (0, 1), (0, 0), (0, 0), (0, 0), (0, 0), (0, 1)]\n"
     ]
    }
   ],
   "source": [
    "from sklearn.linear_model import LogisticRegression\n",
    "classifier_tune=LogisticRegression()\n",
    "\n",
    "classifier_tune.fit(X_train,Y_train)\n",
    "\n",
    "Y_pred=classifier_tune.predict(X_test)\n",
    "print(list(zip(Y_test,Y_pred)))\n",
    "\n",
    "# print(list(zip(train_df.columns[:-1],classifier.coef_.ravel())))"
   ]
  },
  {
   "cell_type": "code",
   "execution_count": 23,
   "metadata": {},
   "outputs": [
    {
     "name": "stdout",
     "output_type": "stream",
     "text": [
      "[[102  15]\n",
      " [ 17  45]]\n",
      "Classification report: \n",
      "              precision    recall  f1-score   support\n",
      "\n",
      "           0       0.86      0.87      0.86       117\n",
      "           1       0.75      0.73      0.74        62\n",
      "\n",
      "    accuracy                           0.82       179\n",
      "   macro avg       0.80      0.80      0.80       179\n",
      "weighted avg       0.82      0.82      0.82       179\n",
      "\n",
      "Accuracy of the model:  0.8212290502793296\n"
     ]
    }
   ],
   "source": [
    "from sklearn.metrics import confusion_matrix, accuracy_score, classification_report\n",
    "\n",
    "cfm=confusion_matrix(Y_test,Y_pred)\n",
    "print(cfm)\n",
    "\n",
    "print(\"Classification report: \")\n",
    "print(classification_report(Y_test,Y_pred))\n",
    "\n",
    "acc=accuracy_score(Y_test, Y_pred)\n",
    "print(\"Accuracy of the model: \",acc)"
   ]
  },
  {
   "cell_type": "code",
   "execution_count": 24,
   "metadata": {},
   "outputs": [
    {
     "name": "stdout",
     "output_type": "stream",
     "text": [
      "[[0.91186547 0.08813453]\n",
      " [0.86334756 0.13665244]\n",
      " [0.88488306 0.11511694]\n",
      " [0.0776867  0.9223133 ]\n",
      " [0.1130915  0.8869085 ]\n",
      " [0.85927396 0.14072604]\n",
      " [0.88152683 0.11847317]\n",
      " [0.84780944 0.15219056]\n",
      " [0.90351545 0.09648455]\n",
      " [0.87078806 0.12921194]\n",
      " [0.73042855 0.26957145]\n",
      " [0.08055091 0.91944909]\n",
      " [0.31582171 0.68417829]\n",
      " [0.5325068  0.4674932 ]\n",
      " [0.75619789 0.24380211]\n",
      " [0.76314527 0.23685473]\n",
      " [0.97259932 0.02740068]\n",
      " [0.94427664 0.05572336]\n",
      " [0.43165786 0.56834214]\n",
      " [0.81991086 0.18008914]\n",
      " [0.92980668 0.07019332]\n",
      " [0.67092731 0.32907269]\n",
      " [0.28055366 0.71944634]\n",
      " [0.91990874 0.08009126]\n",
      " [0.70767807 0.29232193]\n",
      " [0.86287375 0.13712625]\n",
      " [0.86319942 0.13680058]\n",
      " [0.36953548 0.63046452]\n",
      " [0.86808445 0.13191555]\n",
      " [0.06979925 0.93020075]\n",
      " [0.11769949 0.88230051]\n",
      " [0.76314527 0.23685473]\n",
      " [0.27586214 0.72413786]\n",
      " [0.96338157 0.03661843]\n",
      " [0.20397068 0.79602932]\n",
      " [0.89672431 0.10327569]\n",
      " [0.32221179 0.67778821]\n",
      " [0.73150679 0.26849321]\n",
      " [0.86273408 0.13726592]\n",
      " [0.90350659 0.09649341]\n",
      " [0.94091676 0.05908324]\n",
      " [0.85067869 0.14932131]\n",
      " [0.89670826 0.10329174]\n",
      " [0.73608113 0.26391887]\n",
      " [0.75568434 0.24431566]\n",
      " [0.525348   0.474652  ]\n",
      " [0.86706195 0.13293805]\n",
      " [0.86703715 0.13296285]\n",
      " [0.02664555 0.97335445]\n",
      " [0.74081738 0.25918262]\n",
      " [0.71034307 0.28965693]\n",
      " [0.87762994 0.12237006]\n",
      " [0.84410981 0.15589019]\n",
      " [0.62447619 0.37552381]\n",
      " [0.6963031  0.3036969 ]\n",
      " [0.03440855 0.96559145]\n",
      " [0.94071247 0.05928753]\n",
      " [0.23143159 0.76856841]\n",
      " [0.05998979 0.94001021]\n",
      " [0.94369649 0.05630351]\n",
      " [0.84338613 0.15661387]\n",
      " [0.09658209 0.90341791]\n",
      " [0.29363462 0.70636538]\n",
      " [0.43685752 0.56314248]\n",
      " [0.97387599 0.02612401]\n",
      " [0.85517777 0.14482223]\n",
      " [0.7099563  0.2900437 ]\n",
      " [0.89910265 0.10089735]\n",
      " [0.90907649 0.09092351]\n",
      " [0.43456434 0.56543566]\n",
      " [0.66421522 0.33578478]\n",
      " [0.92865782 0.07134218]\n",
      " [0.88266802 0.11733198]\n",
      " [0.96057215 0.03942785]\n",
      " [0.18407926 0.81592074]\n",
      " [0.84666841 0.15333159]\n",
      " [0.87445042 0.12554958]\n",
      " [0.96258531 0.03741469]\n",
      " [0.37316817 0.62683183]\n",
      " [0.8422117  0.1577883 ]\n",
      " [0.92609505 0.07390495]\n",
      " [0.86273408 0.13726592]\n",
      " [0.83849777 0.16150223]\n",
      " [0.42527441 0.57472559]\n",
      " [0.1477856  0.8522144 ]\n",
      " [0.784623   0.215377  ]\n",
      " [0.07704381 0.92295619]\n",
      " [0.0712036  0.9287964 ]\n",
      " [0.76155994 0.23844006]\n",
      " [0.1559785  0.8440215 ]\n",
      " [0.90349096 0.09650904]\n",
      " [0.86273692 0.13726308]\n",
      " [0.52929182 0.47070818]\n",
      " [0.89668778 0.10331222]\n",
      " [0.13142362 0.86857638]\n",
      " [0.36486418 0.63513582]\n",
      " [0.38406435 0.61593565]\n",
      " [0.90456261 0.09543739]\n",
      " [0.06826821 0.93173179]\n",
      " [0.78612182 0.21387818]\n",
      " [0.86924877 0.13075123]\n",
      " [0.70938219 0.29061781]\n",
      " [0.95138018 0.04861982]\n",
      " [0.58470919 0.41529081]\n",
      " [0.20466509 0.79533491]\n",
      " [0.05805494 0.94194506]\n",
      " [0.76314527 0.23685473]\n",
      " [0.51889931 0.48110069]\n",
      " [0.19753795 0.80246205]\n",
      " [0.39008426 0.60991574]\n",
      " [0.23061502 0.76938498]\n",
      " [0.93881235 0.06118765]\n",
      " [0.05323097 0.94676903]\n",
      " [0.89668778 0.10331222]\n",
      " [0.86063789 0.13936211]\n",
      " [0.72837558 0.27162442]\n",
      " [0.72230368 0.27769632]\n",
      " [0.03703547 0.96296453]\n",
      " [0.33706163 0.66293837]\n",
      " [0.44563653 0.55436347]\n",
      " [0.03984195 0.96015805]\n",
      " [0.96375764 0.03624236]\n",
      " [0.03673385 0.96326615]\n",
      " [0.28109693 0.71890307]\n",
      " [0.69958101 0.30041899]\n",
      " [0.29363462 0.70636538]\n",
      " [0.05273199 0.94726801]\n",
      " [0.92944383 0.07055617]\n",
      " [0.89668778 0.10331222]\n",
      " [0.69409957 0.30590043]\n",
      " [0.05928592 0.94071408]\n",
      " [0.87055318 0.12944682]\n",
      " [0.87801074 0.12198926]\n",
      " [0.04876651 0.95123349]\n",
      " [0.23527319 0.76472681]\n",
      " [0.364698   0.635302  ]\n",
      " [0.94573589 0.05426411]\n",
      " [0.37250436 0.62749564]\n",
      " [0.06135653 0.93864347]\n",
      " [0.94598573 0.05401427]\n",
      " [0.29912774 0.70087226]\n",
      " [0.88488306 0.11511694]\n",
      " [0.53089963 0.46910037]\n",
      " [0.60093084 0.39906916]\n",
      " [0.89679403 0.10320597]\n",
      " [0.89582757 0.10417243]\n",
      " [0.62293453 0.37706547]\n",
      " [0.93556379 0.06443621]\n",
      " [0.91526915 0.08473085]\n",
      " [0.89965833 0.10034167]\n",
      " [0.90635453 0.09364547]\n",
      " [0.65309626 0.34690374]\n",
      " [0.03810269 0.96189731]\n",
      " [0.9388391  0.0611609 ]\n",
      " [0.83510517 0.16489483]\n",
      " [0.187716   0.812284  ]\n",
      " [0.89679403 0.10320597]\n",
      " [0.80415513 0.19584487]\n",
      " [0.86273408 0.13726592]\n",
      " [0.81991086 0.18008914]\n",
      " [0.87350203 0.12649797]\n",
      " [0.29363462 0.70636538]\n",
      " [0.51827081 0.48172919]\n",
      " [0.89670826 0.10329174]\n",
      " [0.85527101 0.14472899]\n",
      " [0.52950506 0.47049494]\n",
      " [0.89725968 0.10274032]\n",
      " [0.81573587 0.18426413]\n",
      " [0.38826891 0.61173109]\n",
      " [0.86691515 0.13308485]\n",
      " [0.27872707 0.72127293]\n",
      " [0.44708896 0.55291104]\n",
      " [0.95254041 0.04745959]\n",
      " [0.31511994 0.68488006]\n",
      " [0.78423    0.21577   ]\n",
      " [0.68985774 0.31014226]\n",
      " [0.93285007 0.06714993]\n",
      " [0.95794545 0.04205455]\n",
      " [0.3691912  0.6308088 ]]\n"
     ]
    }
   ],
   "source": [
    "# store the predicted probabilities\n",
    "y_pred_prob = classifier_tune.predict_proba(X_test)\n",
    "print(y_pred_prob)"
   ]
  },
  {
   "cell_type": "code",
   "execution_count": 25,
   "metadata": {},
   "outputs": [
    {
     "name": "stdout",
     "output_type": "stream",
     "text": [
      "Errors at threshold  0.4 : 34  , type 2 error : 14  , type 1 error: 20\n",
      "Errors at threshold  0.41000000000000003 : 34  , type 2 error : 14  , type 1 error: 20\n",
      "Errors at threshold  0.42000000000000004 : 33  , type 2 error : 14  , type 1 error: 19\n",
      "Errors at threshold  0.43000000000000005 : 33  , type 2 error : 14  , type 1 error: 19\n",
      "Errors at threshold  0.44000000000000006 : 33  , type 2 error : 14  , type 1 error: 19\n",
      "Errors at threshold  0.45000000000000007 : 33  , type 2 error : 14  , type 1 error: 19\n",
      "Errors at threshold  0.4600000000000001 : 33  , type 2 error : 14  , type 1 error: 19\n",
      "Errors at threshold  0.4700000000000001 : 33  , type 2 error : 15  , type 1 error: 18\n",
      "Errors at threshold  0.4800000000000001 : 30  , type 2 error : 15  , type 1 error: 15\n",
      "Errors at threshold  0.4900000000000001 : 32  , type 2 error : 17  , type 1 error: 15\n",
      "Errors at threshold  0.5000000000000001 : 32  , type 2 error : 17  , type 1 error: 15\n",
      "Errors at threshold  0.5100000000000001 : 32  , type 2 error : 17  , type 1 error: 15\n",
      "Errors at threshold  0.5200000000000001 : 32  , type 2 error : 17  , type 1 error: 15\n",
      "Errors at threshold  0.5300000000000001 : 32  , type 2 error : 17  , type 1 error: 15\n",
      "Errors at threshold  0.5400000000000001 : 32  , type 2 error : 17  , type 1 error: 15\n",
      "Errors at threshold  0.5500000000000002 : 32  , type 2 error : 17  , type 1 error: 15\n",
      "Errors at threshold  0.5600000000000002 : 32  , type 2 error : 18  , type 1 error: 14\n",
      "Errors at threshold  0.5700000000000002 : 31  , type 2 error : 19  , type 1 error: 12\n",
      "Errors at threshold  0.5800000000000002 : 32  , type 2 error : 20  , type 1 error: 12\n",
      "Errors at threshold  0.5900000000000002 : 32  , type 2 error : 20  , type 1 error: 12\n",
      "Errors at threshold  0.6000000000000002 : 32  , type 2 error : 20  , type 1 error: 12\n"
     ]
    }
   ],
   "source": [
    "for a in np.arange(0.4,0.61,0.01):\n",
    "    predict_mine = np.where(y_pred_prob[:,1] > a, 1, 0)\n",
    "    cfm=confusion_matrix(Y_test, predict_mine)\n",
    "    total_err=cfm[0,1]+cfm[1,0]\n",
    "    print(\"Errors at threshold \", a, \":\",total_err, \" , type 2 error :\", \n",
    "          cfm[1,0],\" , type 1 error:\", cfm[0,1])"
   ]
  },
  {
   "cell_type": "code",
   "execution_count": 26,
   "metadata": {},
   "outputs": [
    {
     "name": "stdout",
     "output_type": "stream",
     "text": [
      "[0, 0, 0, 1, 1, 0, 0, 0, 0, 0, 0, 1, 1, 0, 0, 0, 0, 0, 1, 0, 0, 0, 1, 0, 0, 0, 0, 1, 0, 1, 1, 0, 1, 0, 1, 0, 1, 0, 0, 0, 0, 0, 0, 0, 0, 0, 0, 0, 1, 0, 0, 0, 0, 0, 0, 1, 0, 1, 1, 0, 0, 1, 1, 1, 0, 0, 0, 0, 0, 1, 0, 0, 0, 0, 1, 0, 0, 0, 1, 0, 0, 0, 0, 1, 1, 0, 1, 1, 0, 1, 0, 0, 0, 0, 1, 1, 1, 0, 1, 0, 0, 0, 0, 0, 1, 1, 0, 0, 1, 1, 1, 0, 1, 0, 0, 0, 0, 1, 1, 1, 1, 0, 1, 1, 0, 1, 1, 0, 0, 0, 1, 0, 0, 1, 1, 1, 0, 1, 1, 0, 1, 0, 0, 0, 0, 0, 0, 0, 0, 0, 0, 0, 1, 0, 0, 1, 0, 0, 0, 0, 0, 1, 0, 0, 0, 0, 0, 0, 1, 0, 1, 1, 0, 1, 0, 0, 0, 0, 1]\n"
     ]
    }
   ],
   "source": [
    "y_pred_class=[]\n",
    "for value in y_pred_prob[:,1]:\n",
    "    if value > 0.49:\n",
    "        y_pred_class.append(1)\n",
    "    else:\n",
    "        y_pred_class.append(0)\n",
    "print(y_pred_class)"
   ]
  },
  {
   "cell_type": "code",
   "execution_count": 27,
   "metadata": {},
   "outputs": [
    {
     "name": "stdout",
     "output_type": "stream",
     "text": [
      "[[102  15]\n",
      " [ 17  45]]\n",
      "Accuracy of the model:  0.8212290502793296\n",
      "              precision    recall  f1-score   support\n",
      "\n",
      "           0       0.86      0.87      0.86       117\n",
      "           1       0.75      0.73      0.74        62\n",
      "\n",
      "    accuracy                           0.82       179\n",
      "   macro avg       0.80      0.80      0.80       179\n",
      "weighted avg       0.82      0.82      0.82       179\n",
      "\n"
     ]
    }
   ],
   "source": [
    "cfm=confusion_matrix(Y_test,y_pred_class)\n",
    "print(cfm)\n",
    "acc=accuracy_score(Y_test, y_pred_class)\n",
    "print(\"Accuracy of the model: \",acc)\n",
    "print(classification_report(Y_test, y_pred_class))"
   ]
  },
  {
   "cell_type": "code",
   "execution_count": 28,
   "metadata": {},
   "outputs": [
    {
     "name": "stdout",
     "output_type": "stream",
     "text": [
      "0.8610421836228288\n"
     ]
    }
   ],
   "source": [
    "fpr, tpr, z = metrics.roc_curve(Y_test, y_pred_prob[:,1])\n",
    "auc = metrics.auc(fpr,tpr)\n",
    "\n",
    "print(auc)"
   ]
  },
  {
   "cell_type": "code",
   "execution_count": 29,
   "metadata": {},
   "outputs": [
    {
     "data": {
      "image/png": "[encoded data removed]",
      "text/plain": [
       "<Figure size 432x288 with 1 Axes>"
      ]
     },
     "metadata": {
      "needs_background": "light"
     },
     "output_type": "display_data"
    }
   ],
   "source": [
    "plt.title('Receiver Operating Characteristic')\n",
    "plt.plot(fpr,tpr, 'b', label = auc)\n",
    "plt.legend(loc = 'lower right')\n",
    "plt.plot([0, 1], [0, 1],'r--')\n",
    "plt.xlim([0, 1])\n",
    "plt.ylim([0, 1])\n",
    "plt.xlabel('False Positive Rate')\n",
    "plt.ylabel('True Positive Rate')\n",
    "\n",
    "plt.show()"
   ]
  },
  {
   "cell_type": "markdown",
   "metadata": {},
   "source": [
    "## SGD Classifier"
   ]
  },
  {
   "cell_type": "code",
   "execution_count": 30,
   "metadata": {},
   "outputs": [],
   "source": [
    "X_train, X_test, Y_train, Y_test = train_test_split(X, Y, test_size=0.2,random_state=10)"
   ]
  },
  {
   "cell_type": "code",
   "execution_count": 31,
   "metadata": {},
   "outputs": [
    {
     "name": "stdout",
     "output_type": "stream",
     "text": [
      "[('Pclass', -0.8376886043415431), ('Sex', -1.2974841424511374), ('Age', -0.4274040859409286), ('SibSp', -0.4786726013014683), ('Parch', -0.10511507187638773), ('Fare', 0.07123824691464688), ('Embarked', -0.2556668950060947)]\n",
      "[-0.60320692]\n"
     ]
    }
   ],
   "source": [
    "classifier_SGD=SGDClassifier(loss=\"log\",random_state=10,alpha=0.01,max_iter=1000, shuffle=True,\n",
    "                             early_stopping=True,n_iter_no_change=3)\n",
    "\n",
    "classifier_SGD.fit(X_train,Y_train)\n",
    "\n",
    "Y_pred=classifier_SGD.predict(X_test)\n",
    "\n",
    "print(list(zip(train_df.columns[:-1],classifier.coef_.ravel())))\n",
    "print(classifier.intercept_)"
   ]
  },
  {
   "cell_type": "code",
   "execution_count": 32,
   "metadata": {},
   "outputs": [
    {
     "name": "stdout",
     "output_type": "stream",
     "text": [
      "[[102  15]\n",
      " [ 17  45]]\n",
      "Classification report: \n",
      "              precision    recall  f1-score   support\n",
      "\n",
      "           0       0.86      0.87      0.86       117\n",
      "           1       0.75      0.73      0.74        62\n",
      "\n",
      "    accuracy                           0.82       179\n",
      "   macro avg       0.80      0.80      0.80       179\n",
      "weighted avg       0.82      0.82      0.82       179\n",
      "\n",
      "Accuracy of the model:  0.8212290502793296\n"
     ]
    }
   ],
   "source": [
    "from sklearn.metrics import confusion_matrix, accuracy_score, classification_report\n",
    "\n",
    "cfm=confusion_matrix(Y_test,Y_pred)\n",
    "print(cfm)\n",
    "\n",
    "print(\"Classification report: \")\n",
    "print(classification_report(Y_test,Y_pred))\n",
    "\n",
    "acc=accuracy_score(Y_test, Y_pred)\n",
    "print(\"Accuracy of the model: \",acc)"
   ]
  },
  {
   "cell_type": "markdown",
   "metadata": {},
   "source": [
    "## Tune SGD"
   ]
  },
  {
   "cell_type": "code",
   "execution_count": 33,
   "metadata": {},
   "outputs": [],
   "source": [
    "X_train, X_test, Y_train, Y_test = train_test_split(X, Y, test_size=0.2,random_state=10)"
   ]
  },
  {
   "cell_type": "code",
   "execution_count": 34,
   "metadata": {},
   "outputs": [
    {
     "name": "stdout",
     "output_type": "stream",
     "text": [
      "[('Pclass', -0.8376886043415431), ('Sex', -1.2974841424511374), ('Age', -0.4274040859409286), ('SibSp', -0.4786726013014683), ('Parch', -0.10511507187638773), ('Fare', 0.07123824691464688), ('Embarked', -0.2556668950060947)]\n",
      "[-0.60320692]\n"
     ]
    }
   ],
   "source": [
    "classifier_SGD_tune=SGDClassifier(loss=\"log\",random_state=10,alpha=0.01,max_iter=1000, shuffle=True,\n",
    "                             early_stopping=True, n_iter_no_change=15)\n",
    "classifier_SGD_tune.fit(X_train,Y_train)\n",
    "\n",
    "Y_pred=classifier_SGD_tune.predict(X_test)\n",
    "\n",
    "print(list(zip(train_df.columns[:-1],classifier.coef_.ravel())))\n",
    "print(classifier.intercept_)"
   ]
  },
  {
   "cell_type": "code",
   "execution_count": 35,
   "metadata": {},
   "outputs": [
    {
     "name": "stdout",
     "output_type": "stream",
     "text": [
      "[[102  15]\n",
      " [ 16  46]]\n",
      "Classification report: \n",
      "              precision    recall  f1-score   support\n",
      "\n",
      "           0       0.86      0.87      0.87       117\n",
      "           1       0.75      0.74      0.75        62\n",
      "\n",
      "    accuracy                           0.83       179\n",
      "   macro avg       0.81      0.81      0.81       179\n",
      "weighted avg       0.83      0.83      0.83       179\n",
      "\n",
      "Accuracy of the model:  0.8268156424581006\n"
     ]
    }
   ],
   "source": [
    "from sklearn.metrics import confusion_matrix, accuracy_score, classification_report\n",
    "\n",
    "cfm=confusion_matrix(Y_test,Y_pred)\n",
    "print(cfm)\n",
    "\n",
    "print(\"Classification report: \")\n",
    "print(classification_report(Y_test,Y_pred))\n",
    "\n",
    "acc=accuracy_score(Y_test, Y_pred)\n",
    "print(\"Accuracy of the model: \",acc)"
   ]
  },
  {
   "cell_type": "code",
   "execution_count": 36,
   "metadata": {},
   "outputs": [
    {
     "data": {
      "text/plain": [
       "4"
      ]
     },
     "execution_count": 36,
     "metadata": {},
     "output_type": "execute_result"
    }
   ],
   "source": [
    "classifier_SGD.n_iter_"
   ]
  },
  {
   "cell_type": "code",
   "execution_count": 37,
   "metadata": {},
   "outputs": [
    {
     "name": "stdout",
     "output_type": "stream",
     "text": [
      "[[0.90755641 0.09244359]\n",
      " [0.85651409 0.14348591]\n",
      " [0.87902068 0.12097932]\n",
      " [0.08833103 0.91166897]\n",
      " [0.13844767 0.86155233]\n",
      " [0.85206704 0.14793296]\n",
      " [0.87552786 0.12447214]\n",
      " [0.85688141 0.14311859]\n",
      " [0.89865908 0.10134092]\n",
      " [0.8641806  0.1358194 ]\n",
      " [0.74376144 0.25623856]\n",
      " [0.08127837 0.91872163]\n",
      " [0.34269978 0.65730022]\n",
      " [0.57771351 0.42228649]\n",
      " [0.76956667 0.23043333]\n",
      " [0.7791389  0.2208611 ]\n",
      " [0.96980459 0.03019541]\n",
      " [0.93996184 0.06003816]\n",
      " [0.45147798 0.54852202]\n",
      " [0.81534643 0.18465357]\n",
      " [0.92675692 0.07324308]\n",
      " [0.69172139 0.30827861]\n",
      " [0.32014554 0.67985446]\n",
      " [0.91736121 0.08263879]\n",
      " [0.69632258 0.30367742]\n",
      " [0.85547724 0.14452276]\n",
      " [0.85619025 0.14380975]\n",
      " [0.35098807 0.64901193]\n",
      " [0.87653892 0.12346108]\n",
      " [0.08990155 0.91009845]\n",
      " [0.15013437 0.84986563]\n",
      " [0.7791389  0.2208611 ]\n",
      " [0.24877162 0.75122838]\n",
      " [0.96308142 0.03691858]\n",
      " [0.21502255 0.78497745]\n",
      " [0.89151409 0.10848591]\n",
      " [0.33462948 0.66537052]\n",
      " [0.66996478 0.33003522]\n",
      " [0.85753482 0.14246518]\n",
      " [0.89863968 0.10136032]\n",
      " [0.92671021 0.07328979]\n",
      " [0.84913998 0.15086002]\n",
      " [0.89147894 0.10852106]\n",
      " [0.7315568  0.2684432 ]\n",
      " [0.78568456 0.21431544]\n",
      " [0.56909524 0.43090476]\n",
      " [0.86028221 0.13971779]\n",
      " [0.86022796 0.13977204]\n",
      " [0.03182613 0.96817387]\n",
      " [0.76943719 0.23056281]\n",
      " [0.726869   0.273131  ]\n",
      " [0.88536629 0.11463371]\n",
      " [0.8401056  0.1598944 ]\n",
      " [0.66699734 0.33300266]\n",
      " [0.69451328 0.30548672]\n",
      " [0.04209338 0.95790662]\n",
      " [0.93610535 0.06389465]\n",
      " [0.24672563 0.75327437]\n",
      " [0.05431295 0.94568705]\n",
      " [0.94165285 0.05834715]\n",
      " [0.8374066  0.1625934 ]\n",
      " [0.12279694 0.87720306]\n",
      " [0.30867791 0.69132209]\n",
      " [0.45360562 0.54639438]\n",
      " [0.97278378 0.02721622]\n",
      " [0.84767832 0.15232168]\n",
      " [0.72866987 0.27133013]\n",
      " [0.89397942 0.10602058]\n",
      " [0.90449437 0.09550563]\n",
      " [0.49403696 0.50596304]\n",
      " [0.67433336 0.32566664]\n",
      " [0.92519787 0.07480213]\n",
      " [0.87801449 0.12198551]\n",
      " [0.95889264 0.04110736]\n",
      " [0.21359716 0.78640284]\n",
      " [0.83853692 0.16146308]\n",
      " [0.86804289 0.13195711]\n",
      " [0.955581   0.044419  ]\n",
      " [0.42199058 0.57800942]\n",
      " [0.83845942 0.16154058]\n",
      " [0.92289002 0.07710998]\n",
      " [0.85753482 0.14246518]\n",
      " [0.8407962  0.1592038 ]\n",
      " [0.38463403 0.61536597]\n",
      " [0.17238134 0.82761866]\n",
      " [0.79645131 0.20354869]\n",
      " [0.0867148  0.9132852 ]\n",
      " [0.09576318 0.90423682]\n",
      " [0.77408586 0.22591414]\n",
      " [0.15773212 0.84226788]\n",
      " [0.89860542 0.10139458]\n",
      " [0.85754096 0.14245904]\n",
      " [0.57109416 0.42890584]\n",
      " [0.89143405 0.10856595]\n",
      " [0.16623515 0.83376485]\n",
      " [0.3788826  0.6211174 ]\n",
      " [0.40285402 0.59714598]\n",
      " [0.90045373 0.09954627]\n",
      " [0.08739308 0.91260692]\n",
      " [0.80123714 0.19876286]\n",
      " [0.84088889 0.15911111]\n",
      " [0.73922927 0.26077073]\n",
      " [0.95086375 0.04913625]\n",
      " [0.63394792 0.36605208]\n",
      " [0.23673854 0.76326146]\n",
      " [0.06038321 0.93961679]\n",
      " [0.7791389  0.2208611 ]\n",
      " [0.48987234 0.51012766]\n",
      " [0.22654981 0.77345019]\n",
      " [0.43865612 0.56134388]\n",
      " [0.26530622 0.73469378]\n",
      " [0.93191527 0.06808473]\n",
      " [0.06766998 0.93233002]\n",
      " [0.89143405 0.10856595]\n",
      " [0.85503639 0.14496361]\n",
      " [0.73338092 0.26661908]\n",
      " [0.75757333 0.24242667]\n",
      " [0.0413227  0.9586773 ]\n",
      " [0.35024608 0.64975392]\n",
      " [0.48047124 0.51952876]\n",
      " [0.04602464 0.95397536]\n",
      " [0.95698233 0.04301767]\n",
      " [0.04770807 0.95229193]\n",
      " [0.29269198 0.70730802]\n",
      " [0.72316752 0.27683248]\n",
      " [0.30867791 0.69132209]\n",
      " [0.06636573 0.93363427]\n",
      " [0.92596333 0.07403667]\n",
      " [0.89143405 0.10856595]\n",
      " [0.68986593 0.31013407]\n",
      " [0.08007496 0.91992504]\n",
      " [0.86366627 0.13633373]\n",
      " [0.87178365 0.12821635]\n",
      " [0.05643116 0.94356884]\n",
      " [0.25279101 0.74720899]\n",
      " [0.37852866 0.62147134]\n",
      " [0.93889505 0.06110495]\n",
      " [0.42053884 0.57946116]\n",
      " [0.05193273 0.94806727]\n",
      " [0.94349715 0.05650285]\n",
      " [0.31437774 0.68562226]\n",
      " [0.87902068 0.12097932]\n",
      " [0.57440717 0.42559283]\n",
      " [0.64988953 0.35011047]\n",
      " [0.89166677 0.10833323]\n",
      " [0.88954168 0.11045832]\n",
      " [0.64395043 0.35604957]\n",
      " [0.93412347 0.06587653]\n",
      " [0.91203799 0.08796201]\n",
      " [0.89598351 0.10401649]\n",
      " [0.90166252 0.09833748]\n",
      " [0.69412435 0.30587565]\n",
      " [0.04807799 0.95192201]\n",
      " [0.93595492 0.06404508]\n",
      " [0.83066404 0.16933596]\n",
      " [0.18546773 0.81453227]\n",
      " [0.89166677 0.10833323]\n",
      " [0.81504831 0.18495169]\n",
      " [0.85753482 0.14246518]\n",
      " [0.81534643 0.18465357]\n",
      " [0.87690429 0.12309571]\n",
      " [0.30867791 0.69132209]\n",
      " [0.53539283 0.46460717]\n",
      " [0.89147894 0.10852106]\n",
      " [0.84788216 0.15211784]\n",
      " [0.50181639 0.49818361]\n",
      " [0.8845325  0.1154675 ]\n",
      " [0.8089097  0.1910903 ]\n",
      " [0.40782332 0.59217668]\n",
      " [0.85996096 0.14003904]\n",
      " [0.25969999 0.74030001]\n",
      " [0.41748971 0.58251029]\n",
      " [0.95103115 0.04896885]\n",
      " [0.33598535 0.66401465]\n",
      " [0.81504604 0.18495396]\n",
      " [0.70401938 0.29598062]\n",
      " [0.92956481 0.07043519]\n",
      " [0.95606771 0.04393229]\n",
      " [0.41329828 0.58670172]]\n"
     ]
    }
   ],
   "source": [
    "# store the predicted probabilities\n",
    "y_pred_prob = classifier_SGD_tune.predict_proba(X_test)\n",
    "print(y_pred_prob)"
   ]
  },
  {
   "cell_type": "code",
   "execution_count": 38,
   "metadata": {
    "scrolled": true
   },
   "outputs": [
    {
     "name": "stdout",
     "output_type": "stream",
     "text": [
      "Errors at threshold  0.3 : 38  , type 2 error : 11  , type 1 error: 27\n",
      "Errors at threshold  0.31 : 36  , type 2 error : 12  , type 1 error: 24\n",
      "Errors at threshold  0.32 : 37  , type 2 error : 13  , type 1 error: 24\n",
      "Errors at threshold  0.33 : 36  , type 2 error : 13  , type 1 error: 23\n",
      "Errors at threshold  0.34 : 36  , type 2 error : 14  , type 1 error: 22\n",
      "Errors at threshold  0.35000000000000003 : 36  , type 2 error : 14  , type 1 error: 22\n",
      "Errors at threshold  0.36000000000000004 : 34  , type 2 error : 14  , type 1 error: 20\n",
      "Errors at threshold  0.37000000000000005 : 33  , type 2 error : 14  , type 1 error: 19\n",
      "Errors at threshold  0.38000000000000006 : 33  , type 2 error : 14  , type 1 error: 19\n",
      "Errors at threshold  0.39000000000000007 : 33  , type 2 error : 14  , type 1 error: 19\n",
      "Errors at threshold  0.4000000000000001 : 33  , type 2 error : 14  , type 1 error: 19\n",
      "Errors at threshold  0.4100000000000001 : 33  , type 2 error : 14  , type 1 error: 19\n",
      "Errors at threshold  0.4200000000000001 : 33  , type 2 error : 14  , type 1 error: 19\n",
      "Errors at threshold  0.4300000000000001 : 32  , type 2 error : 15  , type 1 error: 17\n",
      "Errors at threshold  0.4400000000000001 : 31  , type 2 error : 15  , type 1 error: 16\n",
      "Errors at threshold  0.4500000000000001 : 31  , type 2 error : 15  , type 1 error: 16\n",
      "Errors at threshold  0.46000000000000013 : 31  , type 2 error : 15  , type 1 error: 16\n",
      "Errors at threshold  0.47000000000000014 : 32  , type 2 error : 16  , type 1 error: 16\n",
      "Errors at threshold  0.48000000000000015 : 32  , type 2 error : 16  , type 1 error: 16\n",
      "Errors at threshold  0.49000000000000016 : 32  , type 2 error : 16  , type 1 error: 16\n",
      "Errors at threshold  0.5000000000000002 : 31  , type 2 error : 16  , type 1 error: 15\n",
      "Errors at threshold  0.5100000000000002 : 32  , type 2 error : 17  , type 1 error: 15\n",
      "Errors at threshold  0.5200000000000002 : 32  , type 2 error : 18  , type 1 error: 14\n",
      "Errors at threshold  0.5300000000000002 : 32  , type 2 error : 18  , type 1 error: 14\n",
      "Errors at threshold  0.5400000000000003 : 32  , type 2 error : 18  , type 1 error: 14\n",
      "Errors at threshold  0.5500000000000003 : 30  , type 2 error : 18  , type 1 error: 12\n",
      "Errors at threshold  0.5600000000000003 : 30  , type 2 error : 18  , type 1 error: 12\n",
      "Errors at threshold  0.5700000000000003 : 31  , type 2 error : 19  , type 1 error: 12\n",
      "Errors at threshold  0.5800000000000003 : 31  , type 2 error : 20  , type 1 error: 11\n",
      "Errors at threshold  0.5900000000000003 : 31  , type 2 error : 21  , type 1 error: 10\n",
      "Errors at threshold  0.6000000000000003 : 33  , type 2 error : 23  , type 1 error: 10\n"
     ]
    }
   ],
   "source": [
    "for a in np.arange(0.3,0.61,0.01):\n",
    "    predict_mine = np.where(y_pred_prob[:,1] > a, 1, 0)\n",
    "    cfm=confusion_matrix(Y_test, predict_mine)\n",
    "    total_err=cfm[0,1]+cfm[1,0]\n",
    "    print(\"Errors at threshold \", a, \":\",total_err, \" , type 2 error :\", \n",
    "          cfm[1,0],\" , type 1 error:\", cfm[0,1])"
   ]
  },
  {
   "cell_type": "code",
   "execution_count": 39,
   "metadata": {},
   "outputs": [
    {
     "name": "stdout",
     "output_type": "stream",
     "text": [
      "[0, 0, 0, 1, 1, 0, 0, 0, 0, 0, 0, 1, 1, 0, 0, 0, 0, 0, 1, 0, 0, 0, 1, 0, 0, 0, 0, 1, 0, 1, 1, 0, 1, 0, 1, 0, 1, 0, 0, 0, 0, 0, 0, 0, 0, 0, 0, 0, 1, 0, 0, 0, 0, 0, 0, 1, 0, 1, 1, 0, 0, 1, 1, 1, 0, 0, 0, 0, 0, 1, 0, 0, 0, 0, 1, 0, 0, 0, 1, 0, 0, 0, 0, 1, 1, 0, 1, 1, 0, 1, 0, 0, 0, 0, 1, 1, 1, 0, 1, 0, 0, 0, 0, 0, 1, 1, 0, 1, 1, 1, 1, 0, 1, 0, 0, 0, 0, 1, 1, 1, 1, 0, 1, 1, 0, 1, 1, 0, 0, 0, 1, 0, 0, 1, 1, 1, 0, 1, 1, 0, 1, 0, 0, 0, 0, 0, 0, 0, 0, 0, 0, 0, 1, 0, 0, 1, 0, 0, 0, 0, 0, 1, 0, 0, 0, 1, 0, 0, 1, 0, 1, 1, 0, 1, 0, 0, 0, 0, 1]\n"
     ]
    }
   ],
   "source": [
    "y_pred_class=[]\n",
    "for value in y_pred_prob[:,1]:\n",
    "    if value > 0.49:\n",
    "        y_pred_class.append(1)\n",
    "    else:\n",
    "        y_pred_class.append(0)\n",
    "print(y_pred_class)"
   ]
  },
  {
   "cell_type": "code",
   "execution_count": 40,
   "metadata": {},
   "outputs": [
    {
     "name": "stdout",
     "output_type": "stream",
     "text": [
      "[[101  16]\n",
      " [ 16  46]]\n",
      "Accuracy of the model:  0.8212290502793296\n",
      "              precision    recall  f1-score   support\n",
      "\n",
      "           0       0.86      0.86      0.86       117\n",
      "           1       0.74      0.74      0.74        62\n",
      "\n",
      "    accuracy                           0.82       179\n",
      "   macro avg       0.80      0.80      0.80       179\n",
      "weighted avg       0.82      0.82      0.82       179\n",
      "\n"
     ]
    }
   ],
   "source": [
    "cfm=confusion_matrix(Y_test,y_pred_class)\n",
    "print(cfm)\n",
    "acc=accuracy_score(Y_test, y_pred_class)\n",
    "print(\"Accuracy of the model: \",acc)\n",
    "print(classification_report(Y_test, y_pred_class))"
   ]
  },
  {
   "cell_type": "markdown",
   "metadata": {},
   "source": [
    "## KNN"
   ]
  },
  {
   "cell_type": "code",
   "execution_count": 41,
   "metadata": {},
   "outputs": [],
   "source": [
    "X_train, X_test, Y_train, Y_test = train_test_split(X, Y, test_size=0.2,random_state=10)"
   ]
  },
  {
   "cell_type": "code",
   "execution_count": 42,
   "metadata": {},
   "outputs": [],
   "source": [
    "model_KNN=KNeighborsClassifier(n_neighbors=int(np.sqrt(len(X_train))),metric='euclidean')\n",
    "\n",
    "model_KNN.fit(X_train,Y_train)\n",
    "Y_pred=model_KNN.predict(X_test)"
   ]
  },
  {
   "cell_type": "code",
   "execution_count": 43,
   "metadata": {},
   "outputs": [
    {
     "name": "stdout",
     "output_type": "stream",
     "text": [
      "[[108   9]\n",
      " [ 18  44]]\n",
      "0.8491620111731844\n",
      "              precision    recall  f1-score   support\n",
      "\n",
      "           0       0.86      0.92      0.89       117\n",
      "           1       0.83      0.71      0.77        62\n",
      "\n",
      "    accuracy                           0.85       179\n",
      "   macro avg       0.84      0.82      0.83       179\n",
      "weighted avg       0.85      0.85      0.85       179\n",
      "\n"
     ]
    }
   ],
   "source": [
    "print(confusion_matrix(Y_test,Y_pred))\n",
    "print(accuracy_score(Y_test,Y_pred))\n",
    "print(classification_report(Y_test,Y_pred))"
   ]
  },
  {
   "cell_type": "code",
   "execution_count": 44,
   "metadata": {},
   "outputs": [
    {
     "data": {
      "text/plain": [
       "26"
      ]
     },
     "execution_count": 44,
     "metadata": {},
     "output_type": "execute_result"
    }
   ],
   "source": [
    "int(np.sqrt(len(X_train)))"
   ]
  },
  {
   "cell_type": "markdown",
   "metadata": {},
   "source": [
    "## Tune KNN"
   ]
  },
  {
   "cell_type": "code",
   "execution_count": 45,
   "metadata": {},
   "outputs": [],
   "source": [
    "X_train, X_test, Y_train, Y_test = train_test_split(X, Y, test_size=0.2,random_state=10)"
   ]
  },
  {
   "cell_type": "code",
   "execution_count": 50,
   "metadata": {},
   "outputs": [],
   "source": [
    "model_KNN_tune=KNeighborsClassifier(n_neighbors=27, metric='euclidean')\n",
    "\n",
    "model_KNN_tune.fit(X_train,Y_train)\n",
    "\n",
    "Y_pred=model_KNN_tune.predict(X_test)"
   ]
  },
  {
   "cell_type": "code",
   "execution_count": 51,
   "metadata": {},
   "outputs": [
    {
     "name": "stdout",
     "output_type": "stream",
     "text": [
      "[[108   9]\n",
      " [ 17  45]]\n",
      "0.8547486033519553\n",
      "              precision    recall  f1-score   support\n",
      "\n",
      "           0       0.86      0.92      0.89       117\n",
      "           1       0.83      0.73      0.78        62\n",
      "\n",
      "    accuracy                           0.85       179\n",
      "   macro avg       0.85      0.82      0.83       179\n",
      "weighted avg       0.85      0.85      0.85       179\n",
      "\n"
     ]
    }
   ],
   "source": [
    "from sklearn.metrics import confusion_matrix, accuracy_score,classification_report\n",
    "#confusion matrix\n",
    "print(confusion_matrix(Y_test,Y_pred))\n",
    "print(accuracy_score(Y_test,Y_pred))\n",
    "print(classification_report(Y_test,Y_pred))"
   ]
  },
  {
   "cell_type": "code",
   "execution_count": 52,
   "metadata": {
    "scrolled": true
   },
   "outputs": [
    {
     "name": "stdout",
     "output_type": "stream",
     "text": [
      "Accuracy is  0.7206703910614525 for K-Value: 1\n",
      "Accuracy is  0.8156424581005587 for K-Value: 2\n",
      "Accuracy is  0.8268156424581006 for K-Value: 3\n",
      "Accuracy is  0.8212290502793296 for K-Value: 4\n",
      "Accuracy is  0.8156424581005587 for K-Value: 5\n",
      "Accuracy is  0.8324022346368715 for K-Value: 6\n",
      "Accuracy is  0.8379888268156425 for K-Value: 7\n",
      "Accuracy is  0.8379888268156425 for K-Value: 8\n",
      "Accuracy is  0.8435754189944135 for K-Value: 9\n",
      "Accuracy is  0.8435754189944135 for K-Value: 10\n",
      "Accuracy is  0.8547486033519553 for K-Value: 11\n",
      "Accuracy is  0.8324022346368715 for K-Value: 12\n",
      "Accuracy is  0.8324022346368715 for K-Value: 13\n",
      "Accuracy is  0.8379888268156425 for K-Value: 14\n",
      "Accuracy is  0.8435754189944135 for K-Value: 15\n",
      "Accuracy is  0.8379888268156425 for K-Value: 16\n",
      "Accuracy is  0.8324022346368715 for K-Value: 17\n",
      "Accuracy is  0.8379888268156425 for K-Value: 18\n",
      "Accuracy is  0.8268156424581006 for K-Value: 19\n",
      "Accuracy is  0.8491620111731844 for K-Value: 20\n",
      "Accuracy is  0.8491620111731844 for K-Value: 21\n",
      "Accuracy is  0.8491620111731844 for K-Value: 22\n",
      "Accuracy is  0.8379888268156425 for K-Value: 23\n",
      "Accuracy is  0.8491620111731844 for K-Value: 24\n",
      "Accuracy is  0.8435754189944135 for K-Value: 25\n",
      "Accuracy is  0.8491620111731844 for K-Value: 26\n",
      "Accuracy is  0.8547486033519553 for K-Value: 27\n",
      "Accuracy is  0.8435754189944135 for K-Value: 28\n",
      "Accuracy is  0.8491620111731844 for K-Value: 29\n",
      "Accuracy is  0.8435754189944135 for K-Value: 30\n"
     ]
    }
   ],
   "source": [
    "from sklearn.metrics import accuracy_score\n",
    "my_dict={}\n",
    "for K in range(1,31):\n",
    "    model_KNN = KNeighborsClassifier(n_neighbors=K,metric=\"minkowski\")\n",
    "    model_KNN.fit(X_train, Y_train) \n",
    "    Y_pred = model_KNN.predict(X_test)\n",
    "    print (\"Accuracy is \", accuracy_score(Y_test,Y_pred), \"for K-Value:\",K)\n",
    "    my_dict[K]=accuracy_score(Y_test,Y_pred)"
   ]
  },
  {
   "cell_type": "code",
   "execution_count": 53,
   "metadata": {},
   "outputs": [
    {
     "name": "stdout",
     "output_type": "stream",
     "text": [
      "11 : 0.8547486033519553\n",
      "27 : 0.8547486033519553\n"
     ]
    }
   ],
   "source": [
    "for k in my_dict:\n",
    "    if my_dict[k]==max(my_dict.values()):\n",
    "        print(k,\":\",my_dict[k])"
   ]
  },
  {
   "cell_type": "markdown",
   "metadata": {},
   "source": [
    "## Decision Tree"
   ]
  },
  {
   "cell_type": "code",
   "execution_count": 54,
   "metadata": {},
   "outputs": [],
   "source": [
    "X_train, X_test, Y_train, Y_test = train_test_split(X, Y, test_size=0.2,random_state=10)"
   ]
  },
  {
   "cell_type": "code",
   "execution_count": 55,
   "metadata": {},
   "outputs": [
    {
     "name": "stdout",
     "output_type": "stream",
     "text": [
      "[0 0 0 1 1 0 0 0 0 0 0 0 1 0 1 0 0 0 0 0 0 1 1 1 1 0 0 1 0 1 1 0 0 1 1 1 0\n",
      " 1 0 0 0 1 0 0 0 1 1 0 1 1 1 0 0 1 1 1 0 1 1 0 0 1 1 1 0 0 0 0 0 1 0 0 0 0\n",
      " 1 0 0 0 0 0 0 0 0 1 0 0 1 1 0 0 0 0 0 0 1 1 0 0 1 0 1 0 1 1 1 1 0 1 1 0 0\n",
      " 0 1 0 0 0 1 1 1 1 1 0 1 1 1 1 1 0 0 1 1 0 0 0 1 0 0 0 1 0 1 0 1 1 0 0 1 0\n",
      " 0 0 0 1 1 0 0 1 0 0 0 0 0 1 0 0 0 0 1 0 1 0 1 1 0 1 0 0 0 0 0]\n"
     ]
    }
   ],
   "source": [
    "model_DecisionTree=DecisionTreeClassifier(criterion=\"gini\",random_state=10,splitter=\"best\")\n",
    "\n",
    "model_DecisionTree.fit(X_train,Y_train)\n",
    "Y_pred=model_DecisionTree.predict(X_test)\n",
    "print(Y_pred)"
   ]
  },
  {
   "cell_type": "code",
   "execution_count": 56,
   "metadata": {},
   "outputs": [
    {
     "name": "stdout",
     "output_type": "stream",
     "text": [
      "[[91 26]\n",
      " [16 46]]\n",
      "0.7653631284916201\n",
      "              precision    recall  f1-score   support\n",
      "\n",
      "           0       0.85      0.78      0.81       117\n",
      "           1       0.64      0.74      0.69        62\n",
      "\n",
      "    accuracy                           0.77       179\n",
      "   macro avg       0.74      0.76      0.75       179\n",
      "weighted avg       0.78      0.77      0.77       179\n",
      "\n"
     ]
    }
   ],
   "source": [
    "print(confusion_matrix(Y_test,Y_pred))\n",
    "print(accuracy_score(Y_test,Y_pred))\n",
    "print(classification_report(Y_test,Y_pred))"
   ]
  },
  {
   "cell_type": "markdown",
   "metadata": {},
   "source": [
    "## Tune Decision Tree"
   ]
  },
  {
   "cell_type": "code",
   "execution_count": 57,
   "metadata": {},
   "outputs": [],
   "source": [
    "X_train, X_test, Y_train, Y_test = train_test_split(X, Y, test_size=0.2,random_state=10)"
   ]
  },
  {
   "cell_type": "code",
   "execution_count": 58,
   "metadata": {},
   "outputs": [
    {
     "name": "stdout",
     "output_type": "stream",
     "text": [
      "[0 0 0 1 1 0 0 0 0 0 0 1 1 0 0 0 0 0 1 0 0 0 1 0 1 0 0 0 0 1 1 0 0 0 1 0 1\n",
      " 1 0 0 0 0 0 0 0 1 0 0 1 0 0 0 0 1 1 1 0 1 1 0 0 1 1 1 0 0 0 0 0 1 0 0 0 0\n",
      " 1 0 0 0 0 0 0 0 0 1 1 0 1 1 0 1 0 0 0 0 1 0 0 0 1 0 1 0 0 0 1 1 0 1 1 0 1\n",
      " 0 1 0 0 0 0 1 1 1 1 0 1 0 1 1 1 0 0 1 1 0 0 1 1 0 0 0 1 0 1 0 1 0 0 0 0 0\n",
      " 0 0 0 1 1 0 0 0 0 0 0 0 0 1 1 0 0 0 1 0 1 0 1 1 0 0 0 0 0 0 0]\n"
     ]
    }
   ],
   "source": [
    "model_DecisionTree_tune=DecisionTreeClassifier(criterion=\"gini\",random_state=10,splitter=\"best\",\n",
    "                                         min_samples_leaf=5,max_depth=100,min_samples_split=5,\n",
    "                                         max_leaf_nodes=100)\n",
    "\n",
    "model_DecisionTree_tune.fit(X_train,Y_train)\n",
    "\n",
    "Y_pred=model_DecisionTree_tune.predict(X_test)\n",
    "print(Y_pred)"
   ]
  },
  {
   "cell_type": "code",
   "execution_count": 59,
   "metadata": {},
   "outputs": [
    {
     "name": "stdout",
     "output_type": "stream",
     "text": [
      "[[105  12]\n",
      " [ 13  49]]\n",
      "0.8603351955307262\n",
      "              precision    recall  f1-score   support\n",
      "\n",
      "           0       0.89      0.90      0.89       117\n",
      "           1       0.80      0.79      0.80        62\n",
      "\n",
      "    accuracy                           0.86       179\n",
      "   macro avg       0.85      0.84      0.85       179\n",
      "weighted avg       0.86      0.86      0.86       179\n",
      "\n"
     ]
    }
   ],
   "source": [
    "from sklearn.metrics import confusion_matrix, accuracy_score,classification_report\n",
    "#confusion matrix\n",
    "print(confusion_matrix(Y_test,Y_pred))\n",
    "print(accuracy_score(Y_test,Y_pred))\n",
    "print(classification_report(Y_test,Y_pred))"
   ]
  },
  {
   "cell_type": "code",
   "execution_count": 60,
   "metadata": {},
   "outputs": [
    {
     "data": {
      "text/plain": [
       "0.9859550561797753"
      ]
     },
     "execution_count": 60,
     "metadata": {},
     "output_type": "execute_result"
    }
   ],
   "source": [
    "model_DecisionTree.score(X_train,Y_train)"
   ]
  },
  {
   "cell_type": "code",
   "execution_count": 61,
   "metadata": {},
   "outputs": [
    {
     "data": {
      "text/plain": [
       "0.7653631284916201"
      ]
     },
     "execution_count": 61,
     "metadata": {},
     "output_type": "execute_result"
    }
   ],
   "source": [
    "model_DecisionTree.score(X_test,Y_test)"
   ]
  },
  {
   "cell_type": "code",
   "execution_count": 62,
   "metadata": {},
   "outputs": [
    {
     "name": "stdout",
     "output_type": "stream",
     "text": [
      "[[1.         0.        ]\n",
      " [1.         0.        ]\n",
      " [1.         0.        ]\n",
      " [0.4        0.6       ]\n",
      " [0.         1.        ]\n",
      " [1.         0.        ]\n",
      " [0.66666667 0.33333333]\n",
      " [1.         0.        ]\n",
      " [1.         0.        ]\n",
      " [1.         0.        ]\n",
      " [1.         0.        ]\n",
      " [0.         1.        ]\n",
      " [0.         1.        ]\n",
      " [1.         0.        ]\n",
      " [0.66666667 0.33333333]\n",
      " [1.         0.        ]\n",
      " [0.875      0.125     ]\n",
      " [1.         0.        ]\n",
      " [0.25       0.75      ]\n",
      " [1.         0.        ]\n",
      " [1.         0.        ]\n",
      " [0.71428571 0.28571429]\n",
      " [0.33333333 0.66666667]\n",
      " [0.57142857 0.42857143]\n",
      " [0.         1.        ]\n",
      " [1.         0.        ]\n",
      " [0.5        0.5       ]\n",
      " [1.         0.        ]\n",
      " [1.         0.        ]\n",
      " [0.         1.        ]\n",
      " [0.         1.        ]\n",
      " [1.         0.        ]\n",
      " [0.8        0.2       ]\n",
      " [0.5        0.5       ]\n",
      " [0.         1.        ]\n",
      " [0.57142857 0.42857143]\n",
      " [0.25       0.75      ]\n",
      " [0.4        0.6       ]\n",
      " [0.91666667 0.08333333]\n",
      " [0.5        0.5       ]\n",
      " [1.         0.        ]\n",
      " [0.875      0.125     ]\n",
      " [1.         0.        ]\n",
      " [0.6        0.4       ]\n",
      " [0.83333333 0.16666667]\n",
      " [0.2        0.8       ]\n",
      " [0.83333333 0.16666667]\n",
      " [0.5        0.5       ]\n",
      " [0.         1.        ]\n",
      " [0.83333333 0.16666667]\n",
      " [0.83333333 0.16666667]\n",
      " [1.         0.        ]\n",
      " [0.71428571 0.28571429]\n",
      " [0.         1.        ]\n",
      " [0.         1.        ]\n",
      " [0.         1.        ]\n",
      " [1.         0.        ]\n",
      " [0.4        0.6       ]\n",
      " [0.         1.        ]\n",
      " [1.         0.        ]\n",
      " [0.66666667 0.33333333]\n",
      " [0.         1.        ]\n",
      " [0.25       0.75      ]\n",
      " [0.         1.        ]\n",
      " [0.57142857 0.42857143]\n",
      " [1.         0.        ]\n",
      " [0.55555556 0.44444444]\n",
      " [1.         0.        ]\n",
      " [1.         0.        ]\n",
      " [0.33333333 0.66666667]\n",
      " [0.875      0.125     ]\n",
      " [1.         0.        ]\n",
      " [0.66666667 0.33333333]\n",
      " [1.         0.        ]\n",
      " [0.         1.        ]\n",
      " [1.         0.        ]\n",
      " [1.         0.        ]\n",
      " [1.         0.        ]\n",
      " [0.66666667 0.33333333]\n",
      " [1.         0.        ]\n",
      " [1.         0.        ]\n",
      " [0.91666667 0.08333333]\n",
      " [1.         0.        ]\n",
      " [0.4        0.6       ]\n",
      " [0.2        0.8       ]\n",
      " [0.88888889 0.11111111]\n",
      " [0.         1.        ]\n",
      " [0.         1.        ]\n",
      " [0.66666667 0.33333333]\n",
      " [0.2        0.8       ]\n",
      " [1.         0.        ]\n",
      " [1.         0.        ]\n",
      " [0.6        0.4       ]\n",
      " [1.         0.        ]\n",
      " [0.         1.        ]\n",
      " [1.         0.        ]\n",
      " [0.6        0.4       ]\n",
      " [0.8        0.2       ]\n",
      " [0.         1.        ]\n",
      " [1.         0.        ]\n",
      " [0.         1.        ]\n",
      " [1.         0.        ]\n",
      " [0.5        0.5       ]\n",
      " [0.55555556 0.44444444]\n",
      " [0.         1.        ]\n",
      " [0.         1.        ]\n",
      " [1.         0.        ]\n",
      " [0.4        0.6       ]\n",
      " [0.         1.        ]\n",
      " [0.66666667 0.33333333]\n",
      " [0.33333333 0.66666667]\n",
      " [0.8        0.2       ]\n",
      " [0.         1.        ]\n",
      " [1.         0.        ]\n",
      " [1.         0.        ]\n",
      " [1.         0.        ]\n",
      " [0.8        0.2       ]\n",
      " [0.         1.        ]\n",
      " [0.25       0.75      ]\n",
      " [0.         1.        ]\n",
      " [0.         1.        ]\n",
      " [1.         0.        ]\n",
      " [0.         1.        ]\n",
      " [0.6        0.4       ]\n",
      " [0.2        0.8       ]\n",
      " [0.25       0.75      ]\n",
      " [0.         1.        ]\n",
      " [1.         0.        ]\n",
      " [1.         0.        ]\n",
      " [0.         1.        ]\n",
      " [0.         1.        ]\n",
      " [1.         0.        ]\n",
      " [1.         0.        ]\n",
      " [0.4        0.6       ]\n",
      " [0.         1.        ]\n",
      " [1.         0.        ]\n",
      " [1.         0.        ]\n",
      " [0.66666667 0.33333333]\n",
      " [0.         1.        ]\n",
      " [1.         0.        ]\n",
      " [0.25       0.75      ]\n",
      " [1.         0.        ]\n",
      " [0.2        0.8       ]\n",
      " [0.8        0.2       ]\n",
      " [1.         0.        ]\n",
      " [1.         0.        ]\n",
      " [0.71428571 0.28571429]\n",
      " [1.         0.        ]\n",
      " [1.         0.        ]\n",
      " [0.91666667 0.08333333]\n",
      " [0.57142857 0.42857143]\n",
      " [0.2        0.8       ]\n",
      " [0.         1.        ]\n",
      " [1.         0.        ]\n",
      " [0.71428571 0.28571429]\n",
      " [0.8        0.2       ]\n",
      " [1.         0.        ]\n",
      " [0.875      0.125     ]\n",
      " [0.91666667 0.08333333]\n",
      " [1.         0.        ]\n",
      " [1.         0.        ]\n",
      " [0.25       0.75      ]\n",
      " [0.2        0.8       ]\n",
      " [1.         0.        ]\n",
      " [0.83333333 0.16666667]\n",
      " [0.66666667 0.33333333]\n",
      " [0.33333333 0.66666667]\n",
      " [1.         0.        ]\n",
      " [0.4        0.6       ]\n",
      " [1.         0.        ]\n",
      " [0.4        0.6       ]\n",
      " [0.         1.        ]\n",
      " [0.91666667 0.08333333]\n",
      " [0.8        0.2       ]\n",
      " [0.8        0.2       ]\n",
      " [0.83333333 0.16666667]\n",
      " [0.8        0.2       ]\n",
      " [1.         0.        ]\n",
      " [0.55555556 0.44444444]]\n"
     ]
    }
   ],
   "source": [
    "# store the predicted probabilities\n",
    "y_pred_prob = model_DecisionTree_tune.predict_proba(X_test)\n",
    "print(y_pred_prob)"
   ]
  },
  {
   "cell_type": "code",
   "execution_count": 63,
   "metadata": {
    "scrolled": true
   },
   "outputs": [
    {
     "name": "stdout",
     "output_type": "stream",
     "text": [
      "Errors at threshold  0.3 : 36  , type 2 error : 6  , type 1 error: 30\n",
      "Errors at threshold  0.31 : 36  , type 2 error : 6  , type 1 error: 30\n",
      "Errors at threshold  0.32 : 36  , type 2 error : 6  , type 1 error: 30\n",
      "Errors at threshold  0.33 : 36  , type 2 error : 6  , type 1 error: 30\n",
      "Errors at threshold  0.34 : 33  , type 2 error : 9  , type 1 error: 24\n",
      "Errors at threshold  0.35000000000000003 : 33  , type 2 error : 9  , type 1 error: 24\n",
      "Errors at threshold  0.36000000000000004 : 33  , type 2 error : 9  , type 1 error: 24\n",
      "Errors at threshold  0.37000000000000005 : 33  , type 2 error : 9  , type 1 error: 24\n",
      "Errors at threshold  0.38000000000000006 : 33  , type 2 error : 9  , type 1 error: 24\n",
      "Errors at threshold  0.39000000000000007 : 33  , type 2 error : 9  , type 1 error: 24\n",
      "Errors at threshold  0.4000000000000001 : 35  , type 2 error : 12  , type 1 error: 23\n",
      "Errors at threshold  0.4100000000000001 : 35  , type 2 error : 12  , type 1 error: 23\n",
      "Errors at threshold  0.4200000000000001 : 35  , type 2 error : 12  , type 1 error: 23\n",
      "Errors at threshold  0.4300000000000001 : 31  , type 2 error : 12  , type 1 error: 19\n",
      "Errors at threshold  0.4400000000000001 : 31  , type 2 error : 12  , type 1 error: 19\n",
      "Errors at threshold  0.4500000000000001 : 28  , type 2 error : 12  , type 1 error: 16\n",
      "Errors at threshold  0.46000000000000013 : 28  , type 2 error : 12  , type 1 error: 16\n",
      "Errors at threshold  0.47000000000000014 : 28  , type 2 error : 12  , type 1 error: 16\n",
      "Errors at threshold  0.48000000000000015 : 28  , type 2 error : 12  , type 1 error: 16\n",
      "Errors at threshold  0.49000000000000016 : 28  , type 2 error : 12  , type 1 error: 16\n",
      "Errors at threshold  0.5000000000000002 : 25  , type 2 error : 13  , type 1 error: 12\n",
      "Errors at threshold  0.5100000000000002 : 25  , type 2 error : 13  , type 1 error: 12\n",
      "Errors at threshold  0.5200000000000002 : 25  , type 2 error : 13  , type 1 error: 12\n",
      "Errors at threshold  0.5300000000000002 : 25  , type 2 error : 13  , type 1 error: 12\n",
      "Errors at threshold  0.5400000000000003 : 25  , type 2 error : 13  , type 1 error: 12\n",
      "Errors at threshold  0.5500000000000003 : 25  , type 2 error : 13  , type 1 error: 12\n",
      "Errors at threshold  0.5600000000000003 : 25  , type 2 error : 13  , type 1 error: 12\n",
      "Errors at threshold  0.5700000000000003 : 25  , type 2 error : 13  , type 1 error: 12\n",
      "Errors at threshold  0.5800000000000003 : 25  , type 2 error : 13  , type 1 error: 12\n",
      "Errors at threshold  0.5900000000000003 : 25  , type 2 error : 13  , type 1 error: 12\n",
      "Errors at threshold  0.6000000000000003 : 29  , type 2 error : 19  , type 1 error: 10\n"
     ]
    }
   ],
   "source": [
    "for a in np.arange(0.3,0.61,0.01):\n",
    "    predict_mine = np.where(y_pred_prob[:,1] > a, 1, 0)\n",
    "    cfm=confusion_matrix(Y_test, predict_mine)\n",
    "    total_err=cfm[0,1]+cfm[1,0]\n",
    "    print(\"Errors at threshold \", a, \":\",total_err, \" , type 2 error :\", \n",
    "          cfm[1,0],\" , type 1 error:\", cfm[0,1])"
   ]
  },
  {
   "cell_type": "markdown",
   "metadata": {},
   "source": [
    "## Extra Tree"
   ]
  },
  {
   "cell_type": "code",
   "execution_count": 66,
   "metadata": {},
   "outputs": [],
   "source": [
    "from sklearn.ensemble import ExtraTreesClassifier"
   ]
  },
  {
   "cell_type": "code",
   "execution_count": 84,
   "metadata": {},
   "outputs": [],
   "source": [
    "model_EXT=ExtraTreesClassifier(n_estimators=800, random_state=10)\n",
    "\n",
    "model_EXT.fit(X_train,Y_train)\n",
    "\n",
    "Y_pred=model_EXT.predict(X_test)"
   ]
  },
  {
   "cell_type": "code",
   "execution_count": 85,
   "metadata": {},
   "outputs": [
    {
     "name": "stdout",
     "output_type": "stream",
     "text": [
      "[[95 22]\n",
      " [18 44]]\n",
      "0.776536312849162\n",
      "              precision    recall  f1-score   support\n",
      "\n",
      "           0       0.84      0.81      0.83       117\n",
      "           1       0.67      0.71      0.69        62\n",
      "\n",
      "    accuracy                           0.78       179\n",
      "   macro avg       0.75      0.76      0.76       179\n",
      "weighted avg       0.78      0.78      0.78       179\n",
      "\n"
     ]
    }
   ],
   "source": [
    "print(confusion_matrix(Y_test,Y_pred))\n",
    "print(accuracy_score(Y_test,Y_pred))\n",
    "print(classification_report(Y_test,Y_pred))"
   ]
  },
  {
   "cell_type": "markdown",
   "metadata": {},
   "source": [
    "## Random Forest"
   ]
  },
  {
   "cell_type": "code",
   "execution_count": 86,
   "metadata": {},
   "outputs": [],
   "source": [
    "X_train, X_test, Y_train, Y_test = train_test_split(X, Y, test_size=0.2,random_state=10)"
   ]
  },
  {
   "cell_type": "code",
   "execution_count": 87,
   "metadata": {},
   "outputs": [],
   "source": [
    "model_RandomForest=RandomForestClassifier(n_estimators=10, random_state=10)\n",
    "\n",
    "model_RandomForest.fit(X_train,Y_train)\n",
    "\n",
    "Y_pred=model_RandomForest.predict(X_test)"
   ]
  },
  {
   "cell_type": "code",
   "execution_count": 88,
   "metadata": {},
   "outputs": [
    {
     "name": "stdout",
     "output_type": "stream",
     "text": [
      "[[100  17]\n",
      " [ 14  48]]\n",
      "0.8268156424581006\n",
      "              precision    recall  f1-score   support\n",
      "\n",
      "           0       0.88      0.85      0.87       117\n",
      "           1       0.74      0.77      0.76        62\n",
      "\n",
      "    accuracy                           0.83       179\n",
      "   macro avg       0.81      0.81      0.81       179\n",
      "weighted avg       0.83      0.83      0.83       179\n",
      "\n"
     ]
    }
   ],
   "source": [
    "print(confusion_matrix(Y_test,Y_pred))\n",
    "print(accuracy_score(Y_test,Y_pred))\n",
    "print(classification_report(Y_test,Y_pred))"
   ]
  },
  {
   "cell_type": "markdown",
   "metadata": {},
   "source": [
    "## Tune Random Forest"
   ]
  },
  {
   "cell_type": "code",
   "execution_count": 89,
   "metadata": {},
   "outputs": [],
   "source": [
    "X_train, X_test, Y_train, Y_test = train_test_split(X, Y, test_size=0.2,random_state=10)"
   ]
  },
  {
   "cell_type": "code",
   "execution_count": 90,
   "metadata": {},
   "outputs": [],
   "source": [
    "model_RandomForest_tune=RandomForestClassifier(n_estimators=100, max_depth=3, random_state=2)\n",
    "\n",
    "model_RandomForest_tune.fit(X_train,Y_train)\n",
    "\n",
    "Y_pred=model_RandomForest_tune.predict(X_test)"
   ]
  },
  {
   "cell_type": "code",
   "execution_count": 91,
   "metadata": {},
   "outputs": [
    {
     "name": "stdout",
     "output_type": "stream",
     "text": [
      "[[109   8]\n",
      " [ 19  43]]\n",
      "0.8491620111731844\n",
      "              precision    recall  f1-score   support\n",
      "\n",
      "           0       0.85      0.93      0.89       117\n",
      "           1       0.84      0.69      0.76        62\n",
      "\n",
      "    accuracy                           0.85       179\n",
      "   macro avg       0.85      0.81      0.83       179\n",
      "weighted avg       0.85      0.85      0.85       179\n",
      "\n"
     ]
    }
   ],
   "source": [
    "from sklearn.metrics import confusion_matrix, accuracy_score,classification_report\n",
    "#confusion matrix\n",
    "print(confusion_matrix(Y_test,Y_pred))\n",
    "print(accuracy_score(Y_test,Y_pred))\n",
    "print(classification_report(Y_test,Y_pred))"
   ]
  },
  {
   "cell_type": "code",
   "execution_count": 92,
   "metadata": {},
   "outputs": [
    {
     "data": {
      "text/plain": [
       "0.7653631284916201"
      ]
     },
     "execution_count": 92,
     "metadata": {},
     "output_type": "execute_result"
    }
   ],
   "source": [
    "model_DecisionTree.score(X_test,Y_test)"
   ]
  },
  {
   "cell_type": "code",
   "execution_count": 93,
   "metadata": {},
   "outputs": [
    {
     "name": "stdout",
     "output_type": "stream",
     "text": [
      "[[0.85517255 0.14482745]\n",
      " [0.84039256 0.15960744]\n",
      " [0.83566442 0.16433558]\n",
      " [0.18583097 0.81416903]\n",
      " [0.19160658 0.80839342]\n",
      " [0.83566442 0.16433558]\n",
      " [0.83651948 0.16348052]\n",
      " [0.73583357 0.26416643]\n",
      " [0.84259793 0.15740207]\n",
      " [0.83566442 0.16433558]\n",
      " [0.73843515 0.26156485]\n",
      " [0.22230869 0.77769131]\n",
      " [0.2915627  0.7084373 ]\n",
      " [0.6529809  0.3470191 ]\n",
      " [0.75626437 0.24373563]\n",
      " [0.82336287 0.17663713]\n",
      " [0.82228894 0.17771106]\n",
      " [0.73953768 0.26046232]\n",
      " [0.53747562 0.46252438]\n",
      " [0.78928716 0.21071284]\n",
      " [0.76895423 0.23104577]\n",
      " [0.68277447 0.31722553]\n",
      " [0.28411235 0.71588765]\n",
      " [0.82503536 0.17496464]\n",
      " [0.65285655 0.34714345]\n",
      " [0.80915887 0.19084113]\n",
      " [0.82879499 0.17120501]\n",
      " [0.47726384 0.52273616]\n",
      " [0.74081351 0.25918649]\n",
      " [0.21215519 0.78784481]\n",
      " [0.23775905 0.76224095]\n",
      " [0.82336287 0.17663713]\n",
      " [0.497061   0.502939  ]\n",
      " [0.8349217  0.1650783 ]\n",
      " [0.41046416 0.58953584]\n",
      " [0.8378715  0.1621285 ]\n",
      " [0.52172048 0.47827952]\n",
      " [0.58303952 0.41696048]\n",
      " [0.80079706 0.19920294]\n",
      " [0.83572851 0.16427149]\n",
      " [0.77118052 0.22881948]\n",
      " [0.66850778 0.33149222]\n",
      " [0.84080306 0.15919694]\n",
      " [0.68473464 0.31526536]\n",
      " [0.6372174  0.3627826 ]\n",
      " [0.63616642 0.36383358]\n",
      " [0.83273285 0.16726715]\n",
      " [0.82879499 0.17120501]\n",
      " [0.18527472 0.81472528]\n",
      " [0.61676137 0.38323863]\n",
      " [0.6025545  0.3974455 ]\n",
      " [0.68487131 0.31512869]\n",
      " [0.78313355 0.21686645]\n",
      " [0.55430343 0.44569657]\n",
      " [0.49339492 0.50660508]\n",
      " [0.17481604 0.82518396]\n",
      " [0.73617871 0.26382129]\n",
      " [0.47208127 0.52791873]\n",
      " [0.17301871 0.82698129]\n",
      " [0.77054635 0.22945365]\n",
      " [0.78815594 0.21184406]\n",
      " [0.20046135 0.79953865]\n",
      " [0.45736299 0.54263701]\n",
      " [0.48973103 0.51026897]\n",
      " [0.83664789 0.16335211]\n",
      " [0.82639194 0.17360806]\n",
      " [0.62537787 0.37462213]\n",
      " [0.83393363 0.16606637]\n",
      " [0.83687179 0.16312821]\n",
      " [0.40390522 0.59609478]\n",
      " [0.67666631 0.32333369]\n",
      " [0.84985831 0.15014169]\n",
      " [0.84198521 0.15801479]\n",
      " [0.84524456 0.15475544]\n",
      " [0.30120889 0.69879111]\n",
      " [0.81740389 0.18259611]\n",
      " [0.83566442 0.16433558]\n",
      " [0.77541423 0.22458577]\n",
      " [0.57666995 0.42333005]\n",
      " [0.80444127 0.19555873]\n",
      " [0.76895423 0.23104577]\n",
      " [0.80079706 0.19920294]\n",
      " [0.66017555 0.33982445]\n",
      " [0.49808868 0.50191132]\n",
      " [0.29914685 0.70085315]\n",
      " [0.73954179 0.26045821]\n",
      " [0.16433327 0.83566673]\n",
      " [0.26828508 0.73171492]\n",
      " [0.73954179 0.26045821]\n",
      " [0.30042167 0.69957833]\n",
      " [0.83572851 0.16427149]\n",
      " [0.80761153 0.19238847]\n",
      " [0.63616642 0.36383358]\n",
      " [0.83393363 0.16606637]\n",
      " [0.22826246 0.77173754]\n",
      " [0.5354455  0.4645545 ]\n",
      " [0.54440423 0.45559577]\n",
      " [0.74347215 0.25652785]\n",
      " [0.22034268 0.77965732]\n",
      " [0.72391799 0.27608201]\n",
      " [0.5761094  0.4238906 ]\n",
      " [0.64187486 0.35812514]\n",
      " [0.82842954 0.17157046]\n",
      " [0.58523485 0.41476515]\n",
      " [0.29702558 0.70297442]\n",
      " [0.20131846 0.79868154]\n",
      " [0.82336287 0.17663713]\n",
      " [0.54260212 0.45739788]\n",
      " [0.29878408 0.70121592]\n",
      " [0.57666995 0.42333005]\n",
      " [0.28829566 0.71170434]\n",
      " [0.73914815 0.26085185]\n",
      " [0.17823434 0.82176566]\n",
      " [0.83393363 0.16606637]\n",
      " [0.83709798 0.16290202]\n",
      " [0.58570188 0.41429812]\n",
      " [0.64473132 0.35526868]\n",
      " [0.22355858 0.77644142]\n",
      " [0.51928488 0.48071512]\n",
      " [0.50090363 0.49909637]\n",
      " [0.17437021 0.82562979]\n",
      " [0.7787732  0.2212268 ]\n",
      " [0.22584621 0.77415379]\n",
      " [0.53220852 0.46779148]\n",
      " [0.64207137 0.35792863]\n",
      " [0.45736299 0.54263701]\n",
      " [0.1786973  0.8213027 ]\n",
      " [0.76895423 0.23104577]\n",
      " [0.83393363 0.16606637]\n",
      " [0.49685985 0.50314015]\n",
      " [0.26828508 0.73171492]\n",
      " [0.82526202 0.17473798]\n",
      " [0.83566442 0.16433558]\n",
      " [0.1804452  0.8195548 ]\n",
      " [0.28944522 0.71055478]\n",
      " [0.52685913 0.47314087]\n",
      " [0.75362915 0.24637085]\n",
      " [0.57666995 0.42333005]\n",
      " [0.16885973 0.83114027]\n",
      " [0.85719504 0.14280496]\n",
      " [0.45736299 0.54263701]\n",
      " [0.83566442 0.16433558]\n",
      " [0.63616642 0.36383358]\n",
      " [0.58523485 0.41476515]\n",
      " [0.84558863 0.15441137]\n",
      " [0.78475705 0.21524295]\n",
      " [0.67692346 0.32307654]\n",
      " [0.66403835 0.33596165]\n",
      " [0.85386379 0.14613621]\n",
      " [0.81235672 0.18764328]\n",
      " [0.84080966 0.15919034]\n",
      " [0.64345255 0.35654745]\n",
      " [0.192274   0.807726  ]\n",
      " [0.85054928 0.14945072]\n",
      " [0.77055051 0.22944949]\n",
      " [0.41847044 0.58152956]\n",
      " [0.84558863 0.15441137]\n",
      " [0.69691721 0.30308279]\n",
      " [0.80079706 0.19920294]\n",
      " [0.78928716 0.21071284]\n",
      " [0.69512752 0.30487248]\n",
      " [0.45736299 0.54263701]\n",
      " [0.49712865 0.50287135]\n",
      " [0.84080306 0.15919694]\n",
      " [0.8303298  0.1696702 ]\n",
      " [0.51877069 0.48122931]\n",
      " [0.73494887 0.26505113]\n",
      " [0.80753874 0.19246126]\n",
      " [0.4393993  0.5606007 ]\n",
      " [0.82879499 0.17120501]\n",
      " [0.44046704 0.55953296]\n",
      " [0.46805202 0.53194798]\n",
      " [0.8134048  0.1865952 ]\n",
      " [0.43459536 0.56540464]\n",
      " [0.65691226 0.34308774]\n",
      " [0.73584033 0.26415967]\n",
      " [0.83761551 0.16238449]\n",
      " [0.85054928 0.14945072]\n",
      " [0.57666995 0.42333005]]\n"
     ]
    }
   ],
   "source": [
    "# store the predicted probabilities\n",
    "y_pred_prob = model_RandomForest_tune.predict_proba(X_test)\n",
    "print(y_pred_prob)"
   ]
  },
  {
   "cell_type": "code",
   "execution_count": 94,
   "metadata": {
    "scrolled": true
   },
   "outputs": [
    {
     "name": "stdout",
     "output_type": "stream",
     "text": [
      "Errors at threshold  0.3 : 45  , type 2 error : 6  , type 1 error: 39\n",
      "Errors at threshold  0.31 : 43  , type 2 error : 6  , type 1 error: 37\n",
      "Errors at threshold  0.32 : 42  , type 2 error : 7  , type 1 error: 35\n",
      "Errors at threshold  0.33 : 40  , type 2 error : 7  , type 1 error: 33\n",
      "Errors at threshold  0.34 : 37  , type 2 error : 7  , type 1 error: 30\n",
      "Errors at threshold  0.35000000000000003 : 34  , type 2 error : 7  , type 1 error: 27\n",
      "Errors at threshold  0.36000000000000004 : 32  , type 2 error : 8  , type 1 error: 24\n",
      "Errors at threshold  0.37000000000000005 : 32  , type 2 error : 10  , type 1 error: 22\n",
      "Errors at threshold  0.38000000000000006 : 31  , type 2 error : 10  , type 1 error: 21\n",
      "Errors at threshold  0.39000000000000007 : 30  , type 2 error : 10  , type 1 error: 20\n",
      "Errors at threshold  0.4000000000000001 : 31  , type 2 error : 11  , type 1 error: 20\n",
      "Errors at threshold  0.4100000000000001 : 31  , type 2 error : 11  , type 1 error: 20\n",
      "Errors at threshold  0.4200000000000001 : 27  , type 2 error : 11  , type 1 error: 16\n",
      "Errors at threshold  0.4300000000000001 : 28  , type 2 error : 14  , type 1 error: 14\n",
      "Errors at threshold  0.4400000000000001 : 28  , type 2 error : 14  , type 1 error: 14\n",
      "Errors at threshold  0.4500000000000001 : 29  , type 2 error : 15  , type 1 error: 14\n",
      "Errors at threshold  0.46000000000000013 : 31  , type 2 error : 17  , type 1 error: 14\n",
      "Errors at threshold  0.47000000000000014 : 30  , type 2 error : 18  , type 1 error: 12\n",
      "Errors at threshold  0.48000000000000015 : 28  , type 2 error : 18  , type 1 error: 10\n",
      "Errors at threshold  0.49000000000000016 : 28  , type 2 error : 19  , type 1 error: 9\n",
      "Errors at threshold  0.5000000000000002 : 27  , type 2 error : 19  , type 1 error: 8\n",
      "Errors at threshold  0.5100000000000002 : 30  , type 2 error : 23  , type 1 error: 7\n",
      "Errors at threshold  0.5200000000000002 : 29  , type 2 error : 23  , type 1 error: 6\n",
      "Errors at threshold  0.5300000000000002 : 31  , type 2 error : 25  , type 1 error: 6\n",
      "Errors at threshold  0.5400000000000003 : 32  , type 2 error : 26  , type 1 error: 6\n",
      "Errors at threshold  0.5500000000000003 : 32  , type 2 error : 28  , type 1 error: 4\n",
      "Errors at threshold  0.5600000000000003 : 31  , type 2 error : 28  , type 1 error: 3\n",
      "Errors at threshold  0.5700000000000003 : 31  , type 2 error : 29  , type 1 error: 2\n",
      "Errors at threshold  0.5800000000000003 : 31  , type 2 error : 29  , type 1 error: 2\n",
      "Errors at threshold  0.5900000000000003 : 31  , type 2 error : 30  , type 1 error: 1\n",
      "Errors at threshold  0.6000000000000003 : 32  , type 2 error : 31  , type 1 error: 1\n"
     ]
    }
   ],
   "source": [
    "for a in np.arange(0.3,0.61,0.01):\n",
    "    predict_mine = np.where(y_pred_prob[:,1] > a, 1, 0)\n",
    "    cfm=confusion_matrix(Y_test, predict_mine)\n",
    "    total_err=cfm[0,1]+cfm[1,0]\n",
    "    print(\"Errors at threshold \", a, \":\",total_err, \" , type 2 error :\", \n",
    "          cfm[1,0],\" , type 1 error:\", cfm[0,1])"
   ]
  },
  {
   "cell_type": "code",
   "execution_count": 95,
   "metadata": {},
   "outputs": [
    {
     "name": "stdout",
     "output_type": "stream",
     "text": [
      "[0, 0, 0, 1, 1, 0, 0, 0, 0, 0, 0, 1, 1, 0, 0, 0, 0, 0, 1, 0, 0, 0, 1, 0, 0, 0, 0, 1, 0, 1, 1, 0, 1, 0, 1, 0, 1, 0, 0, 0, 0, 0, 0, 0, 0, 0, 0, 0, 1, 0, 0, 0, 0, 0, 1, 1, 0, 1, 1, 0, 0, 1, 1, 1, 0, 0, 0, 0, 0, 1, 0, 0, 0, 0, 1, 0, 0, 0, 0, 0, 0, 0, 0, 1, 1, 0, 1, 1, 0, 1, 0, 0, 0, 0, 1, 1, 0, 0, 1, 0, 0, 0, 0, 0, 1, 1, 0, 0, 1, 0, 1, 0, 1, 0, 0, 0, 0, 1, 1, 1, 1, 0, 1, 1, 0, 1, 1, 0, 0, 1, 1, 0, 0, 1, 1, 1, 0, 0, 1, 0, 1, 0, 0, 0, 0, 0, 0, 0, 0, 0, 0, 0, 1, 0, 0, 1, 0, 0, 0, 0, 0, 1, 1, 0, 0, 1, 0, 0, 1, 0, 1, 1, 0, 1, 0, 0, 0, 0, 0]\n"
     ]
    }
   ],
   "source": [
    "y_pred_class=[]\n",
    "for value in y_pred_prob[:,1]:\n",
    "    if value > 0.46:\n",
    "        y_pred_class.append(1)\n",
    "    else:\n",
    "        y_pred_class.append(0)\n",
    "print(y_pred_class)"
   ]
  },
  {
   "cell_type": "code",
   "execution_count": 96,
   "metadata": {},
   "outputs": [
    {
     "name": "stdout",
     "output_type": "stream",
     "text": [
      "[[103  14]\n",
      " [ 17  45]]\n",
      "0.8268156424581006\n",
      "              precision    recall  f1-score   support\n",
      "\n",
      "           0       0.86      0.88      0.87       117\n",
      "           1       0.76      0.73      0.74        62\n",
      "\n",
      "    accuracy                           0.83       179\n",
      "   macro avg       0.81      0.80      0.81       179\n",
      "weighted avg       0.83      0.83      0.83       179\n",
      "\n"
     ]
    }
   ],
   "source": [
    "print(confusion_matrix(Y_test,y_pred_class))\n",
    "print(accuracy_score(Y_test,y_pred_class))\n",
    "print(classification_report(Y_test,y_pred_class))"
   ]
  },
  {
   "cell_type": "markdown",
   "metadata": {},
   "source": [
    "## SVC"
   ]
  },
  {
   "cell_type": "code",
   "execution_count": 97,
   "metadata": {},
   "outputs": [],
   "source": [
    "X_train, X_test, Y_train, Y_test = train_test_split(X, Y, test_size=0.2,random_state=10)"
   ]
  },
  {
   "cell_type": "code",
   "execution_count": 98,
   "metadata": {},
   "outputs": [
    {
     "name": "stdout",
     "output_type": "stream",
     "text": [
      "[0, 0, 0, 1, 1, 0, 0, 0, 0, 0, 0, 1, 1, 0, 0, 0, 0, 0, 1, 0, 0, 0, 1, 0, 0, 0, 0, 0, 0, 1, 1, 0, 1, 0, 1, 0, 1, 0, 0, 0, 0, 0, 0, 1, 0, 0, 0, 0, 1, 0, 0, 0, 0, 0, 0, 1, 0, 1, 1, 0, 0, 1, 1, 1, 0, 0, 0, 0, 0, 1, 0, 0, 0, 0, 1, 0, 0, 0, 0, 0, 0, 0, 0, 0, 1, 0, 1, 1, 0, 1, 0, 0, 0, 0, 1, 1, 1, 0, 1, 0, 0, 0, 0, 0, 1, 1, 0, 0, 1, 0, 1, 0, 1, 0, 0, 0, 0, 1, 1, 0, 1, 0, 1, 1, 1, 1, 1, 0, 0, 0, 1, 0, 0, 1, 1, 1, 0, 0, 1, 0, 1, 0, 0, 0, 0, 0, 0, 0, 0, 0, 0, 0, 1, 0, 0, 1, 0, 0, 0, 0, 0, 1, 1, 0, 0, 1, 0, 0, 1, 0, 1, 0, 0, 1, 0, 0, 0, 0, 0]\n"
     ]
    }
   ],
   "source": [
    "svc_model=SVC(kernel='rbf',C=10.0,gamma=0.001)\n",
    "\n",
    "svc_model.fit(X_train, Y_train)\n",
    "\n",
    "Y_pred=svc_model.predict(X_test)\n",
    "\n",
    "print(list(Y_pred))"
   ]
  },
  {
   "cell_type": "code",
   "execution_count": 99,
   "metadata": {},
   "outputs": [
    {
     "name": "stdout",
     "output_type": "stream",
     "text": [
      "[[104  13]\n",
      " [ 19  43]]\n",
      "0.8212290502793296\n",
      "              precision    recall  f1-score   support\n",
      "\n",
      "           0       0.85      0.89      0.87       117\n",
      "           1       0.77      0.69      0.73        62\n",
      "\n",
      "    accuracy                           0.82       179\n",
      "   macro avg       0.81      0.79      0.80       179\n",
      "weighted avg       0.82      0.82      0.82       179\n",
      "\n"
     ]
    }
   ],
   "source": [
    "print(confusion_matrix(Y_test,Y_pred))\n",
    "print(accuracy_score(Y_test,Y_pred))\n",
    "print(classification_report(Y_test,Y_pred))"
   ]
  },
  {
   "cell_type": "markdown",
   "metadata": {},
   "source": [
    "## Tune SVC"
   ]
  },
  {
   "cell_type": "code",
   "execution_count": 100,
   "metadata": {},
   "outputs": [],
   "source": [
    "X_train, X_test, Y_train, Y_test = train_test_split(X, Y, test_size=0.2,random_state=10)"
   ]
  },
  {
   "cell_type": "code",
   "execution_count": 101,
   "metadata": {},
   "outputs": [],
   "source": [
    "model_SVC_tune=SVC(kernel=\"rbf\", gamma=0.01, C=100)\n",
    "\n",
    "model_SVC_tune.fit(X_train,Y_train)\n",
    "\n",
    "Y_pred=model_SVC_tune.predict(X_test)"
   ]
  },
  {
   "cell_type": "code",
   "execution_count": 102,
   "metadata": {
    "scrolled": true
   },
   "outputs": [
    {
     "name": "stdout",
     "output_type": "stream",
     "text": [
      "[[105  12]\n",
      " [ 14  48]]\n",
      "0.8547486033519553\n",
      "              precision    recall  f1-score   support\n",
      "\n",
      "           0       0.88      0.90      0.89       117\n",
      "           1       0.80      0.77      0.79        62\n",
      "\n",
      "    accuracy                           0.85       179\n",
      "   macro avg       0.84      0.84      0.84       179\n",
      "weighted avg       0.85      0.85      0.85       179\n",
      "\n"
     ]
    }
   ],
   "source": [
    "from sklearn.metrics import confusion_matrix, accuracy_score,classification_report\n",
    "#confusion matrix\n",
    "print(confusion_matrix(Y_test,Y_pred))\n",
    "print(accuracy_score(Y_test,Y_pred))\n",
    "print(classification_report(Y_test,Y_pred))"
   ]
  },
  {
   "cell_type": "markdown",
   "metadata": {},
   "source": [
    "## Ensemble Modelling"
   ]
  },
  {
   "cell_type": "code",
   "execution_count": 103,
   "metadata": {},
   "outputs": [],
   "source": [
    "X_train, X_test, Y_train, Y_test = train_test_split(X, Y, test_size=0.2,random_state=10)"
   ]
  },
  {
   "cell_type": "code",
   "execution_count": 104,
   "metadata": {},
   "outputs": [
    {
     "name": "stdout",
     "output_type": "stream",
     "text": [
      "[0 0 0 1 1 0 0 0 0 0 0 1 1 0 0 0 0 0 1 0 0 0 1 0 0 0 0 1 0 1 1 0 1 0 1 0 1\n",
      " 0 0 0 0 0 0 0 0 0 0 0 1 0 0 0 0 0 1 1 0 1 1 0 0 1 1 1 0 0 0 0 0 1 0 0 0 0\n",
      " 1 0 0 0 0 0 0 0 0 1 1 0 1 1 0 1 0 0 0 0 1 1 1 0 1 0 1 0 0 0 1 1 0 1 1 0 1\n",
      " 0 1 0 0 0 0 1 1 1 1 0 1 1 0 1 1 0 0 1 1 0 0 1 1 1 0 0 1 0 1 0 0 0 0 0 0 0\n",
      " 0 0 0 0 1 0 0 1 0 0 0 0 0 1 0 0 0 0 0 0 1 0 1 1 0 1 0 0 0 0 0]\n"
     ]
    }
   ],
   "source": [
    "estimators = []\n",
    "model1 = LogisticRegression()\n",
    "estimators.append(('log', model1))\n",
    "\n",
    "\n",
    "model2=SGDClassifier(loss=\"log\",random_state=10,alpha=0.01,max_iter=1000, shuffle=True,\n",
    "                     early_stopping=True, n_iter_no_change=15)\n",
    "estimators.append(('sgd', model2))\n",
    "\n",
    "\n",
    "# model3 = KNeighborsClassifier(n_neighbors=8, metric='euclidean')\n",
    "# estimators.append(('knn', model3))\n",
    "\n",
    "\n",
    "model4 =SVC(kernel=\"rbf\", gamma=0.01, C=100)\n",
    "estimators.append(('svm', model4))\n",
    "\n",
    "\n",
    "model5 = DecisionTreeClassifier(criterion=\"gini\",random_state=10,splitter=\"best\",min_samples_leaf=5,max_depth=100,\n",
    "                                min_samples_split=5,max_leaf_nodes=100)\n",
    "estimators.append(('cart', model5))\n",
    "\n",
    "\n",
    "model6=RandomForestClassifier(n_estimators=45, random_state=10,min_samples_leaf=5,max_depth=100,min_samples_split=5,\n",
    "                              max_leaf_nodes=100)\n",
    "estimators.append(('rt', model6))\n",
    "\n",
    "\n",
    "# create the ensemble model\n",
    "ensemble = VotingClassifier(estimators)\n",
    "ensemble.fit(X_train,Y_train)\n",
    "Y_pred=ensemble.predict(X_test)\n",
    "print(Y_pred)"
   ]
  },
  {
   "cell_type": "code",
   "execution_count": 105,
   "metadata": {},
   "outputs": [
    {
     "name": "stdout",
     "output_type": "stream",
     "text": [
      "[[104  13]\n",
      " [ 15  47]]\n",
      "0.8435754189944135\n",
      "              precision    recall  f1-score   support\n",
      "\n",
      "           0       0.87      0.89      0.88       117\n",
      "           1       0.78      0.76      0.77        62\n",
      "\n",
      "    accuracy                           0.84       179\n",
      "   macro avg       0.83      0.82      0.83       179\n",
      "weighted avg       0.84      0.84      0.84       179\n",
      "\n"
     ]
    }
   ],
   "source": [
    "print(confusion_matrix(Y_test,Y_pred))\n",
    "print(accuracy_score(Y_test,Y_pred))\n",
    "print(classification_report(Y_test,Y_pred))"
   ]
  },
  {
   "cell_type": "markdown",
   "metadata": {},
   "source": [
    "## K-Fold Cross Validation"
   ]
  },
  {
   "cell_type": "code",
   "execution_count": 106,
   "metadata": {},
   "outputs": [],
   "source": [
    "X_train, X_test, Y_train, Y_test = train_test_split(X, Y, test_size=0.2,random_state=10)"
   ]
  },
  {
   "cell_type": "code",
   "execution_count": 108,
   "metadata": {},
   "outputs": [
    {
     "name": "stdout",
     "output_type": "stream",
     "text": [
      "[0.80555556 0.79166667 0.84507042 0.85915493 0.81690141 0.77464789\n",
      " 0.71830986 0.85915493 0.84507042 0.83098592]\n",
      "0.814651799687011\n"
     ]
    }
   ],
   "source": [
    "# classifier = LogisticRegression()   #0.79358372456964\n",
    "\n",
    "# classifier = SGDClassifier(loss=\"log\",random_state=10,alpha=0.01,max_iter=1000, shuffle=True,early_stopping=True, \n",
    "#                            n_iter_no_change=15)      #0.7949530516431924\n",
    "\n",
    "classifier = SVC(kernel=\"rbf\", gamma=0.01, C=100)  #0.814651799687011\n",
    "\n",
    "# classifier = DecisionTreeClassifier(criterion=\"gini\",random_state=10,splitter=\"best\",min_samples_leaf=5,max_depth=100,\n",
    "#                                     min_samples_split=5,max_leaf_nodes=100)  #0.7921752738654148\n",
    "  \n",
    "# classifier = RandomForestClassifier(n_estimators=45, random_state=10,min_samples_leaf=5,max_depth=100,min_samples_split=5,\n",
    "#                                     max_leaf_nodes=100)   #0.8145148669796557\n",
    "\n",
    "# classifier = VotingClassifier(estimators)  #0.8033841940532082\n",
    "\n",
    "#performing kfold_cross_validation\n",
    "kfold_cv=KFold(n_splits=10)\n",
    "#print(kfold_cv)\n",
    "\n",
    "#running the model using scoring metric as accuracy\n",
    "kfold_cv_result=cross_val_score(estimator=classifier,X=X_train, y=Y_train, cv=kfold_cv)\n",
    "print(kfold_cv_result)\n",
    "\n",
    "#finding the mean\n",
    "print(kfold_cv_result.mean())"
   ]
  },
  {
   "cell_type": "markdown",
   "metadata": {},
   "source": [
    "# All operation on Testing Dataset"
   ]
  },
  {
   "cell_type": "code",
   "execution_count": 110,
   "metadata": {},
   "outputs": [
    {
     "name": "stdout",
     "output_type": "stream",
     "text": [
      "(418, 10)\n"
     ]
    },
    {
     "data": {
      "text/html": [
       "<div>\n",
       "<style scoped>\n",
       "    .dataframe tbody tr th:only-of-type {\n",
       "        vertical-align: middle;\n",
       "    }\n",
       "\n",
       "    .dataframe tbody tr th {\n",
       "        vertical-align: top;\n",
       "    }\n",
       "\n",
       "    .dataframe thead th {\n",
       "        text-align: right;\n",
       "    }\n",
       "</style>\n",
       "<table border=\"1\" class=\"dataframe\">\n",
       "  <thead>\n",
       "    <tr style=\"text-align: right;\">\n",
       "      <th></th>\n",
       "      <th>Pclass</th>\n",
       "      <th>Name</th>\n",
       "      <th>Sex</th>\n",
       "      <th>Age</th>\n",
       "      <th>SibSp</th>\n",
       "      <th>Parch</th>\n",
       "      <th>Ticket</th>\n",
       "      <th>Fare</th>\n",
       "      <th>Cabin</th>\n",
       "      <th>Embarked</th>\n",
       "    </tr>\n",
       "    <tr>\n",
       "      <th>PassengerId</th>\n",
       "      <th></th>\n",
       "      <th></th>\n",
       "      <th></th>\n",
       "      <th></th>\n",
       "      <th></th>\n",
       "      <th></th>\n",
       "      <th></th>\n",
       "      <th></th>\n",
       "      <th></th>\n",
       "      <th></th>\n",
       "    </tr>\n",
       "  </thead>\n",
       "  <tbody>\n",
       "    <tr>\n",
       "      <th>892</th>\n",
       "      <td>3</td>\n",
       "      <td>Kelly, Mr. James</td>\n",
       "      <td>male</td>\n",
       "      <td>34.5</td>\n",
       "      <td>0</td>\n",
       "      <td>0</td>\n",
       "      <td>330911</td>\n",
       "      <td>7.8292</td>\n",
       "      <td>NaN</td>\n",
       "      <td>Q</td>\n",
       "    </tr>\n",
       "    <tr>\n",
       "      <th>893</th>\n",
       "      <td>3</td>\n",
       "      <td>Wilkes, Mrs. James (Ellen Needs)</td>\n",
       "      <td>female</td>\n",
       "      <td>47.0</td>\n",
       "      <td>1</td>\n",
       "      <td>0</td>\n",
       "      <td>363272</td>\n",
       "      <td>7.0000</td>\n",
       "      <td>NaN</td>\n",
       "      <td>S</td>\n",
       "    </tr>\n",
       "    <tr>\n",
       "      <th>894</th>\n",
       "      <td>2</td>\n",
       "      <td>Myles, Mr. Thomas Francis</td>\n",
       "      <td>male</td>\n",
       "      <td>62.0</td>\n",
       "      <td>0</td>\n",
       "      <td>0</td>\n",
       "      <td>240276</td>\n",
       "      <td>9.6875</td>\n",
       "      <td>NaN</td>\n",
       "      <td>Q</td>\n",
       "    </tr>\n",
       "    <tr>\n",
       "      <th>895</th>\n",
       "      <td>3</td>\n",
       "      <td>Wirz, Mr. Albert</td>\n",
       "      <td>male</td>\n",
       "      <td>27.0</td>\n",
       "      <td>0</td>\n",
       "      <td>0</td>\n",
       "      <td>315154</td>\n",
       "      <td>8.6625</td>\n",
       "      <td>NaN</td>\n",
       "      <td>S</td>\n",
       "    </tr>\n",
       "    <tr>\n",
       "      <th>896</th>\n",
       "      <td>3</td>\n",
       "      <td>Hirvonen, Mrs. Alexander (Helga E Lindqvist)</td>\n",
       "      <td>female</td>\n",
       "      <td>22.0</td>\n",
       "      <td>1</td>\n",
       "      <td>1</td>\n",
       "      <td>3101298</td>\n",
       "      <td>12.2875</td>\n",
       "      <td>NaN</td>\n",
       "      <td>S</td>\n",
       "    </tr>\n",
       "  </tbody>\n",
       "</table>\n",
       "</div>"
      ],
      "text/plain": [
       "             Pclass                                          Name     Sex  \\\n",
       "PassengerId                                                                 \n",
       "892               3                              Kelly, Mr. James    male   \n",
       "893               3              Wilkes, Mrs. James (Ellen Needs)  female   \n",
       "894               2                     Myles, Mr. Thomas Francis    male   \n",
       "895               3                              Wirz, Mr. Albert    male   \n",
       "896               3  Hirvonen, Mrs. Alexander (Helga E Lindqvist)  female   \n",
       "\n",
       "              Age  SibSp  Parch   Ticket     Fare Cabin Embarked  \n",
       "PassengerId                                                       \n",
       "892          34.5      0      0   330911   7.8292   NaN        Q  \n",
       "893          47.0      1      0   363272   7.0000   NaN        S  \n",
       "894          62.0      0      0   240276   9.6875   NaN        Q  \n",
       "895          27.0      0      0   315154   8.6625   NaN        S  \n",
       "896          22.0      1      1  3101298  12.2875   NaN        S  "
      ]
     },
     "execution_count": 110,
     "metadata": {},
     "output_type": "execute_result"
    }
   ],
   "source": [
    "test_df=pd.read_csv(r'C:\\Users\\vishal\\Web Deployment\\Titanic Machine Learning from Disaster\\data\\test.csv',\n",
    "                    index_col=0,header=0)\n",
    "print(test_df.shape)\n",
    "test_df.head()"
   ]
  },
  {
   "cell_type": "markdown",
   "metadata": {},
   "source": [
    "### Data Preprocessing"
   ]
  },
  {
   "cell_type": "code",
   "execution_count": 111,
   "metadata": {},
   "outputs": [],
   "source": [
    "test_df.drop(['Name','Ticket','Cabin'],axis=1,inplace=True)"
   ]
  },
  {
   "cell_type": "code",
   "execution_count": 112,
   "metadata": {},
   "outputs": [
    {
     "data": {
      "image/png": "[encoded data removed]",
      "text/plain": [
       "<Figure size 1080x216 with 1 Axes>"
      ]
     },
     "metadata": {
      "needs_background": "light"
     },
     "output_type": "display_data"
    },
    {
     "name": "stdout",
     "output_type": "stream",
     "text": [
      "Pclass       0\n",
      "Sex          0\n",
      "Age         86\n",
      "SibSp        0\n",
      "Parch        0\n",
      "Fare         1\n",
      "Embarked     0\n",
      "dtype: int64\n"
     ]
    }
   ],
   "source": [
    "plt.figure(figsize=(15,3))\n",
    "sns.heatmap(test_df.isnull(),yticklabels=False,cbar=False)\n",
    "plt.show()\n",
    "print(test_df.isnull().sum())"
   ]
  },
  {
   "cell_type": "code",
   "execution_count": 113,
   "metadata": {},
   "outputs": [],
   "source": [
    "test_df['Age'].fillna(test_df['Age'].mean(),inplace=True)\n",
    "test_df['Fare'].fillna(test_df['Fare'].mean(),inplace=True)"
   ]
  },
  {
   "cell_type": "code",
   "execution_count": 114,
   "metadata": {},
   "outputs": [
    {
     "data": {
      "text/plain": [
       "Pclass      0\n",
       "Sex         0\n",
       "Age         0\n",
       "SibSp       0\n",
       "Parch       0\n",
       "Fare        0\n",
       "Embarked    0\n",
       "dtype: int64"
      ]
     },
     "execution_count": 114,
     "metadata": {},
     "output_type": "execute_result"
    }
   ],
   "source": [
    "test_df.isnull().sum()"
   ]
  },
  {
   "cell_type": "code",
   "execution_count": 115,
   "metadata": {},
   "outputs": [
    {
     "name": "stdout",
     "output_type": "stream",
     "text": [
      "Feature Sex\n",
      "mapping {'female': 0, 'male': 1}\n",
      "Feature Embarked\n",
      "mapping {'C': 0, 'Q': 1, 'S': 2}\n"
     ]
    }
   ],
   "source": [
    "# For preprocessing the data\n",
    "from sklearn import preprocessing\n",
    "le=preprocessing.LabelEncoder()\n",
    "\n",
    "col=['Sex','Embarked']\n",
    "for x in col:\n",
    "    test_df[x]=le.fit_transform(test_df[x])\n",
    "    le_name_mapping = dict(zip(le.classes_, le.transform(le.classes_)))\n",
    "    print('Feature', x)\n",
    "    print('mapping', le_name_mapping)"
   ]
  },
  {
   "cell_type": "code",
   "execution_count": 116,
   "metadata": {},
   "outputs": [
    {
     "data": {
      "text/html": [
       "<div>\n",
       "<style scoped>\n",
       "    .dataframe tbody tr th:only-of-type {\n",
       "        vertical-align: middle;\n",
       "    }\n",
       "\n",
       "    .dataframe tbody tr th {\n",
       "        vertical-align: top;\n",
       "    }\n",
       "\n",
       "    .dataframe thead th {\n",
       "        text-align: right;\n",
       "    }\n",
       "</style>\n",
       "<table border=\"1\" class=\"dataframe\">\n",
       "  <thead>\n",
       "    <tr style=\"text-align: right;\">\n",
       "      <th></th>\n",
       "      <th>Pclass</th>\n",
       "      <th>Sex</th>\n",
       "      <th>Age</th>\n",
       "      <th>SibSp</th>\n",
       "      <th>Parch</th>\n",
       "      <th>Fare</th>\n",
       "      <th>Embarked</th>\n",
       "    </tr>\n",
       "    <tr>\n",
       "      <th>PassengerId</th>\n",
       "      <th></th>\n",
       "      <th></th>\n",
       "      <th></th>\n",
       "      <th></th>\n",
       "      <th></th>\n",
       "      <th></th>\n",
       "      <th></th>\n",
       "    </tr>\n",
       "  </thead>\n",
       "  <tbody>\n",
       "    <tr>\n",
       "      <th>892</th>\n",
       "      <td>3</td>\n",
       "      <td>1</td>\n",
       "      <td>34.5</td>\n",
       "      <td>0</td>\n",
       "      <td>0</td>\n",
       "      <td>7.8292</td>\n",
       "      <td>1</td>\n",
       "    </tr>\n",
       "    <tr>\n",
       "      <th>893</th>\n",
       "      <td>3</td>\n",
       "      <td>0</td>\n",
       "      <td>47.0</td>\n",
       "      <td>1</td>\n",
       "      <td>0</td>\n",
       "      <td>7.0000</td>\n",
       "      <td>2</td>\n",
       "    </tr>\n",
       "    <tr>\n",
       "      <th>894</th>\n",
       "      <td>2</td>\n",
       "      <td>1</td>\n",
       "      <td>62.0</td>\n",
       "      <td>0</td>\n",
       "      <td>0</td>\n",
       "      <td>9.6875</td>\n",
       "      <td>1</td>\n",
       "    </tr>\n",
       "    <tr>\n",
       "      <th>895</th>\n",
       "      <td>3</td>\n",
       "      <td>1</td>\n",
       "      <td>27.0</td>\n",
       "      <td>0</td>\n",
       "      <td>0</td>\n",
       "      <td>8.6625</td>\n",
       "      <td>2</td>\n",
       "    </tr>\n",
       "    <tr>\n",
       "      <th>896</th>\n",
       "      <td>3</td>\n",
       "      <td>0</td>\n",
       "      <td>22.0</td>\n",
       "      <td>1</td>\n",
       "      <td>1</td>\n",
       "      <td>12.2875</td>\n",
       "      <td>2</td>\n",
       "    </tr>\n",
       "  </tbody>\n",
       "</table>\n",
       "</div>"
      ],
      "text/plain": [
       "             Pclass  Sex   Age  SibSp  Parch     Fare  Embarked\n",
       "PassengerId                                                    \n",
       "892               3    1  34.5      0      0   7.8292         1\n",
       "893               3    0  47.0      1      0   7.0000         2\n",
       "894               2    1  62.0      0      0   9.6875         1\n",
       "895               3    1  27.0      0      0   8.6625         2\n",
       "896               3    0  22.0      1      1  12.2875         2"
      ]
     },
     "execution_count": 116,
     "metadata": {},
     "output_type": "execute_result"
    }
   ],
   "source": [
    "test_df.head()"
   ]
  },
  {
   "cell_type": "markdown",
   "metadata": {},
   "source": [
    "## Implementing model "
   ]
  },
  {
   "cell_type": "code",
   "execution_count": 117,
   "metadata": {},
   "outputs": [],
   "source": [
    "X_test_new  = test_df.values[:,:]"
   ]
  },
  {
   "cell_type": "code",
   "execution_count": 118,
   "metadata": {},
   "outputs": [
    {
     "name": "stdout",
     "output_type": "stream",
     "text": [
      "[[ 3.00000000e+00  1.00000000e+00  3.45000000e+01 ... -5.38289951e-17\n",
      "   7.82920000e+00  1.00000000e+00]\n",
      " [ 3.00000000e+00  1.15632656e-16  4.70000000e+01 ... -5.38289951e-17\n",
      "   7.00000000e+00  2.00000000e+00]\n",
      " [ 2.00000000e+00  1.00000000e+00  6.20000000e+01 ... -5.38289951e-17\n",
      "   9.68750000e+00  1.00000000e+00]\n",
      " ...\n",
      " [ 3.00000000e+00  1.00000000e+00  3.85000000e+01 ... -5.38289951e-17\n",
      "   7.25000000e+00  2.00000000e+00]\n",
      " [ 3.00000000e+00  1.00000000e+00  3.02725904e+01 ... -5.38289951e-17\n",
      "   8.05000000e+00  2.00000000e+00]\n",
      " [ 3.00000000e+00  1.00000000e+00  3.02725904e+01 ...  1.00000000e+00\n",
      "   2.23583000e+01  4.98416622e-17]]\n"
     ]
    }
   ],
   "source": [
    "X_test_new = scaler.transform(X_test_new)\n",
    "print(X_test_new)"
   ]
  },
  {
   "cell_type": "code",
   "execution_count": 119,
   "metadata": {},
   "outputs": [],
   "source": [
    "Y_pred_new=model_SVC_tune.predict(X_test_new)"
   ]
  },
  {
   "cell_type": "code",
   "execution_count": 120,
   "metadata": {},
   "outputs": [
    {
     "name": "stdout",
     "output_type": "stream",
     "text": [
      "[0 0 0 0 0 1 0 0 0 0 0 0 0 0 0 0 0 0 0 0 0 0 0 0 0 0 0 0 0 0 0 0 0 0 0 0 0\n",
      " 0 0 0 0 0 0 0 0 0 0 0 0 0 0 0 0 0 0 0 0 0 0 0 0 0 0 0 0 0 0 0 0 0 0 0 0 0\n",
      " 0 0 0 0 0 0 1 0 0 0 0 0 0 0 0 1 0 0 0 0 0 0 0 0 0 0 0 0 0 0 0 0 0 0 0 0 0\n",
      " 0 0 0 0 1 0 1 0 0 1 0 0 0 0 1 0 0 0 0 0 0 0 0 0 0 0 0 0 0 0 0 0 0 0 0 0 0\n",
      " 0 0 0 0 0 0 0 0 0 0 0 0 0 1 0 0 0 0 0 0 0 0 0 0 0 0 0 0 0 0 0 0 0 0 0 0 0\n",
      " 0 0 0 0 0 0 0 1 0 0 0 0 0 0 0 0 1 0 1 0 0 0 0 0 0 0 0 0 0 0 0 0 0 0 0 0 0\n",
      " 0 0 0 0 0 0 0 0 0 0 0 0 0 0 0 0 1 0 0 0 0 0 0 0 0 0 0 0 1 0 0 0 0 0 0 0 0\n",
      " 0 0 0 0 1 0 0 0 0 0 0 0 0 0 0 0 0 0 0 0 0 0 1 0 1 1 0 0 0 0 0 0 0 0 0 0 0\n",
      " 0 0 0 0 0 0 0 0 0 0 0 1 0 0 0 0 0 0 0 0 0 0 0 0 0 0 0 0 0 0 0 0 0 0 0 0 0\n",
      " 0 0 0 0 0 0 0 0 0 0 0 0 0 0 0 0 0 0 0 0 0 1 0 0 0 0 0 0 0 0 0 0 0 0 0 0 0\n",
      " 0 0 0 0 0 0 0 0 0 0 0 0 0 0 0 0 0 0 0 1 0 0 1 0 0 0 0 0 0 0 0 0 0 0 0 0 0\n",
      " 0 0 1 0 0 0 0 0 0 0 0]\n"
     ]
    }
   ],
   "source": [
    "print(Y_pred_new)"
   ]
  },
  {
   "cell_type": "code",
   "execution_count": 121,
   "metadata": {},
   "outputs": [
    {
     "name": "stdout",
     "output_type": "stream",
     "text": [
      "(418,)\n"
     ]
    }
   ],
   "source": [
    "print(Y_pred_new.shape) "
   ]
  },
  {
   "cell_type": "code",
   "execution_count": 122,
   "metadata": {},
   "outputs": [],
   "source": [
    "df=pd.read_csv(r'C:\\Users\\vishal\\Web Deployment\\Titanic Machine Learning from Disaster\\data\\gender_submission.csv',header=0)"
   ]
  },
  {
   "cell_type": "code",
   "execution_count": 123,
   "metadata": {},
   "outputs": [
    {
     "data": {
      "text/html": [
       "<div>\n",
       "<style scoped>\n",
       "    .dataframe tbody tr th:only-of-type {\n",
       "        vertical-align: middle;\n",
       "    }\n",
       "\n",
       "    .dataframe tbody tr th {\n",
       "        vertical-align: top;\n",
       "    }\n",
       "\n",
       "    .dataframe thead th {\n",
       "        text-align: right;\n",
       "    }\n",
       "</style>\n",
       "<table border=\"1\" class=\"dataframe\">\n",
       "  <thead>\n",
       "    <tr style=\"text-align: right;\">\n",
       "      <th></th>\n",
       "      <th>PassengerId</th>\n",
       "      <th>Survived</th>\n",
       "    </tr>\n",
       "  </thead>\n",
       "  <tbody>\n",
       "    <tr>\n",
       "      <th>0</th>\n",
       "      <td>892</td>\n",
       "      <td>0</td>\n",
       "    </tr>\n",
       "    <tr>\n",
       "      <th>1</th>\n",
       "      <td>893</td>\n",
       "      <td>0</td>\n",
       "    </tr>\n",
       "    <tr>\n",
       "      <th>2</th>\n",
       "      <td>894</td>\n",
       "      <td>0</td>\n",
       "    </tr>\n",
       "    <tr>\n",
       "      <th>3</th>\n",
       "      <td>895</td>\n",
       "      <td>0</td>\n",
       "    </tr>\n",
       "    <tr>\n",
       "      <th>4</th>\n",
       "      <td>896</td>\n",
       "      <td>0</td>\n",
       "    </tr>\n",
       "    <tr>\n",
       "      <th>5</th>\n",
       "      <td>897</td>\n",
       "      <td>1</td>\n",
       "    </tr>\n",
       "    <tr>\n",
       "      <th>6</th>\n",
       "      <td>898</td>\n",
       "      <td>0</td>\n",
       "    </tr>\n",
       "    <tr>\n",
       "      <th>7</th>\n",
       "      <td>899</td>\n",
       "      <td>0</td>\n",
       "    </tr>\n",
       "    <tr>\n",
       "      <th>8</th>\n",
       "      <td>900</td>\n",
       "      <td>0</td>\n",
       "    </tr>\n",
       "    <tr>\n",
       "      <th>9</th>\n",
       "      <td>901</td>\n",
       "      <td>0</td>\n",
       "    </tr>\n",
       "  </tbody>\n",
       "</table>\n",
       "</div>"
      ],
      "text/plain": [
       "   PassengerId  Survived\n",
       "0          892         0\n",
       "1          893         0\n",
       "2          894         0\n",
       "3          895         0\n",
       "4          896         0\n",
       "5          897         1\n",
       "6          898         0\n",
       "7          899         0\n",
       "8          900         0\n",
       "9          901         0"
      ]
     },
     "execution_count": 123,
     "metadata": {},
     "output_type": "execute_result"
    }
   ],
   "source": [
    "df.head(10)"
   ]
  },
  {
   "cell_type": "code",
   "execution_count": 124,
   "metadata": {},
   "outputs": [],
   "source": [
    "df['Survived']=Y_pred_new"
   ]
  },
  {
   "cell_type": "code",
   "execution_count": 125,
   "metadata": {},
   "outputs": [
    {
     "data": {
      "text/html": [
       "<div>\n",
       "<style scoped>\n",
       "    .dataframe tbody tr th:only-of-type {\n",
       "        vertical-align: middle;\n",
       "    }\n",
       "\n",
       "    .dataframe tbody tr th {\n",
       "        vertical-align: top;\n",
       "    }\n",
       "\n",
       "    .dataframe thead th {\n",
       "        text-align: right;\n",
       "    }\n",
       "</style>\n",
       "<table border=\"1\" class=\"dataframe\">\n",
       "  <thead>\n",
       "    <tr style=\"text-align: right;\">\n",
       "      <th></th>\n",
       "      <th>PassengerId</th>\n",
       "      <th>Survived</th>\n",
       "    </tr>\n",
       "  </thead>\n",
       "  <tbody>\n",
       "    <tr>\n",
       "      <th>0</th>\n",
       "      <td>892</td>\n",
       "      <td>0</td>\n",
       "    </tr>\n",
       "    <tr>\n",
       "      <th>1</th>\n",
       "      <td>893</td>\n",
       "      <td>0</td>\n",
       "    </tr>\n",
       "    <tr>\n",
       "      <th>2</th>\n",
       "      <td>894</td>\n",
       "      <td>0</td>\n",
       "    </tr>\n",
       "    <tr>\n",
       "      <th>3</th>\n",
       "      <td>895</td>\n",
       "      <td>0</td>\n",
       "    </tr>\n",
       "    <tr>\n",
       "      <th>4</th>\n",
       "      <td>896</td>\n",
       "      <td>0</td>\n",
       "    </tr>\n",
       "  </tbody>\n",
       "</table>\n",
       "</div>"
      ],
      "text/plain": [
       "   PassengerId  Survived\n",
       "0          892         0\n",
       "1          893         0\n",
       "2          894         0\n",
       "3          895         0\n",
       "4          896         0"
      ]
     },
     "execution_count": 125,
     "metadata": {},
     "output_type": "execute_result"
    }
   ],
   "source": [
    "df.head()"
   ]
  },
  {
   "cell_type": "code",
   "execution_count": 127,
   "metadata": {},
   "outputs": [],
   "source": [
    "df.to_csv(r'C:\\Users\\vishal\\Web Deployment\\Titanic Machine Learning from Disaster\\data\\gender_submission.csv',\n",
    "          index=False,header=True)"
   ]
  },
  {
   "cell_type": "markdown",
   "metadata": {},
   "source": [
    "## Dumping All Models"
   ]
  },
  {
   "cell_type": "code",
   "execution_count": 129,
   "metadata": {},
   "outputs": [],
   "source": [
    "## saving model:\n",
    "pickle.dump(classifier,\n",
    "            open(r'C:\\Users\\vishal\\Web Deployment\\Titanic Machine Learning from Disaster\\models\\log.pkl','wb'))\n",
    "\n",
    "pickle.dump(classifier_SGD,\n",
    "            open(r'C:\\Users\\vishal\\Web Deployment\\Titanic Machine Learning from Disaster\\models\\sgd.pkl','wb'))\n",
    "\n",
    "pickle.dump(classifier_SGD_tune,\n",
    "            open(r'C:\\Users\\vishal\\Web Deployment\\Titanic Machine Learning from Disaster\\models\\sgd_tune.pkl','wb'))\n",
    "\n",
    "pickle.dump(model_KNN,\n",
    "            open(r'C:\\Users\\vishal\\Web Deployment\\Titanic Machine Learning from Disaster\\models\\knn.pkl','wb'))\n",
    "\n",
    "pickle.dump(model_KNN_tune,\n",
    "            open(r'C:\\Users\\vishal\\Web Deployment\\Titanic Machine Learning from Disaster\\models\\knn_tune.pkl','wb'))\n",
    "\n",
    "pickle.dump(svc_model,\n",
    "            open(r'C:\\Users\\vishal\\Web Deployment\\Titanic Machine Learning from Disaster\\models\\svc.pkl','wb'))\n",
    "\n",
    "pickle.dump(model_SVC_tune,\n",
    "            open(r'C:\\Users\\vishal\\Web Deployment\\Titanic Machine Learning from Disaster\\models\\svc_tune.pkl','wb'))\n",
    "\n",
    "pickle.dump(model_DecisionTree,\n",
    "            open(r'C:\\Users\\vishal\\Web Deployment\\Titanic Machine Learning from Disaster\\models\\dt.pkl','wb'))\n",
    "\n",
    "pickle.dump(model_DecisionTree_tune,\n",
    "            open(r'C:\\Users\\vishal\\Web Deployment\\Titanic Machine Learning from Disaster\\models\\dt_tune.pkl','wb'))\n",
    "\n",
    "pickle.dump(model_RandomForest,\n",
    "            open(r'C:\\Users\\vishal\\Web Deployment\\Titanic Machine Learning from Disaster\\models\\rt.pkl','wb'))\n",
    "\n",
    "pickle.dump(model_RandomForest_tune,\n",
    "            open(r'C:\\Users\\vishal\\Web Deployment\\Titanic Machine Learning from Disaster\\models\\rt_tune.pkl','wb'))\n",
    "\n",
    "pickle.dump(ensemble,\n",
    "            open(r'C:\\Users\\vishal\\Web Deployment\\Titanic Machine Learning from Disaster\\models\\ensemble.pkl','wb'))\n"
   ]
  },
  {
   "cell_type": "code",
   "execution_count": null,
   "metadata": {},
   "outputs": [],
   "source": []
  }
 ],
 "metadata": {
  "kernelspec": {
   "display_name": "Python 3",
   "language": "python",
   "name": "python3"
  },
  "language_info": {
   "codemirror_mode": {
    "name": "ipython",
    "version": 3
   },
   "file_extension": ".py",
   "mimetype": "text/x-python",
   "name": "python",
   "nbconvert_exporter": "python",
   "pygments_lexer": "ipython3",
   "version": "3.8.8"
  }
 },
 "nbformat": 4,
 "nbformat_minor": 4
}
