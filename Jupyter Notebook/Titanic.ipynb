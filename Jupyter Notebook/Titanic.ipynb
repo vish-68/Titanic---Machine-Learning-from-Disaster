{
 "cells": [
  {
   "cell_type": "markdown",
   "metadata": {},
   "source": [
    "# Titanic Data from kaggle "
   ]
  },
  {
   "cell_type": "markdown",
   "metadata": {},
   "source": [
    "# Training Dataset"
   ]
  },
  {
   "cell_type": "code",
   "execution_count": 1,
   "metadata": {},
   "outputs": [],
   "source": [
    "# importing libraries\n",
    "\n",
    "import numpy as np\n",
    "import pandas as pd\n",
    "import matplotlib.pyplot as plt\n",
    "import seaborn as sns\n",
    "\n",
    "pd.set_option(\"display.max_columns\",None)\n",
    "pd.set_option(\"display.max_rows\",None)\n",
    "\n",
    "# import warnings\n",
    "import warnings\n",
    "warnings.filterwarnings(\"ignore\")\n",
    "\n",
    "# label encoding \n",
    "from sklearn import preprocessing\n",
    "\n",
    "# scaling data\n",
    "from sklearn.preprocessing import StandardScaler\n",
    "\n",
    "# train test split\n",
    "from sklearn.model_selection import train_test_split\n",
    "\n",
    "# Evaluation matrix\n",
    "from sklearn.metrics import confusion_matrix, accuracy_score, classification_report\n",
    "\n",
    "# models\n",
    "from sklearn.linear_model import LogisticRegression\n",
    "from sklearn import metrics # for AUC\n",
    "from sklearn.linear_model import SGDClassifier\n",
    "from sklearn.neighbors import KNeighborsClassifier\n",
    "from sklearn.tree import DecisionTreeClassifier\n",
    "from sklearn.ensemble import RandomForestClassifier\n",
    "from sklearn import svm\n",
    "from sklearn.model_selection import KFold\n",
    "from sklearn.model_selection import cross_val_score \n",
    "from sklearn.ensemble import VotingClassifier\n",
    "\n",
    "#importing pickle for saving model\n",
    "import pickle"
   ]
  },
  {
   "cell_type": "code",
   "execution_count": 2,
   "metadata": {},
   "outputs": [
    {
     "name": "stdout",
     "output_type": "stream",
     "text": [
      "(891, 11)\n"
     ]
    },
    {
     "data": {
      "text/html": [
       "<div>\n",
       "<style scoped>\n",
       "    .dataframe tbody tr th:only-of-type {\n",
       "        vertical-align: middle;\n",
       "    }\n",
       "\n",
       "    .dataframe tbody tr th {\n",
       "        vertical-align: top;\n",
       "    }\n",
       "\n",
       "    .dataframe thead th {\n",
       "        text-align: right;\n",
       "    }\n",
       "</style>\n",
       "<table border=\"1\" class=\"dataframe\">\n",
       "  <thead>\n",
       "    <tr style=\"text-align: right;\">\n",
       "      <th></th>\n",
       "      <th>Survived</th>\n",
       "      <th>Pclass</th>\n",
       "      <th>Name</th>\n",
       "      <th>Sex</th>\n",
       "      <th>Age</th>\n",
       "      <th>SibSp</th>\n",
       "      <th>Parch</th>\n",
       "      <th>Ticket</th>\n",
       "      <th>Fare</th>\n",
       "      <th>Cabin</th>\n",
       "      <th>Embarked</th>\n",
       "    </tr>\n",
       "    <tr>\n",
       "      <th>PassengerId</th>\n",
       "      <th></th>\n",
       "      <th></th>\n",
       "      <th></th>\n",
       "      <th></th>\n",
       "      <th></th>\n",
       "      <th></th>\n",
       "      <th></th>\n",
       "      <th></th>\n",
       "      <th></th>\n",
       "      <th></th>\n",
       "      <th></th>\n",
       "    </tr>\n",
       "  </thead>\n",
       "  <tbody>\n",
       "    <tr>\n",
       "      <th>1</th>\n",
       "      <td>0</td>\n",
       "      <td>3</td>\n",
       "      <td>Braund, Mr. Owen Harris</td>\n",
       "      <td>male</td>\n",
       "      <td>22.0</td>\n",
       "      <td>1</td>\n",
       "      <td>0</td>\n",
       "      <td>A/5 21171</td>\n",
       "      <td>7.2500</td>\n",
       "      <td>NaN</td>\n",
       "      <td>S</td>\n",
       "    </tr>\n",
       "    <tr>\n",
       "      <th>2</th>\n",
       "      <td>1</td>\n",
       "      <td>1</td>\n",
       "      <td>Cumings, Mrs. John Bradley (Florence Briggs Th...</td>\n",
       "      <td>female</td>\n",
       "      <td>38.0</td>\n",
       "      <td>1</td>\n",
       "      <td>0</td>\n",
       "      <td>PC 17599</td>\n",
       "      <td>71.2833</td>\n",
       "      <td>C85</td>\n",
       "      <td>C</td>\n",
       "    </tr>\n",
       "    <tr>\n",
       "      <th>3</th>\n",
       "      <td>1</td>\n",
       "      <td>3</td>\n",
       "      <td>Heikkinen, Miss. Laina</td>\n",
       "      <td>female</td>\n",
       "      <td>26.0</td>\n",
       "      <td>0</td>\n",
       "      <td>0</td>\n",
       "      <td>STON/O2. 3101282</td>\n",
       "      <td>7.9250</td>\n",
       "      <td>NaN</td>\n",
       "      <td>S</td>\n",
       "    </tr>\n",
       "    <tr>\n",
       "      <th>4</th>\n",
       "      <td>1</td>\n",
       "      <td>1</td>\n",
       "      <td>Futrelle, Mrs. Jacques Heath (Lily May Peel)</td>\n",
       "      <td>female</td>\n",
       "      <td>35.0</td>\n",
       "      <td>1</td>\n",
       "      <td>0</td>\n",
       "      <td>113803</td>\n",
       "      <td>53.1000</td>\n",
       "      <td>C123</td>\n",
       "      <td>S</td>\n",
       "    </tr>\n",
       "    <tr>\n",
       "      <th>5</th>\n",
       "      <td>0</td>\n",
       "      <td>3</td>\n",
       "      <td>Allen, Mr. William Henry</td>\n",
       "      <td>male</td>\n",
       "      <td>35.0</td>\n",
       "      <td>0</td>\n",
       "      <td>0</td>\n",
       "      <td>373450</td>\n",
       "      <td>8.0500</td>\n",
       "      <td>NaN</td>\n",
       "      <td>S</td>\n",
       "    </tr>\n",
       "  </tbody>\n",
       "</table>\n",
       "</div>"
      ],
      "text/plain": [
       "             Survived  Pclass  \\\n",
       "PassengerId                     \n",
       "1                   0       3   \n",
       "2                   1       1   \n",
       "3                   1       3   \n",
       "4                   1       1   \n",
       "5                   0       3   \n",
       "\n",
       "                                                          Name     Sex   Age  \\\n",
       "PassengerId                                                                    \n",
       "1                                      Braund, Mr. Owen Harris    male  22.0   \n",
       "2            Cumings, Mrs. John Bradley (Florence Briggs Th...  female  38.0   \n",
       "3                                       Heikkinen, Miss. Laina  female  26.0   \n",
       "4                 Futrelle, Mrs. Jacques Heath (Lily May Peel)  female  35.0   \n",
       "5                                     Allen, Mr. William Henry    male  35.0   \n",
       "\n",
       "             SibSp  Parch            Ticket     Fare Cabin Embarked  \n",
       "PassengerId                                                          \n",
       "1                1      0         A/5 21171   7.2500   NaN        S  \n",
       "2                1      0          PC 17599  71.2833   C85        C  \n",
       "3                0      0  STON/O2. 3101282   7.9250   NaN        S  \n",
       "4                1      0            113803  53.1000  C123        S  \n",
       "5                0      0            373450   8.0500   NaN        S  "
      ]
     },
     "execution_count": 2,
     "metadata": {},
     "output_type": "execute_result"
    }
   ],
   "source": [
    "train_df=pd.read_csv(r'C:\\Users\\VISHAL\\Web Deployment\\Titanic\\data\\train.csv',index_col=0,header=0)\n",
    "print(train_df.shape)\n",
    "train_df.head()"
   ]
  },
  {
   "cell_type": "code",
   "execution_count": 3,
   "metadata": {},
   "outputs": [],
   "source": [
    "train_df=train_df[['Pclass', 'Name', 'Sex', 'Age', 'SibSp', 'Parch', 'Ticket',\n",
    "       'Fare', 'Cabin', 'Embarked','Survived']]"
   ]
  },
  {
   "cell_type": "code",
   "execution_count": 4,
   "metadata": {},
   "outputs": [
    {
     "name": "stdout",
     "output_type": "stream",
     "text": [
      "<class 'pandas.core.frame.DataFrame'>\n",
      "Int64Index: 891 entries, 1 to 891\n",
      "Data columns (total 11 columns):\n",
      " #   Column    Non-Null Count  Dtype  \n",
      "---  ------    --------------  -----  \n",
      " 0   Pclass    891 non-null    int64  \n",
      " 1   Name      891 non-null    object \n",
      " 2   Sex       891 non-null    object \n",
      " 3   Age       714 non-null    float64\n",
      " 4   SibSp     891 non-null    int64  \n",
      " 5   Parch     891 non-null    int64  \n",
      " 6   Ticket    891 non-null    object \n",
      " 7   Fare      891 non-null    float64\n",
      " 8   Cabin     204 non-null    object \n",
      " 9   Embarked  889 non-null    object \n",
      " 10  Survived  891 non-null    int64  \n",
      "dtypes: float64(2), int64(4), object(5)\n",
      "memory usage: 83.5+ KB\n"
     ]
    }
   ],
   "source": [
    "train_df.info()"
   ]
  },
  {
   "cell_type": "code",
   "execution_count": 5,
   "metadata": {},
   "outputs": [
    {
     "data": {
      "text/html": [
       "<div>\n",
       "<style scoped>\n",
       "    .dataframe tbody tr th:only-of-type {\n",
       "        vertical-align: middle;\n",
       "    }\n",
       "\n",
       "    .dataframe tbody tr th {\n",
       "        vertical-align: top;\n",
       "    }\n",
       "\n",
       "    .dataframe thead th {\n",
       "        text-align: right;\n",
       "    }\n",
       "</style>\n",
       "<table border=\"1\" class=\"dataframe\">\n",
       "  <thead>\n",
       "    <tr style=\"text-align: right;\">\n",
       "      <th></th>\n",
       "      <th>Pclass</th>\n",
       "      <th>Name</th>\n",
       "      <th>Sex</th>\n",
       "      <th>Age</th>\n",
       "      <th>SibSp</th>\n",
       "      <th>Parch</th>\n",
       "      <th>Ticket</th>\n",
       "      <th>Fare</th>\n",
       "      <th>Cabin</th>\n",
       "      <th>Embarked</th>\n",
       "      <th>Survived</th>\n",
       "    </tr>\n",
       "  </thead>\n",
       "  <tbody>\n",
       "    <tr>\n",
       "      <th>count</th>\n",
       "      <td>891.000000</td>\n",
       "      <td>891</td>\n",
       "      <td>891</td>\n",
       "      <td>714.000000</td>\n",
       "      <td>891.000000</td>\n",
       "      <td>891.000000</td>\n",
       "      <td>891</td>\n",
       "      <td>891.000000</td>\n",
       "      <td>204</td>\n",
       "      <td>889</td>\n",
       "      <td>891.000000</td>\n",
       "    </tr>\n",
       "    <tr>\n",
       "      <th>unique</th>\n",
       "      <td>NaN</td>\n",
       "      <td>891</td>\n",
       "      <td>2</td>\n",
       "      <td>NaN</td>\n",
       "      <td>NaN</td>\n",
       "      <td>NaN</td>\n",
       "      <td>681</td>\n",
       "      <td>NaN</td>\n",
       "      <td>147</td>\n",
       "      <td>3</td>\n",
       "      <td>NaN</td>\n",
       "    </tr>\n",
       "    <tr>\n",
       "      <th>top</th>\n",
       "      <td>NaN</td>\n",
       "      <td>Mallet, Mr. Albert</td>\n",
       "      <td>male</td>\n",
       "      <td>NaN</td>\n",
       "      <td>NaN</td>\n",
       "      <td>NaN</td>\n",
       "      <td>CA. 2343</td>\n",
       "      <td>NaN</td>\n",
       "      <td>C23 C25 C27</td>\n",
       "      <td>S</td>\n",
       "      <td>NaN</td>\n",
       "    </tr>\n",
       "    <tr>\n",
       "      <th>freq</th>\n",
       "      <td>NaN</td>\n",
       "      <td>1</td>\n",
       "      <td>577</td>\n",
       "      <td>NaN</td>\n",
       "      <td>NaN</td>\n",
       "      <td>NaN</td>\n",
       "      <td>7</td>\n",
       "      <td>NaN</td>\n",
       "      <td>4</td>\n",
       "      <td>644</td>\n",
       "      <td>NaN</td>\n",
       "    </tr>\n",
       "    <tr>\n",
       "      <th>mean</th>\n",
       "      <td>2.308642</td>\n",
       "      <td>NaN</td>\n",
       "      <td>NaN</td>\n",
       "      <td>29.699118</td>\n",
       "      <td>0.523008</td>\n",
       "      <td>0.381594</td>\n",
       "      <td>NaN</td>\n",
       "      <td>32.204208</td>\n",
       "      <td>NaN</td>\n",
       "      <td>NaN</td>\n",
       "      <td>0.383838</td>\n",
       "    </tr>\n",
       "    <tr>\n",
       "      <th>std</th>\n",
       "      <td>0.836071</td>\n",
       "      <td>NaN</td>\n",
       "      <td>NaN</td>\n",
       "      <td>14.526497</td>\n",
       "      <td>1.102743</td>\n",
       "      <td>0.806057</td>\n",
       "      <td>NaN</td>\n",
       "      <td>49.693429</td>\n",
       "      <td>NaN</td>\n",
       "      <td>NaN</td>\n",
       "      <td>0.486592</td>\n",
       "    </tr>\n",
       "    <tr>\n",
       "      <th>min</th>\n",
       "      <td>1.000000</td>\n",
       "      <td>NaN</td>\n",
       "      <td>NaN</td>\n",
       "      <td>0.420000</td>\n",
       "      <td>0.000000</td>\n",
       "      <td>0.000000</td>\n",
       "      <td>NaN</td>\n",
       "      <td>0.000000</td>\n",
       "      <td>NaN</td>\n",
       "      <td>NaN</td>\n",
       "      <td>0.000000</td>\n",
       "    </tr>\n",
       "    <tr>\n",
       "      <th>25%</th>\n",
       "      <td>2.000000</td>\n",
       "      <td>NaN</td>\n",
       "      <td>NaN</td>\n",
       "      <td>20.125000</td>\n",
       "      <td>0.000000</td>\n",
       "      <td>0.000000</td>\n",
       "      <td>NaN</td>\n",
       "      <td>7.910400</td>\n",
       "      <td>NaN</td>\n",
       "      <td>NaN</td>\n",
       "      <td>0.000000</td>\n",
       "    </tr>\n",
       "    <tr>\n",
       "      <th>50%</th>\n",
       "      <td>3.000000</td>\n",
       "      <td>NaN</td>\n",
       "      <td>NaN</td>\n",
       "      <td>28.000000</td>\n",
       "      <td>0.000000</td>\n",
       "      <td>0.000000</td>\n",
       "      <td>NaN</td>\n",
       "      <td>14.454200</td>\n",
       "      <td>NaN</td>\n",
       "      <td>NaN</td>\n",
       "      <td>0.000000</td>\n",
       "    </tr>\n",
       "    <tr>\n",
       "      <th>75%</th>\n",
       "      <td>3.000000</td>\n",
       "      <td>NaN</td>\n",
       "      <td>NaN</td>\n",
       "      <td>38.000000</td>\n",
       "      <td>1.000000</td>\n",
       "      <td>0.000000</td>\n",
       "      <td>NaN</td>\n",
       "      <td>31.000000</td>\n",
       "      <td>NaN</td>\n",
       "      <td>NaN</td>\n",
       "      <td>1.000000</td>\n",
       "    </tr>\n",
       "    <tr>\n",
       "      <th>max</th>\n",
       "      <td>3.000000</td>\n",
       "      <td>NaN</td>\n",
       "      <td>NaN</td>\n",
       "      <td>80.000000</td>\n",
       "      <td>8.000000</td>\n",
       "      <td>6.000000</td>\n",
       "      <td>NaN</td>\n",
       "      <td>512.329200</td>\n",
       "      <td>NaN</td>\n",
       "      <td>NaN</td>\n",
       "      <td>1.000000</td>\n",
       "    </tr>\n",
       "  </tbody>\n",
       "</table>\n",
       "</div>"
      ],
      "text/plain": [
       "            Pclass                Name   Sex         Age       SibSp  \\\n",
       "count   891.000000                 891   891  714.000000  891.000000   \n",
       "unique         NaN                 891     2         NaN         NaN   \n",
       "top            NaN  Mallet, Mr. Albert  male         NaN         NaN   \n",
       "freq           NaN                   1   577         NaN         NaN   \n",
       "mean      2.308642                 NaN   NaN   29.699118    0.523008   \n",
       "std       0.836071                 NaN   NaN   14.526497    1.102743   \n",
       "min       1.000000                 NaN   NaN    0.420000    0.000000   \n",
       "25%       2.000000                 NaN   NaN   20.125000    0.000000   \n",
       "50%       3.000000                 NaN   NaN   28.000000    0.000000   \n",
       "75%       3.000000                 NaN   NaN   38.000000    1.000000   \n",
       "max       3.000000                 NaN   NaN   80.000000    8.000000   \n",
       "\n",
       "             Parch    Ticket        Fare        Cabin Embarked    Survived  \n",
       "count   891.000000       891  891.000000          204      889  891.000000  \n",
       "unique         NaN       681         NaN          147        3         NaN  \n",
       "top            NaN  CA. 2343         NaN  C23 C25 C27        S         NaN  \n",
       "freq           NaN         7         NaN            4      644         NaN  \n",
       "mean      0.381594       NaN   32.204208          NaN      NaN    0.383838  \n",
       "std       0.806057       NaN   49.693429          NaN      NaN    0.486592  \n",
       "min       0.000000       NaN    0.000000          NaN      NaN    0.000000  \n",
       "25%       0.000000       NaN    7.910400          NaN      NaN    0.000000  \n",
       "50%       0.000000       NaN   14.454200          NaN      NaN    0.000000  \n",
       "75%       0.000000       NaN   31.000000          NaN      NaN    1.000000  \n",
       "max       6.000000       NaN  512.329200          NaN      NaN    1.000000  "
      ]
     },
     "execution_count": 5,
     "metadata": {},
     "output_type": "execute_result"
    }
   ],
   "source": [
    "train_df.describe(include='all')"
   ]
  },
  {
   "cell_type": "code",
   "execution_count": 6,
   "metadata": {},
   "outputs": [
    {
     "data": {
      "text/plain": [
       "Index(['Pclass', 'Name', 'Sex', 'Age', 'SibSp', 'Parch', 'Ticket', 'Fare',\n",
       "       'Cabin', 'Embarked', 'Survived'],\n",
       "      dtype='object')"
      ]
     },
     "execution_count": 6,
     "metadata": {},
     "output_type": "execute_result"
    }
   ],
   "source": [
    "train_df.columns"
   ]
  },
  {
   "cell_type": "markdown",
   "metadata": {},
   "source": [
    "## Data Preprocessing"
   ]
  },
  {
   "cell_type": "code",
   "execution_count": 7,
   "metadata": {},
   "outputs": [],
   "source": [
    "train_df.drop(['Name','SibSp','Parch','Ticket','Fare','Cabin'],axis=1,inplace=True)"
   ]
  },
  {
   "cell_type": "code",
   "execution_count": 8,
   "metadata": {
    "scrolled": true
   },
   "outputs": [
    {
     "data": {
      "image/png": "[encoded data removed]",
      "text/plain": [
       "<Figure size 1080x216 with 1 Axes>"
      ]
     },
     "metadata": {
      "needs_background": "light"
     },
     "output_type": "display_data"
    },
    {
     "name": "stdout",
     "output_type": "stream",
     "text": [
      "Pclass        0\n",
      "Sex           0\n",
      "Age         177\n",
      "Embarked      2\n",
      "Survived      0\n",
      "dtype: int64\n"
     ]
    }
   ],
   "source": [
    "plt.figure(figsize=(15,3))\n",
    "sns.heatmap(train_df.isnull(),yticklabels=False,cbar=False)\n",
    "plt.show()\n",
    "print(train_df.isnull().sum())"
   ]
  },
  {
   "cell_type": "code",
   "execution_count": 9,
   "metadata": {},
   "outputs": [],
   "source": [
    "train_df['Age'].fillna(train_df['Age'].mean(),inplace=True)\n",
    "train_df['Embarked'].fillna(train_df['Embarked'].mode()[0],inplace=True)"
   ]
  },
  {
   "cell_type": "code",
   "execution_count": 10,
   "metadata": {},
   "outputs": [
    {
     "data": {
      "text/plain": [
       "Pclass      0\n",
       "Sex         0\n",
       "Age         0\n",
       "Embarked    0\n",
       "Survived    0\n",
       "dtype: int64"
      ]
     },
     "execution_count": 10,
     "metadata": {},
     "output_type": "execute_result"
    }
   ],
   "source": [
    "train_df.isnull().sum()"
   ]
  },
  {
   "cell_type": "markdown",
   "metadata": {},
   "source": [
    "## Pre-processing"
   ]
  },
  {
   "cell_type": "code",
   "execution_count": 11,
   "metadata": {},
   "outputs": [
    {
     "name": "stdout",
     "output_type": "stream",
     "text": [
      "Feature Sex\n",
      "mapping {'female': 0, 'male': 1}\n",
      "Feature Embarked\n",
      "mapping {'C': 0, 'Q': 1, 'S': 2}\n"
     ]
    }
   ],
   "source": [
    "# For preprocessing the data\n",
    "from sklearn import preprocessing\n",
    "le=preprocessing.LabelEncoder()\n",
    "\n",
    "col=['Sex','Embarked']\n",
    "for x in col:\n",
    "    train_df[x]=le.fit_transform(train_df[x])\n",
    "    le_name_mapping = dict(zip(le.classes_, le.transform(le.classes_)))\n",
    "    print('Feature', x)\n",
    "    print('mapping', le_name_mapping)"
   ]
  },
  {
   "cell_type": "code",
   "execution_count": 12,
   "metadata": {},
   "outputs": [
    {
     "data": {
      "text/html": [
       "<div>\n",
       "<style scoped>\n",
       "    .dataframe tbody tr th:only-of-type {\n",
       "        vertical-align: middle;\n",
       "    }\n",
       "\n",
       "    .dataframe tbody tr th {\n",
       "        vertical-align: top;\n",
       "    }\n",
       "\n",
       "    .dataframe thead th {\n",
       "        text-align: right;\n",
       "    }\n",
       "</style>\n",
       "<table border=\"1\" class=\"dataframe\">\n",
       "  <thead>\n",
       "    <tr style=\"text-align: right;\">\n",
       "      <th></th>\n",
       "      <th>Pclass</th>\n",
       "      <th>Sex</th>\n",
       "      <th>Age</th>\n",
       "      <th>Embarked</th>\n",
       "      <th>Survived</th>\n",
       "    </tr>\n",
       "    <tr>\n",
       "      <th>PassengerId</th>\n",
       "      <th></th>\n",
       "      <th></th>\n",
       "      <th></th>\n",
       "      <th></th>\n",
       "      <th></th>\n",
       "    </tr>\n",
       "  </thead>\n",
       "  <tbody>\n",
       "    <tr>\n",
       "      <th>1</th>\n",
       "      <td>3</td>\n",
       "      <td>1</td>\n",
       "      <td>22.0</td>\n",
       "      <td>2</td>\n",
       "      <td>0</td>\n",
       "    </tr>\n",
       "    <tr>\n",
       "      <th>2</th>\n",
       "      <td>1</td>\n",
       "      <td>0</td>\n",
       "      <td>38.0</td>\n",
       "      <td>0</td>\n",
       "      <td>1</td>\n",
       "    </tr>\n",
       "    <tr>\n",
       "      <th>3</th>\n",
       "      <td>3</td>\n",
       "      <td>0</td>\n",
       "      <td>26.0</td>\n",
       "      <td>2</td>\n",
       "      <td>1</td>\n",
       "    </tr>\n",
       "    <tr>\n",
       "      <th>4</th>\n",
       "      <td>1</td>\n",
       "      <td>0</td>\n",
       "      <td>35.0</td>\n",
       "      <td>2</td>\n",
       "      <td>1</td>\n",
       "    </tr>\n",
       "    <tr>\n",
       "      <th>5</th>\n",
       "      <td>3</td>\n",
       "      <td>1</td>\n",
       "      <td>35.0</td>\n",
       "      <td>2</td>\n",
       "      <td>0</td>\n",
       "    </tr>\n",
       "  </tbody>\n",
       "</table>\n",
       "</div>"
      ],
      "text/plain": [
       "             Pclass  Sex   Age  Embarked  Survived\n",
       "PassengerId                                       \n",
       "1                 3    1  22.0         2         0\n",
       "2                 1    0  38.0         0         1\n",
       "3                 3    0  26.0         2         1\n",
       "4                 1    0  35.0         2         1\n",
       "5                 3    1  35.0         2         0"
      ]
     },
     "execution_count": 12,
     "metadata": {},
     "output_type": "execute_result"
    }
   ],
   "source": [
    "train_df.head()"
   ]
  },
  {
   "cell_type": "code",
   "execution_count": 13,
   "metadata": {
    "scrolled": true
   },
   "outputs": [
    {
     "data": {
      "image/png": "[encoded data removed]",
      "text/plain": [
       "<Figure size 432x288 with 1 Axes>"
      ]
     },
     "metadata": {
      "needs_background": "light"
     },
     "output_type": "display_data"
    },
    {
     "data": {
      "image/png": "[encoded data removed]",
      "text/plain": [
       "<Figure size 432x288 with 1 Axes>"
      ]
     },
     "metadata": {
      "needs_background": "light"
     },
     "output_type": "display_data"
    },
    {
     "data": {
      "image/png": "[encoded data removed]",
      "text/plain": [
       "<Figure size 432x288 with 1 Axes>"
      ]
     },
     "metadata": {
      "needs_background": "light"
     },
     "output_type": "display_data"
    },
    {
     "data": {
      "image/png": "[encoded data removed]",
      "text/plain": [
       "<Figure size 432x288 with 1 Axes>"
      ]
     },
     "metadata": {
      "needs_background": "light"
     },
     "output_type": "display_data"
    },
    {
     "data": {
      "image/png": "[encoded data removed]",
      "text/plain": [
       "<Figure size 432x288 with 1 Axes>"
      ]
     },
     "metadata": {
      "needs_background": "light"
     },
     "output_type": "display_data"
    }
   ],
   "source": [
    "for i in train_df.columns:\n",
    "    train_df.boxplot(column=i)\n",
    "    plt.show()"
   ]
  },
  {
   "cell_type": "code",
   "execution_count": 14,
   "metadata": {},
   "outputs": [
    {
     "data": {
      "text/plain": [
       "Pclass        int64\n",
       "Sex           int32\n",
       "Age         float64\n",
       "Embarked      int32\n",
       "Survived      int64\n",
       "dtype: object"
      ]
     },
     "execution_count": 14,
     "metadata": {},
     "output_type": "execute_result"
    }
   ],
   "source": [
    "train_df.dtypes"
   ]
  },
  {
   "cell_type": "markdown",
   "metadata": {},
   "source": [
    "## Creating X and Y"
   ]
  },
  {
   "cell_type": "code",
   "execution_count": 15,
   "metadata": {},
   "outputs": [],
   "source": [
    "X = train_df.iloc[:,0:-1]\n",
    "Y = train_df.iloc[:,-1]"
   ]
  },
  {
   "cell_type": "code",
   "execution_count": 16,
   "metadata": {},
   "outputs": [
    {
     "name": "stdout",
     "output_type": "stream",
     "text": [
      "[[ 0.82737724  0.73769513 -0.5924806   0.58595414]\n",
      " [-1.56610693 -1.35557354  0.63878901 -1.9423032 ]\n",
      " [ 0.82737724 -1.35557354 -0.2846632   0.58595414]\n",
      " ...\n",
      " [ 0.82737724 -1.35557354  0.          0.58595414]\n",
      " [-1.56610693  0.73769513 -0.2846632  -1.9423032 ]\n",
      " [ 0.82737724  0.73769513  0.17706291 -0.67817453]]\n"
     ]
    }
   ],
   "source": [
    "from sklearn.preprocessing import StandardScaler\n",
    "scaler = StandardScaler()\n",
    "scaler.fit(X)\n",
    "X = scaler.transform(X)\n",
    "print(X)"
   ]
  },
  {
   "cell_type": "markdown",
   "metadata": {},
   "source": [
    "## Splitting Data"
   ]
  },
  {
   "cell_type": "code",
   "execution_count": 17,
   "metadata": {},
   "outputs": [],
   "source": [
    "X_train, X_test, Y_train, Y_test = train_test_split(X, Y, test_size=0.2,random_state=10)"
   ]
  },
  {
   "cell_type": "markdown",
   "metadata": {},
   "source": [
    "## Scaling Data"
   ]
  },
  {
   "cell_type": "code",
   "execution_count": 18,
   "metadata": {},
   "outputs": [
    {
     "name": "stdout",
     "output_type": "stream",
     "text": [
      "[[ 8.27377244e-01  7.37695132e-01 -5.92480600e-01  5.85954143e-01]\n",
      " [-1.56610693e+00 -1.35557354e+00  6.38789012e-01 -1.94230320e+00]\n",
      " [ 8.27377244e-01 -1.35557354e+00 -2.84663197e-01  5.85954143e-01]\n",
      " ...\n",
      " [ 8.27377244e-01 -1.35557354e+00 -2.23290646e-16  5.85954143e-01]\n",
      " [-1.56610693e+00  7.37695132e-01 -2.84663197e-01 -1.94230320e+00]\n",
      " [ 8.27377244e-01  7.37695132e-01  1.77062908e-01 -6.78174528e-01]]\n"
     ]
    }
   ],
   "source": [
    "scaler = StandardScaler()\n",
    "\n",
    "scaler.fit(X)\n",
    "\n",
    "X = scaler.transform(X)\n",
    "print(X)"
   ]
  },
  {
   "cell_type": "markdown",
   "metadata": {},
   "source": [
    "## Logistic Regression"
   ]
  },
  {
   "cell_type": "code",
   "execution_count": 19,
   "metadata": {
    "scrolled": true
   },
   "outputs": [
    {
     "name": "stdout",
     "output_type": "stream",
     "text": [
      "[(0, 0), (0, 0), (0, 0), (1, 1), (1, 1), (0, 0), (0, 0), (0, 0), (1, 0), (0, 0), (0, 0), (1, 1), (1, 1), (0, 0), (0, 0), (0, 0), (0, 0), (0, 0), (0, 1), (0, 0), (0, 0), (0, 0), (1, 1), (0, 0), (0, 0), (0, 0), (0, 0), (1, 1), (0, 0), (1, 1), (1, 1), (0, 0), (0, 1), (0, 0), (1, 1), (0, 0), (0, 1), (0, 0), (0, 0), (1, 0), (0, 0), (0, 0), (0, 0), (1, 1), (1, 0), (0, 0), (0, 0), (0, 0), (1, 1), (0, 0), (1, 0), (0, 0), (0, 0), (1, 0), (1, 0), (1, 1), (0, 0), (1, 1), (1, 1), (0, 0), (0, 0), (1, 1), (0, 1), (0, 1), (0, 0), (0, 0), (0, 0), (0, 0), (0, 0), (1, 1), (0, 0), (0, 0), (1, 0), (0, 0), (1, 1), (0, 0), (0, 0), (1, 0), (0, 1), (0, 0), (0, 0), (0, 0), (0, 0), (1, 1), (1, 1), (0, 0), (1, 1), (0, 1), (0, 0), (1, 1), (1, 0), (0, 0), (0, 0), (0, 0), (1, 1), (0, 1), (1, 1), (0, 0), (1, 1), (0, 0), (1, 0), (0, 0), (0, 0), (0, 0), (1, 1), (1, 1), (0, 0), (1, 1), (1, 1), (1, 1), (1, 1), (0, 0), (1, 1), (0, 0), (0, 0), (0, 0), (0, 0), (1, 1), (1, 1), (0, 1), (1, 1), (0, 0), (1, 1), (1, 1), (1, 1), (1, 1), (1, 1), (0, 0), (0, 0), (1, 0), (1, 1), (0, 0), (0, 0), (1, 1), (1, 1), (0, 1), (0, 0), (1, 1), (1, 1), (0, 0), (0, 1), (0, 0), (1, 0), (0, 0), (0, 0), (0, 0), (0, 0), (0, 0), (0, 0), (0, 0), (0, 0), (0, 0), (1, 1), (0, 0), (0, 0), (0, 1), (0, 0), (0, 0), (0, 0), (0, 0), (0, 0), (1, 1), (1, 0), (0, 0), (0, 0), (0, 1), (1, 0), (0, 0), (1, 1), (0, 0), (0, 1), (1, 1), (0, 0), (0, 1), (0, 0), (0, 0), (0, 0), (0, 0), (0, 1)]\n"
     ]
    }
   ],
   "source": [
    "from sklearn.linear_model import LogisticRegression\n",
    "classifier=LogisticRegression()\n",
    "\n",
    "classifier.fit(X_train,Y_train)\n",
    "\n",
    "Y_pred=classifier.predict(X_test)\n",
    "print(list(zip(Y_test,Y_pred)))\n",
    "\n",
    "# print(list(zip(train_df.columns[:-1],classifier.coef_.ravel())))"
   ]
  },
  {
   "cell_type": "code",
   "execution_count": 20,
   "metadata": {},
   "outputs": [
    {
     "name": "stdout",
     "output_type": "stream",
     "text": [
      "[[101  16]\n",
      " [ 14  48]]\n",
      "Classification report: \n",
      "              precision    recall  f1-score   support\n",
      "\n",
      "           0       0.88      0.86      0.87       117\n",
      "           1       0.75      0.77      0.76        62\n",
      "\n",
      "    accuracy                           0.83       179\n",
      "   macro avg       0.81      0.82      0.82       179\n",
      "weighted avg       0.83      0.83      0.83       179\n",
      "\n",
      "Accuracy of the model:  0.8324022346368715\n"
     ]
    }
   ],
   "source": [
    "from sklearn.metrics import confusion_matrix, accuracy_score, classification_report\n",
    "\n",
    "cfm=confusion_matrix(Y_test,Y_pred)\n",
    "print(cfm)\n",
    "\n",
    "print(\"Classification report: \")\n",
    "print(classification_report(Y_test,Y_pred))\n",
    "\n",
    "acc=accuracy_score(Y_test, Y_pred)\n",
    "print(\"Accuracy of the model: \",acc)"
   ]
  },
  {
   "cell_type": "markdown",
   "metadata": {},
   "source": [
    "## Logistic Tune Model"
   ]
  },
  {
   "cell_type": "code",
   "execution_count": 21,
   "metadata": {},
   "outputs": [],
   "source": [
    "X_train, X_test, Y_train, Y_test = train_test_split(X, Y, test_size=0.2,random_state=10)"
   ]
  },
  {
   "cell_type": "code",
   "execution_count": 22,
   "metadata": {
    "scrolled": true
   },
   "outputs": [
    {
     "name": "stdout",
     "output_type": "stream",
     "text": [
      "[(0, 0), (0, 0), (0, 0), (1, 1), (1, 1), (0, 0), (0, 0), (0, 0), (1, 0), (0, 0), (0, 0), (1, 1), (1, 1), (0, 0), (0, 0), (0, 0), (0, 0), (0, 0), (0, 1), (0, 0), (0, 0), (0, 0), (1, 1), (0, 0), (0, 0), (0, 0), (0, 0), (1, 1), (0, 0), (1, 1), (1, 1), (0, 0), (0, 1), (0, 0), (1, 1), (0, 0), (0, 1), (0, 0), (0, 0), (1, 0), (0, 0), (0, 0), (0, 0), (1, 1), (1, 0), (0, 0), (0, 0), (0, 0), (1, 1), (0, 0), (1, 0), (0, 0), (0, 0), (1, 0), (1, 0), (1, 1), (0, 0), (1, 1), (1, 1), (0, 0), (0, 0), (1, 1), (0, 1), (0, 1), (0, 0), (0, 0), (0, 0), (0, 0), (0, 0), (1, 1), (0, 0), (0, 0), (1, 0), (0, 0), (1, 1), (0, 0), (0, 0), (1, 0), (0, 1), (0, 0), (0, 0), (0, 0), (0, 0), (1, 1), (1, 1), (0, 0), (1, 1), (0, 1), (0, 0), (1, 1), (1, 0), (0, 0), (0, 0), (0, 0), (1, 1), (0, 1), (1, 1), (0, 0), (1, 1), (0, 0), (1, 0), (0, 0), (0, 0), (0, 0), (1, 1), (1, 1), (0, 0), (1, 1), (1, 1), (1, 1), (1, 1), (0, 0), (1, 1), (0, 0), (0, 0), (0, 0), (0, 0), (1, 1), (1, 1), (0, 1), (1, 1), (0, 0), (1, 1), (1, 1), (1, 1), (1, 1), (1, 1), (0, 0), (0, 0), (1, 0), (1, 1), (0, 0), (0, 0), (1, 1), (1, 1), (0, 1), (0, 0), (1, 1), (1, 1), (0, 0), (0, 1), (0, 0), (1, 0), (0, 0), (0, 0), (0, 0), (0, 0), (0, 0), (0, 0), (0, 0), (0, 0), (0, 0), (1, 1), (0, 0), (0, 0), (0, 1), (0, 0), (0, 0), (0, 0), (0, 0), (0, 0), (1, 1), (1, 0), (0, 0), (0, 0), (0, 1), (1, 0), (0, 0), (1, 1), (0, 0), (0, 1), (1, 1), (0, 0), (0, 1), (0, 0), (0, 0), (0, 0), (0, 0), (0, 1)]\n"
     ]
    }
   ],
   "source": [
    "from sklearn.linear_model import LogisticRegression\n",
    "classifier_tune=LogisticRegression()\n",
    "\n",
    "classifier_tune.fit(X_train,Y_train)\n",
    "\n",
    "Y_pred=classifier_tune.predict(X_test)\n",
    "print(list(zip(Y_test,Y_pred)))\n",
    "\n",
    "# print(list(zip(train_df.columns[:-1],classifier.coef_.ravel())))"
   ]
  },
  {
   "cell_type": "code",
   "execution_count": 23,
   "metadata": {},
   "outputs": [
    {
     "name": "stdout",
     "output_type": "stream",
     "text": [
      "[[101  16]\n",
      " [ 14  48]]\n",
      "Classification report: \n",
      "              precision    recall  f1-score   support\n",
      "\n",
      "           0       0.88      0.86      0.87       117\n",
      "           1       0.75      0.77      0.76        62\n",
      "\n",
      "    accuracy                           0.83       179\n",
      "   macro avg       0.81      0.82      0.82       179\n",
      "weighted avg       0.83      0.83      0.83       179\n",
      "\n",
      "Accuracy of the model:  0.8324022346368715\n"
     ]
    }
   ],
   "source": [
    "from sklearn.metrics import confusion_matrix, accuracy_score, classification_report\n",
    "\n",
    "cfm=confusion_matrix(Y_test,Y_pred)\n",
    "print(cfm)\n",
    "\n",
    "print(\"Classification report: \")\n",
    "print(classification_report(Y_test,Y_pred))\n",
    "\n",
    "acc=accuracy_score(Y_test, Y_pred)\n",
    "print(\"Accuracy of the model: \",acc)"
   ]
  },
  {
   "cell_type": "code",
   "execution_count": 24,
   "metadata": {},
   "outputs": [
    {
     "name": "stdout",
     "output_type": "stream",
     "text": [
      "[[0.92437573 0.07562427]\n",
      " [0.8925655  0.1074345 ]\n",
      " [0.90650323 0.09349677]\n",
      " [0.09695126 0.90304874]\n",
      " [0.11138409 0.88861591]\n",
      " [0.89007203 0.10992797]\n",
      " [0.90429856 0.09570144]\n",
      " [0.85415231 0.14584769]\n",
      " [0.91879728 0.08120272]\n",
      " [0.89740349 0.10259651]\n",
      " [0.76874411 0.23125589]\n",
      " [0.0689675  0.9310325 ]\n",
      " [0.21162727 0.78837273]\n",
      " [0.56893391 0.43106609]\n",
      " [0.78654088 0.21345912]\n",
      " [0.78954679 0.21045321]\n",
      " [0.9142673  0.0857327 ]\n",
      " [0.79115195 0.20884805]\n",
      " [0.43912596 0.56087404]\n",
      " [0.83478771 0.16521229]\n",
      " [0.9142673  0.0857327 ]\n",
      " [0.67643746 0.32356254]\n",
      " [0.26771511 0.73228489]\n",
      " [0.90429856 0.09570144]\n",
      " [0.75742297 0.24257703]\n",
      " [0.8925655  0.1074345 ]\n",
      " [0.8925655  0.1074345 ]\n",
      " [0.40515493 0.59484507]\n",
      " [0.869467   0.130533  ]\n",
      " [0.06029037 0.93970963]\n",
      " [0.11138409 0.88861591]\n",
      " [0.78954679 0.21045321]\n",
      " [0.34732172 0.65267828]\n",
      " [0.92789695 0.07210305]\n",
      " [0.29409114 0.70590886]\n",
      " [0.9142673  0.0857327 ]\n",
      " [0.43279624 0.56720376]\n",
      " [0.50052283 0.49947717]\n",
      " [0.88010421 0.11989579]\n",
      " [0.91879728 0.08120272]\n",
      " [0.93369718 0.06630282]\n",
      " [0.79505708 0.20494292]\n",
      " [0.9142673  0.0857327 ]\n",
      " [0.38920809 0.61079191]\n",
      " [0.67887256 0.32112744]\n",
      " [0.56451497 0.43548503]\n",
      " [0.89500909 0.10499091]\n",
      " [0.89500909 0.10499091]\n",
      " [0.03513766 0.96486234]\n",
      " [0.66754722 0.33245278]\n",
      " [0.61430358 0.38569642]\n",
      " [0.83737691 0.16262309]\n",
      " [0.85275808 0.14724192]\n",
      " [0.50684819 0.49315181]\n",
      " [0.6536042  0.3463958 ]\n",
      " [0.0360209  0.9639791 ]\n",
      " [0.78251787 0.21748213]\n",
      " [0.29511074 0.70488926]\n",
      " [0.08035745 0.91964255]\n",
      " [0.90204751 0.09795249]\n",
      " [0.86674208 0.13325792]\n",
      " [0.07847558 0.92152442]\n",
      " [0.37819448 0.62180552]\n",
      " [0.44547555 0.55452445]\n",
      " [0.97089365 0.02910635]\n",
      " [0.88752798 0.11247202]\n",
      " [0.63581762 0.36418238]\n",
      " [0.91586949 0.08413051]\n",
      " [0.92255649 0.07744351]\n",
      " [0.23854096 0.76145904]\n",
      " [0.72503172 0.27496828]\n",
      " [0.93604788 0.06395212]\n",
      " [0.90429856 0.09570144]\n",
      " [0.95979085 0.04020915]\n",
      " [0.24801777 0.75198223]\n",
      " [0.8822854  0.1177146 ]\n",
      " [0.89974939 0.10025061]\n",
      " [0.84285325 0.15714675]\n",
      " [0.3847489  0.6152511 ]\n",
      " [0.85113466 0.14886534]\n",
      " [0.91077631 0.08922369]\n",
      " [0.88010421 0.11989579]\n",
      " [0.7499353  0.2500647 ]\n",
      " [0.38619963 0.61380037]\n",
      " [0.21162727 0.78837273]\n",
      " [0.80735385 0.19264615]\n",
      " [0.06176538 0.93823462]\n",
      " [0.08035745 0.91964255]\n",
      " [0.79083086 0.20916914]\n",
      " [0.1870044  0.8129956 ]\n",
      " [0.91879728 0.08120272]\n",
      " [0.88010421 0.11989579]\n",
      " [0.56893391 0.43106609]\n",
      " [0.9142673  0.0857327 ]\n",
      " [0.12199047 0.87800953]\n",
      " [0.46910251 0.53089749]\n",
      " [0.40151438 0.59848562]\n",
      " [0.88010421 0.11989579]\n",
      " [0.07309928 0.92690072]\n",
      " [0.7499353  0.2500647 ]\n",
      " [0.83591327 0.16408673]\n",
      " [0.71157474 0.28842526]\n",
      " [0.91077631 0.08922369]\n",
      " [0.55171071 0.44828929]\n",
      " [0.26771511 0.73228489]\n",
      " [0.0748627  0.9251373 ]\n",
      " [0.78954679 0.21045321]\n",
      " [0.44921552 0.55078448]\n",
      " [0.26269892 0.73730108]\n",
      " [0.39886144 0.60113856]\n",
      " [0.22931584 0.77068416]\n",
      " [0.90538787 0.09461213]\n",
      " [0.04926246 0.95073754]\n",
      " [0.9142673  0.0857327 ]\n",
      " [0.89007203 0.10992797]\n",
      " [0.71157474 0.28842526]\n",
      " [0.71682892 0.28317108]\n",
      " [0.04076693 0.95923307]\n",
      " [0.44547555 0.55452445]\n",
      " [0.37444896 0.62555104]\n",
      " [0.05743876 0.94256124]\n",
      " [0.84623274 0.15376726]\n",
      " [0.04962648 0.95037352]\n",
      " [0.39534466 0.60465534]\n",
      " [0.49030674 0.50969326]\n",
      " [0.37819448 0.62180552]\n",
      " [0.04926246 0.95073754]\n",
      " [0.9142673  0.0857327 ]\n",
      " [0.9142673  0.0857327 ]\n",
      " [0.6536042  0.3463958 ]\n",
      " [0.06965835 0.93034165]\n",
      " [0.89740349 0.10259651]\n",
      " [0.90204751 0.09795249]\n",
      " [0.04926246 0.95073754]\n",
      " [0.21595389 0.78404611]\n",
      " [0.46910251 0.53089749]\n",
      " [0.92255649 0.07744351]\n",
      " [0.3847489  0.6152511 ]\n",
      " [0.03977213 0.96022787]\n",
      " [0.94859301 0.05140699]\n",
      " [0.38305462 0.61694538]\n",
      " [0.90650323 0.09349677]\n",
      " [0.56893391 0.43106609]\n",
      " [0.5644072  0.4355928 ]\n",
      " [0.9142673  0.0857327 ]\n",
      " [0.9142673  0.0857327 ]\n",
      " [0.63997446 0.36002554]\n",
      " [0.89111551 0.10888449]\n",
      " [0.92615565 0.07384435]\n",
      " [0.90648465 0.09351535]\n",
      " [0.92069724 0.07930276]\n",
      " [0.66181003 0.33818997]\n",
      " [0.05211168 0.94788832]\n",
      " [0.94333366 0.05666634]\n",
      " [0.84617569 0.15382431]\n",
      " [0.236522   0.763478  ]\n",
      " [0.9142673  0.0857327 ]\n",
      " [0.76874411 0.23125589]\n",
      " [0.88010421 0.11989579]\n",
      " [0.83478771 0.16521229]\n",
      " [0.7594653  0.2405347 ]\n",
      " [0.37819448 0.62180552]\n",
      " [0.50961048 0.49038952]\n",
      " [0.9142673  0.0857327 ]\n",
      " [0.88752798 0.11247202]\n",
      " [0.46910251 0.53089749]\n",
      " [0.91879728 0.08120272]\n",
      " [0.8478718  0.1521282 ]\n",
      " [0.37819448 0.62180552]\n",
      " [0.89500909 0.10499091]\n",
      " [0.29511074 0.70488926]\n",
      " [0.45921444 0.54078556]\n",
      " [0.94795092 0.05204908]\n",
      " [0.29511074 0.70488926]\n",
      " [0.76606096 0.23393904]\n",
      " [0.7401569  0.2598431 ]\n",
      " [0.93906145 0.06093855]\n",
      " [0.95775629 0.04224371]\n",
      " [0.3847489  0.6152511 ]]\n"
     ]
    }
   ],
   "source": [
    "# store the predicted probabilities\n",
    "y_pred_prob = classifier_tune.predict_proba(X_test)\n",
    "print(y_pred_prob)"
   ]
  },
  {
   "cell_type": "code",
   "execution_count": 25,
   "metadata": {},
   "outputs": [
    {
     "name": "stdout",
     "output_type": "stream",
     "text": [
      "Errors at threshold  0.4 : 33  , type 2 error : 11  , type 1 error: 22\n",
      "Errors at threshold  0.41000000000000003 : 33  , type 2 error : 11  , type 1 error: 22\n",
      "Errors at threshold  0.42000000000000004 : 33  , type 2 error : 11  , type 1 error: 22\n",
      "Errors at threshold  0.43000000000000005 : 33  , type 2 error : 11  , type 1 error: 22\n",
      "Errors at threshold  0.44000000000000006 : 30  , type 2 error : 12  , type 1 error: 18\n",
      "Errors at threshold  0.45000000000000007 : 29  , type 2 error : 12  , type 1 error: 17\n",
      "Errors at threshold  0.4600000000000001 : 29  , type 2 error : 12  , type 1 error: 17\n",
      "Errors at threshold  0.4700000000000001 : 29  , type 2 error : 12  , type 1 error: 17\n",
      "Errors at threshold  0.4800000000000001 : 29  , type 2 error : 12  , type 1 error: 17\n",
      "Errors at threshold  0.4900000000000001 : 29  , type 2 error : 12  , type 1 error: 17\n",
      "Errors at threshold  0.5000000000000001 : 30  , type 2 error : 14  , type 1 error: 16\n",
      "Errors at threshold  0.5100000000000001 : 31  , type 2 error : 15  , type 1 error: 16\n",
      "Errors at threshold  0.5200000000000001 : 31  , type 2 error : 15  , type 1 error: 16\n",
      "Errors at threshold  0.5300000000000001 : 31  , type 2 error : 15  , type 1 error: 16\n",
      "Errors at threshold  0.5400000000000001 : 28  , type 2 error : 15  , type 1 error: 13\n",
      "Errors at threshold  0.5500000000000002 : 29  , type 2 error : 16  , type 1 error: 13\n",
      "Errors at threshold  0.5600000000000002 : 30  , type 2 error : 18  , type 1 error: 12\n",
      "Errors at threshold  0.5700000000000002 : 28  , type 2 error : 18  , type 1 error: 10\n",
      "Errors at threshold  0.5800000000000002 : 28  , type 2 error : 18  , type 1 error: 10\n",
      "Errors at threshold  0.5900000000000002 : 28  , type 2 error : 18  , type 1 error: 10\n",
      "Errors at threshold  0.6000000000000002 : 30  , type 2 error : 20  , type 1 error: 10\n"
     ]
    }
   ],
   "source": [
    "for a in np.arange(0.4,0.61,0.01):\n",
    "    predict_mine = np.where(y_pred_prob[:,1] > a, 1, 0)\n",
    "    cfm=confusion_matrix(Y_test, predict_mine)\n",
    "    total_err=cfm[0,1]+cfm[1,0]\n",
    "    print(\"Errors at threshold \", a, \":\",total_err, \" , type 2 error :\", \n",
    "          cfm[1,0],\" , type 1 error:\", cfm[0,1])"
   ]
  },
  {
   "cell_type": "code",
   "execution_count": 26,
   "metadata": {},
   "outputs": [
    {
     "name": "stdout",
     "output_type": "stream",
     "text": [
      "[0, 0, 0, 1, 1, 0, 0, 0, 0, 0, 0, 1, 1, 0, 0, 0, 0, 0, 1, 0, 0, 0, 1, 0, 0, 0, 0, 1, 0, 1, 1, 0, 1, 0, 1, 0, 1, 1, 0, 0, 0, 0, 0, 1, 0, 0, 0, 0, 1, 0, 0, 0, 0, 1, 0, 1, 0, 1, 1, 0, 0, 1, 1, 1, 0, 0, 0, 0, 0, 1, 0, 0, 0, 0, 1, 0, 0, 0, 1, 0, 0, 0, 0, 1, 1, 0, 1, 1, 0, 1, 0, 0, 0, 0, 1, 1, 1, 0, 1, 0, 0, 0, 0, 0, 1, 1, 0, 1, 1, 1, 1, 0, 1, 0, 0, 0, 0, 1, 1, 1, 1, 0, 1, 1, 1, 1, 1, 0, 0, 0, 1, 0, 0, 1, 1, 1, 0, 1, 1, 0, 1, 0, 0, 0, 0, 0, 0, 0, 0, 0, 0, 0, 1, 0, 0, 1, 0, 0, 0, 0, 0, 1, 1, 0, 0, 1, 0, 0, 1, 0, 1, 1, 0, 1, 0, 0, 0, 0, 1]\n"
     ]
    }
   ],
   "source": [
    "y_pred_class=[]\n",
    "for value in y_pred_prob[:,1]:\n",
    "    if value > 0.49:\n",
    "        y_pred_class.append(1)\n",
    "    else:\n",
    "        y_pred_class.append(0)\n",
    "print(y_pred_class)"
   ]
  },
  {
   "cell_type": "code",
   "execution_count": 27,
   "metadata": {},
   "outputs": [
    {
     "name": "stdout",
     "output_type": "stream",
     "text": [
      "[[100  17]\n",
      " [ 12  50]]\n",
      "Accuracy of the model:  0.8379888268156425\n",
      "              precision    recall  f1-score   support\n",
      "\n",
      "           0       0.89      0.85      0.87       117\n",
      "           1       0.75      0.81      0.78        62\n",
      "\n",
      "    accuracy                           0.84       179\n",
      "   macro avg       0.82      0.83      0.82       179\n",
      "weighted avg       0.84      0.84      0.84       179\n",
      "\n"
     ]
    }
   ],
   "source": [
    "cfm=confusion_matrix(Y_test,y_pred_class)\n",
    "print(cfm)\n",
    "acc=accuracy_score(Y_test, y_pred_class)\n",
    "print(\"Accuracy of the model: \",acc)\n",
    "print(classification_report(Y_test, y_pred_class))"
   ]
  },
  {
   "cell_type": "code",
   "execution_count": 28,
   "metadata": {},
   "outputs": [
    {
     "name": "stdout",
     "output_type": "stream",
     "text": [
      "0.8744830438378826\n"
     ]
    }
   ],
   "source": [
    "fpr, tpr, z = metrics.roc_curve(Y_test, y_pred_prob[:,1])\n",
    "auc = metrics.auc(fpr,tpr)\n",
    "\n",
    "print(auc)"
   ]
  },
  {
   "cell_type": "code",
   "execution_count": 29,
   "metadata": {},
   "outputs": [
    {
     "data": {
      "image/png": "[encoded data removed]",
      "text/plain": [
       "<Figure size 432x288 with 1 Axes>"
      ]
     },
     "metadata": {
      "needs_background": "light"
     },
     "output_type": "display_data"
    }
   ],
   "source": [
    "plt.title('Receiver Operating Characteristic')\n",
    "plt.plot(fpr,tpr, 'b', label = auc)\n",
    "plt.legend(loc = 'lower right')\n",
    "plt.plot([0, 1], [0, 1],'r--')\n",
    "plt.xlim([0, 1])\n",
    "plt.ylim([0, 1])\n",
    "plt.xlabel('False Positive Rate')\n",
    "plt.ylabel('True Positive Rate')\n",
    "\n",
    "plt.show()"
   ]
  },
  {
   "cell_type": "markdown",
   "metadata": {},
   "source": [
    "## SGD Classifier"
   ]
  },
  {
   "cell_type": "code",
   "execution_count": 30,
   "metadata": {},
   "outputs": [],
   "source": [
    "X_train, X_test, Y_train, Y_test = train_test_split(X, Y, test_size=0.2,random_state=10)"
   ]
  },
  {
   "cell_type": "code",
   "execution_count": 31,
   "metadata": {},
   "outputs": [
    {
     "name": "stdout",
     "output_type": "stream",
     "text": [
      "[('Pclass', -0.8729473869832564), ('Sex', -1.1898311307101228), ('Age', -0.33450374220406914), ('Embarked', -0.2954376518758036)]\n",
      "[-0.59378625]\n"
     ]
    }
   ],
   "source": [
    "classifier_SGD=SGDClassifier(loss=\"log\",random_state=10,alpha=0.01,max_iter=1000, shuffle=True,\n",
    "                             early_stopping=True,n_iter_no_change=3)\n",
    "\n",
    "classifier_SGD.fit(X_train,Y_train)\n",
    "\n",
    "Y_pred=classifier_SGD.predict(X_test)\n",
    "\n",
    "print(list(zip(train_df.columns[:-1],classifier.coef_.ravel())))\n",
    "print(classifier.intercept_)"
   ]
  },
  {
   "cell_type": "code",
   "execution_count": 32,
   "metadata": {},
   "outputs": [
    {
     "name": "stdout",
     "output_type": "stream",
     "text": [
      "[[101  16]\n",
      " [ 14  48]]\n",
      "Classification report: \n",
      "              precision    recall  f1-score   support\n",
      "\n",
      "           0       0.88      0.86      0.87       117\n",
      "           1       0.75      0.77      0.76        62\n",
      "\n",
      "    accuracy                           0.83       179\n",
      "   macro avg       0.81      0.82      0.82       179\n",
      "weighted avg       0.83      0.83      0.83       179\n",
      "\n",
      "Accuracy of the model:  0.8324022346368715\n"
     ]
    }
   ],
   "source": [
    "from sklearn.metrics import confusion_matrix, accuracy_score, classification_report\n",
    "\n",
    "cfm=confusion_matrix(Y_test,Y_pred)\n",
    "print(cfm)\n",
    "\n",
    "print(\"Classification report: \")\n",
    "print(classification_report(Y_test,Y_pred))\n",
    "\n",
    "acc=accuracy_score(Y_test, Y_pred)\n",
    "print(\"Accuracy of the model: \",acc)"
   ]
  },
  {
   "cell_type": "markdown",
   "metadata": {},
   "source": [
    "## Tune SGD"
   ]
  },
  {
   "cell_type": "code",
   "execution_count": 33,
   "metadata": {},
   "outputs": [],
   "source": [
    "X_train, X_test, Y_train, Y_test = train_test_split(X, Y, test_size=0.2,random_state=10)"
   ]
  },
  {
   "cell_type": "code",
   "execution_count": 34,
   "metadata": {},
   "outputs": [
    {
     "name": "stdout",
     "output_type": "stream",
     "text": [
      "[('Pclass', -0.8729473869832564), ('Sex', -1.1898311307101228), ('Age', -0.33450374220406914), ('Embarked', -0.2954376518758036)]\n",
      "[-0.59378625]\n"
     ]
    }
   ],
   "source": [
    "classifier_SGD_tune=SGDClassifier(loss=\"log\",random_state=10,alpha=0.01,max_iter=10, shuffle=True,\n",
    "                             early_stopping=True, n_iter_no_change=15)\n",
    "classifier_SGD_tune.fit(X_train,Y_train)\n",
    "\n",
    "Y_pred=classifier_SGD_tune.predict(X_test)\n",
    "\n",
    "print(list(zip(train_df.columns[:-1],classifier.coef_.ravel())))\n",
    "print(classifier.intercept_)"
   ]
  },
  {
   "cell_type": "code",
   "execution_count": 35,
   "metadata": {},
   "outputs": [
    {
     "name": "stdout",
     "output_type": "stream",
     "text": [
      "[[101  16]\n",
      " [ 13  49]]\n",
      "Classification report: \n",
      "              precision    recall  f1-score   support\n",
      "\n",
      "           0       0.89      0.86      0.87       117\n",
      "           1       0.75      0.79      0.77        62\n",
      "\n",
      "    accuracy                           0.84       179\n",
      "   macro avg       0.82      0.83      0.82       179\n",
      "weighted avg       0.84      0.84      0.84       179\n",
      "\n",
      "Accuracy of the model:  0.8379888268156425\n"
     ]
    }
   ],
   "source": [
    "from sklearn.metrics import confusion_matrix, accuracy_score, classification_report\n",
    "\n",
    "cfm=confusion_matrix(Y_test,Y_pred)\n",
    "print(cfm)\n",
    "\n",
    "print(\"Classification report: \")\n",
    "print(classification_report(Y_test,Y_pred))\n",
    "\n",
    "acc=accuracy_score(Y_test, Y_pred)\n",
    "print(\"Accuracy of the model: \",acc)"
   ]
  },
  {
   "cell_type": "code",
   "execution_count": 36,
   "metadata": {},
   "outputs": [
    {
     "data": {
      "text/plain": [
       "4"
      ]
     },
     "execution_count": 36,
     "metadata": {},
     "output_type": "execute_result"
    }
   ],
   "source": [
    "classifier_SGD.n_iter_"
   ]
  },
  {
   "cell_type": "code",
   "execution_count": 37,
   "metadata": {},
   "outputs": [
    {
     "name": "stdout",
     "output_type": "stream",
     "text": [
      "[[0.91296123 0.08703877]\n",
      " [0.8803282  0.1196718 ]\n",
      " [0.89449122 0.10550878]\n",
      " [0.10474733 0.89525267]\n",
      " [0.12084404 0.87915596]\n",
      " [0.87781382 0.12218618]\n",
      " [0.89223799 0.10776201]\n",
      " [0.84057056 0.15942944]\n",
      " [0.90715485 0.09284515]\n",
      " [0.88522297 0.11477703]\n",
      " [0.75806668 0.24193332]\n",
      " [0.07764506 0.92235494]\n",
      " [0.218753   0.781247  ]\n",
      " [0.56992857 0.43007143]\n",
      " [0.77499291 0.22500709]\n",
      " [0.77786338 0.22213662]\n",
      " [0.90246837 0.09753163]\n",
      " [0.77980531 0.22019469]\n",
      " [0.43104316 0.56895684]\n",
      " [0.82051492 0.17948508]\n",
      " [0.90246837 0.09753163]\n",
      " [0.66756167 0.33243833]\n",
      " [0.27108795 0.72891205]\n",
      " [0.89223799 0.10776201]\n",
      " [0.74602932 0.25397068]\n",
      " [0.8803282  0.1196718 ]\n",
      " [0.8803282  0.1196718 ]\n",
      " [0.41913957 0.58086043]\n",
      " [0.85578889 0.14421111]\n",
      " [0.06794971 0.93205029]\n",
      " [0.12084404 0.87915596]\n",
      " [0.77786338 0.22213662]\n",
      " [0.34696784 0.65303216]\n",
      " [0.91664763 0.08335237]\n",
      " [0.29594419 0.70405581]\n",
      " [0.90246837 0.09753163]\n",
      " [0.42525205 0.57474795]\n",
      " [0.50712237 0.49287763]\n",
      " [0.86673556 0.13326444]\n",
      " [0.90715485 0.09284515]\n",
      " [0.92275862 0.07724138]\n",
      " [0.78313471 0.21686529]\n",
      " [0.90246837 0.09753163]\n",
      " [0.38536873 0.61463127]\n",
      " [0.67138019 0.32861981]\n",
      " [0.56587074 0.43412926]\n",
      " [0.88279774 0.11720226]\n",
      " [0.88279774 0.11720226]\n",
      " [0.04152733 0.95847267]\n",
      " [0.66085971 0.33914029]\n",
      " [0.61164898 0.38835102]\n",
      " [0.82407641 0.17592359]\n",
      " [0.83824435 0.16175565]\n",
      " [0.50824184 0.49175816]\n",
      " [0.65061392 0.34938608]\n",
      " [0.04247907 0.95752093]\n",
      " [0.77157497 0.22842503]\n",
      " [0.29492895 0.70507105]\n",
      " [0.08828312 0.91171688]\n",
      " [0.88994257 0.11005743]\n",
      " [0.85336606 0.14663394]\n",
      " [0.08639774 0.91360226]\n",
      " [0.37308478 0.62691522]\n",
      " [0.4368532  0.5631468 ]\n",
      " [0.96348432 0.03651568]\n",
      " [0.8752541  0.1247459 ]\n",
      " [0.62985738 0.37014262]\n",
      " [0.90412309 0.09587691]\n",
      " [0.91106322 0.08893678]\n",
      " [0.24397126 0.75602874]\n",
      " [0.71691913 0.28308087]\n",
      " [0.92524982 0.07475018]\n",
      " [0.89223799 0.10776201]\n",
      " [0.95098271 0.04901729]\n",
      " [0.2528022  0.7471978 ]\n",
      " [0.86999663 0.13000337]\n",
      " [0.8876044  0.1123956 ]\n",
      " [0.83109918 0.16890082]\n",
      " [0.39566586 0.60433414]\n",
      " [0.83663435 0.16336565]\n",
      " [0.89887325 0.10112675]\n",
      " [0.86673556 0.13326444]\n",
      " [0.74029385 0.25970615]\n",
      " [0.40151456 0.59848544]\n",
      " [0.218753   0.781247  ]\n",
      " [0.7949439  0.2050561 ]\n",
      " [0.06946312 0.93053688]\n",
      " [0.08828312 0.91171688]\n",
      " [0.77909068 0.22090932]\n",
      " [0.19546749 0.80453251]\n",
      " [0.90715485 0.09284515]\n",
      " [0.86673556 0.13326444]\n",
      " [0.56992857 0.43007143]\n",
      " [0.90246837 0.09753163]\n",
      " [0.13126171 0.86873829]\n",
      " [0.45848401 0.54151599]\n",
      " [0.39663269 0.60336731]\n",
      " [0.86673556 0.13326444]\n",
      " [0.08239675 0.91760325]\n",
      " [0.74029385 0.25970615]\n",
      " [0.82435423 0.17564577]\n",
      " [0.70189819 0.29810181]\n",
      " [0.89887325 0.10112675]\n",
      " [0.54947327 0.45052673]\n",
      " [0.27108795 0.72891205]\n",
      " [0.08420287 0.91579713]\n",
      " [0.77786338 0.22213662]\n",
      " [0.45990275 0.54009725]\n",
      " [0.26643948 0.73356052]\n",
      " [0.4087503  0.5912497 ]\n",
      " [0.23535164 0.76464836]\n",
      " [0.89245313 0.10754687]\n",
      " [0.05652103 0.94347897]\n",
      " [0.90246837 0.09753163]\n",
      " [0.87781382 0.12218618]\n",
      " [0.70189819 0.29810181]\n",
      " [0.70682356 0.29317644]\n",
      " [0.04755841 0.95244159]\n",
      " [0.4368532  0.5631468 ]\n",
      " [0.38609737 0.61390263]\n",
      " [0.06501422 0.93498578]\n",
      " [0.8343935  0.1656065 ]\n",
      " [0.05690174 0.94309826]\n",
      " [0.39098619 0.60901381]\n",
      " [0.47792167 0.52207833]\n",
      " [0.37308478 0.62691522]\n",
      " [0.05652103 0.94347897]\n",
      " [0.90246837 0.09753163]\n",
      " [0.90246837 0.09753163]\n",
      " [0.65061392 0.34938608]\n",
      " [0.07750784 0.92249216]\n",
      " [0.88522297 0.11477703]\n",
      " [0.88994257 0.11005743]\n",
      " [0.05652103 0.94347897]\n",
      " [0.22282221 0.77717779]\n",
      " [0.45848401 0.54151599]\n",
      " [0.91106322 0.08893678]\n",
      " [0.39566586 0.60433414]\n",
      " [0.0464984  0.9535016 ]\n",
      " [0.9387043  0.0612957 ]\n",
      " [0.37752605 0.62247395]\n",
      " [0.89449122 0.10550878]\n",
      " [0.56992857 0.43007143]\n",
      " [0.56115457 0.43884543]\n",
      " [0.90246837 0.09753163]\n",
      " [0.90246837 0.09753163]\n",
      " [0.63370427 0.36629573]\n",
      " [0.877608   0.122392  ]\n",
      " [0.91482251 0.08517749]\n",
      " [0.893583   0.106417  ]\n",
      " [0.90912795 0.09087205]\n",
      " [0.65553845 0.34446155]\n",
      " [0.05949425 0.94050575]\n",
      " [0.93302909 0.06697091]\n",
      " [0.83172697 0.16827303]\n",
      " [0.24080236 0.75919764]\n",
      " [0.90246837 0.09753163]\n",
      " [0.75806668 0.24193332]\n",
      " [0.86673556 0.13326444]\n",
      " [0.82051492 0.17948508]\n",
      " [0.74928504 0.25071496]\n",
      " [0.37308478 0.62691522]\n",
      " [0.49564732 0.50435268]\n",
      " [0.90246837 0.09753163]\n",
      " [0.8752541  0.1247459 ]\n",
      " [0.45848401 0.54151599]\n",
      " [0.90715485 0.09284515]\n",
      " [0.83470273 0.16529727]\n",
      " [0.37308478 0.62691522]\n",
      " [0.88279774 0.11720226]\n",
      " [0.29492895 0.70507105]\n",
      " [0.4673753  0.5326247 ]\n",
      " [0.93746055 0.06253945]\n",
      " [0.29492895 0.70507105]\n",
      " [0.75334607 0.24665393]\n",
      " [0.73109593 0.26890407]\n",
      " [0.92845654 0.07154346]\n",
      " [0.9487299  0.0512701 ]\n",
      " [0.39566586 0.60433414]]\n"
     ]
    }
   ],
   "source": [
    "# store the predicted probabilities\n",
    "y_pred_prob = classifier_SGD_tune.predict_proba(X_test)\n",
    "print(y_pred_prob)"
   ]
  },
  {
   "cell_type": "code",
   "execution_count": 38,
   "metadata": {
    "scrolled": true
   },
   "outputs": [
    {
     "name": "stdout",
     "output_type": "stream",
     "text": [
      "Errors at threshold  0.3 : 34  , type 2 error : 7  , type 1 error: 27\n",
      "Errors at threshold  0.31 : 34  , type 2 error : 7  , type 1 error: 27\n",
      "Errors at threshold  0.32 : 34  , type 2 error : 7  , type 1 error: 27\n",
      "Errors at threshold  0.33 : 35  , type 2 error : 8  , type 1 error: 27\n",
      "Errors at threshold  0.34 : 33  , type 2 error : 8  , type 1 error: 25\n",
      "Errors at threshold  0.35000000000000003 : 34  , type 2 error : 10  , type 1 error: 24\n",
      "Errors at threshold  0.36000000000000004 : 34  , type 2 error : 10  , type 1 error: 24\n",
      "Errors at threshold  0.37000000000000005 : 33  , type 2 error : 10  , type 1 error: 23\n",
      "Errors at threshold  0.38000000000000006 : 32  , type 2 error : 10  , type 1 error: 22\n",
      "Errors at threshold  0.39000000000000007 : 33  , type 2 error : 11  , type 1 error: 22\n",
      "Errors at threshold  0.4000000000000001 : 33  , type 2 error : 11  , type 1 error: 22\n",
      "Errors at threshold  0.4100000000000001 : 33  , type 2 error : 11  , type 1 error: 22\n",
      "Errors at threshold  0.4200000000000001 : 33  , type 2 error : 11  , type 1 error: 22\n",
      "Errors at threshold  0.4300000000000001 : 33  , type 2 error : 11  , type 1 error: 22\n",
      "Errors at threshold  0.4400000000000001 : 30  , type 2 error : 12  , type 1 error: 18\n",
      "Errors at threshold  0.4500000000000001 : 30  , type 2 error : 12  , type 1 error: 18\n",
      "Errors at threshold  0.46000000000000013 : 29  , type 2 error : 12  , type 1 error: 17\n",
      "Errors at threshold  0.47000000000000014 : 29  , type 2 error : 12  , type 1 error: 17\n",
      "Errors at threshold  0.48000000000000015 : 29  , type 2 error : 12  , type 1 error: 17\n",
      "Errors at threshold  0.49000000000000016 : 29  , type 2 error : 12  , type 1 error: 17\n",
      "Errors at threshold  0.5000000000000002 : 29  , type 2 error : 13  , type 1 error: 16\n",
      "Errors at threshold  0.5100000000000002 : 30  , type 2 error : 14  , type 1 error: 16\n",
      "Errors at threshold  0.5200000000000002 : 30  , type 2 error : 14  , type 1 error: 16\n",
      "Errors at threshold  0.5300000000000002 : 31  , type 2 error : 15  , type 1 error: 16\n",
      "Errors at threshold  0.5400000000000003 : 32  , type 2 error : 16  , type 1 error: 16\n",
      "Errors at threshold  0.5500000000000003 : 30  , type 2 error : 17  , type 1 error: 13\n",
      "Errors at threshold  0.5600000000000003 : 30  , type 2 error : 17  , type 1 error: 13\n",
      "Errors at threshold  0.5700000000000003 : 29  , type 2 error : 18  , type 1 error: 11\n",
      "Errors at threshold  0.5800000000000003 : 28  , type 2 error : 18  , type 1 error: 10\n",
      "Errors at threshold  0.5900000000000003 : 29  , type 2 error : 19  , type 1 error: 10\n",
      "Errors at threshold  0.6000000000000003 : 31  , type 2 error : 21  , type 1 error: 10\n"
     ]
    }
   ],
   "source": [
    "for a in np.arange(0.3,0.61,0.01):\n",
    "    predict_mine = np.where(y_pred_prob[:,1] > a, 1, 0)\n",
    "    cfm=confusion_matrix(Y_test, predict_mine)\n",
    "    total_err=cfm[0,1]+cfm[1,0]\n",
    "    print(\"Errors at threshold \", a, \":\",total_err, \" , type 2 error :\", \n",
    "          cfm[1,0],\" , type 1 error:\", cfm[0,1])"
   ]
  },
  {
   "cell_type": "code",
   "execution_count": 39,
   "metadata": {},
   "outputs": [
    {
     "name": "stdout",
     "output_type": "stream",
     "text": [
      "[0, 0, 0, 1, 1, 0, 0, 0, 0, 0, 0, 1, 1, 0, 0, 0, 0, 0, 1, 0, 0, 0, 1, 0, 0, 0, 0, 1, 0, 1, 1, 0, 1, 0, 1, 0, 1, 1, 0, 0, 0, 0, 0, 1, 0, 0, 0, 0, 1, 0, 0, 0, 0, 1, 0, 1, 0, 1, 1, 0, 0, 1, 1, 1, 0, 0, 0, 0, 0, 1, 0, 0, 0, 0, 1, 0, 0, 0, 1, 0, 0, 0, 0, 1, 1, 0, 1, 1, 0, 1, 0, 0, 0, 0, 1, 1, 1, 0, 1, 0, 0, 0, 0, 0, 1, 1, 0, 1, 1, 1, 1, 0, 1, 0, 0, 0, 0, 1, 1, 1, 1, 0, 1, 1, 1, 1, 1, 0, 0, 0, 1, 0, 0, 1, 1, 1, 0, 1, 1, 0, 1, 0, 0, 0, 0, 0, 0, 0, 0, 0, 0, 0, 1, 0, 0, 1, 0, 0, 0, 0, 0, 1, 1, 0, 0, 1, 0, 0, 1, 0, 1, 1, 0, 1, 0, 0, 0, 0, 1]\n"
     ]
    }
   ],
   "source": [
    "y_pred_class=[]\n",
    "for value in y_pred_prob[:,1]:\n",
    "    if value > 0.49:\n",
    "        y_pred_class.append(1)\n",
    "    else:\n",
    "        y_pred_class.append(0)\n",
    "print(y_pred_class)"
   ]
  },
  {
   "cell_type": "code",
   "execution_count": 40,
   "metadata": {},
   "outputs": [
    {
     "name": "stdout",
     "output_type": "stream",
     "text": [
      "[[100  17]\n",
      " [ 12  50]]\n",
      "Accuracy of the model:  0.8379888268156425\n",
      "              precision    recall  f1-score   support\n",
      "\n",
      "           0       0.89      0.85      0.87       117\n",
      "           1       0.75      0.81      0.78        62\n",
      "\n",
      "    accuracy                           0.84       179\n",
      "   macro avg       0.82      0.83      0.82       179\n",
      "weighted avg       0.84      0.84      0.84       179\n",
      "\n"
     ]
    }
   ],
   "source": [
    "cfm=confusion_matrix(Y_test,y_pred_class)\n",
    "print(cfm)\n",
    "acc=accuracy_score(Y_test, y_pred_class)\n",
    "print(\"Accuracy of the model: \",acc)\n",
    "print(classification_report(Y_test, y_pred_class))"
   ]
  },
  {
   "cell_type": "markdown",
   "metadata": {},
   "source": [
    "## KNN"
   ]
  },
  {
   "cell_type": "code",
   "execution_count": 41,
   "metadata": {},
   "outputs": [],
   "source": [
    "X_train, X_test, Y_train, Y_test = train_test_split(X, Y, test_size=0.2,random_state=10)"
   ]
  },
  {
   "cell_type": "code",
   "execution_count": 42,
   "metadata": {},
   "outputs": [],
   "source": [
    "model_KNN=KNeighborsClassifier(n_neighbors=int(np.sqrt(len(X_train))),metric='euclidean')\n",
    "\n",
    "model_KNN.fit(X_train,Y_train)\n",
    "Y_pred=model_KNN.predict(X_test)"
   ]
  },
  {
   "cell_type": "code",
   "execution_count": 43,
   "metadata": {},
   "outputs": [
    {
     "name": "stdout",
     "output_type": "stream",
     "text": [
      "[[111   6]\n",
      " [ 25  37]]\n",
      "0.8268156424581006\n",
      "              precision    recall  f1-score   support\n",
      "\n",
      "           0       0.82      0.95      0.88       117\n",
      "           1       0.86      0.60      0.70        62\n",
      "\n",
      "    accuracy                           0.83       179\n",
      "   macro avg       0.84      0.77      0.79       179\n",
      "weighted avg       0.83      0.83      0.82       179\n",
      "\n"
     ]
    }
   ],
   "source": [
    "print(confusion_matrix(Y_test,Y_pred))\n",
    "print(accuracy_score(Y_test,Y_pred))\n",
    "print(classification_report(Y_test,Y_pred))"
   ]
  },
  {
   "cell_type": "markdown",
   "metadata": {},
   "source": [
    "## Tune KNN"
   ]
  },
  {
   "cell_type": "code",
   "execution_count": 44,
   "metadata": {},
   "outputs": [],
   "source": [
    "X_train, X_test, Y_train, Y_test = train_test_split(X, Y, test_size=0.2,random_state=10)"
   ]
  },
  {
   "cell_type": "code",
   "execution_count": 45,
   "metadata": {},
   "outputs": [],
   "source": [
    "model_KNN_tune=KNeighborsClassifier(n_neighbors=8, metric='euclidean')\n",
    "\n",
    "model_KNN_tune.fit(X_train,Y_train)\n",
    "\n",
    "Y_pred=model_KNN_tune.predict(X_test)"
   ]
  },
  {
   "cell_type": "code",
   "execution_count": 46,
   "metadata": {},
   "outputs": [
    {
     "name": "stdout",
     "output_type": "stream",
     "text": [
      "[[109   8]\n",
      " [ 20  42]]\n",
      "0.8435754189944135\n",
      "              precision    recall  f1-score   support\n",
      "\n",
      "           0       0.84      0.93      0.89       117\n",
      "           1       0.84      0.68      0.75        62\n",
      "\n",
      "    accuracy                           0.84       179\n",
      "   macro avg       0.84      0.80      0.82       179\n",
      "weighted avg       0.84      0.84      0.84       179\n",
      "\n"
     ]
    }
   ],
   "source": [
    "from sklearn.metrics import confusion_matrix, accuracy_score,classification_report\n",
    "#confusion matrix\n",
    "print(confusion_matrix(Y_test,Y_pred))\n",
    "print(accuracy_score(Y_test,Y_pred))\n",
    "print(classification_report(Y_test,Y_pred))"
   ]
  },
  {
   "cell_type": "code",
   "execution_count": 47,
   "metadata": {
    "scrolled": true
   },
   "outputs": [
    {
     "name": "stdout",
     "output_type": "stream",
     "text": [
      "Accuracy is  0.7374301675977654 for K-Value: 1\n",
      "Accuracy is  0.8212290502793296 for K-Value: 2\n",
      "Accuracy is  0.7541899441340782 for K-Value: 3\n",
      "Accuracy is  0.8324022346368715 for K-Value: 4\n",
      "Accuracy is  0.8379888268156425 for K-Value: 5\n",
      "Accuracy is  0.8379888268156425 for K-Value: 6\n",
      "Accuracy is  0.8435754189944135 for K-Value: 7\n",
      "Accuracy is  0.8435754189944135 for K-Value: 8\n",
      "Accuracy is  0.8379888268156425 for K-Value: 9\n",
      "Accuracy is  0.8379888268156425 for K-Value: 10\n",
      "Accuracy is  0.8324022346368715 for K-Value: 11\n",
      "Accuracy is  0.8268156424581006 for K-Value: 12\n",
      "Accuracy is  0.8268156424581006 for K-Value: 13\n",
      "Accuracy is  0.8156424581005587 for K-Value: 14\n",
      "Accuracy is  0.8268156424581006 for K-Value: 15\n",
      "Accuracy is  0.8156424581005587 for K-Value: 16\n",
      "Accuracy is  0.8156424581005587 for K-Value: 17\n",
      "Accuracy is  0.8156424581005587 for K-Value: 18\n",
      "Accuracy is  0.8156424581005587 for K-Value: 19\n",
      "Accuracy is  0.8156424581005587 for K-Value: 20\n",
      "Accuracy is  0.8156424581005587 for K-Value: 21\n",
      "Accuracy is  0.8268156424581006 for K-Value: 22\n",
      "Accuracy is  0.8268156424581006 for K-Value: 23\n",
      "Accuracy is  0.8268156424581006 for K-Value: 24\n",
      "Accuracy is  0.8268156424581006 for K-Value: 25\n",
      "Accuracy is  0.8268156424581006 for K-Value: 26\n",
      "Accuracy is  0.8268156424581006 for K-Value: 27\n",
      "Accuracy is  0.8268156424581006 for K-Value: 28\n",
      "Accuracy is  0.8268156424581006 for K-Value: 29\n",
      "Accuracy is  0.8268156424581006 for K-Value: 30\n"
     ]
    }
   ],
   "source": [
    "from sklearn.metrics import accuracy_score\n",
    "my_dict={}\n",
    "for K in range(1,31):\n",
    "    model_KNN = KNeighborsClassifier(n_neighbors=K,metric=\"minkowski\")\n",
    "    model_KNN.fit(X_train, Y_train) \n",
    "    Y_pred = model_KNN.predict(X_test)\n",
    "    print (\"Accuracy is \", accuracy_score(Y_test,Y_pred), \"for K-Value:\",K)\n",
    "    my_dict[K]=accuracy_score(Y_test,Y_pred)"
   ]
  },
  {
   "cell_type": "code",
   "execution_count": 48,
   "metadata": {},
   "outputs": [
    {
     "name": "stdout",
     "output_type": "stream",
     "text": [
      "7 : 0.8435754189944135\n",
      "8 : 0.8435754189944135\n"
     ]
    }
   ],
   "source": [
    "for k in my_dict:\n",
    "    if my_dict[k]==max(my_dict.values()):\n",
    "        print(k,\":\",my_dict[k])"
   ]
  },
  {
   "cell_type": "markdown",
   "metadata": {},
   "source": [
    "## Decision Tree"
   ]
  },
  {
   "cell_type": "code",
   "execution_count": 49,
   "metadata": {},
   "outputs": [],
   "source": [
    "X_train, X_test, Y_train, Y_test = train_test_split(X, Y, test_size=0.2,random_state=10)"
   ]
  },
  {
   "cell_type": "code",
   "execution_count": 50,
   "metadata": {},
   "outputs": [
    {
     "name": "stdout",
     "output_type": "stream",
     "text": [
      "[0 0 0 1 1 0 0 0 0 0 0 1 1 0 0 0 0 0 0 0 0 0 1 0 1 0 0 1 0 1 1 0 0 0 1 0 1\n",
      " 0 0 0 0 0 0 0 1 0 0 0 1 0 0 0 0 0 1 1 0 1 1 0 0 1 1 1 0 0 1 0 0 1 0 0 0 1\n",
      " 1 0 0 1 0 0 0 0 0 1 1 0 1 1 0 1 0 0 0 0 1 0 0 0 1 0 0 0 0 1 1 1 0 1 1 0 1\n",
      " 0 1 0 0 0 0 1 1 0 1 0 1 0 1 1 1 0 0 1 1 0 0 1 1 0 0 0 1 0 1 0 0 0 0 0 1 0\n",
      " 0 0 0 0 1 0 0 0 0 0 0 0 0 1 1 0 0 0 0 0 1 0 1 1 0 1 0 0 0 0 0]\n"
     ]
    }
   ],
   "source": [
    "model_DecisionTree=DecisionTreeClassifier(criterion=\"gini\",random_state=10,splitter=\"best\")\n",
    "\n",
    "model_DecisionTree.fit(X_train,Y_train)\n",
    "Y_pred=model_DecisionTree.predict(X_test)\n",
    "print(Y_pred)"
   ]
  },
  {
   "cell_type": "code",
   "execution_count": 51,
   "metadata": {},
   "outputs": [
    {
     "name": "stdout",
     "output_type": "stream",
     "text": [
      "[[105  12]\n",
      " [ 14  48]]\n",
      "0.8547486033519553\n",
      "              precision    recall  f1-score   support\n",
      "\n",
      "           0       0.88      0.90      0.89       117\n",
      "           1       0.80      0.77      0.79        62\n",
      "\n",
      "    accuracy                           0.85       179\n",
      "   macro avg       0.84      0.84      0.84       179\n",
      "weighted avg       0.85      0.85      0.85       179\n",
      "\n"
     ]
    }
   ],
   "source": [
    "print(confusion_matrix(Y_test,Y_pred))\n",
    "print(accuracy_score(Y_test,Y_pred))\n",
    "print(classification_report(Y_test,Y_pred))"
   ]
  },
  {
   "cell_type": "markdown",
   "metadata": {},
   "source": [
    "## Tune Decision Tree"
   ]
  },
  {
   "cell_type": "code",
   "execution_count": 52,
   "metadata": {},
   "outputs": [],
   "source": [
    "X_train, X_test, Y_train, Y_test = train_test_split(X, Y, test_size=0.2,random_state=10)"
   ]
  },
  {
   "cell_type": "code",
   "execution_count": 53,
   "metadata": {},
   "outputs": [
    {
     "name": "stdout",
     "output_type": "stream",
     "text": [
      "[0 0 0 1 1 0 0 0 0 0 0 1 1 0 0 0 0 0 0 0 0 0 1 0 1 0 0 1 0 1 1 0 0 0 1 0 1\n",
      " 0 0 0 0 0 0 0 1 0 0 0 1 0 0 0 0 0 1 1 0 1 1 0 0 1 1 1 0 0 1 0 0 1 0 0 0 1\n",
      " 1 0 0 1 0 0 0 0 0 1 1 0 1 1 0 1 0 0 0 0 1 0 0 0 1 0 0 0 0 0 1 1 0 1 1 0 1\n",
      " 0 1 0 0 0 0 1 1 0 1 0 1 0 1 1 1 0 0 1 1 0 0 1 1 0 0 0 1 0 1 0 0 0 0 0 1 0\n",
      " 0 0 0 0 1 0 0 0 0 0 0 0 0 1 1 0 0 0 0 0 1 0 1 1 0 1 0 0 0 0 0]\n"
     ]
    }
   ],
   "source": [
    "model_DecisionTree_tune=DecisionTreeClassifier(criterion=\"gini\",random_state=10,splitter=\"best\",\n",
    "                                         min_samples_leaf=1,max_depth=None,min_samples_split=2,\n",
    "                                         max_leaf_nodes=100)\n",
    "\n",
    "model_DecisionTree_tune.fit(X_train,Y_train)\n",
    "\n",
    "Y_pred=model_DecisionTree_tune.predict(X_test)\n",
    "print(Y_pred)"
   ]
  },
  {
   "cell_type": "code",
   "execution_count": 54,
   "metadata": {},
   "outputs": [
    {
     "name": "stdout",
     "output_type": "stream",
     "text": [
      "[[106  11]\n",
      " [ 14  48]]\n",
      "0.8603351955307262\n",
      "              precision    recall  f1-score   support\n",
      "\n",
      "           0       0.88      0.91      0.89       117\n",
      "           1       0.81      0.77      0.79        62\n",
      "\n",
      "    accuracy                           0.86       179\n",
      "   macro avg       0.85      0.84      0.84       179\n",
      "weighted avg       0.86      0.86      0.86       179\n",
      "\n"
     ]
    }
   ],
   "source": [
    "from sklearn.metrics import confusion_matrix, accuracy_score,classification_report\n",
    "#confusion matrix\n",
    "print(confusion_matrix(Y_test,Y_pred))\n",
    "print(accuracy_score(Y_test,Y_pred))\n",
    "print(classification_report(Y_test,Y_pred))"
   ]
  },
  {
   "cell_type": "code",
   "execution_count": 55,
   "metadata": {},
   "outputs": [
    {
     "data": {
      "text/plain": [
       "0.901685393258427"
      ]
     },
     "execution_count": 55,
     "metadata": {},
     "output_type": "execute_result"
    }
   ],
   "source": [
    "model_DecisionTree.score(X_train,Y_train)"
   ]
  },
  {
   "cell_type": "code",
   "execution_count": 56,
   "metadata": {},
   "outputs": [
    {
     "data": {
      "text/plain": [
       "0.8547486033519553"
      ]
     },
     "execution_count": 56,
     "metadata": {},
     "output_type": "execute_result"
    }
   ],
   "source": [
    "model_DecisionTree.score(X_test,Y_test)"
   ]
  },
  {
   "cell_type": "code",
   "execution_count": 57,
   "metadata": {},
   "outputs": [
    {
     "name": "stdout",
     "output_type": "stream",
     "text": [
      "[[0.9375     0.0625    ]\n",
      " [0.89583333 0.10416667]\n",
      " [0.85714286 0.14285714]\n",
      " [0.01408451 0.98591549]\n",
      " [0.01408451 0.98591549]\n",
      " [0.89583333 0.10416667]\n",
      " [0.85714286 0.14285714]\n",
      " [1.         0.        ]\n",
      " [0.77777778 0.22222222]\n",
      " [1.         0.        ]\n",
      " [0.94117647 0.05882353]\n",
      " [0.         1.        ]\n",
      " [0.16666667 0.83333333]\n",
      " [0.76470588 0.23529412]\n",
      " [0.94117647 0.05882353]\n",
      " [0.94117647 0.05882353]\n",
      " [0.89230769 0.10769231]\n",
      " [0.5        0.5       ]\n",
      " [1.         0.        ]\n",
      " [0.8125     0.1875    ]\n",
      " [0.89230769 0.10769231]\n",
      " [1.         0.        ]\n",
      " [0.         1.        ]\n",
      " [0.85714286 0.14285714]\n",
      " [0.         1.        ]\n",
      " [0.89583333 0.10416667]\n",
      " [0.89583333 0.10416667]\n",
      " [0.         1.        ]\n",
      " [1.         0.        ]\n",
      " [0.01408451 0.98591549]\n",
      " [0.01408451 0.98591549]\n",
      " [0.94117647 0.05882353]\n",
      " [1.         0.        ]\n",
      " [0.9375     0.0625    ]\n",
      " [0.         1.        ]\n",
      " [0.89230769 0.10769231]\n",
      " [0.         1.        ]\n",
      " [1.         0.        ]\n",
      " [0.89230769 0.10769231]\n",
      " [0.77777778 0.22222222]\n",
      " [0.9375     0.0625    ]\n",
      " [0.5        0.5       ]\n",
      " [0.89230769 0.10769231]\n",
      " [1.         0.        ]\n",
      " [0.         1.        ]\n",
      " [0.76470588 0.23529412]\n",
      " [0.89583333 0.10416667]\n",
      " [0.89583333 0.10416667]\n",
      " [0.01408451 0.98591549]\n",
      " [1.         0.        ]\n",
      " [1.         0.        ]\n",
      " [0.9375     0.0625    ]\n",
      " [1.         0.        ]\n",
      " [0.57142857 0.42857143]\n",
      " [0.         1.        ]\n",
      " [0.01408451 0.98591549]\n",
      " [1.         0.        ]\n",
      " [0.17391304 0.82608696]\n",
      " [0.01408451 0.98591549]\n",
      " [0.85714286 0.14285714]\n",
      " [0.85714286 0.14285714]\n",
      " [0.01408451 0.98591549]\n",
      " [0.17391304 0.82608696]\n",
      " [0.         1.        ]\n",
      " [1.         0.        ]\n",
      " [0.89583333 0.10416667]\n",
      " [0.         1.        ]\n",
      " [0.89230769 0.10769231]\n",
      " [0.9375     0.0625    ]\n",
      " [0.         1.        ]\n",
      " [0.94117647 0.05882353]\n",
      " [0.9375     0.0625    ]\n",
      " [0.85714286 0.14285714]\n",
      " [0.         1.        ]\n",
      " [0.         1.        ]\n",
      " [0.89583333 0.10416667]\n",
      " [1.         0.        ]\n",
      " [0.         1.        ]\n",
      " [1.         0.        ]\n",
      " [1.         0.        ]\n",
      " [1.         0.        ]\n",
      " [0.89230769 0.10769231]\n",
      " [0.94117647 0.05882353]\n",
      " [0.         1.        ]\n",
      " [0.16666667 0.83333333]\n",
      " [0.9375     0.0625    ]\n",
      " [0.01408451 0.98591549]\n",
      " [0.01408451 0.98591549]\n",
      " [0.94117647 0.05882353]\n",
      " [0.         1.        ]\n",
      " [0.77777778 0.22222222]\n",
      " [0.89230769 0.10769231]\n",
      " [0.76470588 0.23529412]\n",
      " [0.89230769 0.10769231]\n",
      " [0.01408451 0.98591549]\n",
      " [0.75       0.25      ]\n",
      " [1.         0.        ]\n",
      " [0.89230769 0.10769231]\n",
      " [0.01408451 0.98591549]\n",
      " [0.94117647 0.05882353]\n",
      " [1.         0.        ]\n",
      " [0.57142857 0.42857143]\n",
      " [1.         0.        ]\n",
      " [0.57142857 0.42857143]\n",
      " [0.         1.        ]\n",
      " [0.01408451 0.98591549]\n",
      " [0.94117647 0.05882353]\n",
      " [0.         1.        ]\n",
      " [0.         1.        ]\n",
      " [1.         0.        ]\n",
      " [0.         1.        ]\n",
      " [0.9375     0.0625    ]\n",
      " [0.01408451 0.98591549]\n",
      " [0.89230769 0.10769231]\n",
      " [0.89583333 0.10416667]\n",
      " [0.57142857 0.42857143]\n",
      " [0.57142857 0.42857143]\n",
      " [0.01408451 0.98591549]\n",
      " [0.         1.        ]\n",
      " [0.5        0.5       ]\n",
      " [0.01408451 0.98591549]\n",
      " [0.5        0.5       ]\n",
      " [0.01408451 0.98591549]\n",
      " [0.6        0.4       ]\n",
      " [0.         1.        ]\n",
      " [0.17391304 0.82608696]\n",
      " [0.01408451 0.98591549]\n",
      " [0.89230769 0.10769231]\n",
      " [0.89230769 0.10769231]\n",
      " [0.         1.        ]\n",
      " [0.01408451 0.98591549]\n",
      " [1.         0.        ]\n",
      " [0.85714286 0.14285714]\n",
      " [0.01408451 0.98591549]\n",
      " [0.16666667 0.83333333]\n",
      " [0.75       0.25      ]\n",
      " [0.9375     0.0625    ]\n",
      " [1.         0.        ]\n",
      " [0.01408451 0.98591549]\n",
      " [1.         0.        ]\n",
      " [0.17391304 0.82608696]\n",
      " [0.85714286 0.14285714]\n",
      " [0.76470588 0.23529412]\n",
      " [0.57142857 0.42857143]\n",
      " [0.89230769 0.10769231]\n",
      " [0.89230769 0.10769231]\n",
      " [0.         1.        ]\n",
      " [1.         0.        ]\n",
      " [0.9375     0.0625    ]\n",
      " [0.9375     0.0625    ]\n",
      " [0.9375     0.0625    ]\n",
      " [0.64285714 0.35714286]\n",
      " [0.01408451 0.98591549]\n",
      " [1.         0.        ]\n",
      " [1.         0.        ]\n",
      " [1.         0.        ]\n",
      " [0.89230769 0.10769231]\n",
      " [0.94117647 0.05882353]\n",
      " [0.89230769 0.10769231]\n",
      " [0.8125     0.1875    ]\n",
      " [0.94117647 0.05882353]\n",
      " [0.17391304 0.82608696]\n",
      " [0.         1.        ]\n",
      " [0.89230769 0.10769231]\n",
      " [0.89583333 0.10416667]\n",
      " [0.75       0.25      ]\n",
      " [0.77777778 0.22222222]\n",
      " [0.89583333 0.10416667]\n",
      " [0.17391304 0.82608696]\n",
      " [0.89583333 0.10416667]\n",
      " [0.17391304 0.82608696]\n",
      " [0.         1.        ]\n",
      " [1.         0.        ]\n",
      " [0.17391304 0.82608696]\n",
      " [1.         0.        ]\n",
      " [0.94117647 0.05882353]\n",
      " [0.6        0.4       ]\n",
      " [1.         0.        ]\n",
      " [1.         0.        ]]\n"
     ]
    }
   ],
   "source": [
    "# store the predicted probabilities\n",
    "y_pred_prob = model_DecisionTree_tune.predict_proba(X_test)\n",
    "print(y_pred_prob)"
   ]
  },
  {
   "cell_type": "code",
   "execution_count": 58,
   "metadata": {
    "scrolled": true
   },
   "outputs": [
    {
     "name": "stdout",
     "output_type": "stream",
     "text": [
      "Errors at threshold  0.3 : 34  , type 2 error : 12  , type 1 error: 22\n",
      "Errors at threshold  0.31 : 34  , type 2 error : 12  , type 1 error: 22\n",
      "Errors at threshold  0.32 : 34  , type 2 error : 12  , type 1 error: 22\n",
      "Errors at threshold  0.33 : 34  , type 2 error : 12  , type 1 error: 22\n",
      "Errors at threshold  0.34 : 34  , type 2 error : 12  , type 1 error: 22\n",
      "Errors at threshold  0.35000000000000003 : 34  , type 2 error : 12  , type 1 error: 22\n",
      "Errors at threshold  0.36000000000000004 : 33  , type 2 error : 12  , type 1 error: 21\n",
      "Errors at threshold  0.37000000000000005 : 33  , type 2 error : 12  , type 1 error: 21\n",
      "Errors at threshold  0.38000000000000006 : 33  , type 2 error : 12  , type 1 error: 21\n",
      "Errors at threshold  0.39000000000000007 : 33  , type 2 error : 12  , type 1 error: 21\n",
      "Errors at threshold  0.4000000000000001 : 33  , type 2 error : 13  , type 1 error: 20\n",
      "Errors at threshold  0.4100000000000001 : 33  , type 2 error : 13  , type 1 error: 20\n",
      "Errors at threshold  0.4200000000000001 : 33  , type 2 error : 13  , type 1 error: 20\n",
      "Errors at threshold  0.4300000000000001 : 29  , type 2 error : 14  , type 1 error: 15\n",
      "Errors at threshold  0.4400000000000001 : 29  , type 2 error : 14  , type 1 error: 15\n",
      "Errors at threshold  0.4500000000000001 : 29  , type 2 error : 14  , type 1 error: 15\n",
      "Errors at threshold  0.46000000000000013 : 29  , type 2 error : 14  , type 1 error: 15\n",
      "Errors at threshold  0.47000000000000014 : 29  , type 2 error : 14  , type 1 error: 15\n",
      "Errors at threshold  0.48000000000000015 : 29  , type 2 error : 14  , type 1 error: 15\n",
      "Errors at threshold  0.49000000000000016 : 29  , type 2 error : 14  , type 1 error: 15\n",
      "Errors at threshold  0.5000000000000002 : 25  , type 2 error : 14  , type 1 error: 11\n",
      "Errors at threshold  0.5100000000000002 : 25  , type 2 error : 14  , type 1 error: 11\n",
      "Errors at threshold  0.5200000000000002 : 25  , type 2 error : 14  , type 1 error: 11\n",
      "Errors at threshold  0.5300000000000002 : 25  , type 2 error : 14  , type 1 error: 11\n",
      "Errors at threshold  0.5400000000000003 : 25  , type 2 error : 14  , type 1 error: 11\n",
      "Errors at threshold  0.5500000000000003 : 25  , type 2 error : 14  , type 1 error: 11\n",
      "Errors at threshold  0.5600000000000003 : 25  , type 2 error : 14  , type 1 error: 11\n",
      "Errors at threshold  0.5700000000000003 : 25  , type 2 error : 14  , type 1 error: 11\n",
      "Errors at threshold  0.5800000000000003 : 25  , type 2 error : 14  , type 1 error: 11\n",
      "Errors at threshold  0.5900000000000003 : 25  , type 2 error : 14  , type 1 error: 11\n",
      "Errors at threshold  0.6000000000000003 : 25  , type 2 error : 14  , type 1 error: 11\n"
     ]
    }
   ],
   "source": [
    "for a in np.arange(0.3,0.61,0.01):\n",
    "    predict_mine = np.where(y_pred_prob[:,1] > a, 1, 0)\n",
    "    cfm=confusion_matrix(Y_test, predict_mine)\n",
    "    total_err=cfm[0,1]+cfm[1,0]\n",
    "    print(\"Errors at threshold \", a, \":\",total_err, \" , type 2 error :\", \n",
    "          cfm[1,0],\" , type 1 error:\", cfm[0,1])"
   ]
  },
  {
   "cell_type": "markdown",
   "metadata": {},
   "source": [
    "## Random Forest"
   ]
  },
  {
   "cell_type": "code",
   "execution_count": 59,
   "metadata": {},
   "outputs": [],
   "source": [
    "X_train, X_test, Y_train, Y_test = train_test_split(X, Y, test_size=0.2,random_state=10)"
   ]
  },
  {
   "cell_type": "code",
   "execution_count": 60,
   "metadata": {},
   "outputs": [],
   "source": [
    "model_RandomForest=RandomForestClassifier(n_estimators=10, random_state=10)\n",
    "\n",
    "model_RandomForest.fit(X_train,Y_train)\n",
    "\n",
    "Y_pred=model_RandomForest.predict(X_test)"
   ]
  },
  {
   "cell_type": "code",
   "execution_count": 61,
   "metadata": {},
   "outputs": [
    {
     "name": "stdout",
     "output_type": "stream",
     "text": [
      "[[104  13]\n",
      " [ 15  47]]\n",
      "0.8435754189944135\n",
      "              precision    recall  f1-score   support\n",
      "\n",
      "           0       0.87      0.89      0.88       117\n",
      "           1       0.78      0.76      0.77        62\n",
      "\n",
      "    accuracy                           0.84       179\n",
      "   macro avg       0.83      0.82      0.83       179\n",
      "weighted avg       0.84      0.84      0.84       179\n",
      "\n"
     ]
    }
   ],
   "source": [
    "print(confusion_matrix(Y_test,Y_pred))\n",
    "print(accuracy_score(Y_test,Y_pred))\n",
    "print(classification_report(Y_test,Y_pred))"
   ]
  },
  {
   "cell_type": "markdown",
   "metadata": {},
   "source": [
    "## Tune Random Forest"
   ]
  },
  {
   "cell_type": "code",
   "execution_count": 62,
   "metadata": {},
   "outputs": [],
   "source": [
    "X_train, X_test, Y_train, Y_test = train_test_split(X, Y, test_size=0.2,random_state=10)"
   ]
  },
  {
   "cell_type": "code",
   "execution_count": 63,
   "metadata": {},
   "outputs": [],
   "source": [
    "model_RandomForest_tune=RandomForestClassifier(n_estimators=45, random_state=10)\n",
    "\n",
    "model_RandomForest_tune.fit(X_train,Y_train)\n",
    "\n",
    "Y_pred=model_RandomForest_tune.predict(X_test)"
   ]
  },
  {
   "cell_type": "code",
   "execution_count": 64,
   "metadata": {},
   "outputs": [
    {
     "name": "stdout",
     "output_type": "stream",
     "text": [
      "[[105  12]\n",
      " [ 14  48]]\n",
      "0.8547486033519553\n",
      "              precision    recall  f1-score   support\n",
      "\n",
      "           0       0.88      0.90      0.89       117\n",
      "           1       0.80      0.77      0.79        62\n",
      "\n",
      "    accuracy                           0.85       179\n",
      "   macro avg       0.84      0.84      0.84       179\n",
      "weighted avg       0.85      0.85      0.85       179\n",
      "\n"
     ]
    }
   ],
   "source": [
    "from sklearn.metrics import confusion_matrix, accuracy_score,classification_report\n",
    "#confusion matrix\n",
    "print(confusion_matrix(Y_test,Y_pred))\n",
    "print(accuracy_score(Y_test,Y_pred))\n",
    "print(classification_report(Y_test,Y_pred))"
   ]
  },
  {
   "cell_type": "code",
   "execution_count": 65,
   "metadata": {},
   "outputs": [
    {
     "name": "stdout",
     "output_type": "stream",
     "text": [
      "[[1.         0.        ]\n",
      " [0.89761905 0.10238095]\n",
      " [0.86682941 0.13317059]\n",
      " [0.04444444 0.95555556]\n",
      " [0.         1.        ]\n",
      " [0.88763248 0.11236752]\n",
      " [0.87831329 0.12168671]\n",
      " [1.         0.        ]\n",
      " [0.81780423 0.18219577]\n",
      " [1.         0.        ]\n",
      " [1.         0.        ]\n",
      " [0.06666667 0.93333333]\n",
      " [0.24378307 0.75621693]\n",
      " [0.73579092 0.26420908]\n",
      " [0.91978836 0.08021164]\n",
      " [0.77328042 0.22671958]\n",
      " [0.88665554 0.11334446]\n",
      " [0.62444444 0.37555556]\n",
      " [0.64444444 0.35555556]\n",
      " [0.78429699 0.21570301]\n",
      " [0.88665554 0.11334446]\n",
      " [0.91481481 0.08518519]\n",
      " [0.         1.        ]\n",
      " [0.87831329 0.12168671]\n",
      " [0.29444444 0.70555556]\n",
      " [0.89761905 0.10238095]\n",
      " [0.89761905 0.10238095]\n",
      " [0.46666667 0.53333333]\n",
      " [0.98888889 0.01111111]\n",
      " [0.         1.        ]\n",
      " [0.         1.        ]\n",
      " [0.77328042 0.22671958]\n",
      " [1.         0.        ]\n",
      " [1.         0.        ]\n",
      " [0.13333333 0.86666667]\n",
      " [0.88665554 0.11334446]\n",
      " [0.05555556 0.94444444]\n",
      " [0.88518519 0.11481481]\n",
      " [0.91285734 0.08714266]\n",
      " [0.81780423 0.18219577]\n",
      " [1.         0.        ]\n",
      " [0.54444444 0.45555556]\n",
      " [0.88665554 0.11334446]\n",
      " [0.8737037  0.1262963 ]\n",
      " [0.37777778 0.62222222]\n",
      " [0.9254255  0.0745745 ]\n",
      " [0.90890098 0.09109902]\n",
      " [0.90890098 0.09109902]\n",
      " [0.         1.        ]\n",
      " [0.96222222 0.03777778]\n",
      " [0.75873016 0.24126984]\n",
      " [0.54656085 0.45343915]\n",
      " [0.93333333 0.06666667]\n",
      " [0.48915344 0.51084656]\n",
      " [0.06666667 0.93333333]\n",
      " [0.         1.        ]\n",
      " [0.82222222 0.17777778]\n",
      " [0.22298942 0.77701058]\n",
      " [0.         1.        ]\n",
      " [0.88183822 0.11816178]\n",
      " [0.6613933  0.3386067 ]\n",
      " [0.         1.        ]\n",
      " [0.1572348  0.8427652 ]\n",
      " [0.2        0.8       ]\n",
      " [0.95555556 0.04444444]\n",
      " [0.86569505 0.13430495]\n",
      " [0.2952381  0.7047619 ]\n",
      " [0.79051708 0.20948292]\n",
      " [1.         0.        ]\n",
      " [0.         1.        ]\n",
      " [0.97333333 0.02666667]\n",
      " [1.         0.        ]\n",
      " [0.87831329 0.12168671]\n",
      " [0.82222222 0.17777778]\n",
      " [0.         1.        ]\n",
      " [0.8947545  0.1052455 ]\n",
      " [0.97901235 0.02098765]\n",
      " [0.35555556 0.64444444]\n",
      " [0.96296296 0.03703704]\n",
      " [0.92574956 0.07425044]\n",
      " [1.         0.        ]\n",
      " [0.91285734 0.08714266]\n",
      " [0.88719577 0.11280423]\n",
      " [0.46666667 0.53333333]\n",
      " [0.24378307 0.75621693]\n",
      " [0.82114398 0.17885602]\n",
      " [0.         1.        ]\n",
      " [0.         1.        ]\n",
      " [0.96222222 0.03777778]\n",
      " [0.         1.        ]\n",
      " [0.81780423 0.18219577]\n",
      " [0.91285734 0.08714266]\n",
      " [0.73579092 0.26420908]\n",
      " [0.88665554 0.11334446]\n",
      " [0.         1.        ]\n",
      " [0.74863939 0.25136061]\n",
      " [0.93285714 0.06714286]\n",
      " [0.91285734 0.08714266]\n",
      " [0.         1.        ]\n",
      " [0.88719577 0.11280423]\n",
      " [0.86666667 0.13333333]\n",
      " [0.90740741 0.09259259]\n",
      " [1.         0.        ]\n",
      " [0.28888889 0.71111111]\n",
      " [0.         1.        ]\n",
      " [0.         1.        ]\n",
      " [0.77328042 0.22671958]\n",
      " [0.6        0.4       ]\n",
      " [0.         1.        ]\n",
      " [0.91111111 0.08888889]\n",
      " [0.02962963 0.97037037]\n",
      " [0.99117949 0.00882051]\n",
      " [0.         1.        ]\n",
      " [0.88665554 0.11334446]\n",
      " [0.88763248 0.11236752]\n",
      " [0.90740741 0.09259259]\n",
      " [0.93333333 0.06666667]\n",
      " [0.         1.        ]\n",
      " [0.2        0.8       ]\n",
      " [0.64074074 0.35925926]\n",
      " [0.         1.        ]\n",
      " [0.36703704 0.63296296]\n",
      " [0.         1.        ]\n",
      " [0.52569104 0.47430896]\n",
      " [0.19544974 0.80455026]\n",
      " [0.1572348  0.8427652 ]\n",
      " [0.         1.        ]\n",
      " [0.88665554 0.11334446]\n",
      " [0.88665554 0.11334446]\n",
      " [0.06666667 0.93333333]\n",
      " [0.02222222 0.97777778]\n",
      " [1.         0.        ]\n",
      " [0.88183822 0.11816178]\n",
      " [0.         1.        ]\n",
      " [0.25333333 0.74666667]\n",
      " [0.74863939 0.25136061]\n",
      " [1.         0.        ]\n",
      " [0.96296296 0.03703704]\n",
      " [0.         1.        ]\n",
      " [1.         0.        ]\n",
      " [0.23017823 0.76982177]\n",
      " [0.86682941 0.13317059]\n",
      " [0.73579092 0.26420908]\n",
      " [0.71111111 0.28888889]\n",
      " [0.88665554 0.11334446]\n",
      " [0.88665554 0.11334446]\n",
      " [0.28412698 0.71587302]\n",
      " [0.68888889 0.31111111]\n",
      " [1.         0.        ]\n",
      " [0.99562393 0.00437607]\n",
      " [1.         0.        ]\n",
      " [0.7162963  0.2837037 ]\n",
      " [0.         1.        ]\n",
      " [0.94925926 0.05074074]\n",
      " [0.99241623 0.00758377]\n",
      " [0.51111111 0.48888889]\n",
      " [0.88665554 0.11334446]\n",
      " [1.         0.        ]\n",
      " [0.91285734 0.08714266]\n",
      " [0.78429699 0.21570301]\n",
      " [1.         0.        ]\n",
      " [0.1572348  0.8427652 ]\n",
      " [0.24444444 0.75555556]\n",
      " [0.88665554 0.11334446]\n",
      " [0.86569505 0.13430495]\n",
      " [0.74863939 0.25136061]\n",
      " [0.81780423 0.18219577]\n",
      " [0.79089947 0.20910053]\n",
      " [0.1572348  0.8427652 ]\n",
      " [0.90890098 0.09109902]\n",
      " [0.22298942 0.77701058]\n",
      " [0.33333333 0.66666667]\n",
      " [0.97511111 0.02488889]\n",
      " [0.22298942 0.77701058]\n",
      " [1.         0.        ]\n",
      " [0.6005291  0.3994709 ]\n",
      " [0.61037037 0.38962963]\n",
      " [0.88888889 0.11111111]\n",
      " [0.96296296 0.03703704]]\n"
     ]
    }
   ],
   "source": [
    "# store the predicted probabilities\n",
    "y_pred_prob = model_RandomForest_tune.predict_proba(X_test)\n",
    "print(y_pred_prob)"
   ]
  },
  {
   "cell_type": "code",
   "execution_count": 66,
   "metadata": {
    "scrolled": true
   },
   "outputs": [
    {
     "name": "stdout",
     "output_type": "stream",
     "text": [
      "Errors at threshold  0.3 : 34  , type 2 error : 12  , type 1 error: 22\n",
      "Errors at threshold  0.31 : 34  , type 2 error : 12  , type 1 error: 22\n",
      "Errors at threshold  0.32 : 33  , type 2 error : 12  , type 1 error: 21\n",
      "Errors at threshold  0.33 : 33  , type 2 error : 12  , type 1 error: 21\n",
      "Errors at threshold  0.34 : 32  , type 2 error : 12  , type 1 error: 20\n",
      "Errors at threshold  0.35000000000000003 : 32  , type 2 error : 12  , type 1 error: 20\n",
      "Errors at threshold  0.36000000000000004 : 30  , type 2 error : 12  , type 1 error: 18\n",
      "Errors at threshold  0.37000000000000005 : 30  , type 2 error : 12  , type 1 error: 18\n",
      "Errors at threshold  0.38000000000000006 : 29  , type 2 error : 12  , type 1 error: 17\n",
      "Errors at threshold  0.39000000000000007 : 28  , type 2 error : 12  , type 1 error: 16\n",
      "Errors at threshold  0.4000000000000001 : 28  , type 2 error : 13  , type 1 error: 15\n",
      "Errors at threshold  0.4100000000000001 : 28  , type 2 error : 13  , type 1 error: 15\n",
      "Errors at threshold  0.4200000000000001 : 28  , type 2 error : 13  , type 1 error: 15\n",
      "Errors at threshold  0.4300000000000001 : 28  , type 2 error : 13  , type 1 error: 15\n",
      "Errors at threshold  0.4400000000000001 : 28  , type 2 error : 13  , type 1 error: 15\n",
      "Errors at threshold  0.4500000000000001 : 28  , type 2 error : 13  , type 1 error: 15\n",
      "Errors at threshold  0.46000000000000013 : 26  , type 2 error : 13  , type 1 error: 13\n",
      "Errors at threshold  0.47000000000000014 : 26  , type 2 error : 13  , type 1 error: 13\n",
      "Errors at threshold  0.48000000000000015 : 27  , type 2 error : 14  , type 1 error: 13\n",
      "Errors at threshold  0.49000000000000016 : 26  , type 2 error : 14  , type 1 error: 12\n",
      "Errors at threshold  0.5000000000000002 : 26  , type 2 error : 14  , type 1 error: 12\n",
      "Errors at threshold  0.5100000000000002 : 26  , type 2 error : 14  , type 1 error: 12\n",
      "Errors at threshold  0.5200000000000002 : 27  , type 2 error : 15  , type 1 error: 12\n",
      "Errors at threshold  0.5300000000000002 : 27  , type 2 error : 15  , type 1 error: 12\n",
      "Errors at threshold  0.5400000000000003 : 29  , type 2 error : 17  , type 1 error: 12\n",
      "Errors at threshold  0.5500000000000003 : 29  , type 2 error : 17  , type 1 error: 12\n",
      "Errors at threshold  0.5600000000000003 : 29  , type 2 error : 17  , type 1 error: 12\n",
      "Errors at threshold  0.5700000000000003 : 29  , type 2 error : 17  , type 1 error: 12\n",
      "Errors at threshold  0.5800000000000003 : 29  , type 2 error : 17  , type 1 error: 12\n",
      "Errors at threshold  0.5900000000000003 : 29  , type 2 error : 17  , type 1 error: 12\n",
      "Errors at threshold  0.6000000000000003 : 29  , type 2 error : 17  , type 1 error: 12\n"
     ]
    }
   ],
   "source": [
    "for a in np.arange(0.3,0.61,0.01):\n",
    "    predict_mine = np.where(y_pred_prob[:,1] > a, 1, 0)\n",
    "    cfm=confusion_matrix(Y_test, predict_mine)\n",
    "    total_err=cfm[0,1]+cfm[1,0]\n",
    "    print(\"Errors at threshold \", a, \":\",total_err, \" , type 2 error :\", \n",
    "          cfm[1,0],\" , type 1 error:\", cfm[0,1])"
   ]
  },
  {
   "cell_type": "code",
   "execution_count": 67,
   "metadata": {},
   "outputs": [
    {
     "name": "stdout",
     "output_type": "stream",
     "text": [
      "[0, 0, 0, 1, 1, 0, 0, 0, 0, 0, 0, 1, 1, 0, 0, 0, 0, 0, 0, 0, 0, 0, 1, 0, 1, 0, 0, 1, 0, 1, 1, 0, 0, 0, 1, 0, 1, 0, 0, 0, 0, 0, 0, 0, 1, 0, 0, 0, 1, 0, 0, 0, 0, 1, 1, 1, 0, 1, 1, 0, 0, 1, 1, 1, 0, 0, 1, 0, 0, 1, 0, 0, 0, 0, 1, 0, 0, 1, 0, 0, 0, 0, 0, 1, 1, 0, 1, 1, 0, 1, 0, 0, 0, 0, 1, 0, 0, 0, 1, 0, 0, 0, 0, 1, 1, 1, 0, 0, 1, 0, 1, 0, 1, 0, 0, 0, 0, 1, 1, 0, 1, 1, 1, 1, 1, 1, 1, 0, 0, 1, 1, 0, 0, 1, 1, 0, 0, 0, 1, 0, 1, 0, 0, 0, 0, 0, 1, 0, 0, 0, 0, 0, 1, 0, 0, 1, 0, 0, 0, 0, 0, 1, 1, 0, 0, 0, 0, 0, 1, 0, 1, 1, 0, 1, 0, 0, 0, 0, 0]\n"
     ]
    }
   ],
   "source": [
    "y_pred_class=[]\n",
    "for value in y_pred_prob[:,1]:\n",
    "    if value > 0.46:\n",
    "        y_pred_class.append(1)\n",
    "    else:\n",
    "        y_pred_class.append(0)\n",
    "print(y_pred_class)"
   ]
  },
  {
   "cell_type": "code",
   "execution_count": 68,
   "metadata": {},
   "outputs": [
    {
     "name": "stdout",
     "output_type": "stream",
     "text": [
      "[[104  13]\n",
      " [ 13  49]]\n",
      "0.8547486033519553\n",
      "              precision    recall  f1-score   support\n",
      "\n",
      "           0       0.89      0.89      0.89       117\n",
      "           1       0.79      0.79      0.79        62\n",
      "\n",
      "    accuracy                           0.85       179\n",
      "   macro avg       0.84      0.84      0.84       179\n",
      "weighted avg       0.85      0.85      0.85       179\n",
      "\n"
     ]
    }
   ],
   "source": [
    "print(confusion_matrix(Y_test,y_pred_class))\n",
    "print(accuracy_score(Y_test,y_pred_class))\n",
    "print(classification_report(Y_test,y_pred_class))"
   ]
  },
  {
   "cell_type": "markdown",
   "metadata": {},
   "source": [
    "## SVC"
   ]
  },
  {
   "cell_type": "code",
   "execution_count": 69,
   "metadata": {},
   "outputs": [],
   "source": [
    "X_train, X_test, Y_train, Y_test = train_test_split(X, Y, test_size=0.2,random_state=10)"
   ]
  },
  {
   "cell_type": "code",
   "execution_count": 70,
   "metadata": {},
   "outputs": [
    {
     "name": "stdout",
     "output_type": "stream",
     "text": [
      "[0, 0, 0, 1, 1, 0, 0, 0, 0, 0, 0, 1, 1, 0, 0, 0, 0, 0, 1, 0, 0, 0, 1, 0, 0, 0, 0, 0, 0, 1, 1, 0, 1, 0, 1, 0, 1, 0, 0, 0, 0, 0, 0, 1, 0, 0, 0, 0, 1, 0, 0, 0, 0, 0, 0, 1, 0, 1, 1, 0, 0, 1, 1, 1, 0, 0, 0, 0, 0, 1, 0, 0, 0, 0, 1, 0, 0, 0, 0, 0, 0, 0, 0, 0, 1, 0, 1, 1, 0, 1, 0, 0, 0, 0, 1, 1, 1, 0, 1, 0, 0, 0, 0, 0, 1, 1, 0, 0, 1, 0, 1, 0, 1, 0, 0, 0, 0, 1, 1, 0, 1, 0, 1, 1, 1, 1, 1, 0, 0, 0, 1, 0, 0, 1, 1, 1, 0, 0, 1, 0, 1, 0, 0, 0, 0, 0, 0, 0, 0, 0, 0, 0, 1, 0, 0, 1, 0, 0, 0, 0, 0, 1, 1, 0, 0, 1, 0, 0, 1, 0, 1, 0, 0, 1, 0, 0, 0, 0, 0]\n"
     ]
    }
   ],
   "source": [
    "svc_model=svm.SVC(kernel='rbf',C=10.0,gamma=0.001)\n",
    "\n",
    "svc_model.fit(X_train, Y_train)\n",
    "\n",
    "Y_pred=svc_model.predict(X_test)\n",
    "\n",
    "print(list(Y_pred))"
   ]
  },
  {
   "cell_type": "code",
   "execution_count": 71,
   "metadata": {},
   "outputs": [
    {
     "name": "stdout",
     "output_type": "stream",
     "text": [
      "[[104  13]\n",
      " [ 19  43]]\n",
      "0.8212290502793296\n",
      "              precision    recall  f1-score   support\n",
      "\n",
      "           0       0.85      0.89      0.87       117\n",
      "           1       0.77      0.69      0.73        62\n",
      "\n",
      "    accuracy                           0.82       179\n",
      "   macro avg       0.81      0.79      0.80       179\n",
      "weighted avg       0.82      0.82      0.82       179\n",
      "\n"
     ]
    }
   ],
   "source": [
    "print(confusion_matrix(Y_test,Y_pred))\n",
    "print(accuracy_score(Y_test,Y_pred))\n",
    "print(classification_report(Y_test,Y_pred))"
   ]
  },
  {
   "cell_type": "markdown",
   "metadata": {},
   "source": [
    "## Tune SVC"
   ]
  },
  {
   "cell_type": "code",
   "execution_count": 72,
   "metadata": {},
   "outputs": [],
   "source": [
    "X_train, X_test, Y_train, Y_test = train_test_split(X, Y, test_size=0.2,random_state=10)"
   ]
  },
  {
   "cell_type": "code",
   "execution_count": 73,
   "metadata": {},
   "outputs": [],
   "source": [
    "model_SVC_tune=svm.SVC(kernel=\"rbf\", gamma=0.1, C=100)\n",
    "\n",
    "model_SVC_tune.fit(X_train,Y_train)\n",
    "\n",
    "Y_pred=model_SVC_tune.predict(X_test)"
   ]
  },
  {
   "cell_type": "code",
   "execution_count": 74,
   "metadata": {
    "scrolled": true
   },
   "outputs": [
    {
     "name": "stdout",
     "output_type": "stream",
     "text": [
      "[[111   6]\n",
      " [ 20  42]]\n",
      "0.8547486033519553\n",
      "              precision    recall  f1-score   support\n",
      "\n",
      "           0       0.85      0.95      0.90       117\n",
      "           1       0.88      0.68      0.76        62\n",
      "\n",
      "    accuracy                           0.85       179\n",
      "   macro avg       0.86      0.81      0.83       179\n",
      "weighted avg       0.86      0.85      0.85       179\n",
      "\n"
     ]
    }
   ],
   "source": [
    "from sklearn.metrics import confusion_matrix, accuracy_score,classification_report\n",
    "#confusion matrix\n",
    "print(confusion_matrix(Y_test,Y_pred))\n",
    "print(accuracy_score(Y_test,Y_pred))\n",
    "print(classification_report(Y_test,Y_pred))"
   ]
  },
  {
   "cell_type": "markdown",
   "metadata": {},
   "source": [
    "## Ensemble Modelling"
   ]
  },
  {
   "cell_type": "code",
   "execution_count": 75,
   "metadata": {},
   "outputs": [],
   "source": [
    "X_train, X_test, Y_train, Y_test = train_test_split(X, Y, test_size=0.2,random_state=10)"
   ]
  },
  {
   "cell_type": "code",
   "execution_count": 76,
   "metadata": {},
   "outputs": [
    {
     "name": "stdout",
     "output_type": "stream",
     "text": [
      "[0 0 0 1 1 0 0 0 0 0 0 1 1 0 0 0 0 0 0 0 0 0 1 0 1 0 0 1 0 1 1 0 0 0 1 0 1\n",
      " 0 0 0 0 0 0 0 1 0 0 0 1 0 0 0 0 0 1 1 0 1 1 0 0 1 1 1 0 0 1 0 0 1 0 0 0 0\n",
      " 1 0 0 1 0 0 0 0 0 1 1 0 1 1 0 1 0 0 0 0 1 0 0 0 1 0 0 0 0 0 1 1 0 1 1 0 1\n",
      " 0 1 0 0 0 0 1 1 0 1 0 1 0 1 1 1 0 0 1 1 0 0 1 1 0 0 0 1 0 1 0 0 0 0 0 1 0\n",
      " 0 0 0 0 1 0 0 0 0 0 0 0 0 1 1 0 0 0 0 0 1 0 1 1 0 1 0 0 0 0 0]\n"
     ]
    }
   ],
   "source": [
    "estimators = []\n",
    "# model1 = LogisticRegression()\n",
    "# estimators.append(('log', model1))\n",
    "\n",
    "\n",
    "\n",
    "model2=SGDClassifier(loss=\"log\",random_state=10,alpha=0.01,max_iter=10, shuffle=True,\n",
    "                     early_stopping=True, n_iter_no_change=15)\n",
    "estimators.append(('sgd', model2))\n",
    "\n",
    "\n",
    "\n",
    "# model3 = KNeighborsClassifier(n_neighbors=8, metric='euclidean')\n",
    "# estimators.append(('knn', model3))\n",
    "\n",
    "\n",
    "\n",
    "# model4 = svm.SVC(kernel=\"rbf\", gamma=0.1, C=100)\n",
    "# estimators.append(('svm', model4))\n",
    "\n",
    "\n",
    "\n",
    "model5 = DecisionTreeClassifier(criterion=\"gini\",random_state=10,splitter=\"best\",min_samples_leaf=1,max_depth=None,\n",
    "                                min_samples_split=2,max_leaf_nodes=100)\n",
    "estimators.append(('cart', model5))\n",
    "\n",
    "\n",
    "\n",
    "model6=RandomForestClassifier(n_estimators=45, random_state=10)\n",
    "estimators.append(('rt', model6))\n",
    "\n",
    "\n",
    "\n",
    "# create the ensemble model\n",
    "ensemble = VotingClassifier(estimators)\n",
    "ensemble.fit(X_train,Y_train)\n",
    "Y_pred=ensemble.predict(X_test)\n",
    "print(Y_pred)"
   ]
  },
  {
   "cell_type": "code",
   "execution_count": 77,
   "metadata": {},
   "outputs": [
    {
     "name": "stdout",
     "output_type": "stream",
     "text": [
      "[[107  10]\n",
      " [ 14  48]]\n",
      "0.8659217877094972\n",
      "              precision    recall  f1-score   support\n",
      "\n",
      "           0       0.88      0.91      0.90       117\n",
      "           1       0.83      0.77      0.80        62\n",
      "\n",
      "    accuracy                           0.87       179\n",
      "   macro avg       0.86      0.84      0.85       179\n",
      "weighted avg       0.86      0.87      0.86       179\n",
      "\n"
     ]
    }
   ],
   "source": [
    "print(confusion_matrix(Y_test,Y_pred))\n",
    "print(accuracy_score(Y_test,Y_pred))\n",
    "print(classification_report(Y_test,Y_pred))"
   ]
  },
  {
   "cell_type": "markdown",
   "metadata": {},
   "source": [
    "# All operation on Testing Dataset"
   ]
  },
  {
   "cell_type": "code",
   "execution_count": 78,
   "metadata": {},
   "outputs": [
    {
     "name": "stdout",
     "output_type": "stream",
     "text": [
      "(418, 10)\n"
     ]
    },
    {
     "data": {
      "text/html": [
       "<div>\n",
       "<style scoped>\n",
       "    .dataframe tbody tr th:only-of-type {\n",
       "        vertical-align: middle;\n",
       "    }\n",
       "\n",
       "    .dataframe tbody tr th {\n",
       "        vertical-align: top;\n",
       "    }\n",
       "\n",
       "    .dataframe thead th {\n",
       "        text-align: right;\n",
       "    }\n",
       "</style>\n",
       "<table border=\"1\" class=\"dataframe\">\n",
       "  <thead>\n",
       "    <tr style=\"text-align: right;\">\n",
       "      <th></th>\n",
       "      <th>Pclass</th>\n",
       "      <th>Name</th>\n",
       "      <th>Sex</th>\n",
       "      <th>Age</th>\n",
       "      <th>SibSp</th>\n",
       "      <th>Parch</th>\n",
       "      <th>Ticket</th>\n",
       "      <th>Fare</th>\n",
       "      <th>Cabin</th>\n",
       "      <th>Embarked</th>\n",
       "    </tr>\n",
       "    <tr>\n",
       "      <th>PassengerId</th>\n",
       "      <th></th>\n",
       "      <th></th>\n",
       "      <th></th>\n",
       "      <th></th>\n",
       "      <th></th>\n",
       "      <th></th>\n",
       "      <th></th>\n",
       "      <th></th>\n",
       "      <th></th>\n",
       "      <th></th>\n",
       "    </tr>\n",
       "  </thead>\n",
       "  <tbody>\n",
       "    <tr>\n",
       "      <th>892</th>\n",
       "      <td>3</td>\n",
       "      <td>Kelly, Mr. James</td>\n",
       "      <td>male</td>\n",
       "      <td>34.5</td>\n",
       "      <td>0</td>\n",
       "      <td>0</td>\n",
       "      <td>330911</td>\n",
       "      <td>7.8292</td>\n",
       "      <td>NaN</td>\n",
       "      <td>Q</td>\n",
       "    </tr>\n",
       "    <tr>\n",
       "      <th>893</th>\n",
       "      <td>3</td>\n",
       "      <td>Wilkes, Mrs. James (Ellen Needs)</td>\n",
       "      <td>female</td>\n",
       "      <td>47.0</td>\n",
       "      <td>1</td>\n",
       "      <td>0</td>\n",
       "      <td>363272</td>\n",
       "      <td>7.0000</td>\n",
       "      <td>NaN</td>\n",
       "      <td>S</td>\n",
       "    </tr>\n",
       "    <tr>\n",
       "      <th>894</th>\n",
       "      <td>2</td>\n",
       "      <td>Myles, Mr. Thomas Francis</td>\n",
       "      <td>male</td>\n",
       "      <td>62.0</td>\n",
       "      <td>0</td>\n",
       "      <td>0</td>\n",
       "      <td>240276</td>\n",
       "      <td>9.6875</td>\n",
       "      <td>NaN</td>\n",
       "      <td>Q</td>\n",
       "    </tr>\n",
       "    <tr>\n",
       "      <th>895</th>\n",
       "      <td>3</td>\n",
       "      <td>Wirz, Mr. Albert</td>\n",
       "      <td>male</td>\n",
       "      <td>27.0</td>\n",
       "      <td>0</td>\n",
       "      <td>0</td>\n",
       "      <td>315154</td>\n",
       "      <td>8.6625</td>\n",
       "      <td>NaN</td>\n",
       "      <td>S</td>\n",
       "    </tr>\n",
       "    <tr>\n",
       "      <th>896</th>\n",
       "      <td>3</td>\n",
       "      <td>Hirvonen, Mrs. Alexander (Helga E Lindqvist)</td>\n",
       "      <td>female</td>\n",
       "      <td>22.0</td>\n",
       "      <td>1</td>\n",
       "      <td>1</td>\n",
       "      <td>3101298</td>\n",
       "      <td>12.2875</td>\n",
       "      <td>NaN</td>\n",
       "      <td>S</td>\n",
       "    </tr>\n",
       "  </tbody>\n",
       "</table>\n",
       "</div>"
      ],
      "text/plain": [
       "             Pclass                                          Name     Sex  \\\n",
       "PassengerId                                                                 \n",
       "892               3                              Kelly, Mr. James    male   \n",
       "893               3              Wilkes, Mrs. James (Ellen Needs)  female   \n",
       "894               2                     Myles, Mr. Thomas Francis    male   \n",
       "895               3                              Wirz, Mr. Albert    male   \n",
       "896               3  Hirvonen, Mrs. Alexander (Helga E Lindqvist)  female   \n",
       "\n",
       "              Age  SibSp  Parch   Ticket     Fare Cabin Embarked  \n",
       "PassengerId                                                       \n",
       "892          34.5      0      0   330911   7.8292   NaN        Q  \n",
       "893          47.0      1      0   363272   7.0000   NaN        S  \n",
       "894          62.0      0      0   240276   9.6875   NaN        Q  \n",
       "895          27.0      0      0   315154   8.6625   NaN        S  \n",
       "896          22.0      1      1  3101298  12.2875   NaN        S  "
      ]
     },
     "execution_count": 78,
     "metadata": {},
     "output_type": "execute_result"
    }
   ],
   "source": [
    "test_df=pd.read_csv(r'C:\\Users\\VISHAL\\Web Deployment\\Titanic\\data\\test.csv',index_col=0,header=0)\n",
    "print(test_df.shape)\n",
    "test_df.head()"
   ]
  },
  {
   "cell_type": "markdown",
   "metadata": {},
   "source": [
    "### Data Preprocessing"
   ]
  },
  {
   "cell_type": "code",
   "execution_count": 79,
   "metadata": {},
   "outputs": [],
   "source": [
    "test_df.drop(['Name','SibSp','Parch','Fare','Ticket','Cabin'],axis=1,inplace=True)"
   ]
  },
  {
   "cell_type": "code",
   "execution_count": 80,
   "metadata": {},
   "outputs": [
    {
     "data": {
      "image/png": "[encoded data removed]",
      "text/plain": [
       "<Figure size 1080x216 with 1 Axes>"
      ]
     },
     "metadata": {
      "needs_background": "light"
     },
     "output_type": "display_data"
    },
    {
     "name": "stdout",
     "output_type": "stream",
     "text": [
      "Pclass       0\n",
      "Sex          0\n",
      "Age         86\n",
      "Embarked     0\n",
      "dtype: int64\n"
     ]
    }
   ],
   "source": [
    "plt.figure(figsize=(15,3))\n",
    "sns.heatmap(test_df.isnull(),yticklabels=False,cbar=False)\n",
    "plt.show()\n",
    "print(test_df.isnull().sum())"
   ]
  },
  {
   "cell_type": "code",
   "execution_count": 81,
   "metadata": {},
   "outputs": [],
   "source": [
    "test_df['Age'].fillna(test_df['Age'].mean(),inplace=True)"
   ]
  },
  {
   "cell_type": "code",
   "execution_count": 82,
   "metadata": {},
   "outputs": [
    {
     "data": {
      "text/plain": [
       "Pclass      0\n",
       "Sex         0\n",
       "Age         0\n",
       "Embarked    0\n",
       "dtype: int64"
      ]
     },
     "execution_count": 82,
     "metadata": {},
     "output_type": "execute_result"
    }
   ],
   "source": [
    "test_df.isnull().sum()"
   ]
  },
  {
   "cell_type": "code",
   "execution_count": 83,
   "metadata": {},
   "outputs": [
    {
     "name": "stdout",
     "output_type": "stream",
     "text": [
      "Feature Sex\n",
      "mapping {'female': 0, 'male': 1}\n",
      "Feature Embarked\n",
      "mapping {'C': 0, 'Q': 1, 'S': 2}\n"
     ]
    }
   ],
   "source": [
    "# For preprocessing the data\n",
    "from sklearn import preprocessing\n",
    "le=preprocessing.LabelEncoder()\n",
    "\n",
    "col=['Sex','Embarked']\n",
    "for x in col:\n",
    "    test_df[x]=le.fit_transform(test_df[x])\n",
    "    le_name_mapping = dict(zip(le.classes_, le.transform(le.classes_)))\n",
    "    print('Feature', x)\n",
    "    print('mapping', le_name_mapping)"
   ]
  },
  {
   "cell_type": "code",
   "execution_count": 84,
   "metadata": {},
   "outputs": [
    {
     "data": {
      "text/html": [
       "<div>\n",
       "<style scoped>\n",
       "    .dataframe tbody tr th:only-of-type {\n",
       "        vertical-align: middle;\n",
       "    }\n",
       "\n",
       "    .dataframe tbody tr th {\n",
       "        vertical-align: top;\n",
       "    }\n",
       "\n",
       "    .dataframe thead th {\n",
       "        text-align: right;\n",
       "    }\n",
       "</style>\n",
       "<table border=\"1\" class=\"dataframe\">\n",
       "  <thead>\n",
       "    <tr style=\"text-align: right;\">\n",
       "      <th></th>\n",
       "      <th>Pclass</th>\n",
       "      <th>Sex</th>\n",
       "      <th>Age</th>\n",
       "      <th>Embarked</th>\n",
       "    </tr>\n",
       "    <tr>\n",
       "      <th>PassengerId</th>\n",
       "      <th></th>\n",
       "      <th></th>\n",
       "      <th></th>\n",
       "      <th></th>\n",
       "    </tr>\n",
       "  </thead>\n",
       "  <tbody>\n",
       "    <tr>\n",
       "      <th>892</th>\n",
       "      <td>3</td>\n",
       "      <td>1</td>\n",
       "      <td>34.5</td>\n",
       "      <td>1</td>\n",
       "    </tr>\n",
       "    <tr>\n",
       "      <th>893</th>\n",
       "      <td>3</td>\n",
       "      <td>0</td>\n",
       "      <td>47.0</td>\n",
       "      <td>2</td>\n",
       "    </tr>\n",
       "    <tr>\n",
       "      <th>894</th>\n",
       "      <td>2</td>\n",
       "      <td>1</td>\n",
       "      <td>62.0</td>\n",
       "      <td>1</td>\n",
       "    </tr>\n",
       "    <tr>\n",
       "      <th>895</th>\n",
       "      <td>3</td>\n",
       "      <td>1</td>\n",
       "      <td>27.0</td>\n",
       "      <td>2</td>\n",
       "    </tr>\n",
       "    <tr>\n",
       "      <th>896</th>\n",
       "      <td>3</td>\n",
       "      <td>0</td>\n",
       "      <td>22.0</td>\n",
       "      <td>2</td>\n",
       "    </tr>\n",
       "  </tbody>\n",
       "</table>\n",
       "</div>"
      ],
      "text/plain": [
       "             Pclass  Sex   Age  Embarked\n",
       "PassengerId                             \n",
       "892               3    1  34.5         1\n",
       "893               3    0  47.0         2\n",
       "894               2    1  62.0         1\n",
       "895               3    1  27.0         2\n",
       "896               3    0  22.0         2"
      ]
     },
     "execution_count": 84,
     "metadata": {},
     "output_type": "execute_result"
    }
   ],
   "source": [
    "test_df.head()"
   ]
  },
  {
   "cell_type": "markdown",
   "metadata": {},
   "source": [
    "## Implementing model "
   ]
  },
  {
   "cell_type": "code",
   "execution_count": 85,
   "metadata": {},
   "outputs": [],
   "source": [
    "X_test_new  = test_df.values[:,:]"
   ]
  },
  {
   "cell_type": "code",
   "execution_count": 86,
   "metadata": {},
   "outputs": [
    {
     "name": "stdout",
     "output_type": "stream",
     "text": [
      "[[ 8.27377244e-01  7.37695132e-01 -5.92480600e-01  5.85954143e-01]\n",
      " [-1.56610693e+00 -1.35557354e+00  6.38789012e-01 -1.94230320e+00]\n",
      " [ 8.27377244e-01 -1.35557354e+00 -2.84663197e-01  5.85954143e-01]\n",
      " ...\n",
      " [ 8.27377244e-01 -1.35557354e+00 -2.23290646e-16  5.85954143e-01]\n",
      " [-1.56610693e+00  7.37695132e-01 -2.84663197e-01 -1.94230320e+00]\n",
      " [ 8.27377244e-01  7.37695132e-01  1.77062908e-01 -6.78174528e-01]]\n"
     ]
    }
   ],
   "source": [
    "X_test_new = scaler.transform(X_test_new)\n",
    "print(X)"
   ]
  },
  {
   "cell_type": "code",
   "execution_count": 87,
   "metadata": {},
   "outputs": [],
   "source": [
    "Y_pred_new=ensemble.predict(X_test_new)"
   ]
  },
  {
   "cell_type": "code",
   "execution_count": 88,
   "metadata": {},
   "outputs": [
    {
     "name": "stdout",
     "output_type": "stream",
     "text": [
      "[0 0 0 0 0 0 0 0 0 0 0 0 0 0 0 0 0 0 0 0 0 0 0 0 0 0 0 0 0 0 0 0 0 0 0 0 0\n",
      " 0 0 0 0 0 0 0 0 0 0 0 0 0 0 0 0 0 0 0 0 0 0 0 0 0 0 0 0 0 0 0 0 0 0 0 0 0\n",
      " 0 0 0 0 0 0 0 0 0 0 0 0 0 0 0 0 0 0 0 0 0 0 0 0 0 0 0 0 0 0 0 0 0 0 0 0 0\n",
      " 0 0 0 0 0 0 0 0 0 0 0 0 0 0 0 0 0 0 0 0 0 0 0 0 0 0 0 0 0 0 0 0 0 0 0 0 0\n",
      " 0 0 0 0 0 0 0 0 0 0 0 0 0 0 0 0 0 0 0 0 0 0 0 0 0 0 0 0 0 0 0 0 0 0 0 0 0\n",
      " 0 0 0 0 0 0 0 0 0 0 0 0 0 0 0 0 0 0 0 0 0 0 0 0 0 0 0 0 0 0 0 0 0 0 0 0 0\n",
      " 0 0 0 0 0 0 0 0 0 0 0 0 0 0 0 0 0 0 0 0 0 0 0 0 0 0 0 0 0 0 0 0 0 0 0 0 0\n",
      " 0 0 0 0 0 0 0 0 0 0 0 0 0 0 0 0 0 0 0 0 0 0 0 0 0 0 0 0 0 0 0 0 0 0 0 0 0\n",
      " 0 0 0 0 0 0 0 0 0 0 0 0 0 0 0 0 0 0 0 0 0 0 0 0 0 0 0 0 0 0 0 0 0 0 0 0 0\n",
      " 0 0 0 0 0 0 0 0 0 0 0 0 0 0 0 0 0 0 0 0 0 0 0 0 0 0 0 0 0 0 0 0 0 0 0 0 0\n",
      " 0 0 0 0 0 0 0 0 0 0 0 0 0 0 0 0 0 0 0 0 0 0 0 0 0 0 0 0 0 0 0 0 0 0 0 0 0\n",
      " 0 0 0 0 0 0 0 0 0 0 0]\n"
     ]
    }
   ],
   "source": [
    "print(Y_pred_new)"
   ]
  },
  {
   "cell_type": "code",
   "execution_count": 89,
   "metadata": {},
   "outputs": [
    {
     "name": "stdout",
     "output_type": "stream",
     "text": [
      "(418,)\n"
     ]
    }
   ],
   "source": [
    "print(Y_pred_new.shape) "
   ]
  },
  {
   "cell_type": "code",
   "execution_count": 90,
   "metadata": {},
   "outputs": [],
   "source": [
    "df=pd.read_csv(r'C:\\Users\\VISHAL\\Web Deployment\\Titanic\\data\\gender_submission.csv',header=0)"
   ]
  },
  {
   "cell_type": "code",
   "execution_count": 91,
   "metadata": {},
   "outputs": [
    {
     "data": {
      "text/html": [
       "<div>\n",
       "<style scoped>\n",
       "    .dataframe tbody tr th:only-of-type {\n",
       "        vertical-align: middle;\n",
       "    }\n",
       "\n",
       "    .dataframe tbody tr th {\n",
       "        vertical-align: top;\n",
       "    }\n",
       "\n",
       "    .dataframe thead th {\n",
       "        text-align: right;\n",
       "    }\n",
       "</style>\n",
       "<table border=\"1\" class=\"dataframe\">\n",
       "  <thead>\n",
       "    <tr style=\"text-align: right;\">\n",
       "      <th></th>\n",
       "      <th>PassengerId</th>\n",
       "      <th>Survived</th>\n",
       "    </tr>\n",
       "  </thead>\n",
       "  <tbody>\n",
       "    <tr>\n",
       "      <th>0</th>\n",
       "      <td>892</td>\n",
       "      <td>0</td>\n",
       "    </tr>\n",
       "    <tr>\n",
       "      <th>1</th>\n",
       "      <td>893</td>\n",
       "      <td>0</td>\n",
       "    </tr>\n",
       "    <tr>\n",
       "      <th>2</th>\n",
       "      <td>894</td>\n",
       "      <td>0</td>\n",
       "    </tr>\n",
       "    <tr>\n",
       "      <th>3</th>\n",
       "      <td>895</td>\n",
       "      <td>1</td>\n",
       "    </tr>\n",
       "    <tr>\n",
       "      <th>4</th>\n",
       "      <td>896</td>\n",
       "      <td>1</td>\n",
       "    </tr>\n",
       "    <tr>\n",
       "      <th>5</th>\n",
       "      <td>897</td>\n",
       "      <td>0</td>\n",
       "    </tr>\n",
       "    <tr>\n",
       "      <th>6</th>\n",
       "      <td>898</td>\n",
       "      <td>1</td>\n",
       "    </tr>\n",
       "    <tr>\n",
       "      <th>7</th>\n",
       "      <td>899</td>\n",
       "      <td>0</td>\n",
       "    </tr>\n",
       "    <tr>\n",
       "      <th>8</th>\n",
       "      <td>900</td>\n",
       "      <td>0</td>\n",
       "    </tr>\n",
       "    <tr>\n",
       "      <th>9</th>\n",
       "      <td>901</td>\n",
       "      <td>0</td>\n",
       "    </tr>\n",
       "  </tbody>\n",
       "</table>\n",
       "</div>"
      ],
      "text/plain": [
       "   PassengerId  Survived\n",
       "0          892         0\n",
       "1          893         0\n",
       "2          894         0\n",
       "3          895         1\n",
       "4          896         1\n",
       "5          897         0\n",
       "6          898         1\n",
       "7          899         0\n",
       "8          900         0\n",
       "9          901         0"
      ]
     },
     "execution_count": 91,
     "metadata": {},
     "output_type": "execute_result"
    }
   ],
   "source": [
    "df.head(10)"
   ]
  },
  {
   "cell_type": "code",
   "execution_count": 92,
   "metadata": {},
   "outputs": [],
   "source": [
    "df['Survived']=Y_pred_new"
   ]
  },
  {
   "cell_type": "code",
   "execution_count": 93,
   "metadata": {},
   "outputs": [
    {
     "data": {
      "text/html": [
       "<div>\n",
       "<style scoped>\n",
       "    .dataframe tbody tr th:only-of-type {\n",
       "        vertical-align: middle;\n",
       "    }\n",
       "\n",
       "    .dataframe tbody tr th {\n",
       "        vertical-align: top;\n",
       "    }\n",
       "\n",
       "    .dataframe thead th {\n",
       "        text-align: right;\n",
       "    }\n",
       "</style>\n",
       "<table border=\"1\" class=\"dataframe\">\n",
       "  <thead>\n",
       "    <tr style=\"text-align: right;\">\n",
       "      <th></th>\n",
       "      <th>PassengerId</th>\n",
       "      <th>Survived</th>\n",
       "    </tr>\n",
       "  </thead>\n",
       "  <tbody>\n",
       "    <tr>\n",
       "      <th>0</th>\n",
       "      <td>892</td>\n",
       "      <td>0</td>\n",
       "    </tr>\n",
       "    <tr>\n",
       "      <th>1</th>\n",
       "      <td>893</td>\n",
       "      <td>0</td>\n",
       "    </tr>\n",
       "    <tr>\n",
       "      <th>2</th>\n",
       "      <td>894</td>\n",
       "      <td>0</td>\n",
       "    </tr>\n",
       "    <tr>\n",
       "      <th>3</th>\n",
       "      <td>895</td>\n",
       "      <td>0</td>\n",
       "    </tr>\n",
       "    <tr>\n",
       "      <th>4</th>\n",
       "      <td>896</td>\n",
       "      <td>0</td>\n",
       "    </tr>\n",
       "  </tbody>\n",
       "</table>\n",
       "</div>"
      ],
      "text/plain": [
       "   PassengerId  Survived\n",
       "0          892         0\n",
       "1          893         0\n",
       "2          894         0\n",
       "3          895         0\n",
       "4          896         0"
      ]
     },
     "execution_count": 93,
     "metadata": {},
     "output_type": "execute_result"
    }
   ],
   "source": [
    "df.head()"
   ]
  },
  {
   "cell_type": "code",
   "execution_count": 94,
   "metadata": {},
   "outputs": [],
   "source": [
    "df.to_csv(r'C:\\Users\\VISHAL\\Web Deployment\\Titanic\\data\\gender_submission.csv',index=False,header=True)"
   ]
  },
  {
   "cell_type": "markdown",
   "metadata": {},
   "source": [
    "## Dumping All Models"
   ]
  },
  {
   "cell_type": "code",
   "execution_count": 95,
   "metadata": {},
   "outputs": [],
   "source": [
    "## saving model:\n",
    "pickle.dump(classifier,open(r'C:\\Users\\VISHAL\\Web Deployment\\Titanic\\models\\log.pkl','wb'))\n",
    "pickle.dump(classifier_SGD,open(r'C:\\Users\\VISHAL\\Web Deployment\\Titanic\\models\\sgd.pkl','wb'))\n",
    "pickle.dump(classifier_SGD_tune,open(r'C:\\Users\\VISHAL\\Web Deployment\\Titanic\\models\\sgd_tune.pkl','wb'))\n",
    "pickle.dump(model_KNN,open(r'C:\\Users\\VISHAL\\Web Deployment\\Titanic\\models\\knn.pkl','wb'))\n",
    "pickle.dump(model_KNN_tune,open(r'C:\\Users\\VISHAL\\Web Deployment\\Titanic\\models\\knn_tune.pkl','wb'))\n",
    "pickle.dump(svc_model,open(r'C:\\Users\\VISHAL\\Web Deployment\\Titanic\\models\\svc.pkl','wb'))\n",
    "pickle.dump(model_SVC_tune,open(r'C:\\Users\\VISHAL\\Web Deployment\\Titanic\\models\\svc_tune.pkl','wb'))\n",
    "pickle.dump(model_DecisionTree,open(r'C:\\Users\\VISHAL\\Web Deployment\\Titanic\\models\\dt.pkl','wb'))\n",
    "pickle.dump(model_DecisionTree_tune,open(r'C:\\Users\\VISHAL\\Web Deployment\\Titanic\\models\\dt_tune.pkl','wb'))\n",
    "pickle.dump(model_RandomForest,open(r'C:\\Users\\VISHAL\\Web Deployment\\Titanic\\models\\rt.pkl','wb'))\n",
    "pickle.dump(model_RandomForest_tune,open(r'C:\\Users\\VISHAL\\Web Deployment\\Titanic\\models\\rt_tune.pkl','wb'))\n",
    "pickle.dump(ensemble,open(r'C:\\Users\\VISHAL\\Web Deployment\\Titanic\\models\\ensemble.pkl','wb'))"
   ]
  },
  {
   "cell_type": "code",
   "execution_count": null,
   "metadata": {},
   "outputs": [],
   "source": []
  }
 ],
 "metadata": {
  "kernelspec": {
   "display_name": "Python 3",
   "language": "python",
   "name": "python3"
  },
  "language_info": {
   "codemirror_mode": {
    "name": "ipython",
    "version": 3
   },
   "file_extension": ".py",
   "mimetype": "text/x-python",
   "name": "python",
   "nbconvert_exporter": "python",
   "pygments_lexer": "ipython3",
   "version": "3.7.6"
  }
 },
 "nbformat": 4,
 "nbformat_minor": 4
}
