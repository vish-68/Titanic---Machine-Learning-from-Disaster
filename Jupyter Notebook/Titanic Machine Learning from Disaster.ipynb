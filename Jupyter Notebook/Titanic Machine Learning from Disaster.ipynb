{
 "cells": [
  {
   "cell_type": "markdown",
   "id": "d48cae04",
   "metadata": {},
   "source": [
    "# Importing all Libraries"
   ]
  },
  {
   "cell_type": "code",
   "execution_count": 1,
   "id": "47479dec",
   "metadata": {},
   "outputs": [
    {
     "data": {
      "text/html": [
       "<style>.container { width:98% !important; }</style>"
      ],
      "text/plain": [
       "<IPython.core.display.HTML object>"
      ]
     },
     "metadata": {},
     "output_type": "display_data"
    }
   ],
   "source": [
    "from IPython.core.display import display, HTML\n",
    "display(HTML(\"<style>.container { width:98% !important; }</style>\"))"
   ]
  },
  {
   "cell_type": "code",
   "execution_count": 2,
   "id": "57264407",
   "metadata": {},
   "outputs": [],
   "source": [
    "# importing basic library:\n",
    "import numpy as np\n",
    "import pandas as pd \n",
    "\n",
    "pd.set_option(\"display.max_rows\",None)\n",
    "pd.set_option(\"display.max_columns\",None)"
   ]
  },
  {
   "cell_type": "code",
   "execution_count": 3,
   "id": "2a5478a6",
   "metadata": {},
   "outputs": [],
   "source": [
    "# for visualizattion:\n",
    "import matplotlib.pyplot as plt\n",
    "import seaborn as sns"
   ]
  },
  {
   "cell_type": "code",
   "execution_count": 4,
   "id": "e64cca60",
   "metadata": {},
   "outputs": [],
   "source": [
    "# for ignoring warnings:\n",
    "import warnings\n",
    "warnings.filterwarnings(\"ignore\")"
   ]
  },
  {
   "cell_type": "code",
   "execution_count": 5,
   "id": "34894df0",
   "metadata": {},
   "outputs": [],
   "source": [
    "# for splitting data and Cross-validation:\n",
    "from sklearn.model_selection import train_test_split, KFold, cross_val_score, GridSearchCV, RandomizedSearchCV"
   ]
  },
  {
   "cell_type": "code",
   "execution_count": 6,
   "id": "dc86cc93",
   "metadata": {},
   "outputs": [],
   "source": [
    "# for preprocessing:\n",
    "from sklearn.preprocessing import LabelEncoder, MinMaxScaler, StandardScaler"
   ]
  },
  {
   "cell_type": "code",
   "execution_count": 7,
   "id": "9b3ae97e",
   "metadata": {},
   "outputs": [],
   "source": [
    "# for predictive modeling\n",
    "from sklearn.linear_model import LogisticRegression, SGDClassifier\n",
    "from sklearn.svm import SVC\n",
    "from sklearn.neighbors import KNeighborsClassifier\n",
    "from sklearn.tree import DecisionTreeClassifier\n",
    "from sklearn.ensemble import ExtraTreesClassifier, RandomForestClassifier, AdaBoostClassifier, GradientBoostingClassifier, VotingClassifier\n",
    "from xgboost import XGBClassifier"
   ]
  },
  {
   "cell_type": "code",
   "execution_count": 8,
   "id": "140206f9",
   "metadata": {},
   "outputs": [],
   "source": [
    "# for auc:\n",
    "from sklearn import metrics"
   ]
  },
  {
   "cell_type": "code",
   "execution_count": 9,
   "id": "6a6f52c1",
   "metadata": {},
   "outputs": [],
   "source": [
    "# for evaluation matrix:\n",
    "from sklearn.metrics import accuracy_score, confusion_matrix, classification_report"
   ]
  },
  {
   "cell_type": "code",
   "execution_count": 10,
   "id": "8fc0bf23",
   "metadata": {},
   "outputs": [],
   "source": [
    "# for dumping model\n",
    "import pickle"
   ]
  },
  {
   "cell_type": "code",
   "execution_count": 11,
   "id": "8295c288",
   "metadata": {
    "scrolled": true
   },
   "outputs": [
    {
     "data": {
      "text/html": [
       "<div>\n",
       "<style scoped>\n",
       "    .dataframe tbody tr th:only-of-type {\n",
       "        vertical-align: middle;\n",
       "    }\n",
       "\n",
       "    .dataframe tbody tr th {\n",
       "        vertical-align: top;\n",
       "    }\n",
       "\n",
       "    .dataframe thead th {\n",
       "        text-align: right;\n",
       "    }\n",
       "</style>\n",
       "<table border=\"1\" class=\"dataframe\">\n",
       "  <thead>\n",
       "    <tr style=\"text-align: right;\">\n",
       "      <th></th>\n",
       "      <th>Survived</th>\n",
       "      <th>Pclass</th>\n",
       "      <th>Name</th>\n",
       "      <th>Sex</th>\n",
       "      <th>Age</th>\n",
       "      <th>SibSp</th>\n",
       "      <th>Parch</th>\n",
       "      <th>Ticket</th>\n",
       "      <th>Fare</th>\n",
       "      <th>Cabin</th>\n",
       "      <th>Embarked</th>\n",
       "    </tr>\n",
       "    <tr>\n",
       "      <th>PassengerId</th>\n",
       "      <th></th>\n",
       "      <th></th>\n",
       "      <th></th>\n",
       "      <th></th>\n",
       "      <th></th>\n",
       "      <th></th>\n",
       "      <th></th>\n",
       "      <th></th>\n",
       "      <th></th>\n",
       "      <th></th>\n",
       "      <th></th>\n",
       "    </tr>\n",
       "  </thead>\n",
       "  <tbody>\n",
       "    <tr>\n",
       "      <th>1</th>\n",
       "      <td>0</td>\n",
       "      <td>3</td>\n",
       "      <td>Braund, Mr. Owen Harris</td>\n",
       "      <td>male</td>\n",
       "      <td>22.0</td>\n",
       "      <td>1</td>\n",
       "      <td>0</td>\n",
       "      <td>A/5 21171</td>\n",
       "      <td>7.2500</td>\n",
       "      <td>NaN</td>\n",
       "      <td>S</td>\n",
       "    </tr>\n",
       "    <tr>\n",
       "      <th>2</th>\n",
       "      <td>1</td>\n",
       "      <td>1</td>\n",
       "      <td>Cumings, Mrs. John Bradley (Florence Briggs Th...</td>\n",
       "      <td>female</td>\n",
       "      <td>38.0</td>\n",
       "      <td>1</td>\n",
       "      <td>0</td>\n",
       "      <td>PC 17599</td>\n",
       "      <td>71.2833</td>\n",
       "      <td>C85</td>\n",
       "      <td>C</td>\n",
       "    </tr>\n",
       "    <tr>\n",
       "      <th>3</th>\n",
       "      <td>1</td>\n",
       "      <td>3</td>\n",
       "      <td>Heikkinen, Miss. Laina</td>\n",
       "      <td>female</td>\n",
       "      <td>26.0</td>\n",
       "      <td>0</td>\n",
       "      <td>0</td>\n",
       "      <td>STON/O2. 3101282</td>\n",
       "      <td>7.9250</td>\n",
       "      <td>NaN</td>\n",
       "      <td>S</td>\n",
       "    </tr>\n",
       "    <tr>\n",
       "      <th>4</th>\n",
       "      <td>1</td>\n",
       "      <td>1</td>\n",
       "      <td>Futrelle, Mrs. Jacques Heath (Lily May Peel)</td>\n",
       "      <td>female</td>\n",
       "      <td>35.0</td>\n",
       "      <td>1</td>\n",
       "      <td>0</td>\n",
       "      <td>113803</td>\n",
       "      <td>53.1000</td>\n",
       "      <td>C123</td>\n",
       "      <td>S</td>\n",
       "    </tr>\n",
       "    <tr>\n",
       "      <th>5</th>\n",
       "      <td>0</td>\n",
       "      <td>3</td>\n",
       "      <td>Allen, Mr. William Henry</td>\n",
       "      <td>male</td>\n",
       "      <td>35.0</td>\n",
       "      <td>0</td>\n",
       "      <td>0</td>\n",
       "      <td>373450</td>\n",
       "      <td>8.0500</td>\n",
       "      <td>NaN</td>\n",
       "      <td>S</td>\n",
       "    </tr>\n",
       "    <tr>\n",
       "      <th>6</th>\n",
       "      <td>0</td>\n",
       "      <td>3</td>\n",
       "      <td>Moran, Mr. James</td>\n",
       "      <td>male</td>\n",
       "      <td>NaN</td>\n",
       "      <td>0</td>\n",
       "      <td>0</td>\n",
       "      <td>330877</td>\n",
       "      <td>8.4583</td>\n",
       "      <td>NaN</td>\n",
       "      <td>Q</td>\n",
       "    </tr>\n",
       "    <tr>\n",
       "      <th>7</th>\n",
       "      <td>0</td>\n",
       "      <td>1</td>\n",
       "      <td>McCarthy, Mr. Timothy J</td>\n",
       "      <td>male</td>\n",
       "      <td>54.0</td>\n",
       "      <td>0</td>\n",
       "      <td>0</td>\n",
       "      <td>17463</td>\n",
       "      <td>51.8625</td>\n",
       "      <td>E46</td>\n",
       "      <td>S</td>\n",
       "    </tr>\n",
       "    <tr>\n",
       "      <th>8</th>\n",
       "      <td>0</td>\n",
       "      <td>3</td>\n",
       "      <td>Palsson, Master. Gosta Leonard</td>\n",
       "      <td>male</td>\n",
       "      <td>2.0</td>\n",
       "      <td>3</td>\n",
       "      <td>1</td>\n",
       "      <td>349909</td>\n",
       "      <td>21.0750</td>\n",
       "      <td>NaN</td>\n",
       "      <td>S</td>\n",
       "    </tr>\n",
       "    <tr>\n",
       "      <th>9</th>\n",
       "      <td>1</td>\n",
       "      <td>3</td>\n",
       "      <td>Johnson, Mrs. Oscar W (Elisabeth Vilhelmina Berg)</td>\n",
       "      <td>female</td>\n",
       "      <td>27.0</td>\n",
       "      <td>0</td>\n",
       "      <td>2</td>\n",
       "      <td>347742</td>\n",
       "      <td>11.1333</td>\n",
       "      <td>NaN</td>\n",
       "      <td>S</td>\n",
       "    </tr>\n",
       "    <tr>\n",
       "      <th>10</th>\n",
       "      <td>1</td>\n",
       "      <td>2</td>\n",
       "      <td>Nasser, Mrs. Nicholas (Adele Achem)</td>\n",
       "      <td>female</td>\n",
       "      <td>14.0</td>\n",
       "      <td>1</td>\n",
       "      <td>0</td>\n",
       "      <td>237736</td>\n",
       "      <td>30.0708</td>\n",
       "      <td>NaN</td>\n",
       "      <td>C</td>\n",
       "    </tr>\n",
       "  </tbody>\n",
       "</table>\n",
       "</div>"
      ],
      "text/plain": [
       "             Survived  Pclass  \\\n",
       "PassengerId                     \n",
       "1                   0       3   \n",
       "2                   1       1   \n",
       "3                   1       3   \n",
       "4                   1       1   \n",
       "5                   0       3   \n",
       "6                   0       3   \n",
       "7                   0       1   \n",
       "8                   0       3   \n",
       "9                   1       3   \n",
       "10                  1       2   \n",
       "\n",
       "                                                          Name     Sex   Age  \\\n",
       "PassengerId                                                                    \n",
       "1                                      Braund, Mr. Owen Harris    male  22.0   \n",
       "2            Cumings, Mrs. John Bradley (Florence Briggs Th...  female  38.0   \n",
       "3                                       Heikkinen, Miss. Laina  female  26.0   \n",
       "4                 Futrelle, Mrs. Jacques Heath (Lily May Peel)  female  35.0   \n",
       "5                                     Allen, Mr. William Henry    male  35.0   \n",
       "6                                             Moran, Mr. James    male   NaN   \n",
       "7                                      McCarthy, Mr. Timothy J    male  54.0   \n",
       "8                               Palsson, Master. Gosta Leonard    male   2.0   \n",
       "9            Johnson, Mrs. Oscar W (Elisabeth Vilhelmina Berg)  female  27.0   \n",
       "10                         Nasser, Mrs. Nicholas (Adele Achem)  female  14.0   \n",
       "\n",
       "             SibSp  Parch            Ticket     Fare Cabin Embarked  \n",
       "PassengerId                                                          \n",
       "1                1      0         A/5 21171   7.2500   NaN        S  \n",
       "2                1      0          PC 17599  71.2833   C85        C  \n",
       "3                0      0  STON/O2. 3101282   7.9250   NaN        S  \n",
       "4                1      0            113803  53.1000  C123        S  \n",
       "5                0      0            373450   8.0500   NaN        S  \n",
       "6                0      0            330877   8.4583   NaN        Q  \n",
       "7                0      0             17463  51.8625   E46        S  \n",
       "8                3      1            349909  21.0750   NaN        S  \n",
       "9                0      2            347742  11.1333   NaN        S  \n",
       "10               1      0            237736  30.0708   NaN        C  "
      ]
     },
     "execution_count": 11,
     "metadata": {},
     "output_type": "execute_result"
    }
   ],
   "source": [
    "# importing dataset:\n",
    "titanic=pd.read_csv(r\"train.csv\", index_col=0, header=0)\n",
    "titanic.head(10)"
   ]
  },
  {
   "cell_type": "code",
   "execution_count": 12,
   "id": "3858371f",
   "metadata": {},
   "outputs": [
    {
     "data": {
      "text/plain": [
       "(891, 11)"
      ]
     },
     "execution_count": 12,
     "metadata": {},
     "output_type": "execute_result"
    }
   ],
   "source": [
    "titanic.shape"
   ]
  },
  {
   "cell_type": "code",
   "execution_count": 13,
   "id": "6dc0e545",
   "metadata": {},
   "outputs": [
    {
     "name": "stdout",
     "output_type": "stream",
     "text": [
      "<class 'pandas.core.frame.DataFrame'>\n",
      "Int64Index: 891 entries, 1 to 891\n",
      "Data columns (total 11 columns):\n",
      " #   Column    Non-Null Count  Dtype  \n",
      "---  ------    --------------  -----  \n",
      " 0   Survived  891 non-null    int64  \n",
      " 1   Pclass    891 non-null    int64  \n",
      " 2   Name      891 non-null    object \n",
      " 3   Sex       891 non-null    object \n",
      " 4   Age       714 non-null    float64\n",
      " 5   SibSp     891 non-null    int64  \n",
      " 6   Parch     891 non-null    int64  \n",
      " 7   Ticket    891 non-null    object \n",
      " 8   Fare      891 non-null    float64\n",
      " 9   Cabin     204 non-null    object \n",
      " 10  Embarked  889 non-null    object \n",
      "dtypes: float64(2), int64(4), object(5)\n",
      "memory usage: 83.5+ KB\n"
     ]
    }
   ],
   "source": [
    "titanic.info()"
   ]
  },
  {
   "cell_type": "code",
   "execution_count": 14,
   "id": "61677969",
   "metadata": {},
   "outputs": [
    {
     "data": {
      "text/html": [
       "<div>\n",
       "<style scoped>\n",
       "    .dataframe tbody tr th:only-of-type {\n",
       "        vertical-align: middle;\n",
       "    }\n",
       "\n",
       "    .dataframe tbody tr th {\n",
       "        vertical-align: top;\n",
       "    }\n",
       "\n",
       "    .dataframe thead th {\n",
       "        text-align: right;\n",
       "    }\n",
       "</style>\n",
       "<table border=\"1\" class=\"dataframe\">\n",
       "  <thead>\n",
       "    <tr style=\"text-align: right;\">\n",
       "      <th></th>\n",
       "      <th>Survived</th>\n",
       "      <th>Pclass</th>\n",
       "      <th>Name</th>\n",
       "      <th>Sex</th>\n",
       "      <th>Age</th>\n",
       "      <th>SibSp</th>\n",
       "      <th>Parch</th>\n",
       "      <th>Ticket</th>\n",
       "      <th>Fare</th>\n",
       "      <th>Cabin</th>\n",
       "      <th>Embarked</th>\n",
       "    </tr>\n",
       "  </thead>\n",
       "  <tbody>\n",
       "    <tr>\n",
       "      <th>count</th>\n",
       "      <td>891.000000</td>\n",
       "      <td>891.000000</td>\n",
       "      <td>891</td>\n",
       "      <td>891</td>\n",
       "      <td>714.000000</td>\n",
       "      <td>891.000000</td>\n",
       "      <td>891.000000</td>\n",
       "      <td>891</td>\n",
       "      <td>891.000000</td>\n",
       "      <td>204</td>\n",
       "      <td>889</td>\n",
       "    </tr>\n",
       "    <tr>\n",
       "      <th>unique</th>\n",
       "      <td>NaN</td>\n",
       "      <td>NaN</td>\n",
       "      <td>891</td>\n",
       "      <td>2</td>\n",
       "      <td>NaN</td>\n",
       "      <td>NaN</td>\n",
       "      <td>NaN</td>\n",
       "      <td>681</td>\n",
       "      <td>NaN</td>\n",
       "      <td>147</td>\n",
       "      <td>3</td>\n",
       "    </tr>\n",
       "    <tr>\n",
       "      <th>top</th>\n",
       "      <td>NaN</td>\n",
       "      <td>NaN</td>\n",
       "      <td>Barah, Mr. Hanna Assi</td>\n",
       "      <td>male</td>\n",
       "      <td>NaN</td>\n",
       "      <td>NaN</td>\n",
       "      <td>NaN</td>\n",
       "      <td>CA. 2343</td>\n",
       "      <td>NaN</td>\n",
       "      <td>B96 B98</td>\n",
       "      <td>S</td>\n",
       "    </tr>\n",
       "    <tr>\n",
       "      <th>freq</th>\n",
       "      <td>NaN</td>\n",
       "      <td>NaN</td>\n",
       "      <td>1</td>\n",
       "      <td>577</td>\n",
       "      <td>NaN</td>\n",
       "      <td>NaN</td>\n",
       "      <td>NaN</td>\n",
       "      <td>7</td>\n",
       "      <td>NaN</td>\n",
       "      <td>4</td>\n",
       "      <td>644</td>\n",
       "    </tr>\n",
       "    <tr>\n",
       "      <th>mean</th>\n",
       "      <td>0.383838</td>\n",
       "      <td>2.308642</td>\n",
       "      <td>NaN</td>\n",
       "      <td>NaN</td>\n",
       "      <td>29.699118</td>\n",
       "      <td>0.523008</td>\n",
       "      <td>0.381594</td>\n",
       "      <td>NaN</td>\n",
       "      <td>32.204208</td>\n",
       "      <td>NaN</td>\n",
       "      <td>NaN</td>\n",
       "    </tr>\n",
       "    <tr>\n",
       "      <th>std</th>\n",
       "      <td>0.486592</td>\n",
       "      <td>0.836071</td>\n",
       "      <td>NaN</td>\n",
       "      <td>NaN</td>\n",
       "      <td>14.526497</td>\n",
       "      <td>1.102743</td>\n",
       "      <td>0.806057</td>\n",
       "      <td>NaN</td>\n",
       "      <td>49.693429</td>\n",
       "      <td>NaN</td>\n",
       "      <td>NaN</td>\n",
       "    </tr>\n",
       "    <tr>\n",
       "      <th>min</th>\n",
       "      <td>0.000000</td>\n",
       "      <td>1.000000</td>\n",
       "      <td>NaN</td>\n",
       "      <td>NaN</td>\n",
       "      <td>0.420000</td>\n",
       "      <td>0.000000</td>\n",
       "      <td>0.000000</td>\n",
       "      <td>NaN</td>\n",
       "      <td>0.000000</td>\n",
       "      <td>NaN</td>\n",
       "      <td>NaN</td>\n",
       "    </tr>\n",
       "    <tr>\n",
       "      <th>25%</th>\n",
       "      <td>0.000000</td>\n",
       "      <td>2.000000</td>\n",
       "      <td>NaN</td>\n",
       "      <td>NaN</td>\n",
       "      <td>20.125000</td>\n",
       "      <td>0.000000</td>\n",
       "      <td>0.000000</td>\n",
       "      <td>NaN</td>\n",
       "      <td>7.910400</td>\n",
       "      <td>NaN</td>\n",
       "      <td>NaN</td>\n",
       "    </tr>\n",
       "    <tr>\n",
       "      <th>50%</th>\n",
       "      <td>0.000000</td>\n",
       "      <td>3.000000</td>\n",
       "      <td>NaN</td>\n",
       "      <td>NaN</td>\n",
       "      <td>28.000000</td>\n",
       "      <td>0.000000</td>\n",
       "      <td>0.000000</td>\n",
       "      <td>NaN</td>\n",
       "      <td>14.454200</td>\n",
       "      <td>NaN</td>\n",
       "      <td>NaN</td>\n",
       "    </tr>\n",
       "    <tr>\n",
       "      <th>75%</th>\n",
       "      <td>1.000000</td>\n",
       "      <td>3.000000</td>\n",
       "      <td>NaN</td>\n",
       "      <td>NaN</td>\n",
       "      <td>38.000000</td>\n",
       "      <td>1.000000</td>\n",
       "      <td>0.000000</td>\n",
       "      <td>NaN</td>\n",
       "      <td>31.000000</td>\n",
       "      <td>NaN</td>\n",
       "      <td>NaN</td>\n",
       "    </tr>\n",
       "    <tr>\n",
       "      <th>max</th>\n",
       "      <td>1.000000</td>\n",
       "      <td>3.000000</td>\n",
       "      <td>NaN</td>\n",
       "      <td>NaN</td>\n",
       "      <td>80.000000</td>\n",
       "      <td>8.000000</td>\n",
       "      <td>6.000000</td>\n",
       "      <td>NaN</td>\n",
       "      <td>512.329200</td>\n",
       "      <td>NaN</td>\n",
       "      <td>NaN</td>\n",
       "    </tr>\n",
       "  </tbody>\n",
       "</table>\n",
       "</div>"
      ],
      "text/plain": [
       "          Survived      Pclass                   Name   Sex         Age  \\\n",
       "count   891.000000  891.000000                    891   891  714.000000   \n",
       "unique         NaN         NaN                    891     2         NaN   \n",
       "top            NaN         NaN  Barah, Mr. Hanna Assi  male         NaN   \n",
       "freq           NaN         NaN                      1   577         NaN   \n",
       "mean      0.383838    2.308642                    NaN   NaN   29.699118   \n",
       "std       0.486592    0.836071                    NaN   NaN   14.526497   \n",
       "min       0.000000    1.000000                    NaN   NaN    0.420000   \n",
       "25%       0.000000    2.000000                    NaN   NaN   20.125000   \n",
       "50%       0.000000    3.000000                    NaN   NaN   28.000000   \n",
       "75%       1.000000    3.000000                    NaN   NaN   38.000000   \n",
       "max       1.000000    3.000000                    NaN   NaN   80.000000   \n",
       "\n",
       "             SibSp       Parch    Ticket        Fare    Cabin Embarked  \n",
       "count   891.000000  891.000000       891  891.000000      204      889  \n",
       "unique         NaN         NaN       681         NaN      147        3  \n",
       "top            NaN         NaN  CA. 2343         NaN  B96 B98        S  \n",
       "freq           NaN         NaN         7         NaN        4      644  \n",
       "mean      0.523008    0.381594       NaN   32.204208      NaN      NaN  \n",
       "std       1.102743    0.806057       NaN   49.693429      NaN      NaN  \n",
       "min       0.000000    0.000000       NaN    0.000000      NaN      NaN  \n",
       "25%       0.000000    0.000000       NaN    7.910400      NaN      NaN  \n",
       "50%       0.000000    0.000000       NaN   14.454200      NaN      NaN  \n",
       "75%       1.000000    0.000000       NaN   31.000000      NaN      NaN  \n",
       "max       8.000000    6.000000       NaN  512.329200      NaN      NaN  "
      ]
     },
     "execution_count": 14,
     "metadata": {},
     "output_type": "execute_result"
    }
   ],
   "source": [
    "titanic.describe(include=\"all\")"
   ]
  },
  {
   "cell_type": "code",
   "execution_count": 15,
   "id": "1f22db9f",
   "metadata": {},
   "outputs": [
    {
     "data": {
      "text/plain": [
       "Index(['Survived', 'Pclass', 'Name', 'Sex', 'Age', 'SibSp', 'Parch', 'Ticket',\n",
       "       'Fare', 'Cabin', 'Embarked'],\n",
       "      dtype='object')"
      ]
     },
     "execution_count": 15,
     "metadata": {},
     "output_type": "execute_result"
    }
   ],
   "source": [
    "titanic.columns"
   ]
  },
  {
   "cell_type": "code",
   "execution_count": 16,
   "id": "d01af1ae",
   "metadata": {},
   "outputs": [],
   "source": [
    "titanic=titanic[['Pclass', 'Name', 'Sex', 'Age', 'SibSp', 'Parch', 'Ticket', 'Fare', 'Cabin', 'Embarked', 'Survived']]"
   ]
  },
  {
   "cell_type": "code",
   "execution_count": 17,
   "id": "0f157cdf",
   "metadata": {},
   "outputs": [
    {
     "data": {
      "text/plain": [
       "<AxesSubplot:ylabel='PassengerId'>"
      ]
     },
     "execution_count": 17,
     "metadata": {},
     "output_type": "execute_result"
    },
    {
     "data": {
      "image/png": "[encoded data removed]",
      "text/plain": [
       "<Figure size 432x288 with 1 Axes>"
      ]
     },
     "metadata": {
      "needs_background": "light"
     },
     "output_type": "display_data"
    }
   ],
   "source": [
    "sns.heatmap(titanic.isnull(), yticklabels=False, cbar=False, cmap=\"viridis\")"
   ]
  },
  {
   "cell_type": "code",
   "execution_count": 18,
   "id": "36664234",
   "metadata": {},
   "outputs": [
    {
     "data": {
      "text/plain": [
       "Pclass        0\n",
       "Name          0\n",
       "Sex           0\n",
       "Age         177\n",
       "SibSp         0\n",
       "Parch         0\n",
       "Ticket        0\n",
       "Fare          0\n",
       "Cabin       687\n",
       "Embarked      2\n",
       "Survived      0\n",
       "dtype: int64"
      ]
     },
     "execution_count": 18,
     "metadata": {},
     "output_type": "execute_result"
    }
   ],
   "source": [
    "titanic.isnull().sum()"
   ]
  },
  {
   "cell_type": "code",
   "execution_count": 19,
   "id": "720b1a7c",
   "metadata": {},
   "outputs": [],
   "source": [
    "titanic.drop([\"Name\"], axis=1, inplace=True)"
   ]
  },
  {
   "cell_type": "code",
   "execution_count": 20,
   "id": "e308e8bc",
   "metadata": {},
   "outputs": [],
   "source": [
    "titanic[\"Age\"].fillna(titanic[\"Age\"].mean(), inplace=True)"
   ]
  },
  {
   "cell_type": "code",
   "execution_count": 21,
   "id": "4a8252f6",
   "metadata": {},
   "outputs": [],
   "source": [
    "titanic.drop([\"Cabin\"], axis=1, inplace=True)"
   ]
  },
  {
   "cell_type": "code",
   "execution_count": 22,
   "id": "894208a2",
   "metadata": {},
   "outputs": [],
   "source": [
    "titanic[\"Embarked\"].fillna(titanic[\"Embarked\"].mode()[0], inplace=True)"
   ]
  },
  {
   "cell_type": "code",
   "execution_count": 23,
   "id": "11391d91",
   "metadata": {},
   "outputs": [
    {
     "data": {
      "text/plain": [
       "<AxesSubplot:ylabel='PassengerId'>"
      ]
     },
     "execution_count": 23,
     "metadata": {},
     "output_type": "execute_result"
    },
    {
     "data": {
      "image/png": "[encoded data removed]",
      "text/plain": [
       "<Figure size 432x288 with 1 Axes>"
      ]
     },
     "metadata": {
      "needs_background": "light"
     },
     "output_type": "display_data"
    }
   ],
   "source": [
    "sns.heatmap(titanic.isnull(), yticklabels=False, cbar=False, cmap=\"viridis\")"
   ]
  },
  {
   "cell_type": "markdown",
   "id": "c6171809",
   "metadata": {},
   "source": [
    "# Data Visualization"
   ]
  },
  {
   "cell_type": "code",
   "execution_count": 24,
   "id": "6ebe4aac",
   "metadata": {},
   "outputs": [
    {
     "data": {
      "text/html": [
       "<div>\n",
       "<style scoped>\n",
       "    .dataframe tbody tr th:only-of-type {\n",
       "        vertical-align: middle;\n",
       "    }\n",
       "\n",
       "    .dataframe tbody tr th {\n",
       "        vertical-align: top;\n",
       "    }\n",
       "\n",
       "    .dataframe thead th {\n",
       "        text-align: right;\n",
       "    }\n",
       "</style>\n",
       "<table border=\"1\" class=\"dataframe\">\n",
       "  <thead>\n",
       "    <tr style=\"text-align: right;\">\n",
       "      <th></th>\n",
       "      <th>Pclass</th>\n",
       "      <th>Sex</th>\n",
       "      <th>Age</th>\n",
       "      <th>SibSp</th>\n",
       "      <th>Parch</th>\n",
       "      <th>Ticket</th>\n",
       "      <th>Fare</th>\n",
       "      <th>Embarked</th>\n",
       "      <th>Survived</th>\n",
       "    </tr>\n",
       "    <tr>\n",
       "      <th>PassengerId</th>\n",
       "      <th></th>\n",
       "      <th></th>\n",
       "      <th></th>\n",
       "      <th></th>\n",
       "      <th></th>\n",
       "      <th></th>\n",
       "      <th></th>\n",
       "      <th></th>\n",
       "      <th></th>\n",
       "    </tr>\n",
       "  </thead>\n",
       "  <tbody>\n",
       "    <tr>\n",
       "      <th>1</th>\n",
       "      <td>3</td>\n",
       "      <td>male</td>\n",
       "      <td>22.0</td>\n",
       "      <td>1</td>\n",
       "      <td>0</td>\n",
       "      <td>A/5 21171</td>\n",
       "      <td>7.2500</td>\n",
       "      <td>S</td>\n",
       "      <td>0</td>\n",
       "    </tr>\n",
       "    <tr>\n",
       "      <th>2</th>\n",
       "      <td>1</td>\n",
       "      <td>female</td>\n",
       "      <td>38.0</td>\n",
       "      <td>1</td>\n",
       "      <td>0</td>\n",
       "      <td>PC 17599</td>\n",
       "      <td>71.2833</td>\n",
       "      <td>C</td>\n",
       "      <td>1</td>\n",
       "    </tr>\n",
       "    <tr>\n",
       "      <th>3</th>\n",
       "      <td>3</td>\n",
       "      <td>female</td>\n",
       "      <td>26.0</td>\n",
       "      <td>0</td>\n",
       "      <td>0</td>\n",
       "      <td>STON/O2. 3101282</td>\n",
       "      <td>7.9250</td>\n",
       "      <td>S</td>\n",
       "      <td>1</td>\n",
       "    </tr>\n",
       "    <tr>\n",
       "      <th>4</th>\n",
       "      <td>1</td>\n",
       "      <td>female</td>\n",
       "      <td>35.0</td>\n",
       "      <td>1</td>\n",
       "      <td>0</td>\n",
       "      <td>113803</td>\n",
       "      <td>53.1000</td>\n",
       "      <td>S</td>\n",
       "      <td>1</td>\n",
       "    </tr>\n",
       "    <tr>\n",
       "      <th>5</th>\n",
       "      <td>3</td>\n",
       "      <td>male</td>\n",
       "      <td>35.0</td>\n",
       "      <td>0</td>\n",
       "      <td>0</td>\n",
       "      <td>373450</td>\n",
       "      <td>8.0500</td>\n",
       "      <td>S</td>\n",
       "      <td>0</td>\n",
       "    </tr>\n",
       "  </tbody>\n",
       "</table>\n",
       "</div>"
      ],
      "text/plain": [
       "             Pclass     Sex   Age  SibSp  Parch            Ticket     Fare  \\\n",
       "PassengerId                                                                  \n",
       "1                 3    male  22.0      1      0         A/5 21171   7.2500   \n",
       "2                 1  female  38.0      1      0          PC 17599  71.2833   \n",
       "3                 3  female  26.0      0      0  STON/O2. 3101282   7.9250   \n",
       "4                 1  female  35.0      1      0            113803  53.1000   \n",
       "5                 3    male  35.0      0      0            373450   8.0500   \n",
       "\n",
       "            Embarked  Survived  \n",
       "PassengerId                     \n",
       "1                  S         0  \n",
       "2                  C         1  \n",
       "3                  S         1  \n",
       "4                  S         1  \n",
       "5                  S         0  "
      ]
     },
     "execution_count": 24,
     "metadata": {},
     "output_type": "execute_result"
    }
   ],
   "source": [
    "titanic.head()"
   ]
  },
  {
   "cell_type": "code",
   "execution_count": 25,
   "id": "2152c182",
   "metadata": {},
   "outputs": [],
   "source": [
    "#storing categorical value in 'df1_categorical' and numerical in 'df1_numerical'\n",
    "cat=[]\n",
    "num=[]\n",
    "\n",
    "for x in titanic:\n",
    "    if titanic[x].dtype=='object':\n",
    "        cat.append(x)\n",
    "    elif titanic[x].dtype=='int64' or titanic[x].dtype=='float64':\n",
    "        num.append(x)"
   ]
  },
  {
   "cell_type": "code",
   "execution_count": 26,
   "id": "ec2a0743",
   "metadata": {},
   "outputs": [
    {
     "data": {
      "text/plain": [
       "['Sex', 'Ticket', 'Embarked']"
      ]
     },
     "execution_count": 26,
     "metadata": {},
     "output_type": "execute_result"
    }
   ],
   "source": [
    "cat"
   ]
  },
  {
   "cell_type": "code",
   "execution_count": 27,
   "id": "a8ecd792",
   "metadata": {},
   "outputs": [
    {
     "data": {
      "text/plain": [
       "['Pclass', 'Age', 'SibSp', 'Parch', 'Fare', 'Survived']"
      ]
     },
     "execution_count": 27,
     "metadata": {},
     "output_type": "execute_result"
    }
   ],
   "source": [
    "num"
   ]
  },
  {
   "cell_type": "code",
   "execution_count": 28,
   "id": "705bbb98",
   "metadata": {},
   "outputs": [
    {
     "data": {
      "image/png": "[encoded data removed]",
      "text/plain": [
       "<Figure size 3600x3600 with 6 Axes>"
      ]
     },
     "metadata": {
      "needs_background": "light"
     },
     "output_type": "display_data"
    }
   ],
   "source": [
    "j=1\n",
    "plt.figure(figsize=(50,50))\n",
    "for i in num:\n",
    "    plt.subplot(10,10,j)\n",
    "    titanic.boxplot(column=i)\n",
    "    j=j+1"
   ]
  },
  {
   "cell_type": "code",
   "execution_count": 29,
   "id": "0459ad13",
   "metadata": {},
   "outputs": [],
   "source": [
    "df=titanic.copy()"
   ]
  },
  {
   "cell_type": "code",
   "execution_count": 30,
   "id": "ef6c2530",
   "metadata": {},
   "outputs": [
    {
     "data": {
      "image/png": "[encoded data removed]",
      "text/plain": [
       "<Figure size 3600x3600 with 6 Axes>"
      ]
     },
     "metadata": {
      "needs_background": "light"
     },
     "output_type": "display_data"
    }
   ],
   "source": [
    "j=1\n",
    "plt.figure(figsize=(50, 50))\n",
    "for i in num:\n",
    "    plt.subplot(10, 10, j)\n",
    "    sns.boxplot(y=df[i])\n",
    "    j=j+1"
   ]
  },
  {
   "cell_type": "code",
   "execution_count": 31,
   "id": "854b4c51",
   "metadata": {},
   "outputs": [
    {
     "data": {
      "image/png": "[encoded data removed]",
      "text/plain": [
       "<Figure size 3600x3600 with 6 Axes>"
      ]
     },
     "metadata": {
      "needs_background": "light"
     },
     "output_type": "display_data"
    }
   ],
   "source": [
    "j=1\n",
    "plt.figure(figsize=(50, 50))\n",
    "for i in num:\n",
    "    plt.subplot(10, 10, j)\n",
    "    sns.distplot(df[i])\n",
    "    j=j+1"
   ]
  },
  {
   "cell_type": "code",
   "execution_count": 32,
   "id": "eebe351b",
   "metadata": {},
   "outputs": [
    {
     "data": {
      "image/png": "[encoded data removed]",
      "text/plain": [
       "<Figure size 3600x3600 with 6 Axes>"
      ]
     },
     "metadata": {
      "needs_background": "light"
     },
     "output_type": "display_data"
    }
   ],
   "source": [
    "j=1\n",
    "plt.figure(figsize=(50, 50))\n",
    "for i in num:\n",
    "    plt.subplot(10, 10, j)\n",
    "    plt.hist(data=df, x=i)\n",
    "    j=j+1"
   ]
  },
  {
   "cell_type": "code",
   "execution_count": 33,
   "id": "7c07c9ed",
   "metadata": {},
   "outputs": [
    {
     "data": {
      "text/plain": [
       "<AxesSubplot:xlabel='Survived', ylabel='count'>"
      ]
     },
     "execution_count": 33,
     "metadata": {},
     "output_type": "execute_result"
    },
    {
     "data": {
      "image/png": "[encoded data removed]",
      "text/plain": [
       "<Figure size 432x288 with 1 Axes>"
      ]
     },
     "metadata": {
      "needs_background": "light"
     },
     "output_type": "display_data"
    }
   ],
   "source": [
    "sns.countplot(data= df, x=\"Survived\")"
   ]
  },
  {
   "cell_type": "code",
   "execution_count": 34,
   "id": "1b598b07",
   "metadata": {},
   "outputs": [
    {
     "data": {
      "text/plain": [
       "Text(0.5, 1.0, 'Pclass w.r.t survived')"
      ]
     },
     "execution_count": 34,
     "metadata": {},
     "output_type": "execute_result"
    },
    {
     "data": {
      "image/png": "[encoded data removed]",
      "text/plain": [
       "<Figure size 1440x216 with 4 Axes>"
      ]
     },
     "metadata": {
      "needs_background": "light"
     },
     "output_type": "display_data"
    }
   ],
   "source": [
    "plt.figure(figsize=(20, 3))\n",
    "plt.subplot(141) #(row number,sum of column numbers,position)\n",
    "sns.countplot(data= df, x=\"Survived\")\n",
    "plt.title(\"Survived Countplot\")\n",
    "\n",
    "plt.subplot(142) #(row number,sum of column numbers,position)\n",
    "sns.countplot(data= df, x=\"Survived\", hue=\"Sex\")\n",
    "plt.title(\"Male & Female w.r.t Survived\")\n",
    "\n",
    "plt.subplot(143)\n",
    "sns.countplot(data= df, x=\"Sex\", hue=\"Pclass\")\n",
    "plt.title(\"Male and Female w.r.t Pclass\")\n",
    "\n",
    "plt.subplot(144)\n",
    "sns.countplot(data= df, x=\"Survived\", hue=\"Pclass\")\n",
    "plt.title(\"Pclass w.r.t survived\")"
   ]
  },
  {
   "cell_type": "code",
   "execution_count": 35,
   "id": "f237cc71",
   "metadata": {},
   "outputs": [
    {
     "data": {
      "text/html": [
       "<div>\n",
       "<style scoped>\n",
       "    .dataframe tbody tr th:only-of-type {\n",
       "        vertical-align: middle;\n",
       "    }\n",
       "\n",
       "    .dataframe tbody tr th {\n",
       "        vertical-align: top;\n",
       "    }\n",
       "\n",
       "    .dataframe thead th {\n",
       "        text-align: right;\n",
       "    }\n",
       "</style>\n",
       "<table border=\"1\" class=\"dataframe\">\n",
       "  <thead>\n",
       "    <tr style=\"text-align: right;\">\n",
       "      <th>Sex</th>\n",
       "      <th>female</th>\n",
       "      <th>male</th>\n",
       "    </tr>\n",
       "    <tr>\n",
       "      <th>Pclass</th>\n",
       "      <th></th>\n",
       "      <th></th>\n",
       "    </tr>\n",
       "  </thead>\n",
       "  <tbody>\n",
       "    <tr>\n",
       "      <th>1</th>\n",
       "      <td>94</td>\n",
       "      <td>122</td>\n",
       "    </tr>\n",
       "    <tr>\n",
       "      <th>2</th>\n",
       "      <td>76</td>\n",
       "      <td>108</td>\n",
       "    </tr>\n",
       "    <tr>\n",
       "      <th>3</th>\n",
       "      <td>144</td>\n",
       "      <td>347</td>\n",
       "    </tr>\n",
       "  </tbody>\n",
       "</table>\n",
       "</div>"
      ],
      "text/plain": [
       "Sex     female  male\n",
       "Pclass              \n",
       "1           94   122\n",
       "2           76   108\n",
       "3          144   347"
      ]
     },
     "execution_count": 35,
     "metadata": {},
     "output_type": "execute_result"
    }
   ],
   "source": [
    "pd.crosstab(df[\"Pclass\"], df[\"Sex\"])"
   ]
  },
  {
   "cell_type": "code",
   "execution_count": 36,
   "id": "609f041a",
   "metadata": {},
   "outputs": [
    {
     "data": {
      "text/html": [
       "<div>\n",
       "<style scoped>\n",
       "    .dataframe tbody tr th:only-of-type {\n",
       "        vertical-align: middle;\n",
       "    }\n",
       "\n",
       "    .dataframe tbody tr th {\n",
       "        vertical-align: top;\n",
       "    }\n",
       "\n",
       "    .dataframe thead th {\n",
       "        text-align: right;\n",
       "    }\n",
       "</style>\n",
       "<table border=\"1\" class=\"dataframe\">\n",
       "  <thead>\n",
       "    <tr style=\"text-align: right;\">\n",
       "      <th>Survived</th>\n",
       "      <th>0</th>\n",
       "      <th>1</th>\n",
       "    </tr>\n",
       "    <tr>\n",
       "      <th>Pclass</th>\n",
       "      <th></th>\n",
       "      <th></th>\n",
       "    </tr>\n",
       "  </thead>\n",
       "  <tbody>\n",
       "    <tr>\n",
       "      <th>1</th>\n",
       "      <td>80</td>\n",
       "      <td>136</td>\n",
       "    </tr>\n",
       "    <tr>\n",
       "      <th>2</th>\n",
       "      <td>97</td>\n",
       "      <td>87</td>\n",
       "    </tr>\n",
       "    <tr>\n",
       "      <th>3</th>\n",
       "      <td>372</td>\n",
       "      <td>119</td>\n",
       "    </tr>\n",
       "  </tbody>\n",
       "</table>\n",
       "</div>"
      ],
      "text/plain": [
       "Survived    0    1\n",
       "Pclass            \n",
       "1          80  136\n",
       "2          97   87\n",
       "3         372  119"
      ]
     },
     "execution_count": 36,
     "metadata": {},
     "output_type": "execute_result"
    }
   ],
   "source": [
    "pd.crosstab(df[\"Pclass\"], df[\"Survived\"])"
   ]
  },
  {
   "cell_type": "code",
   "execution_count": 37,
   "id": "46fd221d",
   "metadata": {},
   "outputs": [
    {
     "data": {
      "text/html": [
       "<div>\n",
       "<style scoped>\n",
       "    .dataframe tbody tr th:only-of-type {\n",
       "        vertical-align: middle;\n",
       "    }\n",
       "\n",
       "    .dataframe tbody tr th {\n",
       "        vertical-align: top;\n",
       "    }\n",
       "\n",
       "    .dataframe thead th {\n",
       "        text-align: right;\n",
       "    }\n",
       "</style>\n",
       "<table border=\"1\" class=\"dataframe\">\n",
       "  <thead>\n",
       "    <tr style=\"text-align: right;\">\n",
       "      <th></th>\n",
       "      <th>Pclass</th>\n",
       "      <th>Sex</th>\n",
       "      <th>Age</th>\n",
       "      <th>SibSp</th>\n",
       "      <th>Parch</th>\n",
       "      <th>Ticket</th>\n",
       "      <th>Fare</th>\n",
       "      <th>Embarked</th>\n",
       "      <th>Survived</th>\n",
       "    </tr>\n",
       "    <tr>\n",
       "      <th>PassengerId</th>\n",
       "      <th></th>\n",
       "      <th></th>\n",
       "      <th></th>\n",
       "      <th></th>\n",
       "      <th></th>\n",
       "      <th></th>\n",
       "      <th></th>\n",
       "      <th></th>\n",
       "      <th></th>\n",
       "    </tr>\n",
       "  </thead>\n",
       "  <tbody>\n",
       "    <tr>\n",
       "      <th>1</th>\n",
       "      <td>3</td>\n",
       "      <td>male</td>\n",
       "      <td>22.000000</td>\n",
       "      <td>1</td>\n",
       "      <td>0</td>\n",
       "      <td>A/5 21171</td>\n",
       "      <td>7.2500</td>\n",
       "      <td>S</td>\n",
       "      <td>0</td>\n",
       "    </tr>\n",
       "    <tr>\n",
       "      <th>5</th>\n",
       "      <td>3</td>\n",
       "      <td>male</td>\n",
       "      <td>35.000000</td>\n",
       "      <td>0</td>\n",
       "      <td>0</td>\n",
       "      <td>373450</td>\n",
       "      <td>8.0500</td>\n",
       "      <td>S</td>\n",
       "      <td>0</td>\n",
       "    </tr>\n",
       "    <tr>\n",
       "      <th>6</th>\n",
       "      <td>3</td>\n",
       "      <td>male</td>\n",
       "      <td>29.699118</td>\n",
       "      <td>0</td>\n",
       "      <td>0</td>\n",
       "      <td>330877</td>\n",
       "      <td>8.4583</td>\n",
       "      <td>Q</td>\n",
       "      <td>0</td>\n",
       "    </tr>\n",
       "    <tr>\n",
       "      <th>7</th>\n",
       "      <td>1</td>\n",
       "      <td>male</td>\n",
       "      <td>54.000000</td>\n",
       "      <td>0</td>\n",
       "      <td>0</td>\n",
       "      <td>17463</td>\n",
       "      <td>51.8625</td>\n",
       "      <td>S</td>\n",
       "      <td>0</td>\n",
       "    </tr>\n",
       "    <tr>\n",
       "      <th>8</th>\n",
       "      <td>3</td>\n",
       "      <td>male</td>\n",
       "      <td>2.000000</td>\n",
       "      <td>3</td>\n",
       "      <td>1</td>\n",
       "      <td>349909</td>\n",
       "      <td>21.0750</td>\n",
       "      <td>S</td>\n",
       "      <td>0</td>\n",
       "    </tr>\n",
       "  </tbody>\n",
       "</table>\n",
       "</div>"
      ],
      "text/plain": [
       "             Pclass   Sex        Age  SibSp  Parch     Ticket     Fare  \\\n",
       "PassengerId                                                              \n",
       "1                 3  male  22.000000      1      0  A/5 21171   7.2500   \n",
       "5                 3  male  35.000000      0      0     373450   8.0500   \n",
       "6                 3  male  29.699118      0      0     330877   8.4583   \n",
       "7                 1  male  54.000000      0      0      17463  51.8625   \n",
       "8                 3  male   2.000000      3      1     349909  21.0750   \n",
       "\n",
       "            Embarked  Survived  \n",
       "PassengerId                     \n",
       "1                  S         0  \n",
       "5                  S         0  \n",
       "6                  Q         0  \n",
       "7                  S         0  \n",
       "8                  S         0  "
      ]
     },
     "execution_count": 37,
     "metadata": {},
     "output_type": "execute_result"
    }
   ],
   "source": [
    "df0=df[df[\"Survived\"]==0]\n",
    "df0.head()"
   ]
  },
  {
   "cell_type": "code",
   "execution_count": 38,
   "id": "a4e7041c",
   "metadata": {},
   "outputs": [
    {
     "data": {
      "text/html": [
       "<div>\n",
       "<style scoped>\n",
       "    .dataframe tbody tr th:only-of-type {\n",
       "        vertical-align: middle;\n",
       "    }\n",
       "\n",
       "    .dataframe tbody tr th {\n",
       "        vertical-align: top;\n",
       "    }\n",
       "\n",
       "    .dataframe thead th {\n",
       "        text-align: right;\n",
       "    }\n",
       "</style>\n",
       "<table border=\"1\" class=\"dataframe\">\n",
       "  <thead>\n",
       "    <tr style=\"text-align: right;\">\n",
       "      <th></th>\n",
       "      <th>Pclass</th>\n",
       "      <th>Sex</th>\n",
       "      <th>Age</th>\n",
       "      <th>SibSp</th>\n",
       "      <th>Parch</th>\n",
       "      <th>Ticket</th>\n",
       "      <th>Fare</th>\n",
       "      <th>Embarked</th>\n",
       "      <th>Survived</th>\n",
       "    </tr>\n",
       "    <tr>\n",
       "      <th>PassengerId</th>\n",
       "      <th></th>\n",
       "      <th></th>\n",
       "      <th></th>\n",
       "      <th></th>\n",
       "      <th></th>\n",
       "      <th></th>\n",
       "      <th></th>\n",
       "      <th></th>\n",
       "      <th></th>\n",
       "    </tr>\n",
       "  </thead>\n",
       "  <tbody>\n",
       "    <tr>\n",
       "      <th>1</th>\n",
       "      <td>3</td>\n",
       "      <td>male</td>\n",
       "      <td>22.000000</td>\n",
       "      <td>1</td>\n",
       "      <td>0</td>\n",
       "      <td>A/5 21171</td>\n",
       "      <td>7.2500</td>\n",
       "      <td>S</td>\n",
       "      <td>1</td>\n",
       "    </tr>\n",
       "    <tr>\n",
       "      <th>5</th>\n",
       "      <td>3</td>\n",
       "      <td>male</td>\n",
       "      <td>35.000000</td>\n",
       "      <td>0</td>\n",
       "      <td>0</td>\n",
       "      <td>373450</td>\n",
       "      <td>8.0500</td>\n",
       "      <td>S</td>\n",
       "      <td>1</td>\n",
       "    </tr>\n",
       "    <tr>\n",
       "      <th>6</th>\n",
       "      <td>3</td>\n",
       "      <td>male</td>\n",
       "      <td>29.699118</td>\n",
       "      <td>0</td>\n",
       "      <td>0</td>\n",
       "      <td>330877</td>\n",
       "      <td>8.4583</td>\n",
       "      <td>Q</td>\n",
       "      <td>1</td>\n",
       "    </tr>\n",
       "    <tr>\n",
       "      <th>7</th>\n",
       "      <td>1</td>\n",
       "      <td>male</td>\n",
       "      <td>54.000000</td>\n",
       "      <td>0</td>\n",
       "      <td>0</td>\n",
       "      <td>17463</td>\n",
       "      <td>51.8625</td>\n",
       "      <td>S</td>\n",
       "      <td>1</td>\n",
       "    </tr>\n",
       "    <tr>\n",
       "      <th>8</th>\n",
       "      <td>3</td>\n",
       "      <td>male</td>\n",
       "      <td>2.000000</td>\n",
       "      <td>3</td>\n",
       "      <td>1</td>\n",
       "      <td>349909</td>\n",
       "      <td>21.0750</td>\n",
       "      <td>S</td>\n",
       "      <td>1</td>\n",
       "    </tr>\n",
       "  </tbody>\n",
       "</table>\n",
       "</div>"
      ],
      "text/plain": [
       "             Pclass   Sex        Age  SibSp  Parch     Ticket     Fare  \\\n",
       "PassengerId                                                              \n",
       "1                 3  male  22.000000      1      0  A/5 21171   7.2500   \n",
       "5                 3  male  35.000000      0      0     373450   8.0500   \n",
       "6                 3  male  29.699118      0      0     330877   8.4583   \n",
       "7                 1  male  54.000000      0      0      17463  51.8625   \n",
       "8                 3  male   2.000000      3      1     349909  21.0750   \n",
       "\n",
       "            Embarked  Survived  \n",
       "PassengerId                     \n",
       "1                  S         1  \n",
       "5                  S         1  \n",
       "6                  Q         1  \n",
       "7                  S         1  \n",
       "8                  S         1  "
      ]
     },
     "execution_count": 38,
     "metadata": {},
     "output_type": "execute_result"
    }
   ],
   "source": [
    "df0[\"Survived\"]=df0[\"Survived\"].replace({0:1})\n",
    "df0.head()"
   ]
  },
  {
   "cell_type": "code",
   "execution_count": 39,
   "id": "e7a49f48",
   "metadata": {},
   "outputs": [
    {
     "data": {
      "text/html": [
       "<div>\n",
       "<style scoped>\n",
       "    .dataframe tbody tr th:only-of-type {\n",
       "        vertical-align: middle;\n",
       "    }\n",
       "\n",
       "    .dataframe tbody tr th {\n",
       "        vertical-align: top;\n",
       "    }\n",
       "\n",
       "    .dataframe thead th {\n",
       "        text-align: right;\n",
       "    }\n",
       "</style>\n",
       "<table border=\"1\" class=\"dataframe\">\n",
       "  <thead>\n",
       "    <tr style=\"text-align: right;\">\n",
       "      <th></th>\n",
       "      <th>Survived</th>\n",
       "    </tr>\n",
       "    <tr>\n",
       "      <th>Sex</th>\n",
       "      <th></th>\n",
       "    </tr>\n",
       "  </thead>\n",
       "  <tbody>\n",
       "    <tr>\n",
       "      <th>female</th>\n",
       "      <td>81</td>\n",
       "    </tr>\n",
       "    <tr>\n",
       "      <th>male</th>\n",
       "      <td>468</td>\n",
       "    </tr>\n",
       "    <tr>\n",
       "      <th>Total</th>\n",
       "      <td>549</td>\n",
       "    </tr>\n",
       "  </tbody>\n",
       "</table>\n",
       "</div>"
      ],
      "text/plain": [
       "        Survived\n",
       "Sex             \n",
       "female        81\n",
       "male         468\n",
       "Total        549"
      ]
     },
     "execution_count": 39,
     "metadata": {},
     "output_type": "execute_result"
    }
   ],
   "source": [
    "pd.pivot_table(df0,index=[\"Sex\"],values=[\"Survived\"],margins=True,margins_name=\"Total\",aggfunc={\"Survived\":sum})"
   ]
  },
  {
   "cell_type": "code",
   "execution_count": 40,
   "id": "c318dd07",
   "metadata": {},
   "outputs": [
    {
     "data": {
      "text/html": [
       "<div>\n",
       "<style scoped>\n",
       "    .dataframe tbody tr th:only-of-type {\n",
       "        vertical-align: middle;\n",
       "    }\n",
       "\n",
       "    .dataframe tbody tr th {\n",
       "        vertical-align: top;\n",
       "    }\n",
       "\n",
       "    .dataframe thead th {\n",
       "        text-align: right;\n",
       "    }\n",
       "</style>\n",
       "<table border=\"1\" class=\"dataframe\">\n",
       "  <thead>\n",
       "    <tr style=\"text-align: right;\">\n",
       "      <th></th>\n",
       "      <th></th>\n",
       "      <th>Survived</th>\n",
       "    </tr>\n",
       "    <tr>\n",
       "      <th>Pclass</th>\n",
       "      <th>Sex</th>\n",
       "      <th></th>\n",
       "    </tr>\n",
       "  </thead>\n",
       "  <tbody>\n",
       "    <tr>\n",
       "      <th rowspan=\"2\" valign=\"top\">1</th>\n",
       "      <th>female</th>\n",
       "      <td>3</td>\n",
       "    </tr>\n",
       "    <tr>\n",
       "      <th>male</th>\n",
       "      <td>77</td>\n",
       "    </tr>\n",
       "    <tr>\n",
       "      <th rowspan=\"2\" valign=\"top\">2</th>\n",
       "      <th>female</th>\n",
       "      <td>6</td>\n",
       "    </tr>\n",
       "    <tr>\n",
       "      <th>male</th>\n",
       "      <td>91</td>\n",
       "    </tr>\n",
       "    <tr>\n",
       "      <th rowspan=\"2\" valign=\"top\">3</th>\n",
       "      <th>female</th>\n",
       "      <td>72</td>\n",
       "    </tr>\n",
       "    <tr>\n",
       "      <th>male</th>\n",
       "      <td>300</td>\n",
       "    </tr>\n",
       "    <tr>\n",
       "      <th>Total</th>\n",
       "      <th></th>\n",
       "      <td>549</td>\n",
       "    </tr>\n",
       "  </tbody>\n",
       "</table>\n",
       "</div>"
      ],
      "text/plain": [
       "               Survived\n",
       "Pclass Sex             \n",
       "1      female         3\n",
       "       male          77\n",
       "2      female         6\n",
       "       male          91\n",
       "3      female        72\n",
       "       male         300\n",
       "Total               549"
      ]
     },
     "execution_count": 40,
     "metadata": {},
     "output_type": "execute_result"
    }
   ],
   "source": [
    "pd.pivot_table(df0,index=[\"Pclass\",\"Sex\"],values=[\"Survived\"],margins=True,margins_name=\"Total\",aggfunc={\"Survived\":sum})"
   ]
  },
  {
   "cell_type": "code",
   "execution_count": 41,
   "id": "88736ed3",
   "metadata": {},
   "outputs": [
    {
     "data": {
      "text/html": [
       "<div>\n",
       "<style scoped>\n",
       "    .dataframe tbody tr th:only-of-type {\n",
       "        vertical-align: middle;\n",
       "    }\n",
       "\n",
       "    .dataframe tbody tr th {\n",
       "        vertical-align: top;\n",
       "    }\n",
       "\n",
       "    .dataframe thead th {\n",
       "        text-align: right;\n",
       "    }\n",
       "</style>\n",
       "<table border=\"1\" class=\"dataframe\">\n",
       "  <thead>\n",
       "    <tr style=\"text-align: right;\">\n",
       "      <th></th>\n",
       "      <th>Survived</th>\n",
       "    </tr>\n",
       "    <tr>\n",
       "      <th>Embarked</th>\n",
       "      <th></th>\n",
       "    </tr>\n",
       "  </thead>\n",
       "  <tbody>\n",
       "    <tr>\n",
       "      <th>C</th>\n",
       "      <td>75</td>\n",
       "    </tr>\n",
       "    <tr>\n",
       "      <th>Q</th>\n",
       "      <td>47</td>\n",
       "    </tr>\n",
       "    <tr>\n",
       "      <th>S</th>\n",
       "      <td>427</td>\n",
       "    </tr>\n",
       "    <tr>\n",
       "      <th>Total</th>\n",
       "      <td>549</td>\n",
       "    </tr>\n",
       "  </tbody>\n",
       "</table>\n",
       "</div>"
      ],
      "text/plain": [
       "          Survived\n",
       "Embarked          \n",
       "C               75\n",
       "Q               47\n",
       "S              427\n",
       "Total          549"
      ]
     },
     "execution_count": 41,
     "metadata": {},
     "output_type": "execute_result"
    }
   ],
   "source": [
    "pd.pivot_table(df0,index=[\"Embarked\"],values=[\"Survived\"],margins=True,margins_name=\"Total\",aggfunc={\"Survived\":sum})"
   ]
  },
  {
   "cell_type": "code",
   "execution_count": 42,
   "id": "15935093",
   "metadata": {},
   "outputs": [
    {
     "data": {
      "text/html": [
       "<div>\n",
       "<style scoped>\n",
       "    .dataframe tbody tr th:only-of-type {\n",
       "        vertical-align: middle;\n",
       "    }\n",
       "\n",
       "    .dataframe tbody tr th {\n",
       "        vertical-align: top;\n",
       "    }\n",
       "\n",
       "    .dataframe thead th {\n",
       "        text-align: right;\n",
       "    }\n",
       "</style>\n",
       "<table border=\"1\" class=\"dataframe\">\n",
       "  <thead>\n",
       "    <tr style=\"text-align: right;\">\n",
       "      <th></th>\n",
       "      <th>Survived</th>\n",
       "    </tr>\n",
       "    <tr>\n",
       "      <th>Embarked</th>\n",
       "      <th></th>\n",
       "    </tr>\n",
       "  </thead>\n",
       "  <tbody>\n",
       "    <tr>\n",
       "      <th>C</th>\n",
       "      <td>93</td>\n",
       "    </tr>\n",
       "    <tr>\n",
       "      <th>Q</th>\n",
       "      <td>30</td>\n",
       "    </tr>\n",
       "    <tr>\n",
       "      <th>S</th>\n",
       "      <td>219</td>\n",
       "    </tr>\n",
       "    <tr>\n",
       "      <th>Total</th>\n",
       "      <td>342</td>\n",
       "    </tr>\n",
       "  </tbody>\n",
       "</table>\n",
       "</div>"
      ],
      "text/plain": [
       "          Survived\n",
       "Embarked          \n",
       "C               93\n",
       "Q               30\n",
       "S              219\n",
       "Total          342"
      ]
     },
     "execution_count": 42,
     "metadata": {},
     "output_type": "execute_result"
    }
   ],
   "source": [
    "pd.pivot_table(df,index=[\"Embarked\"],values=[\"Survived\"],margins=True,margins_name=\"Total\",aggfunc={\"Survived\":sum})"
   ]
  },
  {
   "cell_type": "code",
   "execution_count": 43,
   "id": "0a190759",
   "metadata": {},
   "outputs": [
    {
     "data": {
      "text/html": [
       "<div>\n",
       "<style scoped>\n",
       "    .dataframe tbody tr th:only-of-type {\n",
       "        vertical-align: middle;\n",
       "    }\n",
       "\n",
       "    .dataframe tbody tr th {\n",
       "        vertical-align: top;\n",
       "    }\n",
       "\n",
       "    .dataframe thead th {\n",
       "        text-align: right;\n",
       "    }\n",
       "</style>\n",
       "<table border=\"1\" class=\"dataframe\">\n",
       "  <thead>\n",
       "    <tr style=\"text-align: right;\">\n",
       "      <th></th>\n",
       "      <th></th>\n",
       "      <th>Fare</th>\n",
       "    </tr>\n",
       "    <tr>\n",
       "      <th>Pclass</th>\n",
       "      <th>Embarked</th>\n",
       "      <th></th>\n",
       "    </tr>\n",
       "  </thead>\n",
       "  <tbody>\n",
       "    <tr>\n",
       "      <th rowspan=\"3\" valign=\"top\">1</th>\n",
       "      <th>C</th>\n",
       "      <td>104.718529</td>\n",
       "    </tr>\n",
       "    <tr>\n",
       "      <th>Q</th>\n",
       "      <td>90.000000</td>\n",
       "    </tr>\n",
       "    <tr>\n",
       "      <th>S</th>\n",
       "      <td>70.514244</td>\n",
       "    </tr>\n",
       "    <tr>\n",
       "      <th rowspan=\"3\" valign=\"top\">2</th>\n",
       "      <th>C</th>\n",
       "      <td>25.358335</td>\n",
       "    </tr>\n",
       "    <tr>\n",
       "      <th>Q</th>\n",
       "      <td>12.350000</td>\n",
       "    </tr>\n",
       "    <tr>\n",
       "      <th>S</th>\n",
       "      <td>20.327439</td>\n",
       "    </tr>\n",
       "    <tr>\n",
       "      <th rowspan=\"3\" valign=\"top\">3</th>\n",
       "      <th>C</th>\n",
       "      <td>11.214083</td>\n",
       "    </tr>\n",
       "    <tr>\n",
       "      <th>Q</th>\n",
       "      <td>11.183393</td>\n",
       "    </tr>\n",
       "    <tr>\n",
       "      <th>S</th>\n",
       "      <td>14.644083</td>\n",
       "    </tr>\n",
       "    <tr>\n",
       "      <th>Total</th>\n",
       "      <th></th>\n",
       "      <td>32.204208</td>\n",
       "    </tr>\n",
       "  </tbody>\n",
       "</table>\n",
       "</div>"
      ],
      "text/plain": [
       "                       Fare\n",
       "Pclass Embarked            \n",
       "1      C         104.718529\n",
       "       Q          90.000000\n",
       "       S          70.514244\n",
       "2      C          25.358335\n",
       "       Q          12.350000\n",
       "       S          20.327439\n",
       "3      C          11.214083\n",
       "       Q          11.183393\n",
       "       S          14.644083\n",
       "Total             32.204208"
      ]
     },
     "execution_count": 43,
     "metadata": {},
     "output_type": "execute_result"
    }
   ],
   "source": [
    "pd.pivot_table(df,index=[\"Pclass\",\"Embarked\"],values=[\"Fare\"],margins=True,margins_name=\"Total\",aggfunc={\"Fare\":np.mean})"
   ]
  },
  {
   "cell_type": "markdown",
   "id": "1cad4f43",
   "metadata": {},
   "source": [
    "## Pre-processing"
   ]
  },
  {
   "cell_type": "code",
   "execution_count": 44,
   "id": "8c679833",
   "metadata": {},
   "outputs": [
    {
     "data": {
      "text/html": [
       "<div>\n",
       "<style scoped>\n",
       "    .dataframe tbody tr th:only-of-type {\n",
       "        vertical-align: middle;\n",
       "    }\n",
       "\n",
       "    .dataframe tbody tr th {\n",
       "        vertical-align: top;\n",
       "    }\n",
       "\n",
       "    .dataframe thead th {\n",
       "        text-align: right;\n",
       "    }\n",
       "</style>\n",
       "<table border=\"1\" class=\"dataframe\">\n",
       "  <thead>\n",
       "    <tr style=\"text-align: right;\">\n",
       "      <th></th>\n",
       "      <th>Pclass</th>\n",
       "      <th>Sex</th>\n",
       "      <th>Age</th>\n",
       "      <th>SibSp</th>\n",
       "      <th>Parch</th>\n",
       "      <th>Ticket</th>\n",
       "      <th>Fare</th>\n",
       "      <th>Embarked</th>\n",
       "      <th>Survived</th>\n",
       "    </tr>\n",
       "    <tr>\n",
       "      <th>PassengerId</th>\n",
       "      <th></th>\n",
       "      <th></th>\n",
       "      <th></th>\n",
       "      <th></th>\n",
       "      <th></th>\n",
       "      <th></th>\n",
       "      <th></th>\n",
       "      <th></th>\n",
       "      <th></th>\n",
       "    </tr>\n",
       "  </thead>\n",
       "  <tbody>\n",
       "    <tr>\n",
       "      <th>1</th>\n",
       "      <td>3</td>\n",
       "      <td>male</td>\n",
       "      <td>22.0</td>\n",
       "      <td>1</td>\n",
       "      <td>0</td>\n",
       "      <td>A/5 21171</td>\n",
       "      <td>7.2500</td>\n",
       "      <td>S</td>\n",
       "      <td>0</td>\n",
       "    </tr>\n",
       "    <tr>\n",
       "      <th>2</th>\n",
       "      <td>1</td>\n",
       "      <td>female</td>\n",
       "      <td>38.0</td>\n",
       "      <td>1</td>\n",
       "      <td>0</td>\n",
       "      <td>PC 17599</td>\n",
       "      <td>71.2833</td>\n",
       "      <td>C</td>\n",
       "      <td>1</td>\n",
       "    </tr>\n",
       "    <tr>\n",
       "      <th>3</th>\n",
       "      <td>3</td>\n",
       "      <td>female</td>\n",
       "      <td>26.0</td>\n",
       "      <td>0</td>\n",
       "      <td>0</td>\n",
       "      <td>STON/O2. 3101282</td>\n",
       "      <td>7.9250</td>\n",
       "      <td>S</td>\n",
       "      <td>1</td>\n",
       "    </tr>\n",
       "    <tr>\n",
       "      <th>4</th>\n",
       "      <td>1</td>\n",
       "      <td>female</td>\n",
       "      <td>35.0</td>\n",
       "      <td>1</td>\n",
       "      <td>0</td>\n",
       "      <td>113803</td>\n",
       "      <td>53.1000</td>\n",
       "      <td>S</td>\n",
       "      <td>1</td>\n",
       "    </tr>\n",
       "    <tr>\n",
       "      <th>5</th>\n",
       "      <td>3</td>\n",
       "      <td>male</td>\n",
       "      <td>35.0</td>\n",
       "      <td>0</td>\n",
       "      <td>0</td>\n",
       "      <td>373450</td>\n",
       "      <td>8.0500</td>\n",
       "      <td>S</td>\n",
       "      <td>0</td>\n",
       "    </tr>\n",
       "  </tbody>\n",
       "</table>\n",
       "</div>"
      ],
      "text/plain": [
       "             Pclass     Sex   Age  SibSp  Parch            Ticket     Fare  \\\n",
       "PassengerId                                                                  \n",
       "1                 3    male  22.0      1      0         A/5 21171   7.2500   \n",
       "2                 1  female  38.0      1      0          PC 17599  71.2833   \n",
       "3                 3  female  26.0      0      0  STON/O2. 3101282   7.9250   \n",
       "4                 1  female  35.0      1      0            113803  53.1000   \n",
       "5                 3    male  35.0      0      0            373450   8.0500   \n",
       "\n",
       "            Embarked  Survived  \n",
       "PassengerId                     \n",
       "1                  S         0  \n",
       "2                  C         1  \n",
       "3                  S         1  \n",
       "4                  S         1  \n",
       "5                  S         0  "
      ]
     },
     "execution_count": 44,
     "metadata": {},
     "output_type": "execute_result"
    }
   ],
   "source": [
    "df.head()"
   ]
  },
  {
   "cell_type": "code",
   "execution_count": 45,
   "id": "6bfa97e4",
   "metadata": {},
   "outputs": [],
   "source": [
    "df.drop([\"Ticket\"], axis=1, inplace=True)"
   ]
  },
  {
   "cell_type": "code",
   "execution_count": 46,
   "id": "43c3c3b7",
   "metadata": {},
   "outputs": [
    {
     "name": "stdout",
     "output_type": "stream",
     "text": [
      "Feature Sex\n",
      "mapping {'female': 0, 'male': 1}\n",
      "Feature Embarked\n",
      "mapping {'C': 0, 'Q': 1, 'S': 2}\n"
     ]
    }
   ],
   "source": [
    "col=[\"Sex\", \"Embarked\"]\n",
    "le=LabelEncoder()\n",
    "\n",
    "for x in col:\n",
    "    df[x]=le.fit_transform(df[x])\n",
    "    le_name_mapping = dict(zip(le.classes_, le.transform(le.classes_)))\n",
    "    print(\"Feature\", x)\n",
    "    print(\"mapping\", le_name_mapping)"
   ]
  },
  {
   "cell_type": "code",
   "execution_count": 47,
   "id": "ffa11a39",
   "metadata": {},
   "outputs": [
    {
     "data": {
      "text/html": [
       "<div>\n",
       "<style scoped>\n",
       "    .dataframe tbody tr th:only-of-type {\n",
       "        vertical-align: middle;\n",
       "    }\n",
       "\n",
       "    .dataframe tbody tr th {\n",
       "        vertical-align: top;\n",
       "    }\n",
       "\n",
       "    .dataframe thead th {\n",
       "        text-align: right;\n",
       "    }\n",
       "</style>\n",
       "<table border=\"1\" class=\"dataframe\">\n",
       "  <thead>\n",
       "    <tr style=\"text-align: right;\">\n",
       "      <th></th>\n",
       "      <th>Pclass</th>\n",
       "      <th>Sex</th>\n",
       "      <th>Age</th>\n",
       "      <th>SibSp</th>\n",
       "      <th>Parch</th>\n",
       "      <th>Fare</th>\n",
       "      <th>Embarked</th>\n",
       "      <th>Survived</th>\n",
       "    </tr>\n",
       "    <tr>\n",
       "      <th>PassengerId</th>\n",
       "      <th></th>\n",
       "      <th></th>\n",
       "      <th></th>\n",
       "      <th></th>\n",
       "      <th></th>\n",
       "      <th></th>\n",
       "      <th></th>\n",
       "      <th></th>\n",
       "    </tr>\n",
       "  </thead>\n",
       "  <tbody>\n",
       "    <tr>\n",
       "      <th>1</th>\n",
       "      <td>3</td>\n",
       "      <td>1</td>\n",
       "      <td>22.0</td>\n",
       "      <td>1</td>\n",
       "      <td>0</td>\n",
       "      <td>7.2500</td>\n",
       "      <td>2</td>\n",
       "      <td>0</td>\n",
       "    </tr>\n",
       "    <tr>\n",
       "      <th>2</th>\n",
       "      <td>1</td>\n",
       "      <td>0</td>\n",
       "      <td>38.0</td>\n",
       "      <td>1</td>\n",
       "      <td>0</td>\n",
       "      <td>71.2833</td>\n",
       "      <td>0</td>\n",
       "      <td>1</td>\n",
       "    </tr>\n",
       "    <tr>\n",
       "      <th>3</th>\n",
       "      <td>3</td>\n",
       "      <td>0</td>\n",
       "      <td>26.0</td>\n",
       "      <td>0</td>\n",
       "      <td>0</td>\n",
       "      <td>7.9250</td>\n",
       "      <td>2</td>\n",
       "      <td>1</td>\n",
       "    </tr>\n",
       "    <tr>\n",
       "      <th>4</th>\n",
       "      <td>1</td>\n",
       "      <td>0</td>\n",
       "      <td>35.0</td>\n",
       "      <td>1</td>\n",
       "      <td>0</td>\n",
       "      <td>53.1000</td>\n",
       "      <td>2</td>\n",
       "      <td>1</td>\n",
       "    </tr>\n",
       "    <tr>\n",
       "      <th>5</th>\n",
       "      <td>3</td>\n",
       "      <td>1</td>\n",
       "      <td>35.0</td>\n",
       "      <td>0</td>\n",
       "      <td>0</td>\n",
       "      <td>8.0500</td>\n",
       "      <td>2</td>\n",
       "      <td>0</td>\n",
       "    </tr>\n",
       "  </tbody>\n",
       "</table>\n",
       "</div>"
      ],
      "text/plain": [
       "             Pclass  Sex   Age  SibSp  Parch     Fare  Embarked  Survived\n",
       "PassengerId                                                              \n",
       "1                 3    1  22.0      1      0   7.2500         2         0\n",
       "2                 1    0  38.0      1      0  71.2833         0         1\n",
       "3                 3    0  26.0      0      0   7.9250         2         1\n",
       "4                 1    0  35.0      1      0  53.1000         2         1\n",
       "5                 3    1  35.0      0      0   8.0500         2         0"
      ]
     },
     "execution_count": 47,
     "metadata": {},
     "output_type": "execute_result"
    }
   ],
   "source": [
    "df.head()"
   ]
  },
  {
   "cell_type": "code",
   "execution_count": 48,
   "id": "a8954dc3",
   "metadata": {},
   "outputs": [
    {
     "data": {
      "text/plain": [
       "(891, 8)"
      ]
     },
     "execution_count": 48,
     "metadata": {},
     "output_type": "execute_result"
    }
   ],
   "source": [
    "df.shape"
   ]
  },
  {
   "cell_type": "markdown",
   "id": "ac3f673d",
   "metadata": {},
   "source": [
    "# Splitting  Data"
   ]
  },
  {
   "cell_type": "markdown",
   "id": "451695e5",
   "metadata": {},
   "source": [
    "## Creating X and Y "
   ]
  },
  {
   "cell_type": "code",
   "execution_count": 49,
   "id": "697b49aa",
   "metadata": {},
   "outputs": [],
   "source": [
    "X=df.iloc[:,:-1]\n",
    "Y=df.iloc[:,-1]"
   ]
  },
  {
   "cell_type": "code",
   "execution_count": 50,
   "id": "b3dc81fe",
   "metadata": {},
   "outputs": [
    {
     "data": {
      "text/plain": [
       "((891, 7), (891,))"
      ]
     },
     "execution_count": 50,
     "metadata": {},
     "output_type": "execute_result"
    }
   ],
   "source": [
    "X.shape, Y.shape"
   ]
  },
  {
   "cell_type": "code",
   "execution_count": 51,
   "id": "c8f9a644",
   "metadata": {},
   "outputs": [],
   "source": [
    "# scaler = StandardScaler()\n",
    "# scaler.fit(X)\n",
    "# X = scaler.transform(X)"
   ]
  },
  {
   "cell_type": "code",
   "execution_count": 52,
   "id": "96aacdbe",
   "metadata": {},
   "outputs": [],
   "source": [
    "X_train, X_test, Y_train, Y_test = train_test_split(X, Y, test_size=0.2,random_state=10)"
   ]
  },
  {
   "cell_type": "markdown",
   "id": "94f16717",
   "metadata": {},
   "source": [
    "## Scaling Data"
   ]
  },
  {
   "cell_type": "code",
   "execution_count": 53,
   "id": "f9be26e8",
   "metadata": {},
   "outputs": [],
   "source": [
    "scaler= StandardScaler()\n",
    "X_train=scaler.fit_transform(X_train)\n",
    "X_test=scaler.transform(X_test)"
   ]
  },
  {
   "cell_type": "markdown",
   "id": "28d145bb",
   "metadata": {},
   "source": [
    "# Machine Learning Model"
   ]
  },
  {
   "cell_type": "markdown",
   "id": "8b406e6c",
   "metadata": {},
   "source": [
    "## Logistic regression"
   ]
  },
  {
   "cell_type": "code",
   "execution_count": 54,
   "id": "26d3123c",
   "metadata": {},
   "outputs": [],
   "source": [
    "log= LogisticRegression()\n",
    "log.fit(X_train, Y_train)\n",
    "LR= log.predict(X_test)"
   ]
  },
  {
   "cell_type": "code",
   "execution_count": 55,
   "id": "536c4bba",
   "metadata": {},
   "outputs": [
    {
     "name": "stdout",
     "output_type": "stream",
     "text": [
      "[(0, 0), (0, 0), (0, 0), (1, 1), (1, 1), (0, 0), (0, 0), (0, 0), (1, 0), (0, 0), (0, 0), (1, 1), (1, 1), (0, 0), (0, 0), (0, 0), (0, 0), (0, 0), (0, 1), (0, 0), (0, 0), (0, 0), (1, 1), (0, 0), (0, 0), (0, 0), (0, 0), (1, 1), (0, 0), (1, 1), (1, 1), (0, 0), (0, 1), (0, 0), (1, 1), (0, 0), (0, 1), (0, 0), (0, 0), (1, 0), (0, 0), (0, 0), (0, 0), (1, 0), (1, 0), (0, 0), (0, 0), (0, 0), (1, 1), (0, 0), (1, 0), (0, 0), (0, 0), (1, 0), (1, 0), (1, 1), (0, 0), (1, 1), (1, 1), (0, 0), (0, 0), (1, 1), (0, 1), (0, 1), (0, 0), (0, 0), (0, 0), (0, 0), (0, 0), (1, 1), (0, 0), (0, 0), (1, 0), (0, 0), (1, 1), (0, 0), (0, 0), (1, 0), (0, 1), (0, 0), (0, 0), (0, 0), (0, 0), (1, 1), (1, 1), (0, 0), (1, 1), (0, 1), (0, 0), (1, 1), (1, 0), (0, 0), (0, 0), (0, 0), (1, 1), (0, 1), (1, 1), (0, 0), (1, 1), (0, 0), (1, 0), (0, 0), (0, 0), (0, 0), (1, 1), (1, 1), (0, 0), (1, 0), (1, 1), (1, 1), (1, 1), (0, 0), (1, 1), (0, 0), (0, 0), (0, 0), (0, 0), (1, 1), (1, 1), (0, 1), (1, 1), (0, 0), (1, 1), (1, 1), (1, 0), (1, 1), (1, 1), (0, 0), (0, 0), (1, 0), (1, 1), (0, 0), (0, 0), (1, 1), (1, 1), (0, 1), (0, 0), (1, 1), (1, 1), (0, 0), (0, 1), (0, 0), (1, 0), (0, 0), (0, 0), (0, 0), (0, 0), (0, 0), (0, 0), (0, 0), (0, 0), (0, 0), (1, 1), (0, 0), (0, 0), (0, 1), (0, 0), (0, 0), (0, 0), (0, 0), (0, 0), (1, 1), (1, 0), (0, 0), (0, 0), (0, 0), (1, 0), (0, 0), (1, 1), (0, 0), (0, 1), (1, 1), (0, 0), (0, 1), (0, 0), (0, 0), (0, 0), (0, 0), (0, 1)]\n"
     ]
    }
   ],
   "source": [
    "print(list(zip(Y_test,LR)))"
   ]
  },
  {
   "cell_type": "code",
   "execution_count": 56,
   "id": "c9c3e5f4",
   "metadata": {},
   "outputs": [
    {
     "name": "stdout",
     "output_type": "stream",
     "text": [
      "Accuracy score:\n",
      " 0.8212290502793296 \n",
      "\n",
      "Confusion matix:\n",
      " [[102  15]\n",
      " [ 17  45]] \n",
      "\n",
      "Classification report\n",
      "               precision    recall  f1-score   support\n",
      "\n",
      "           0       0.86      0.87      0.86       117\n",
      "           1       0.75      0.73      0.74        62\n",
      "\n",
      "    accuracy                           0.82       179\n",
      "   macro avg       0.80      0.80      0.80       179\n",
      "weighted avg       0.82      0.82      0.82       179\n",
      " \n",
      "\n"
     ]
    }
   ],
   "source": [
    "print(\"Accuracy score:\\n\", accuracy_score(Y_test, LR),\"\\n\")\n",
    "print(\"Confusion matix:\\n\", confusion_matrix(Y_test, LR),\"\\n\")\n",
    "print(\"Classification report\\n\", classification_report(Y_test, LR),\"\\n\")"
   ]
  },
  {
   "cell_type": "code",
   "execution_count": 57,
   "id": "64684852",
   "metadata": {},
   "outputs": [
    {
     "name": "stdout",
     "output_type": "stream",
     "text": [
      "[[0.91187696 0.08812304]\n",
      " [0.86337811 0.13662189]\n",
      " [0.88490515 0.11509485]\n",
      " [0.07773339 0.92226661]\n",
      " [0.11309789 0.88690211]\n",
      " [0.85930674 0.14069326]\n",
      " [0.88155016 0.11844984]\n",
      " [0.8478028  0.1521972 ]\n",
      " [0.90353028 0.09646972]\n",
      " [0.87081594 0.12918406]\n",
      " [0.73044995 0.26955005]\n",
      " [0.08054129 0.91945871]\n",
      " [0.31564894 0.68435106]\n",
      " [0.53250615 0.46749385]\n",
      " [0.75620982 0.24379018]\n",
      " [0.76314612 0.23685388]\n",
      " [0.97254334 0.02745666]\n",
      " [0.94412669 0.05587331]\n",
      " [0.43166603 0.56833397]\n",
      " [0.81988617 0.18011383]\n",
      " [0.92977016 0.07022984]\n",
      " [0.67085464 0.32914536]\n",
      " [0.28053338 0.71946662]\n",
      " [0.91986702 0.08013298]\n",
      " [0.70768591 0.29231409]\n",
      " [0.86290611 0.13709389]\n",
      " [0.86323054 0.13676946]\n",
      " [0.36964561 0.63035439]\n",
      " [0.86807322 0.13192678]\n",
      " [0.06977491 0.93022509]\n",
      " [0.1176891  0.8823109 ]\n",
      " [0.76314612 0.23685388]\n",
      " [0.2760639  0.7239361 ]\n",
      " [0.96333043 0.03666957]\n",
      " [0.20408852 0.79591148]\n",
      " [0.89674168 0.10325832]\n",
      " [0.32239441 0.67760559]\n",
      " [0.73129609 0.26870391]\n",
      " [0.86273544 0.13726456]\n",
      " [0.90352146 0.09647854]\n",
      " [0.94092367 0.05907633]\n",
      " [0.85059403 0.14940597]\n",
      " [0.89672569 0.10327431]\n",
      " [0.73563608 0.26436392]\n",
      " [0.75553669 0.24446331]\n",
      " [0.52535389 0.47464611]\n",
      " [0.86709135 0.13290865]\n",
      " [0.86706664 0.13293336]\n",
      " [0.02665877 0.97334123]\n",
      " [0.74067597 0.25932403]\n",
      " [0.7101952  0.2898048 ]\n",
      " [0.87755038 0.12244962]\n",
      " [0.84408285 0.15591715]\n",
      " [0.62421032 0.37578968]\n",
      " [0.69619985 0.30380015]\n",
      " [0.034408   0.965592  ]\n",
      " [0.94055439 0.05944561]\n",
      " [0.23150835 0.76849165]\n",
      " [0.06005926 0.93994074]\n",
      " [0.94362931 0.05637069]\n",
      " [0.84339245 0.15660755]\n",
      " [0.09654441 0.90345559]\n",
      " [0.2937612  0.7062388 ]\n",
      " [0.43687425 0.56312575]\n",
      " [0.97387202 0.02612798]\n",
      " [0.85521257 0.14478743]\n",
      " [0.70975283 0.29024717]\n",
      " [0.89911923 0.10088077]\n",
      " [0.90908935 0.09091065]\n",
      " [0.43415639 0.56584361]\n",
      " [0.6642701  0.3357299 ]\n",
      " [0.92866385 0.07133615]\n",
      " [0.88268703 0.11731297]\n",
      " [0.96056976 0.03943024]\n",
      " [0.18417739 0.81582261]\n",
      " [0.84670752 0.15329248]\n",
      " [0.87447676 0.12552324]\n",
      " [0.96248947 0.03751053]\n",
      " [0.37308734 0.62691266]\n",
      " [0.84218398 0.15781602]\n",
      " [0.92605757 0.07394243]\n",
      " [0.86273544 0.13726456]\n",
      " [0.8383452  0.1616548 ]\n",
      " [0.4252912  0.5747088 ]\n",
      " [0.14787569 0.85212431]\n",
      " [0.78462957 0.21537043]\n",
      " [0.07703073 0.92296927]\n",
      " [0.07121027 0.92878973]\n",
      " [0.76157264 0.23842736]\n",
      " [0.15607691 0.84392309]\n",
      " [0.90350588 0.09649412]\n",
      " [0.86273827 0.13726173]\n",
      " [0.52930283 0.47069717]\n",
      " [0.89670528 0.10329472]\n",
      " [0.13141098 0.86858902]\n",
      " [0.36504614 0.63495386]\n",
      " [0.38408315 0.61591685]\n",
      " [0.90450272 0.09549728]\n",
      " [0.06827238 0.93172762]\n",
      " [0.78601112 0.21398888]\n",
      " [0.8692115  0.1307885 ]\n",
      " [0.70937053 0.29062947]\n",
      " [0.95131636 0.04868364]\n",
      " [0.5845795  0.4154205 ]\n",
      " [0.20476638 0.79523362]\n",
      " [0.05810699 0.94189301]\n",
      " [0.76314612 0.23685388]\n",
      " [0.518856   0.481144  ]\n",
      " [0.19764442 0.80235558]\n",
      " [0.39000123 0.60999877]\n",
      " [0.23060819 0.76939181]\n",
      " [0.93876491 0.06123509]\n",
      " [0.05321817 0.94678183]\n",
      " [0.89670528 0.10329472]\n",
      " [0.86066549 0.13933451]\n",
      " [0.72838912 0.27161088]\n",
      " [0.7222685  0.2777315 ]\n",
      " [0.03705016 0.96294984]\n",
      " [0.33724385 0.66275615]\n",
      " [0.44542914 0.55457086]\n",
      " [0.03987124 0.96012876]\n",
      " [0.9636644  0.0363356 ]\n",
      " [0.0367481  0.9632519 ]\n",
      " [0.28127389 0.71872611]\n",
      " [0.69925136 0.30074864]\n",
      " [0.2937612  0.7062388 ]\n",
      " [0.0527211  0.9472789 ]\n",
      " [0.92940846 0.07059154]\n",
      " [0.89670528 0.10329472]\n",
      " [0.69400391 0.30599609]\n",
      " [0.05929386 0.94070614]\n",
      " [0.87058197 0.12941803]\n",
      " [0.87803562 0.12196438]\n",
      " [0.04877024 0.95122976]\n",
      " [0.23527291 0.76472709]\n",
      " [0.36488052 0.63511948]\n",
      " [0.94570464 0.05429536]\n",
      " [0.37242599 0.62757401]\n",
      " [0.0613534  0.9386466 ]\n",
      " [0.94598668 0.05401332]\n",
      " [0.29925438 0.70074562]\n",
      " [0.88490515 0.11509485]\n",
      " [0.53090481 0.46909519]\n",
      " [0.6007978  0.3992022 ]\n",
      " [0.89681114 0.10318886]\n",
      " [0.89584833 0.10415167]\n",
      " [0.62287134 0.37712866]\n",
      " [0.93551404 0.06448596]\n",
      " [0.91527677 0.08472323]\n",
      " [0.89965181 0.10034819]\n",
      " [0.90636828 0.09363172]\n",
      " [0.65306944 0.34693056]\n",
      " [0.03812058 0.96187942]\n",
      " [0.93884201 0.06115799]\n",
      " [0.83507964 0.16492036]\n",
      " [0.18780028 0.81219972]\n",
      " [0.89681114 0.10318886]\n",
      " [0.80405843 0.19594157]\n",
      " [0.86273544 0.13726456]\n",
      " [0.81988617 0.18011383]\n",
      " [0.87333937 0.12666063]\n",
      " [0.2937612  0.7062388 ]\n",
      " [0.51827012 0.48172988]\n",
      " [0.89672569 0.10327431]\n",
      " [0.85530545 0.14469455]\n",
      " [0.52952079 0.47047921]\n",
      " [0.89729867 0.10270133]\n",
      " [0.81574928 0.18425072]\n",
      " [0.38823573 0.61176427]\n",
      " [0.86694511 0.13305489]\n",
      " [0.27881932 0.72118068]\n",
      " [0.44710214 0.55289786]\n",
      " [0.95252855 0.04747145]\n",
      " [0.31505064 0.68494936]\n",
      " [0.78418372 0.21581628]\n",
      " [0.68989095 0.31010905]\n",
      " [0.93285497 0.06714503]\n",
      " [0.95794374 0.04205626]\n",
      " [0.3691251  0.6308749 ]]\n"
     ]
    }
   ],
   "source": [
    "# store the predicted probabilities\n",
    "LR_prob= log.predict_proba(X_test)\n",
    "print(LR_prob)"
   ]
  },
  {
   "cell_type": "code",
   "execution_count": 58,
   "id": "2fa5b1a0",
   "metadata": {},
   "outputs": [
    {
     "name": "stdout",
     "output_type": "stream",
     "text": [
      "0.8610421836228288\n"
     ]
    }
   ],
   "source": [
    "fpr, tpr, z= metrics.roc_curve(Y_test, LR_prob[:,1])\n",
    "auc= metrics.auc(fpr,tpr)\n",
    "print(auc)"
   ]
  },
  {
   "cell_type": "code",
   "execution_count": 59,
   "id": "5890cd15",
   "metadata": {},
   "outputs": [
    {
     "data": {
      "image/png": "[encoded data removed]",
      "text/plain": [
       "<Figure size 432x288 with 1 Axes>"
      ]
     },
     "metadata": {
      "needs_background": "light"
     },
     "output_type": "display_data"
    }
   ],
   "source": [
    "plt.title('Receiver Operating Characteristic')\n",
    "plt.plot(fpr,tpr, 'b', label = auc)\n",
    "plt.legend(loc = 'lower right')\n",
    "plt.plot([0, 1], [0, 1],'r--')\n",
    "plt.xlim([0, 1])\n",
    "plt.ylim([0, 1])\n",
    "plt.xlabel('False Positive Rate')\n",
    "plt.ylabel('True Positive Rate')\n",
    "plt.show()"
   ]
  },
  {
   "cell_type": "markdown",
   "id": "32ae737c",
   "metadata": {},
   "source": [
    "## Stochastic Gradient Decent"
   ]
  },
  {
   "cell_type": "code",
   "execution_count": 60,
   "id": "db2a1a3c",
   "metadata": {},
   "outputs": [],
   "source": [
    "sgd= SGDClassifier(loss= \"log\", random_state= 10, alpha= 0.01, max_iter= 1000, shuffle= True, early_stopping= True, n_iter_no_change= 3)\n",
    "sgd.fit(X_train, Y_train)\n",
    "SGD= sgd.predict(X_test)"
   ]
  },
  {
   "cell_type": "code",
   "execution_count": 61,
   "id": "29ae0b54",
   "metadata": {},
   "outputs": [
    {
     "name": "stdout",
     "output_type": "stream",
     "text": [
      "[(0, 0), (0, 0), (0, 0), (1, 1), (1, 1), (0, 0), (0, 0), (0, 0), (1, 0), (0, 0), (0, 0), (1, 1), (1, 1), (0, 0), (0, 0), (0, 0), (0, 0), (0, 0), (0, 1), (0, 0), (0, 0), (0, 0), (1, 1), (0, 0), (0, 0), (0, 0), (0, 0), (1, 1), (0, 0), (1, 1), (1, 1), (0, 0), (0, 1), (0, 0), (1, 1), (0, 0), (0, 1), (0, 0), (0, 0), (1, 0), (0, 0), (0, 0), (0, 0), (1, 0), (1, 0), (0, 0), (0, 0), (0, 0), (1, 1), (0, 0), (1, 0), (0, 0), (0, 0), (1, 0), (1, 0), (1, 1), (0, 0), (1, 1), (1, 1), (0, 0), (0, 0), (1, 1), (0, 1), (0, 1), (0, 0), (0, 0), (0, 0), (0, 0), (0, 0), (1, 0), (0, 0), (0, 0), (1, 0), (0, 0), (1, 1), (0, 0), (0, 0), (1, 0), (0, 1), (0, 0), (0, 0), (0, 0), (0, 0), (1, 1), (1, 1), (0, 0), (1, 1), (0, 1), (0, 0), (1, 1), (1, 0), (0, 0), (0, 0), (0, 0), (1, 1), (0, 1), (1, 1), (0, 0), (1, 1), (0, 0), (1, 0), (0, 0), (0, 0), (0, 0), (1, 1), (1, 1), (0, 0), (1, 1), (1, 1), (1, 1), (1, 1), (0, 0), (1, 1), (0, 0), (0, 0), (0, 0), (0, 0), (1, 1), (1, 1), (0, 0), (1, 1), (0, 0), (1, 1), (1, 1), (1, 0), (1, 1), (1, 1), (0, 0), (0, 0), (1, 0), (1, 1), (0, 0), (0, 0), (1, 1), (1, 1), (0, 1), (0, 0), (1, 1), (1, 1), (0, 0), (0, 1), (0, 0), (1, 0), (0, 0), (0, 0), (0, 0), (0, 0), (0, 0), (0, 0), (0, 0), (0, 0), (0, 0), (1, 1), (0, 0), (0, 0), (0, 1), (0, 0), (0, 0), (0, 0), (0, 0), (0, 0), (1, 1), (1, 0), (0, 0), (0, 0), (0, 1), (1, 0), (0, 0), (1, 1), (0, 0), (0, 1), (1, 1), (0, 0), (0, 1), (0, 0), (0, 0), (0, 0), (0, 0), (0, 1)]\n"
     ]
    }
   ],
   "source": [
    "print(list(zip(Y_test,SGD)))"
   ]
  },
  {
   "cell_type": "code",
   "execution_count": 62,
   "id": "6ccc8efa",
   "metadata": {},
   "outputs": [
    {
     "name": "stdout",
     "output_type": "stream",
     "text": [
      "Accuracy score:\n",
      " 0.8212290502793296 \n",
      "\n",
      "Confusion matix:\n",
      " [[102  15]\n",
      " [ 17  45]] \n",
      "\n",
      "Classification report\n",
      "               precision    recall  f1-score   support\n",
      "\n",
      "           0       0.86      0.87      0.86       117\n",
      "           1       0.75      0.73      0.74        62\n",
      "\n",
      "    accuracy                           0.82       179\n",
      "   macro avg       0.80      0.80      0.80       179\n",
      "weighted avg       0.82      0.82      0.82       179\n",
      " \n",
      "\n"
     ]
    }
   ],
   "source": [
    "print(\"Accuracy score:\\n\", accuracy_score(Y_test, SGD),\"\\n\")\n",
    "print(\"Confusion matix:\\n\", confusion_matrix(Y_test, SGD),\"\\n\")\n",
    "print(\"Classification report\\n\", classification_report(Y_test, SGD),\"\\n\")"
   ]
  },
  {
   "cell_type": "markdown",
   "id": "a12a9bbd",
   "metadata": {},
   "source": [
    "## Tune Stochastic Gradient Decent"
   ]
  },
  {
   "cell_type": "markdown",
   "id": "435b1be9",
   "metadata": {},
   "source": [
    "### GridSearchCV for model tunning"
   ]
  },
  {
   "cell_type": "code",
   "execution_count": 63,
   "id": "9a3025ac",
   "metadata": {},
   "outputs": [],
   "source": [
    "sgd_tune =SGDClassifier(random_state=10)\n",
    "\n",
    "parameter_space = { \"loss\":[\"log\"], \n",
    "                   \"alpha\": [0.01, 0.001,0.0001], \n",
    "                   \"max_iter\": [1000, 1100, 1200, ], \n",
    "                   \"n_iter_no_change\":[3, 4 , 5 , 6 , 8 , 10] \n",
    "                  }\n",
    "\n",
    "clf = GridSearchCV(sgd_tune, parameter_space, n_jobs=-1, cv=5)"
   ]
  },
  {
   "cell_type": "code",
   "execution_count": 64,
   "id": "a1074275",
   "metadata": {},
   "outputs": [
    {
     "data": {
      "text/plain": [
       "GridSearchCV(cv=5, estimator=SGDClassifier(random_state=10), n_jobs=-1,\n",
       "             param_grid={'alpha': [0.01, 0.001, 0.0001], 'loss': ['log'],\n",
       "                         'max_iter': [1000, 1100, 1200],\n",
       "                         'n_iter_no_change': [3, 4, 5, 6, 8, 10]})"
      ]
     },
     "execution_count": 64,
     "metadata": {},
     "output_type": "execute_result"
    }
   ],
   "source": [
    "clf.fit(X_train,Y_train)"
   ]
  },
  {
   "cell_type": "code",
   "execution_count": 65,
   "id": "bd7e00e0",
   "metadata": {},
   "outputs": [
    {
     "name": "stdout",
     "output_type": "stream",
     "text": [
      "Best parameters found:\n",
      " {'alpha': 0.001, 'loss': 'log', 'max_iter': 1000, 'n_iter_no_change': 3}\n"
     ]
    }
   ],
   "source": [
    "print('Best parameters found:\\n', clf.best_params_)"
   ]
  },
  {
   "cell_type": "code",
   "execution_count": 66,
   "id": "091d3f99",
   "metadata": {},
   "outputs": [],
   "source": [
    "sgd_tune= SGDClassifier(loss=\"log\", alpha=0.001, max_iter=1000, random_state= 10, shuffle= True, n_iter_no_change=6)\n",
    "sgd_tune.fit(X_train, Y_train)\n",
    "SGD_tune= sgd_tune.predict(X_test)"
   ]
  },
  {
   "cell_type": "code",
   "execution_count": 67,
   "id": "b7931c55",
   "metadata": {},
   "outputs": [
    {
     "name": "stdout",
     "output_type": "stream",
     "text": [
      "Accuracy score:\n",
      " 0.8268156424581006 \n",
      "\n",
      "Confusion matix:\n",
      " [[103  14]\n",
      " [ 17  45]] \n",
      "\n",
      "Classification report\n",
      "               precision    recall  f1-score   support\n",
      "\n",
      "           0       0.86      0.88      0.87       117\n",
      "           1       0.76      0.73      0.74        62\n",
      "\n",
      "    accuracy                           0.83       179\n",
      "   macro avg       0.81      0.80      0.81       179\n",
      "weighted avg       0.83      0.83      0.83       179\n",
      " \n",
      "\n"
     ]
    }
   ],
   "source": [
    "print(\"Accuracy score:\\n\", accuracy_score(Y_test, SGD_tune),\"\\n\")\n",
    "print(\"Confusion matix:\\n\", confusion_matrix(Y_test, SGD_tune),\"\\n\")\n",
    "print(\"Classification report\\n\", classification_report(Y_test, SGD_tune),\"\\n\")"
   ]
  },
  {
   "cell_type": "markdown",
   "id": "33252940",
   "metadata": {},
   "source": [
    "## K-Nearest Neighbors"
   ]
  },
  {
   "cell_type": "code",
   "execution_count": 68,
   "id": "3eacb397",
   "metadata": {},
   "outputs": [],
   "source": [
    "knn=KNeighborsClassifier(n_neighbors=int(np.sqrt(len(X_train))),metric='euclidean')\n",
    "knn.fit(X_train,Y_train)\n",
    "KNN=knn.predict(X_test)"
   ]
  },
  {
   "cell_type": "code",
   "execution_count": 69,
   "id": "c53649c0",
   "metadata": {},
   "outputs": [
    {
     "name": "stdout",
     "output_type": "stream",
     "text": [
      "[(0, 0), (0, 0), (0, 0), (1, 1), (1, 1), (0, 0), (0, 0), (0, 0), (1, 0), (0, 0), (0, 0), (1, 1), (1, 1), (0, 0), (0, 0), (0, 0), (0, 0), (0, 0), (0, 0), (0, 0), (0, 0), (0, 0), (1, 1), (0, 0), (0, 0), (0, 0), (0, 0), (1, 1), (0, 0), (1, 1), (1, 1), (0, 0), (0, 1), (0, 0), (1, 1), (0, 0), (0, 0), (0, 1), (0, 0), (1, 0), (0, 0), (0, 0), (0, 0), (1, 0), (1, 0), (0, 0), (0, 0), (0, 0), (1, 1), (0, 0), (1, 0), (0, 0), (0, 0), (1, 0), (1, 1), (1, 1), (0, 0), (1, 1), (1, 1), (0, 0), (0, 0), (1, 1), (0, 1), (0, 0), (0, 0), (0, 0), (0, 0), (0, 0), (0, 0), (1, 1), (0, 0), (0, 0), (1, 0), (0, 0), (1, 1), (0, 0), (0, 0), (1, 0), (0, 0), (0, 0), (0, 0), (0, 0), (0, 0), (1, 1), (1, 1), (0, 0), (1, 1), (0, 1), (0, 0), (1, 1), (1, 0), (0, 0), (0, 0), (0, 0), (1, 1), (0, 0), (1, 0), (0, 0), (1, 1), (0, 0), (1, 1), (0, 0), (0, 0), (0, 0), (1, 1), (1, 1), (0, 0), (1, 1), (1, 1), (1, 0), (1, 1), (0, 0), (1, 1), (0, 0), (0, 0), (0, 0), (0, 0), (1, 1), (1, 0), (0, 0), (1, 1), (0, 0), (1, 1), (1, 0), (1, 0), (1, 1), (1, 1), (0, 0), (0, 0), (1, 1), (1, 1), (0, 0), (0, 0), (1, 1), (1, 1), (0, 0), (0, 0), (1, 0), (1, 1), (0, 0), (0, 1), (0, 0), (1, 0), (0, 0), (0, 0), (0, 0), (0, 0), (0, 0), (0, 0), (0, 0), (0, 0), (0, 0), (1, 1), (0, 0), (0, 0), (0, 1), (0, 0), (0, 0), (0, 0), (0, 0), (0, 0), (1, 1), (1, 0), (0, 0), (0, 0), (0, 1), (1, 0), (0, 0), (1, 1), (0, 0), (0, 1), (1, 1), (0, 0), (0, 1), (0, 0), (0, 0), (0, 0), (0, 0), (0, 0)]\n"
     ]
    }
   ],
   "source": [
    "print(list(zip(Y_test,KNN)))"
   ]
  },
  {
   "cell_type": "code",
   "execution_count": 70,
   "id": "2d23c50b",
   "metadata": {},
   "outputs": [
    {
     "name": "stdout",
     "output_type": "stream",
     "text": [
      "Accuracy score:\n",
      " 0.8491620111731844 \n",
      "\n",
      "Confusion matix:\n",
      " [[108   9]\n",
      " [ 18  44]] \n",
      "\n",
      "Classification report\n",
      "               precision    recall  f1-score   support\n",
      "\n",
      "           0       0.86      0.92      0.89       117\n",
      "           1       0.83      0.71      0.77        62\n",
      "\n",
      "    accuracy                           0.85       179\n",
      "   macro avg       0.84      0.82      0.83       179\n",
      "weighted avg       0.85      0.85      0.85       179\n",
      " \n",
      "\n"
     ]
    }
   ],
   "source": [
    "print(\"Accuracy score:\\n\", accuracy_score(Y_test, KNN),\"\\n\")\n",
    "print(\"Confusion matix:\\n\", confusion_matrix(Y_test, KNN),\"\\n\")\n",
    "print(\"Classification report\\n\", classification_report(Y_test, KNN),\"\\n\")"
   ]
  },
  {
   "cell_type": "code",
   "execution_count": 71,
   "id": "c5a651e4",
   "metadata": {},
   "outputs": [
    {
     "data": {
      "text/plain": [
       "26"
      ]
     },
     "execution_count": 71,
     "metadata": {},
     "output_type": "execute_result"
    }
   ],
   "source": [
    "int(np.sqrt(len(X_train)))"
   ]
  },
  {
   "cell_type": "markdown",
   "id": "da31608e",
   "metadata": {},
   "source": [
    "## Tune K-Nearest Neighbors"
   ]
  },
  {
   "cell_type": "code",
   "execution_count": 72,
   "id": "5145361a",
   "metadata": {
    "scrolled": false
   },
   "outputs": [
    {
     "name": "stdout",
     "output_type": "stream",
     "text": [
      "Accuracy is  0.7150837988826816 for K-Value: 1\n",
      "Accuracy is  0.8100558659217877 for K-Value: 2\n",
      "Accuracy is  0.8268156424581006 for K-Value: 3\n",
      "Accuracy is  0.8268156424581006 for K-Value: 4\n",
      "Accuracy is  0.8156424581005587 for K-Value: 5\n",
      "Accuracy is  0.8379888268156425 for K-Value: 6\n",
      "Accuracy is  0.8435754189944135 for K-Value: 7\n",
      "Accuracy is  0.8379888268156425 for K-Value: 8\n",
      "Accuracy is  0.8379888268156425 for K-Value: 9\n",
      "Accuracy is  0.8435754189944135 for K-Value: 10\n",
      "Accuracy is  0.8547486033519553 for K-Value: 11\n",
      "Accuracy is  0.8379888268156425 for K-Value: 12\n",
      "Accuracy is  0.8435754189944135 for K-Value: 13\n",
      "Accuracy is  0.8435754189944135 for K-Value: 14\n",
      "Accuracy is  0.8379888268156425 for K-Value: 15\n",
      "Accuracy is  0.8379888268156425 for K-Value: 16\n",
      "Accuracy is  0.8324022346368715 for K-Value: 17\n",
      "Accuracy is  0.8379888268156425 for K-Value: 18\n",
      "Accuracy is  0.8268156424581006 for K-Value: 19\n",
      "Accuracy is  0.8491620111731844 for K-Value: 20\n",
      "Accuracy is  0.8379888268156425 for K-Value: 21\n",
      "Accuracy is  0.8491620111731844 for K-Value: 22\n",
      "Accuracy is  0.8491620111731844 for K-Value: 23\n",
      "Accuracy is  0.8491620111731844 for K-Value: 24\n",
      "Accuracy is  0.8435754189944135 for K-Value: 25\n",
      "Accuracy is  0.8491620111731844 for K-Value: 26\n",
      "Accuracy is  0.8491620111731844 for K-Value: 27\n",
      "Accuracy is  0.8379888268156425 for K-Value: 28\n",
      "Accuracy is  0.8435754189944135 for K-Value: 29\n",
      "Accuracy is  0.8435754189944135 for K-Value: 30\n",
      "Accuracy is  0.8435754189944135 for K-Value: 31\n",
      "Accuracy is  0.8435754189944135 for K-Value: 32\n",
      "Accuracy is  0.8491620111731844 for K-Value: 33\n",
      "Accuracy is  0.8435754189944135 for K-Value: 34\n",
      "Accuracy is  0.8212290502793296 for K-Value: 35\n",
      "Accuracy is  0.8212290502793296 for K-Value: 36\n",
      "Accuracy is  0.8212290502793296 for K-Value: 37\n",
      "Accuracy is  0.8268156424581006 for K-Value: 38\n",
      "Accuracy is  0.8324022346368715 for K-Value: 39\n",
      "Accuracy is  0.8268156424581006 for K-Value: 40\n",
      "Accuracy is  0.8268156424581006 for K-Value: 41\n",
      "Accuracy is  0.8268156424581006 for K-Value: 42\n",
      "Accuracy is  0.8324022346368715 for K-Value: 43\n",
      "Accuracy is  0.8268156424581006 for K-Value: 44\n",
      "Accuracy is  0.8212290502793296 for K-Value: 45\n",
      "Accuracy is  0.8268156424581006 for K-Value: 46\n",
      "Accuracy is  0.8212290502793296 for K-Value: 47\n",
      "Accuracy is  0.8212290502793296 for K-Value: 48\n",
      "Accuracy is  0.8212290502793296 for K-Value: 49\n"
     ]
    }
   ],
   "source": [
    "my_dict={}\n",
    "\n",
    "for K in range(1,50):\n",
    "    knn_tune = KNeighborsClassifier(n_neighbors=K, metric=\"minkowski\")\n",
    "    knn_tune.fit(X_train, Y_train) \n",
    "    KNN_tune = knn_tune.predict(X_test)\n",
    "    print (\"Accuracy is \", accuracy_score(Y_test, KNN_tune), \"for K-Value:\",K)\n",
    "    my_dict[K]=accuracy_score(Y_test, KNN_tune)"
   ]
  },
  {
   "cell_type": "code",
   "execution_count": 73,
   "id": "9d059cd8",
   "metadata": {},
   "outputs": [
    {
     "name": "stdout",
     "output_type": "stream",
     "text": [
      "11 : 0.8547486033519553\n"
     ]
    }
   ],
   "source": [
    "for k in my_dict:\n",
    "    if my_dict[k]==max(my_dict.values()):\n",
    "        print(k,\":\",my_dict[k])"
   ]
  },
  {
   "cell_type": "code",
   "execution_count": 169,
   "id": "b19d8bba",
   "metadata": {},
   "outputs": [],
   "source": [
    "knn_tune=KNeighborsClassifier(n_neighbors=11,metric='minkowski')\n",
    "knn_tune.fit(X_train,Y_train)\n",
    "KNN_tune=knn_tune.predict(X_test)"
   ]
  },
  {
   "cell_type": "code",
   "execution_count": 170,
   "id": "c48f0f1e",
   "metadata": {},
   "outputs": [
    {
     "name": "stdout",
     "output_type": "stream",
     "text": [
      "Accuracy score:\n",
      " 0.8547486033519553 \n",
      "\n",
      "Confusion matix:\n",
      " [[105  12]\n",
      " [ 14  48]] \n",
      "\n",
      "Classification report\n",
      "               precision    recall  f1-score   support\n",
      "\n",
      "           0       0.88      0.90      0.89       117\n",
      "           1       0.80      0.77      0.79        62\n",
      "\n",
      "    accuracy                           0.85       179\n",
      "   macro avg       0.84      0.84      0.84       179\n",
      "weighted avg       0.85      0.85      0.85       179\n",
      " \n",
      "\n"
     ]
    }
   ],
   "source": [
    "print(\"Accuracy score:\\n\", accuracy_score(Y_test, KNN_tune),\"\\n\")\n",
    "print(\"Confusion matix:\\n\", confusion_matrix(Y_test, KNN_tune),\"\\n\")\n",
    "print(\"Classification report\\n\", classification_report(Y_test, KNN_tune),\"\\n\")"
   ]
  },
  {
   "cell_type": "code",
   "execution_count": 76,
   "id": "887ad9b9",
   "metadata": {},
   "outputs": [
    {
     "name": "stdout",
     "output_type": "stream",
     "text": [
      "[[1.         0.        ]\n",
      " [0.90909091 0.09090909]\n",
      " [0.72727273 0.27272727]\n",
      " [0.         1.        ]\n",
      " [0.         1.        ]\n",
      " [0.90909091 0.09090909]\n",
      " [1.         0.        ]\n",
      " [0.90909091 0.09090909]\n",
      " [0.90909091 0.09090909]\n",
      " [1.         0.        ]\n",
      " [1.         0.        ]\n",
      " [0.09090909 0.90909091]\n",
      " [0.27272727 0.72727273]\n",
      " [0.36363636 0.63636364]\n",
      " [0.81818182 0.18181818]\n",
      " [0.81818182 0.18181818]\n",
      " [0.90909091 0.09090909]\n",
      " [1.         0.        ]\n",
      " [0.54545455 0.45454545]\n",
      " [0.90909091 0.09090909]\n",
      " [0.81818182 0.18181818]\n",
      " [0.72727273 0.27272727]\n",
      " [0.27272727 0.72727273]\n",
      " [0.81818182 0.18181818]\n",
      " [0.54545455 0.45454545]\n",
      " [1.         0.        ]\n",
      " [1.         0.        ]\n",
      " [0.27272727 0.72727273]\n",
      " [0.81818182 0.18181818]\n",
      " [0.         1.        ]\n",
      " [0.         1.        ]\n",
      " [0.81818182 0.18181818]\n",
      " [0.09090909 0.90909091]\n",
      " [0.90909091 0.09090909]\n",
      " [0.27272727 0.72727273]\n",
      " [0.90909091 0.09090909]\n",
      " [0.36363636 0.63636364]\n",
      " [0.54545455 0.45454545]\n",
      " [0.90909091 0.09090909]\n",
      " [0.90909091 0.09090909]\n",
      " [1.         0.        ]\n",
      " [0.90909091 0.09090909]\n",
      " [1.         0.        ]\n",
      " [0.90909091 0.09090909]\n",
      " [0.81818182 0.18181818]\n",
      " [0.45454545 0.54545455]\n",
      " [0.90909091 0.09090909]\n",
      " [0.90909091 0.09090909]\n",
      " [0.         1.        ]\n",
      " [0.81818182 0.18181818]\n",
      " [0.63636364 0.36363636]\n",
      " [0.81818182 0.18181818]\n",
      " [0.90909091 0.09090909]\n",
      " [0.45454545 0.54545455]\n",
      " [0.09090909 0.90909091]\n",
      " [0.         1.        ]\n",
      " [1.         0.        ]\n",
      " [0.27272727 0.72727273]\n",
      " [0.27272727 0.72727273]\n",
      " [0.81818182 0.18181818]\n",
      " [0.81818182 0.18181818]\n",
      " [0.         1.        ]\n",
      " [0.09090909 0.90909091]\n",
      " [0.54545455 0.45454545]\n",
      " [0.90909091 0.09090909]\n",
      " [0.81818182 0.18181818]\n",
      " [0.81818182 0.18181818]\n",
      " [0.81818182 0.18181818]\n",
      " [1.         0.        ]\n",
      " [0.45454545 0.54545455]\n",
      " [0.90909091 0.09090909]\n",
      " [0.72727273 0.27272727]\n",
      " [0.90909091 0.09090909]\n",
      " [0.81818182 0.18181818]\n",
      " [0.         1.        ]\n",
      " [0.81818182 0.18181818]\n",
      " [1.         0.        ]\n",
      " [1.         0.        ]\n",
      " [0.54545455 0.45454545]\n",
      " [0.90909091 0.09090909]\n",
      " [0.81818182 0.18181818]\n",
      " [0.90909091 0.09090909]\n",
      " [0.81818182 0.18181818]\n",
      " [0.27272727 0.72727273]\n",
      " [0.09090909 0.90909091]\n",
      " [0.81818182 0.18181818]\n",
      " [0.         1.        ]\n",
      " [0.         1.        ]\n",
      " [0.81818182 0.18181818]\n",
      " [0.         1.        ]\n",
      " [0.90909091 0.09090909]\n",
      " [0.90909091 0.09090909]\n",
      " [0.45454545 0.54545455]\n",
      " [0.90909091 0.09090909]\n",
      " [0.         1.        ]\n",
      " [0.54545455 0.45454545]\n",
      " [0.54545455 0.45454545]\n",
      " [0.81818182 0.18181818]\n",
      " [0.         1.        ]\n",
      " [0.81818182 0.18181818]\n",
      " [0.18181818 0.81818182]\n",
      " [0.72727273 0.27272727]\n",
      " [0.90909091 0.09090909]\n",
      " [0.63636364 0.36363636]\n",
      " [0.09090909 0.90909091]\n",
      " [0.09090909 0.90909091]\n",
      " [0.81818182 0.18181818]\n",
      " [0.45454545 0.54545455]\n",
      " [0.09090909 0.90909091]\n",
      " [0.54545455 0.45454545]\n",
      " [0.09090909 0.90909091]\n",
      " [0.81818182 0.18181818]\n",
      " [0.         1.        ]\n",
      " [0.90909091 0.09090909]\n",
      " [0.90909091 0.09090909]\n",
      " [0.81818182 0.18181818]\n",
      " [0.72727273 0.27272727]\n",
      " [0.         1.        ]\n",
      " [0.45454545 0.54545455]\n",
      " [0.63636364 0.36363636]\n",
      " [0.         1.        ]\n",
      " [1.         0.        ]\n",
      " [0.         1.        ]\n",
      " [0.45454545 0.54545455]\n",
      " [0.63636364 0.36363636]\n",
      " [0.09090909 0.90909091]\n",
      " [0.         1.        ]\n",
      " [0.81818182 0.18181818]\n",
      " [0.90909091 0.09090909]\n",
      " [0.09090909 0.90909091]\n",
      " [0.         1.        ]\n",
      " [1.         0.        ]\n",
      " [0.90909091 0.09090909]\n",
      " [0.         1.        ]\n",
      " [0.18181818 0.81818182]\n",
      " [0.54545455 0.45454545]\n",
      " [1.         0.        ]\n",
      " [0.54545455 0.45454545]\n",
      " [0.27272727 0.72727273]\n",
      " [0.81818182 0.18181818]\n",
      " [0.09090909 0.90909091]\n",
      " [0.72727273 0.27272727]\n",
      " [0.36363636 0.63636364]\n",
      " [0.63636364 0.36363636]\n",
      " [0.90909091 0.09090909]\n",
      " [0.72727273 0.27272727]\n",
      " [0.81818182 0.18181818]\n",
      " [0.90909091 0.09090909]\n",
      " [1.         0.        ]\n",
      " [0.90909091 0.09090909]\n",
      " [0.90909091 0.09090909]\n",
      " [0.54545455 0.45454545]\n",
      " [0.         1.        ]\n",
      " [0.81818182 0.18181818]\n",
      " [0.90909091 0.09090909]\n",
      " [0.27272727 0.72727273]\n",
      " [0.90909091 0.09090909]\n",
      " [0.90909091 0.09090909]\n",
      " [0.90909091 0.09090909]\n",
      " [0.90909091 0.09090909]\n",
      " [0.81818182 0.18181818]\n",
      " [0.09090909 0.90909091]\n",
      " [0.54545455 0.45454545]\n",
      " [1.         0.        ]\n",
      " [0.81818182 0.18181818]\n",
      " [0.45454545 0.54545455]\n",
      " [0.63636364 0.36363636]\n",
      " [0.81818182 0.18181818]\n",
      " [0.09090909 0.90909091]\n",
      " [0.90909091 0.09090909]\n",
      " [0.36363636 0.63636364]\n",
      " [0.36363636 0.63636364]\n",
      " [0.90909091 0.09090909]\n",
      " [0.18181818 0.81818182]\n",
      " [0.72727273 0.27272727]\n",
      " [0.90909091 0.09090909]\n",
      " [0.81818182 0.18181818]\n",
      " [0.81818182 0.18181818]\n",
      " [0.54545455 0.45454545]]\n"
     ]
    }
   ],
   "source": [
    "# store the predicted probabilities\n",
    "KNN_prob= knn_tune.predict_proba(X_test)\n",
    "print(KNN_prob)"
   ]
  },
  {
   "cell_type": "code",
   "execution_count": 77,
   "id": "de6b8cac",
   "metadata": {},
   "outputs": [
    {
     "name": "stdout",
     "output_type": "stream",
     "text": [
      "0.8813068651778329\n"
     ]
    }
   ],
   "source": [
    "fpr, tpr, z= metrics.roc_curve(Y_test, KNN_prob[:,1])\n",
    "auc= metrics.auc(fpr,tpr)\n",
    "print(auc)"
   ]
  },
  {
   "cell_type": "code",
   "execution_count": 78,
   "id": "d16db012",
   "metadata": {},
   "outputs": [
    {
     "data": {
      "image/png": "[encoded data removed]",
      "text/plain": [
       "<Figure size 432x288 with 1 Axes>"
      ]
     },
     "metadata": {
      "needs_background": "light"
     },
     "output_type": "display_data"
    }
   ],
   "source": [
    "plt.title('Receiver Operating Characteristic')\n",
    "plt.plot(fpr,tpr, 'b', label = auc)\n",
    "plt.legend(loc = 'lower right')\n",
    "plt.plot([0, 1], [0, 1],'r--')\n",
    "plt.xlim([0, 1])\n",
    "plt.ylim([0, 1])\n",
    "plt.xlabel('False Positive Rate')\n",
    "plt.ylabel('True Positive Rate')\n",
    "plt.show()"
   ]
  },
  {
   "cell_type": "markdown",
   "id": "23d79850",
   "metadata": {},
   "source": [
    "## Support Vector Machine"
   ]
  },
  {
   "cell_type": "code",
   "execution_count": 79,
   "id": "7a6b970a",
   "metadata": {},
   "outputs": [],
   "source": [
    "svm= SVC(kernel='rbf', C=1, gamma=0.01)\n",
    "svm.fit(X_train, Y_train)\n",
    "SVM= svm.predict(X_test)"
   ]
  },
  {
   "cell_type": "code",
   "execution_count": 80,
   "id": "2c98acea",
   "metadata": {},
   "outputs": [
    {
     "name": "stdout",
     "output_type": "stream",
     "text": [
      "[(0, 0), (0, 0), (0, 0), (1, 1), (1, 1), (0, 0), (0, 0), (0, 0), (1, 0), (0, 0), (0, 0), (1, 1), (1, 1), (0, 0), (0, 0), (0, 0), (0, 0), (0, 0), (0, 1), (0, 0), (0, 0), (0, 0), (1, 1), (0, 0), (0, 0), (0, 0), (0, 0), (1, 0), (0, 0), (1, 1), (1, 1), (0, 0), (0, 1), (0, 0), (1, 1), (0, 0), (0, 1), (0, 0), (0, 0), (1, 0), (0, 0), (0, 0), (0, 0), (1, 1), (1, 0), (0, 0), (0, 0), (0, 0), (1, 1), (0, 0), (1, 0), (0, 0), (0, 0), (1, 0), (1, 0), (1, 1), (0, 0), (1, 1), (1, 1), (0, 0), (0, 0), (1, 1), (0, 1), (0, 1), (0, 0), (0, 0), (0, 0), (0, 0), (0, 0), (1, 1), (0, 0), (0, 0), (1, 0), (0, 0), (1, 1), (0, 0), (0, 0), (1, 0), (0, 0), (0, 0), (0, 0), (0, 0), (0, 0), (1, 0), (1, 1), (0, 0), (1, 1), (0, 1), (0, 0), (1, 1), (1, 0), (0, 0), (0, 0), (0, 0), (1, 1), (0, 1), (1, 1), (0, 0), (1, 1), (0, 0), (1, 0), (0, 0), (0, 0), (0, 0), (1, 1), (1, 1), (0, 0), (1, 0), (1, 1), (1, 0), (1, 1), (0, 0), (1, 1), (0, 0), (0, 0), (0, 0), (0, 0), (1, 1), (1, 1), (0, 0), (1, 1), (0, 0), (1, 1), (1, 1), (1, 1), (1, 1), (1, 1), (0, 0), (0, 0), (1, 0), (1, 1), (0, 0), (0, 0), (1, 1), (1, 1), (0, 1), (0, 0), (1, 0), (1, 1), (0, 0), (0, 1), (0, 0), (1, 0), (0, 0), (0, 0), (0, 0), (0, 0), (0, 0), (0, 0), (0, 0), (0, 0), (0, 0), (1, 1), (0, 0), (0, 0), (0, 1), (0, 0), (0, 0), (0, 0), (0, 0), (0, 0), (1, 1), (1, 1), (0, 0), (0, 0), (0, 1), (1, 0), (0, 0), (1, 1), (0, 0), (0, 1), (1, 0), (0, 0), (0, 1), (0, 0), (0, 0), (0, 0), (0, 0), (0, 0)]\n"
     ]
    }
   ],
   "source": [
    "print(list(zip(Y_test,SVM)))"
   ]
  },
  {
   "cell_type": "code",
   "execution_count": 81,
   "id": "4452f361",
   "metadata": {},
   "outputs": [
    {
     "name": "stdout",
     "output_type": "stream",
     "text": [
      "Accuracy score:\n",
      " 0.8212290502793296 \n",
      "\n",
      "Confusion matix:\n",
      " [[104  13]\n",
      " [ 19  43]] \n",
      "\n",
      "Classification report\n",
      "               precision    recall  f1-score   support\n",
      "\n",
      "           0       0.85      0.89      0.87       117\n",
      "           1       0.77      0.69      0.73        62\n",
      "\n",
      "    accuracy                           0.82       179\n",
      "   macro avg       0.81      0.79      0.80       179\n",
      "weighted avg       0.82      0.82      0.82       179\n",
      " \n",
      "\n"
     ]
    }
   ],
   "source": [
    "print(\"Accuracy score:\\n\", accuracy_score(Y_test, SVM),\"\\n\")\n",
    "print(\"Confusion matix:\\n\", confusion_matrix(Y_test, SVM),\"\\n\")\n",
    "print(\"Classification report\\n\", classification_report(Y_test, SVM),\"\\n\")"
   ]
  },
  {
   "cell_type": "markdown",
   "id": "aafb94f9",
   "metadata": {},
   "source": [
    "## Tune Support Vector Machine"
   ]
  },
  {
   "cell_type": "code",
   "execution_count": 82,
   "id": "4076a2bc",
   "metadata": {},
   "outputs": [
    {
     "name": "stdout",
     "output_type": "stream",
     "text": [
      "Accuracy is  0.8212290502793296 for C-Value: 1\n",
      "Accuracy is  0.8156424581005587 for C-Value: 2\n",
      "Accuracy is  0.8156424581005587 for C-Value: 3\n",
      "Accuracy is  0.8156424581005587 for C-Value: 4\n",
      "Accuracy is  0.8156424581005587 for C-Value: 5\n",
      "Accuracy is  0.8100558659217877 for C-Value: 6\n",
      "Accuracy is  0.8100558659217877 for C-Value: 7\n",
      "Accuracy is  0.8100558659217877 for C-Value: 8\n",
      "Accuracy is  0.8100558659217877 for C-Value: 9\n",
      "Accuracy is  0.8100558659217877 for C-Value: 10\n",
      "Accuracy is  0.8100558659217877 for C-Value: 11\n",
      "Accuracy is  0.8100558659217877 for C-Value: 12\n",
      "Accuracy is  0.8156424581005587 for C-Value: 13\n",
      "Accuracy is  0.8156424581005587 for C-Value: 14\n",
      "Accuracy is  0.8156424581005587 for C-Value: 15\n",
      "Accuracy is  0.8156424581005587 for C-Value: 16\n",
      "Accuracy is  0.8156424581005587 for C-Value: 17\n",
      "Accuracy is  0.8156424581005587 for C-Value: 18\n",
      "Accuracy is  0.8156424581005587 for C-Value: 19\n",
      "Accuracy is  0.8212290502793296 for C-Value: 20\n",
      "Accuracy is  0.8156424581005587 for C-Value: 21\n",
      "Accuracy is  0.8156424581005587 for C-Value: 22\n",
      "Accuracy is  0.8156424581005587 for C-Value: 23\n",
      "Accuracy is  0.8156424581005587 for C-Value: 24\n",
      "Accuracy is  0.8156424581005587 for C-Value: 25\n",
      "Accuracy is  0.8212290502793296 for C-Value: 26\n",
      "Accuracy is  0.8212290502793296 for C-Value: 27\n",
      "Accuracy is  0.8212290502793296 for C-Value: 28\n",
      "Accuracy is  0.8212290502793296 for C-Value: 29\n",
      "Accuracy is  0.8212290502793296 for C-Value: 30\n",
      "Accuracy is  0.8212290502793296 for C-Value: 31\n",
      "Accuracy is  0.8212290502793296 for C-Value: 32\n",
      "Accuracy is  0.8212290502793296 for C-Value: 33\n",
      "Accuracy is  0.8212290502793296 for C-Value: 34\n",
      "Accuracy is  0.8212290502793296 for C-Value: 35\n",
      "Accuracy is  0.8212290502793296 for C-Value: 36\n",
      "Accuracy is  0.8268156424581006 for C-Value: 37\n",
      "Accuracy is  0.8324022346368715 for C-Value: 38\n",
      "Accuracy is  0.8324022346368715 for C-Value: 39\n",
      "Accuracy is  0.8324022346368715 for C-Value: 40\n",
      "Accuracy is  0.8379888268156425 for C-Value: 41\n",
      "Accuracy is  0.8435754189944135 for C-Value: 42\n",
      "Accuracy is  0.8435754189944135 for C-Value: 43\n",
      "Accuracy is  0.8491620111731844 for C-Value: 44\n",
      "Accuracy is  0.8491620111731844 for C-Value: 45\n",
      "Accuracy is  0.8491620111731844 for C-Value: 46\n",
      "Accuracy is  0.8491620111731844 for C-Value: 47\n",
      "Accuracy is  0.8491620111731844 for C-Value: 48\n",
      "Accuracy is  0.8491620111731844 for C-Value: 49\n",
      "Accuracy is  0.8491620111731844 for C-Value: 50\n",
      "Accuracy is  0.8491620111731844 for C-Value: 51\n",
      "Accuracy is  0.8491620111731844 for C-Value: 52\n",
      "Accuracy is  0.8491620111731844 for C-Value: 53\n",
      "Accuracy is  0.8547486033519553 for C-Value: 54\n",
      "Accuracy is  0.8547486033519553 for C-Value: 55\n",
      "Accuracy is  0.8547486033519553 for C-Value: 56\n",
      "Accuracy is  0.8547486033519553 for C-Value: 57\n",
      "Accuracy is  0.8547486033519553 for C-Value: 58\n",
      "Accuracy is  0.8547486033519553 for C-Value: 59\n",
      "Accuracy is  0.8547486033519553 for C-Value: 60\n",
      "Accuracy is  0.8547486033519553 for C-Value: 61\n",
      "Accuracy is  0.8547486033519553 for C-Value: 62\n",
      "Accuracy is  0.8547486033519553 for C-Value: 63\n",
      "Accuracy is  0.8547486033519553 for C-Value: 64\n",
      "Accuracy is  0.8547486033519553 for C-Value: 65\n",
      "Accuracy is  0.8547486033519553 for C-Value: 66\n",
      "Accuracy is  0.8547486033519553 for C-Value: 67\n",
      "Accuracy is  0.8547486033519553 for C-Value: 68\n",
      "Accuracy is  0.8547486033519553 for C-Value: 69\n",
      "Accuracy is  0.8547486033519553 for C-Value: 70\n",
      "Accuracy is  0.8547486033519553 for C-Value: 71\n",
      "Accuracy is  0.8547486033519553 for C-Value: 72\n",
      "Accuracy is  0.8547486033519553 for C-Value: 73\n",
      "Accuracy is  0.8547486033519553 for C-Value: 74\n",
      "Accuracy is  0.8547486033519553 for C-Value: 75\n",
      "Accuracy is  0.8547486033519553 for C-Value: 76\n",
      "Accuracy is  0.8547486033519553 for C-Value: 77\n",
      "Accuracy is  0.8547486033519553 for C-Value: 78\n",
      "Accuracy is  0.8547486033519553 for C-Value: 79\n",
      "Accuracy is  0.8547486033519553 for C-Value: 80\n",
      "Accuracy is  0.8547486033519553 for C-Value: 81\n",
      "Accuracy is  0.8547486033519553 for C-Value: 82\n",
      "Accuracy is  0.8547486033519553 for C-Value: 83\n",
      "Accuracy is  0.8547486033519553 for C-Value: 84\n",
      "Accuracy is  0.8547486033519553 for C-Value: 85\n",
      "Accuracy is  0.8547486033519553 for C-Value: 86\n",
      "Accuracy is  0.8547486033519553 for C-Value: 87\n",
      "Accuracy is  0.8547486033519553 for C-Value: 88\n",
      "Accuracy is  0.8547486033519553 for C-Value: 89\n",
      "Accuracy is  0.8547486033519553 for C-Value: 90\n",
      "Accuracy is  0.8547486033519553 for C-Value: 91\n",
      "Accuracy is  0.8547486033519553 for C-Value: 92\n",
      "Accuracy is  0.8547486033519553 for C-Value: 93\n",
      "Accuracy is  0.8547486033519553 for C-Value: 94\n",
      "Accuracy is  0.8547486033519553 for C-Value: 95\n",
      "Accuracy is  0.8547486033519553 for C-Value: 96\n",
      "Accuracy is  0.8547486033519553 for C-Value: 97\n",
      "Accuracy is  0.8547486033519553 for C-Value: 98\n",
      "Accuracy is  0.8547486033519553 for C-Value: 99\n",
      "Accuracy is  0.8547486033519553 for C-Value: 100\n",
      "Accuracy is  0.8547486033519553 for C-Value: 101\n",
      "Accuracy is  0.8547486033519553 for C-Value: 102\n",
      "Accuracy is  0.8547486033519553 for C-Value: 103\n",
      "Accuracy is  0.8547486033519553 for C-Value: 104\n",
      "Accuracy is  0.8547486033519553 for C-Value: 105\n",
      "Accuracy is  0.8547486033519553 for C-Value: 106\n",
      "Accuracy is  0.8547486033519553 for C-Value: 107\n",
      "Accuracy is  0.8547486033519553 for C-Value: 108\n",
      "Accuracy is  0.8547486033519553 for C-Value: 109\n",
      "Accuracy is  0.8547486033519553 for C-Value: 110\n",
      "Accuracy is  0.8547486033519553 for C-Value: 111\n",
      "Accuracy is  0.8547486033519553 for C-Value: 112\n",
      "Accuracy is  0.8547486033519553 for C-Value: 113\n",
      "Accuracy is  0.8547486033519553 for C-Value: 114\n",
      "Accuracy is  0.8547486033519553 for C-Value: 115\n",
      "Accuracy is  0.8547486033519553 for C-Value: 116\n",
      "Accuracy is  0.8547486033519553 for C-Value: 117\n",
      "Accuracy is  0.8547486033519553 for C-Value: 118\n",
      "Accuracy is  0.8547486033519553 for C-Value: 119\n",
      "Accuracy is  0.8547486033519553 for C-Value: 120\n",
      "Accuracy is  0.8547486033519553 for C-Value: 121\n",
      "Accuracy is  0.8547486033519553 for C-Value: 122\n",
      "Accuracy is  0.8547486033519553 for C-Value: 123\n",
      "Accuracy is  0.8547486033519553 for C-Value: 124\n",
      "Accuracy is  0.8547486033519553 for C-Value: 125\n",
      "Accuracy is  0.8547486033519553 for C-Value: 126\n",
      "Accuracy is  0.8547486033519553 for C-Value: 127\n",
      "Accuracy is  0.8547486033519553 for C-Value: 128\n",
      "Accuracy is  0.8547486033519553 for C-Value: 129\n",
      "Accuracy is  0.8547486033519553 for C-Value: 130\n",
      "Accuracy is  0.8547486033519553 for C-Value: 131\n",
      "Accuracy is  0.8547486033519553 for C-Value: 132\n",
      "Accuracy is  0.8547486033519553 for C-Value: 133\n",
      "Accuracy is  0.8547486033519553 for C-Value: 134\n",
      "Accuracy is  0.8547486033519553 for C-Value: 135\n",
      "Accuracy is  0.8547486033519553 for C-Value: 136\n",
      "Accuracy is  0.8547486033519553 for C-Value: 137\n",
      "Accuracy is  0.8547486033519553 for C-Value: 138\n",
      "Accuracy is  0.8547486033519553 for C-Value: 139\n",
      "Accuracy is  0.8547486033519553 for C-Value: 140\n",
      "Accuracy is  0.8547486033519553 for C-Value: 141\n",
      "Accuracy is  0.8547486033519553 for C-Value: 142\n",
      "Accuracy is  0.8547486033519553 for C-Value: 143\n",
      "Accuracy is  0.8547486033519553 for C-Value: 144\n",
      "Accuracy is  0.8547486033519553 for C-Value: 145\n",
      "Accuracy is  0.8547486033519553 for C-Value: 146\n",
      "Accuracy is  0.8547486033519553 for C-Value: 147\n",
      "Accuracy is  0.8547486033519553 for C-Value: 148\n",
      "Accuracy is  0.8547486033519553 for C-Value: 149\n",
      "Accuracy is  0.8547486033519553 for C-Value: 150\n",
      "Accuracy is  0.8547486033519553 for C-Value: 151\n",
      "Accuracy is  0.8547486033519553 for C-Value: 152\n",
      "Accuracy is  0.8547486033519553 for C-Value: 153\n",
      "Accuracy is  0.8547486033519553 for C-Value: 154\n",
      "Accuracy is  0.8547486033519553 for C-Value: 155\n",
      "Accuracy is  0.8547486033519553 for C-Value: 156\n",
      "Accuracy is  0.8547486033519553 for C-Value: 157\n",
      "Accuracy is  0.8547486033519553 for C-Value: 158\n",
      "Accuracy is  0.8547486033519553 for C-Value: 159\n",
      "Accuracy is  0.8547486033519553 for C-Value: 160\n",
      "Accuracy is  0.8547486033519553 for C-Value: 161\n",
      "Accuracy is  0.8547486033519553 for C-Value: 162\n",
      "Accuracy is  0.8547486033519553 for C-Value: 163\n",
      "Accuracy is  0.8547486033519553 for C-Value: 164\n",
      "Accuracy is  0.8547486033519553 for C-Value: 165\n",
      "Accuracy is  0.8547486033519553 for C-Value: 166\n",
      "Accuracy is  0.8547486033519553 for C-Value: 167\n",
      "Accuracy is  0.8547486033519553 for C-Value: 168\n",
      "Accuracy is  0.8547486033519553 for C-Value: 169\n",
      "Accuracy is  0.8547486033519553 for C-Value: 170\n"
     ]
    },
    {
     "name": "stdout",
     "output_type": "stream",
     "text": [
      "Accuracy is  0.8491620111731844 for C-Value: 171\n",
      "Accuracy is  0.8491620111731844 for C-Value: 172\n",
      "Accuracy is  0.8491620111731844 for C-Value: 173\n",
      "Accuracy is  0.8491620111731844 for C-Value: 174\n",
      "Accuracy is  0.8491620111731844 for C-Value: 175\n",
      "Accuracy is  0.8491620111731844 for C-Value: 176\n",
      "Accuracy is  0.8491620111731844 for C-Value: 177\n",
      "Accuracy is  0.8491620111731844 for C-Value: 178\n",
      "Accuracy is  0.8491620111731844 for C-Value: 179\n",
      "Accuracy is  0.8491620111731844 for C-Value: 180\n",
      "Accuracy is  0.8491620111731844 for C-Value: 181\n",
      "Accuracy is  0.8491620111731844 for C-Value: 182\n",
      "Accuracy is  0.8491620111731844 for C-Value: 183\n",
      "Accuracy is  0.8491620111731844 for C-Value: 184\n",
      "Accuracy is  0.8491620111731844 for C-Value: 185\n",
      "Accuracy is  0.8491620111731844 for C-Value: 186\n",
      "Accuracy is  0.8491620111731844 for C-Value: 187\n",
      "Accuracy is  0.8491620111731844 for C-Value: 188\n",
      "Accuracy is  0.8491620111731844 for C-Value: 189\n",
      "Accuracy is  0.8491620111731844 for C-Value: 190\n",
      "Accuracy is  0.8491620111731844 for C-Value: 191\n",
      "Accuracy is  0.8491620111731844 for C-Value: 192\n",
      "Accuracy is  0.8491620111731844 for C-Value: 193\n",
      "Accuracy is  0.8491620111731844 for C-Value: 194\n",
      "Accuracy is  0.8491620111731844 for C-Value: 195\n",
      "Accuracy is  0.8491620111731844 for C-Value: 196\n",
      "Accuracy is  0.8491620111731844 for C-Value: 197\n",
      "Accuracy is  0.8491620111731844 for C-Value: 198\n",
      "Accuracy is  0.8491620111731844 for C-Value: 199\n",
      "Accuracy is  0.8491620111731844 for C-Value: 200\n",
      "Accuracy is  0.8491620111731844 for C-Value: 201\n",
      "Accuracy is  0.8491620111731844 for C-Value: 202\n",
      "Accuracy is  0.8491620111731844 for C-Value: 203\n",
      "Accuracy is  0.8547486033519553 for C-Value: 204\n",
      "Accuracy is  0.8547486033519553 for C-Value: 205\n",
      "Accuracy is  0.8547486033519553 for C-Value: 206\n",
      "Accuracy is  0.8547486033519553 for C-Value: 207\n",
      "Accuracy is  0.8547486033519553 for C-Value: 208\n",
      "Accuracy is  0.8547486033519553 for C-Value: 209\n",
      "Accuracy is  0.8547486033519553 for C-Value: 210\n",
      "Accuracy is  0.8547486033519553 for C-Value: 211\n",
      "Accuracy is  0.8547486033519553 for C-Value: 212\n",
      "Accuracy is  0.8547486033519553 for C-Value: 213\n",
      "Accuracy is  0.8547486033519553 for C-Value: 214\n",
      "Accuracy is  0.8547486033519553 for C-Value: 215\n",
      "Accuracy is  0.8547486033519553 for C-Value: 216\n",
      "Accuracy is  0.8547486033519553 for C-Value: 217\n",
      "Accuracy is  0.8547486033519553 for C-Value: 218\n",
      "Accuracy is  0.8547486033519553 for C-Value: 219\n",
      "Accuracy is  0.8547486033519553 for C-Value: 220\n",
      "Accuracy is  0.8547486033519553 for C-Value: 221\n",
      "Accuracy is  0.8547486033519553 for C-Value: 222\n",
      "Accuracy is  0.8547486033519553 for C-Value: 223\n",
      "Accuracy is  0.8547486033519553 for C-Value: 224\n",
      "Accuracy is  0.8547486033519553 for C-Value: 225\n",
      "Accuracy is  0.8547486033519553 for C-Value: 226\n",
      "Accuracy is  0.8547486033519553 for C-Value: 227\n",
      "Accuracy is  0.8547486033519553 for C-Value: 228\n",
      "Accuracy is  0.8547486033519553 for C-Value: 229\n",
      "Accuracy is  0.8547486033519553 for C-Value: 230\n",
      "Accuracy is  0.8547486033519553 for C-Value: 231\n",
      "Accuracy is  0.8547486033519553 for C-Value: 232\n",
      "Accuracy is  0.8547486033519553 for C-Value: 233\n",
      "Accuracy is  0.8547486033519553 for C-Value: 234\n",
      "Accuracy is  0.8547486033519553 for C-Value: 235\n",
      "Accuracy is  0.8547486033519553 for C-Value: 236\n",
      "Accuracy is  0.8547486033519553 for C-Value: 237\n",
      "Accuracy is  0.8547486033519553 for C-Value: 238\n",
      "Accuracy is  0.8547486033519553 for C-Value: 239\n",
      "Accuracy is  0.8547486033519553 for C-Value: 240\n",
      "Accuracy is  0.8547486033519553 for C-Value: 241\n",
      "Accuracy is  0.8547486033519553 for C-Value: 242\n",
      "Accuracy is  0.8547486033519553 for C-Value: 243\n",
      "Accuracy is  0.8547486033519553 for C-Value: 244\n",
      "Accuracy is  0.8547486033519553 for C-Value: 245\n",
      "Accuracy is  0.8547486033519553 for C-Value: 246\n",
      "Accuracy is  0.8547486033519553 for C-Value: 247\n",
      "Accuracy is  0.8547486033519553 for C-Value: 248\n",
      "Accuracy is  0.8547486033519553 for C-Value: 249\n",
      "Accuracy is  0.8547486033519553 for C-Value: 250\n",
      "Accuracy is  0.8547486033519553 for C-Value: 251\n",
      "Accuracy is  0.8547486033519553 for C-Value: 252\n",
      "Accuracy is  0.8547486033519553 for C-Value: 253\n",
      "Accuracy is  0.8547486033519553 for C-Value: 254\n",
      "Accuracy is  0.8547486033519553 for C-Value: 255\n",
      "Accuracy is  0.8547486033519553 for C-Value: 256\n",
      "Accuracy is  0.8547486033519553 for C-Value: 257\n",
      "Accuracy is  0.8547486033519553 for C-Value: 258\n",
      "Accuracy is  0.8547486033519553 for C-Value: 259\n",
      "Accuracy is  0.8547486033519553 for C-Value: 260\n",
      "Accuracy is  0.8547486033519553 for C-Value: 261\n",
      "Accuracy is  0.8547486033519553 for C-Value: 262\n",
      "Accuracy is  0.8547486033519553 for C-Value: 263\n",
      "Accuracy is  0.8547486033519553 for C-Value: 264\n",
      "Accuracy is  0.8547486033519553 for C-Value: 265\n",
      "Accuracy is  0.8547486033519553 for C-Value: 266\n",
      "Accuracy is  0.8547486033519553 for C-Value: 267\n",
      "Accuracy is  0.8547486033519553 for C-Value: 268\n",
      "Accuracy is  0.8547486033519553 for C-Value: 269\n",
      "Accuracy is  0.8547486033519553 for C-Value: 270\n",
      "Accuracy is  0.8547486033519553 for C-Value: 271\n",
      "Accuracy is  0.8547486033519553 for C-Value: 272\n",
      "Accuracy is  0.8547486033519553 for C-Value: 273\n",
      "Accuracy is  0.8547486033519553 for C-Value: 274\n",
      "Accuracy is  0.8547486033519553 for C-Value: 275\n",
      "Accuracy is  0.8547486033519553 for C-Value: 276\n",
      "Accuracy is  0.8547486033519553 for C-Value: 277\n",
      "Accuracy is  0.8547486033519553 for C-Value: 278\n",
      "Accuracy is  0.8547486033519553 for C-Value: 279\n",
      "Accuracy is  0.8547486033519553 for C-Value: 280\n",
      "Accuracy is  0.8547486033519553 for C-Value: 281\n",
      "Accuracy is  0.8547486033519553 for C-Value: 282\n",
      "Accuracy is  0.8547486033519553 for C-Value: 283\n",
      "Accuracy is  0.8547486033519553 for C-Value: 284\n",
      "Accuracy is  0.8547486033519553 for C-Value: 285\n",
      "Accuracy is  0.8547486033519553 for C-Value: 286\n",
      "Accuracy is  0.8547486033519553 for C-Value: 287\n",
      "Accuracy is  0.8547486033519553 for C-Value: 288\n",
      "Accuracy is  0.8547486033519553 for C-Value: 289\n",
      "Accuracy is  0.8547486033519553 for C-Value: 290\n",
      "Accuracy is  0.8547486033519553 for C-Value: 291\n",
      "Accuracy is  0.8547486033519553 for C-Value: 292\n",
      "Accuracy is  0.8547486033519553 for C-Value: 293\n",
      "Accuracy is  0.8547486033519553 for C-Value: 294\n",
      "Accuracy is  0.8547486033519553 for C-Value: 295\n",
      "Accuracy is  0.8547486033519553 for C-Value: 296\n",
      "Accuracy is  0.8547486033519553 for C-Value: 297\n",
      "Accuracy is  0.8547486033519553 for C-Value: 298\n",
      "Accuracy is  0.8547486033519553 for C-Value: 299\n",
      "Accuracy is  0.8547486033519553 for C-Value: 300\n",
      "Accuracy is  0.8547486033519553 for C-Value: 301\n",
      "Accuracy is  0.8547486033519553 for C-Value: 302\n",
      "Accuracy is  0.8547486033519553 for C-Value: 303\n",
      "Accuracy is  0.8547486033519553 for C-Value: 304\n",
      "Accuracy is  0.8547486033519553 for C-Value: 305\n",
      "Accuracy is  0.8547486033519553 for C-Value: 306\n",
      "Accuracy is  0.8547486033519553 for C-Value: 307\n",
      "Accuracy is  0.8547486033519553 for C-Value: 308\n",
      "Accuracy is  0.8547486033519553 for C-Value: 309\n",
      "Accuracy is  0.8547486033519553 for C-Value: 310\n",
      "Accuracy is  0.8547486033519553 for C-Value: 311\n",
      "Accuracy is  0.8547486033519553 for C-Value: 312\n",
      "Accuracy is  0.8547486033519553 for C-Value: 313\n",
      "Accuracy is  0.8547486033519553 for C-Value: 314\n",
      "Accuracy is  0.8547486033519553 for C-Value: 315\n",
      "Accuracy is  0.8547486033519553 for C-Value: 316\n",
      "Accuracy is  0.8547486033519553 for C-Value: 317\n",
      "Accuracy is  0.8547486033519553 for C-Value: 318\n",
      "Accuracy is  0.8547486033519553 for C-Value: 319\n",
      "Accuracy is  0.8547486033519553 for C-Value: 320\n",
      "Accuracy is  0.8547486033519553 for C-Value: 321\n",
      "Accuracy is  0.8547486033519553 for C-Value: 322\n",
      "Accuracy is  0.8547486033519553 for C-Value: 323\n",
      "Accuracy is  0.8547486033519553 for C-Value: 324\n",
      "Accuracy is  0.8547486033519553 for C-Value: 325\n",
      "Accuracy is  0.8547486033519553 for C-Value: 326\n",
      "Accuracy is  0.8547486033519553 for C-Value: 327\n",
      "Accuracy is  0.8547486033519553 for C-Value: 328\n",
      "Accuracy is  0.8547486033519553 for C-Value: 329\n",
      "Accuracy is  0.8547486033519553 for C-Value: 330\n",
      "Accuracy is  0.8547486033519553 for C-Value: 331\n",
      "Accuracy is  0.8547486033519553 for C-Value: 332\n",
      "Accuracy is  0.8547486033519553 for C-Value: 333\n",
      "Accuracy is  0.8547486033519553 for C-Value: 334\n",
      "Accuracy is  0.8547486033519553 for C-Value: 335\n",
      "Accuracy is  0.8547486033519553 for C-Value: 336\n",
      "Accuracy is  0.8547486033519553 for C-Value: 337\n",
      "Accuracy is  0.8547486033519553 for C-Value: 338\n",
      "Accuracy is  0.8547486033519553 for C-Value: 339\n"
     ]
    },
    {
     "name": "stdout",
     "output_type": "stream",
     "text": [
      "Accuracy is  0.8547486033519553 for C-Value: 340\n",
      "Accuracy is  0.8547486033519553 for C-Value: 341\n",
      "Accuracy is  0.8547486033519553 for C-Value: 342\n",
      "Accuracy is  0.8547486033519553 for C-Value: 343\n",
      "Accuracy is  0.8547486033519553 for C-Value: 344\n",
      "Accuracy is  0.8547486033519553 for C-Value: 345\n",
      "Accuracy is  0.8547486033519553 for C-Value: 346\n",
      "Accuracy is  0.8547486033519553 for C-Value: 347\n",
      "Accuracy is  0.8547486033519553 for C-Value: 348\n",
      "Accuracy is  0.8547486033519553 for C-Value: 349\n",
      "Accuracy is  0.8547486033519553 for C-Value: 350\n",
      "Accuracy is  0.8547486033519553 for C-Value: 351\n",
      "Accuracy is  0.8547486033519553 for C-Value: 352\n",
      "Accuracy is  0.8547486033519553 for C-Value: 353\n",
      "Accuracy is  0.8547486033519553 for C-Value: 354\n",
      "Accuracy is  0.8547486033519553 for C-Value: 355\n",
      "Accuracy is  0.8547486033519553 for C-Value: 356\n",
      "Accuracy is  0.8547486033519553 for C-Value: 357\n",
      "Accuracy is  0.8547486033519553 for C-Value: 358\n",
      "Accuracy is  0.8547486033519553 for C-Value: 359\n",
      "Accuracy is  0.8547486033519553 for C-Value: 360\n",
      "Accuracy is  0.8547486033519553 for C-Value: 361\n",
      "Accuracy is  0.8547486033519553 for C-Value: 362\n",
      "Accuracy is  0.8547486033519553 for C-Value: 363\n",
      "Accuracy is  0.8547486033519553 for C-Value: 364\n",
      "Accuracy is  0.8547486033519553 for C-Value: 365\n",
      "Accuracy is  0.8547486033519553 for C-Value: 366\n",
      "Accuracy is  0.8547486033519553 for C-Value: 367\n",
      "Accuracy is  0.8547486033519553 for C-Value: 368\n",
      "Accuracy is  0.8547486033519553 for C-Value: 369\n",
      "Accuracy is  0.8547486033519553 for C-Value: 370\n",
      "Accuracy is  0.8547486033519553 for C-Value: 371\n",
      "Accuracy is  0.8547486033519553 for C-Value: 372\n",
      "Accuracy is  0.8547486033519553 for C-Value: 373\n",
      "Accuracy is  0.8547486033519553 for C-Value: 374\n",
      "Accuracy is  0.8547486033519553 for C-Value: 375\n",
      "Accuracy is  0.8547486033519553 for C-Value: 376\n",
      "Accuracy is  0.8547486033519553 for C-Value: 377\n",
      "Accuracy is  0.8547486033519553 for C-Value: 378\n",
      "Accuracy is  0.8547486033519553 for C-Value: 379\n",
      "Accuracy is  0.8547486033519553 for C-Value: 380\n",
      "Accuracy is  0.8547486033519553 for C-Value: 381\n",
      "Accuracy is  0.8547486033519553 for C-Value: 382\n",
      "Accuracy is  0.8547486033519553 for C-Value: 383\n",
      "Accuracy is  0.8547486033519553 for C-Value: 384\n",
      "Accuracy is  0.8547486033519553 for C-Value: 385\n",
      "Accuracy is  0.8547486033519553 for C-Value: 386\n",
      "Accuracy is  0.8547486033519553 for C-Value: 387\n",
      "Accuracy is  0.8547486033519553 for C-Value: 388\n",
      "Accuracy is  0.8547486033519553 for C-Value: 389\n",
      "Accuracy is  0.8547486033519553 for C-Value: 390\n",
      "Accuracy is  0.8547486033519553 for C-Value: 391\n",
      "Accuracy is  0.8547486033519553 for C-Value: 392\n",
      "Accuracy is  0.8547486033519553 for C-Value: 393\n",
      "Accuracy is  0.8547486033519553 for C-Value: 394\n",
      "Accuracy is  0.8547486033519553 for C-Value: 395\n",
      "Accuracy is  0.8547486033519553 for C-Value: 396\n",
      "Accuracy is  0.8547486033519553 for C-Value: 397\n",
      "Accuracy is  0.8547486033519553 for C-Value: 398\n",
      "Accuracy is  0.8547486033519553 for C-Value: 399\n",
      "Accuracy is  0.8547486033519553 for C-Value: 400\n",
      "Accuracy is  0.8547486033519553 for C-Value: 401\n",
      "Accuracy is  0.8547486033519553 for C-Value: 402\n",
      "Accuracy is  0.8547486033519553 for C-Value: 403\n",
      "Accuracy is  0.8547486033519553 for C-Value: 404\n",
      "Accuracy is  0.8547486033519553 for C-Value: 405\n",
      "Accuracy is  0.8547486033519553 for C-Value: 406\n",
      "Accuracy is  0.8547486033519553 for C-Value: 407\n",
      "Accuracy is  0.8547486033519553 for C-Value: 408\n",
      "Accuracy is  0.8547486033519553 for C-Value: 409\n",
      "Accuracy is  0.8547486033519553 for C-Value: 410\n",
      "Accuracy is  0.8547486033519553 for C-Value: 411\n",
      "Accuracy is  0.8547486033519553 for C-Value: 412\n",
      "Accuracy is  0.8547486033519553 for C-Value: 413\n",
      "Accuracy is  0.8547486033519553 for C-Value: 414\n",
      "Accuracy is  0.8603351955307262 for C-Value: 415\n",
      "Accuracy is  0.8603351955307262 for C-Value: 416\n",
      "Accuracy is  0.8603351955307262 for C-Value: 417\n",
      "Accuracy is  0.8603351955307262 for C-Value: 418\n",
      "Accuracy is  0.8603351955307262 for C-Value: 419\n",
      "Accuracy is  0.8603351955307262 for C-Value: 420\n",
      "Accuracy is  0.8603351955307262 for C-Value: 421\n",
      "Accuracy is  0.8603351955307262 for C-Value: 422\n",
      "Accuracy is  0.8603351955307262 for C-Value: 423\n",
      "Accuracy is  0.8603351955307262 for C-Value: 424\n",
      "Accuracy is  0.8603351955307262 for C-Value: 425\n",
      "Accuracy is  0.8603351955307262 for C-Value: 426\n",
      "Accuracy is  0.8603351955307262 for C-Value: 427\n",
      "Accuracy is  0.8603351955307262 for C-Value: 428\n",
      "Accuracy is  0.8603351955307262 for C-Value: 429\n",
      "Accuracy is  0.8603351955307262 for C-Value: 430\n",
      "Accuracy is  0.8603351955307262 for C-Value: 431\n",
      "Accuracy is  0.8603351955307262 for C-Value: 432\n",
      "Accuracy is  0.8603351955307262 for C-Value: 433\n",
      "Accuracy is  0.8603351955307262 for C-Value: 434\n",
      "Accuracy is  0.8603351955307262 for C-Value: 435\n",
      "Accuracy is  0.8603351955307262 for C-Value: 436\n",
      "Accuracy is  0.8603351955307262 for C-Value: 437\n",
      "Accuracy is  0.8603351955307262 for C-Value: 438\n",
      "Accuracy is  0.8603351955307262 for C-Value: 439\n",
      "Accuracy is  0.8603351955307262 for C-Value: 440\n",
      "Accuracy is  0.8603351955307262 for C-Value: 441\n",
      "Accuracy is  0.8603351955307262 for C-Value: 442\n",
      "Accuracy is  0.8603351955307262 for C-Value: 443\n",
      "Accuracy is  0.8603351955307262 for C-Value: 444\n",
      "Accuracy is  0.8603351955307262 for C-Value: 445\n",
      "Accuracy is  0.8603351955307262 for C-Value: 446\n",
      "Accuracy is  0.8603351955307262 for C-Value: 447\n",
      "Accuracy is  0.8603351955307262 for C-Value: 448\n",
      "Accuracy is  0.8603351955307262 for C-Value: 449\n",
      "Accuracy is  0.8603351955307262 for C-Value: 450\n",
      "Accuracy is  0.8603351955307262 for C-Value: 451\n",
      "Accuracy is  0.8603351955307262 for C-Value: 452\n",
      "Accuracy is  0.8603351955307262 for C-Value: 453\n",
      "Accuracy is  0.8603351955307262 for C-Value: 454\n",
      "Accuracy is  0.8603351955307262 for C-Value: 455\n",
      "Accuracy is  0.8603351955307262 for C-Value: 456\n",
      "Accuracy is  0.8603351955307262 for C-Value: 457\n",
      "Accuracy is  0.8603351955307262 for C-Value: 458\n",
      "Accuracy is  0.8603351955307262 for C-Value: 459\n",
      "Accuracy is  0.8603351955307262 for C-Value: 460\n",
      "Accuracy is  0.8603351955307262 for C-Value: 461\n",
      "Accuracy is  0.8603351955307262 for C-Value: 462\n",
      "Accuracy is  0.8603351955307262 for C-Value: 463\n",
      "Accuracy is  0.8603351955307262 for C-Value: 464\n",
      "Accuracy is  0.8603351955307262 for C-Value: 465\n",
      "Accuracy is  0.8603351955307262 for C-Value: 466\n",
      "Accuracy is  0.8603351955307262 for C-Value: 467\n",
      "Accuracy is  0.8603351955307262 for C-Value: 468\n",
      "Accuracy is  0.8603351955307262 for C-Value: 469\n",
      "Accuracy is  0.8603351955307262 for C-Value: 470\n",
      "Accuracy is  0.8603351955307262 for C-Value: 471\n",
      "Accuracy is  0.8603351955307262 for C-Value: 472\n",
      "Accuracy is  0.8603351955307262 for C-Value: 473\n",
      "Accuracy is  0.8603351955307262 for C-Value: 474\n",
      "Accuracy is  0.8603351955307262 for C-Value: 475\n",
      "Accuracy is  0.8603351955307262 for C-Value: 476\n",
      "Accuracy is  0.8603351955307262 for C-Value: 477\n",
      "Accuracy is  0.8603351955307262 for C-Value: 478\n",
      "Accuracy is  0.8603351955307262 for C-Value: 479\n",
      "Accuracy is  0.8603351955307262 for C-Value: 480\n",
      "Accuracy is  0.8603351955307262 for C-Value: 481\n",
      "Accuracy is  0.8603351955307262 for C-Value: 482\n",
      "Accuracy is  0.8603351955307262 for C-Value: 483\n",
      "Accuracy is  0.8603351955307262 for C-Value: 484\n",
      "Accuracy is  0.8603351955307262 for C-Value: 485\n",
      "Accuracy is  0.8603351955307262 for C-Value: 486\n",
      "Accuracy is  0.8603351955307262 for C-Value: 487\n",
      "Accuracy is  0.8603351955307262 for C-Value: 488\n",
      "Accuracy is  0.8603351955307262 for C-Value: 489\n",
      "Accuracy is  0.8603351955307262 for C-Value: 490\n",
      "Accuracy is  0.8603351955307262 for C-Value: 491\n",
      "Accuracy is  0.8603351955307262 for C-Value: 492\n",
      "Accuracy is  0.8603351955307262 for C-Value: 493\n",
      "Accuracy is  0.8603351955307262 for C-Value: 494\n",
      "Accuracy is  0.8603351955307262 for C-Value: 495\n",
      "Accuracy is  0.8603351955307262 for C-Value: 496\n",
      "Accuracy is  0.8603351955307262 for C-Value: 497\n",
      "Accuracy is  0.8603351955307262 for C-Value: 498\n",
      "Accuracy is  0.8603351955307262 for C-Value: 499\n",
      "Accuracy is  0.8603351955307262 for C-Value: 500\n",
      "Accuracy is  0.8603351955307262 for C-Value: 501\n",
      "Accuracy is  0.8603351955307262 for C-Value: 502\n",
      "Accuracy is  0.8603351955307262 for C-Value: 503\n",
      "Accuracy is  0.8603351955307262 for C-Value: 504\n",
      "Accuracy is  0.8603351955307262 for C-Value: 505\n",
      "Accuracy is  0.8603351955307262 for C-Value: 506\n",
      "Accuracy is  0.8603351955307262 for C-Value: 507\n",
      "Accuracy is  0.8603351955307262 for C-Value: 508\n"
     ]
    },
    {
     "name": "stdout",
     "output_type": "stream",
     "text": [
      "Accuracy is  0.8603351955307262 for C-Value: 509\n",
      "Accuracy is  0.8603351955307262 for C-Value: 510\n",
      "Accuracy is  0.8603351955307262 for C-Value: 511\n",
      "Accuracy is  0.8603351955307262 for C-Value: 512\n",
      "Accuracy is  0.8603351955307262 for C-Value: 513\n",
      "Accuracy is  0.8603351955307262 for C-Value: 514\n",
      "Accuracy is  0.8603351955307262 for C-Value: 515\n",
      "Accuracy is  0.8603351955307262 for C-Value: 516\n",
      "Accuracy is  0.8603351955307262 for C-Value: 517\n",
      "Accuracy is  0.8603351955307262 for C-Value: 518\n",
      "Accuracy is  0.8603351955307262 for C-Value: 519\n",
      "Accuracy is  0.8603351955307262 for C-Value: 520\n",
      "Accuracy is  0.8603351955307262 for C-Value: 521\n",
      "Accuracy is  0.8603351955307262 for C-Value: 522\n",
      "Accuracy is  0.8603351955307262 for C-Value: 523\n",
      "Accuracy is  0.8603351955307262 for C-Value: 524\n",
      "Accuracy is  0.8603351955307262 for C-Value: 525\n",
      "Accuracy is  0.8603351955307262 for C-Value: 526\n",
      "Accuracy is  0.8603351955307262 for C-Value: 527\n",
      "Accuracy is  0.8603351955307262 for C-Value: 528\n",
      "Accuracy is  0.8603351955307262 for C-Value: 529\n",
      "Accuracy is  0.8603351955307262 for C-Value: 530\n",
      "Accuracy is  0.8603351955307262 for C-Value: 531\n",
      "Accuracy is  0.8603351955307262 for C-Value: 532\n",
      "Accuracy is  0.8603351955307262 for C-Value: 533\n",
      "Accuracy is  0.8603351955307262 for C-Value: 534\n",
      "Accuracy is  0.8603351955307262 for C-Value: 535\n",
      "Accuracy is  0.8603351955307262 for C-Value: 536\n",
      "Accuracy is  0.8603351955307262 for C-Value: 537\n",
      "Accuracy is  0.8603351955307262 for C-Value: 538\n",
      "Accuracy is  0.8603351955307262 for C-Value: 539\n",
      "Accuracy is  0.8603351955307262 for C-Value: 540\n",
      "Accuracy is  0.8603351955307262 for C-Value: 541\n",
      "Accuracy is  0.8603351955307262 for C-Value: 542\n",
      "Accuracy is  0.8603351955307262 for C-Value: 543\n",
      "Accuracy is  0.8603351955307262 for C-Value: 544\n",
      "Accuracy is  0.8603351955307262 for C-Value: 545\n",
      "Accuracy is  0.8603351955307262 for C-Value: 546\n",
      "Accuracy is  0.8603351955307262 for C-Value: 547\n",
      "Accuracy is  0.8603351955307262 for C-Value: 548\n",
      "Accuracy is  0.8603351955307262 for C-Value: 549\n",
      "Accuracy is  0.8603351955307262 for C-Value: 550\n",
      "Accuracy is  0.8603351955307262 for C-Value: 551\n",
      "Accuracy is  0.8603351955307262 for C-Value: 552\n",
      "Accuracy is  0.8603351955307262 for C-Value: 553\n",
      "Accuracy is  0.8603351955307262 for C-Value: 554\n",
      "Accuracy is  0.8603351955307262 for C-Value: 555\n",
      "Accuracy is  0.8603351955307262 for C-Value: 556\n",
      "Accuracy is  0.8603351955307262 for C-Value: 557\n",
      "Accuracy is  0.8603351955307262 for C-Value: 558\n",
      "Accuracy is  0.8603351955307262 for C-Value: 559\n",
      "Accuracy is  0.8603351955307262 for C-Value: 560\n",
      "Accuracy is  0.8603351955307262 for C-Value: 561\n",
      "Accuracy is  0.8603351955307262 for C-Value: 562\n",
      "Accuracy is  0.8603351955307262 for C-Value: 563\n",
      "Accuracy is  0.8603351955307262 for C-Value: 564\n",
      "Accuracy is  0.8547486033519553 for C-Value: 565\n",
      "Accuracy is  0.8547486033519553 for C-Value: 566\n",
      "Accuracy is  0.8547486033519553 for C-Value: 567\n",
      "Accuracy is  0.8547486033519553 for C-Value: 568\n",
      "Accuracy is  0.8547486033519553 for C-Value: 569\n",
      "Accuracy is  0.8547486033519553 for C-Value: 570\n",
      "Accuracy is  0.8547486033519553 for C-Value: 571\n",
      "Accuracy is  0.8547486033519553 for C-Value: 572\n",
      "Accuracy is  0.8547486033519553 for C-Value: 573\n",
      "Accuracy is  0.8547486033519553 for C-Value: 574\n",
      "Accuracy is  0.8547486033519553 for C-Value: 575\n",
      "Accuracy is  0.8547486033519553 for C-Value: 576\n",
      "Accuracy is  0.8547486033519553 for C-Value: 577\n",
      "Accuracy is  0.8547486033519553 for C-Value: 578\n",
      "Accuracy is  0.8547486033519553 for C-Value: 579\n",
      "Accuracy is  0.8547486033519553 for C-Value: 580\n",
      "Accuracy is  0.8547486033519553 for C-Value: 581\n",
      "Accuracy is  0.8547486033519553 for C-Value: 582\n",
      "Accuracy is  0.8547486033519553 for C-Value: 583\n",
      "Accuracy is  0.8547486033519553 for C-Value: 584\n",
      "Accuracy is  0.8547486033519553 for C-Value: 585\n",
      "Accuracy is  0.8547486033519553 for C-Value: 586\n",
      "Accuracy is  0.8547486033519553 for C-Value: 587\n",
      "Accuracy is  0.8547486033519553 for C-Value: 588\n",
      "Accuracy is  0.8547486033519553 for C-Value: 589\n",
      "Accuracy is  0.8547486033519553 for C-Value: 590\n",
      "Accuracy is  0.8547486033519553 for C-Value: 591\n",
      "Accuracy is  0.8491620111731844 for C-Value: 592\n",
      "Accuracy is  0.8547486033519553 for C-Value: 593\n",
      "Accuracy is  0.8547486033519553 for C-Value: 594\n",
      "Accuracy is  0.8491620111731844 for C-Value: 595\n",
      "Accuracy is  0.8491620111731844 for C-Value: 596\n",
      "Accuracy is  0.8491620111731844 for C-Value: 597\n",
      "Accuracy is  0.8491620111731844 for C-Value: 598\n",
      "Accuracy is  0.8491620111731844 for C-Value: 599\n"
     ]
    }
   ],
   "source": [
    "my_dict={}\n",
    "\n",
    "for cp in range(1,600):\n",
    "    svm_tune = SVC(kernel='rbf', C=cp, gamma=0.01)\n",
    "    svm_tune.fit(X_train, Y_train) \n",
    "    SVM_tune = svm_tune.predict(X_test)\n",
    "    print (\"Accuracy is \", accuracy_score(Y_test, SVM_tune), \"for C-Value:\",cp)\n",
    "    my_dict[cp]=accuracy_score(Y_test, SVM_tune)"
   ]
  },
  {
   "cell_type": "code",
   "execution_count": 83,
   "id": "ab4689b4",
   "metadata": {},
   "outputs": [
    {
     "name": "stdout",
     "output_type": "stream",
     "text": [
      "415 : 0.8603351955307262\n",
      "416 : 0.8603351955307262\n",
      "417 : 0.8603351955307262\n",
      "418 : 0.8603351955307262\n",
      "419 : 0.8603351955307262\n",
      "420 : 0.8603351955307262\n",
      "421 : 0.8603351955307262\n",
      "422 : 0.8603351955307262\n",
      "423 : 0.8603351955307262\n",
      "424 : 0.8603351955307262\n",
      "425 : 0.8603351955307262\n",
      "426 : 0.8603351955307262\n",
      "427 : 0.8603351955307262\n",
      "428 : 0.8603351955307262\n",
      "429 : 0.8603351955307262\n",
      "430 : 0.8603351955307262\n",
      "431 : 0.8603351955307262\n",
      "432 : 0.8603351955307262\n",
      "433 : 0.8603351955307262\n",
      "434 : 0.8603351955307262\n",
      "435 : 0.8603351955307262\n",
      "436 : 0.8603351955307262\n",
      "437 : 0.8603351955307262\n",
      "438 : 0.8603351955307262\n",
      "439 : 0.8603351955307262\n",
      "440 : 0.8603351955307262\n",
      "441 : 0.8603351955307262\n",
      "442 : 0.8603351955307262\n",
      "443 : 0.8603351955307262\n",
      "444 : 0.8603351955307262\n",
      "445 : 0.8603351955307262\n",
      "446 : 0.8603351955307262\n",
      "447 : 0.8603351955307262\n",
      "448 : 0.8603351955307262\n",
      "449 : 0.8603351955307262\n",
      "450 : 0.8603351955307262\n",
      "451 : 0.8603351955307262\n",
      "452 : 0.8603351955307262\n",
      "453 : 0.8603351955307262\n",
      "454 : 0.8603351955307262\n",
      "455 : 0.8603351955307262\n",
      "456 : 0.8603351955307262\n",
      "457 : 0.8603351955307262\n",
      "458 : 0.8603351955307262\n",
      "459 : 0.8603351955307262\n",
      "460 : 0.8603351955307262\n",
      "461 : 0.8603351955307262\n",
      "462 : 0.8603351955307262\n",
      "463 : 0.8603351955307262\n",
      "464 : 0.8603351955307262\n",
      "465 : 0.8603351955307262\n",
      "466 : 0.8603351955307262\n",
      "467 : 0.8603351955307262\n",
      "468 : 0.8603351955307262\n",
      "469 : 0.8603351955307262\n",
      "470 : 0.8603351955307262\n",
      "471 : 0.8603351955307262\n",
      "472 : 0.8603351955307262\n",
      "473 : 0.8603351955307262\n",
      "474 : 0.8603351955307262\n",
      "475 : 0.8603351955307262\n",
      "476 : 0.8603351955307262\n",
      "477 : 0.8603351955307262\n",
      "478 : 0.8603351955307262\n",
      "479 : 0.8603351955307262\n",
      "480 : 0.8603351955307262\n",
      "481 : 0.8603351955307262\n",
      "482 : 0.8603351955307262\n",
      "483 : 0.8603351955307262\n",
      "484 : 0.8603351955307262\n",
      "485 : 0.8603351955307262\n",
      "486 : 0.8603351955307262\n",
      "487 : 0.8603351955307262\n",
      "488 : 0.8603351955307262\n",
      "489 : 0.8603351955307262\n",
      "490 : 0.8603351955307262\n",
      "491 : 0.8603351955307262\n",
      "492 : 0.8603351955307262\n",
      "493 : 0.8603351955307262\n",
      "494 : 0.8603351955307262\n",
      "495 : 0.8603351955307262\n",
      "496 : 0.8603351955307262\n",
      "497 : 0.8603351955307262\n",
      "498 : 0.8603351955307262\n",
      "499 : 0.8603351955307262\n",
      "500 : 0.8603351955307262\n",
      "501 : 0.8603351955307262\n",
      "502 : 0.8603351955307262\n",
      "503 : 0.8603351955307262\n",
      "504 : 0.8603351955307262\n",
      "505 : 0.8603351955307262\n",
      "506 : 0.8603351955307262\n",
      "507 : 0.8603351955307262\n",
      "508 : 0.8603351955307262\n",
      "509 : 0.8603351955307262\n",
      "510 : 0.8603351955307262\n",
      "511 : 0.8603351955307262\n",
      "512 : 0.8603351955307262\n",
      "513 : 0.8603351955307262\n",
      "514 : 0.8603351955307262\n",
      "515 : 0.8603351955307262\n",
      "516 : 0.8603351955307262\n",
      "517 : 0.8603351955307262\n",
      "518 : 0.8603351955307262\n",
      "519 : 0.8603351955307262\n",
      "520 : 0.8603351955307262\n",
      "521 : 0.8603351955307262\n",
      "522 : 0.8603351955307262\n",
      "523 : 0.8603351955307262\n",
      "524 : 0.8603351955307262\n",
      "525 : 0.8603351955307262\n",
      "526 : 0.8603351955307262\n",
      "527 : 0.8603351955307262\n",
      "528 : 0.8603351955307262\n",
      "529 : 0.8603351955307262\n",
      "530 : 0.8603351955307262\n",
      "531 : 0.8603351955307262\n",
      "532 : 0.8603351955307262\n",
      "533 : 0.8603351955307262\n",
      "534 : 0.8603351955307262\n",
      "535 : 0.8603351955307262\n",
      "536 : 0.8603351955307262\n",
      "537 : 0.8603351955307262\n",
      "538 : 0.8603351955307262\n",
      "539 : 0.8603351955307262\n",
      "540 : 0.8603351955307262\n",
      "541 : 0.8603351955307262\n",
      "542 : 0.8603351955307262\n",
      "543 : 0.8603351955307262\n",
      "544 : 0.8603351955307262\n",
      "545 : 0.8603351955307262\n",
      "546 : 0.8603351955307262\n",
      "547 : 0.8603351955307262\n",
      "548 : 0.8603351955307262\n",
      "549 : 0.8603351955307262\n",
      "550 : 0.8603351955307262\n",
      "551 : 0.8603351955307262\n",
      "552 : 0.8603351955307262\n",
      "553 : 0.8603351955307262\n",
      "554 : 0.8603351955307262\n",
      "555 : 0.8603351955307262\n",
      "556 : 0.8603351955307262\n",
      "557 : 0.8603351955307262\n",
      "558 : 0.8603351955307262\n",
      "559 : 0.8603351955307262\n",
      "560 : 0.8603351955307262\n",
      "561 : 0.8603351955307262\n",
      "562 : 0.8603351955307262\n",
      "563 : 0.8603351955307262\n",
      "564 : 0.8603351955307262\n"
     ]
    }
   ],
   "source": [
    "for cp in my_dict:\n",
    "    if my_dict[cp]==max(my_dict.values()):\n",
    "        print(cp,\":\",my_dict[cp])"
   ]
  },
  {
   "cell_type": "code",
   "execution_count": 171,
   "id": "bc062487",
   "metadata": {},
   "outputs": [],
   "source": [
    "svm_tune = SVC(kernel='rbf', C=415, gamma=0.01, random_state=10, probability=True)\n",
    "svm_tune.fit(X_train, Y_train) \n",
    "SVM_tune = svm_tune.predict(X_test)"
   ]
  },
  {
   "cell_type": "code",
   "execution_count": 172,
   "id": "de370d10",
   "metadata": {},
   "outputs": [
    {
     "name": "stdout",
     "output_type": "stream",
     "text": [
      "Accuracy score:\n",
      " 0.8603351955307262 \n",
      "\n",
      "Confusion matix:\n",
      " [[107  10]\n",
      " [ 15  47]] \n",
      "\n",
      "Classification report\n",
      "               precision    recall  f1-score   support\n",
      "\n",
      "           0       0.88      0.91      0.90       117\n",
      "           1       0.82      0.76      0.79        62\n",
      "\n",
      "    accuracy                           0.86       179\n",
      "   macro avg       0.85      0.84      0.84       179\n",
      "weighted avg       0.86      0.86      0.86       179\n",
      " \n",
      "\n"
     ]
    }
   ],
   "source": [
    "print(\"Accuracy score:\\n\", accuracy_score(Y_test, SVM_tune),\"\\n\")\n",
    "print(\"Confusion matix:\\n\", confusion_matrix(Y_test, SVM_tune),\"\\n\")\n",
    "print(\"Classification report\\n\", classification_report(Y_test, SVM_tune),\"\\n\")"
   ]
  },
  {
   "cell_type": "code",
   "execution_count": 86,
   "id": "6e5f5d89",
   "metadata": {},
   "outputs": [
    {
     "name": "stdout",
     "output_type": "stream",
     "text": [
      "[[0.81574349 0.18425651]\n",
      " [0.8046477  0.1953523 ]\n",
      " [0.81321913 0.18678087]\n",
      " [0.01822225 0.98177775]\n",
      " [0.09599729 0.90400271]\n",
      " [0.8017555  0.1982445 ]\n",
      " [0.81243695 0.18756305]\n",
      " [0.81512368 0.18487632]\n",
      " [0.81558688 0.18441312]\n",
      " [0.80806057 0.19193943]\n",
      " [0.80619033 0.19380967]\n",
      " [0.0179017  0.9820983 ]\n",
      " [0.31209701 0.68790299]\n",
      " [0.79404077 0.20595923]\n",
      " [0.81363077 0.18636923]\n",
      " [0.81773114 0.18226886]\n",
      " [0.94885015 0.05114985]\n",
      " [0.85735873 0.14264127]\n",
      " [0.55082552 0.44917448]\n",
      " [0.80821062 0.19178938]\n",
      " [0.84518544 0.15481456]\n",
      " [0.82614308 0.17385692]\n",
      " [0.24815256 0.75184744]\n",
      " [0.85175795 0.14824205]\n",
      " [0.75329874 0.24670126]\n",
      " [0.80289513 0.19710487]\n",
      " [0.80409851 0.19590149]\n",
      " [0.10522147 0.89477853]\n",
      " [0.81410429 0.18589571]\n",
      " [0.0291369  0.9708631 ]\n",
      " [0.10952231 0.89047769]\n",
      " [0.81773114 0.18226886]\n",
      " [0.16380072 0.83619928]\n",
      " [0.88095692 0.11904308]\n",
      " [0.22950329 0.77049671]\n",
      " [0.81542224 0.18457776]\n",
      " [0.4052149  0.5947851 ]\n",
      " [0.8104663  0.1895337 ]\n",
      " [0.80156829 0.19843171]\n",
      " [0.81551265 0.18448735]\n",
      " [0.93592459 0.06407541]\n",
      " [0.79747258 0.20252742]\n",
      " [0.81530518 0.18469482]\n",
      " [0.94491402 0.05508598]\n",
      " [0.78474539 0.21525461]\n",
      " [0.79471327 0.20528673]\n",
      " [0.80629379 0.19370621]\n",
      " [0.80619421 0.19380579]\n",
      " [0.01666927 0.98333073]\n",
      " [0.78395636 0.21604364]\n",
      " [0.74120202 0.25879798]\n",
      " [0.81807158 0.18192842]\n",
      " [0.80868639 0.19131361]\n",
      " [0.75521136 0.24478864]\n",
      " [0.28015227 0.71984773]\n",
      " [0.05488356 0.94511644]\n",
      " [0.83608651 0.16391349]\n",
      " [0.17219894 0.82780106]\n",
      " [0.02334646 0.97665354]\n",
      " [0.87843407 0.12156593]\n",
      " [0.79697258 0.20302742]\n",
      " [0.02163593 0.97836407]\n",
      " [0.23098339 0.76901661]\n",
      " [0.52422474 0.47577526]\n",
      " [0.80116604 0.19883396]\n",
      " [0.79889083 0.20110917]\n",
      " [0.79941649 0.20058351]\n",
      " [0.81531778 0.18468222]\n",
      " [0.81502605 0.18497395]\n",
      " [0.42940122 0.57059878]\n",
      " [0.78002817 0.21997183]\n",
      " [0.8105906  0.1894094 ]\n",
      " [0.81858118 0.18141882]\n",
      " [0.79773637 0.20226363]\n",
      " [0.22696891 0.77303109]\n",
      " [0.7922981  0.2077019 ]\n",
      " [0.80970235 0.19029765]\n",
      " [0.9049965  0.0950035 ]\n",
      " [0.79221872 0.20778128]\n",
      " [0.8104572  0.1895428 ]\n",
      " [0.84594698 0.15405302]\n",
      " [0.80156829 0.19843171]\n",
      " [0.82401221 0.17598779]\n",
      " [0.4161185  0.5838815 ]\n",
      " [0.22737391 0.77262609]\n",
      " [0.81746545 0.18253455]\n",
      " [0.02520477 0.97479523]\n",
      " [0.0407945  0.9592055 ]\n",
      " [0.81418484 0.18581516]\n",
      " [0.05647903 0.94352097]\n",
      " [0.81538155 0.18461845]\n",
      " [0.80158639 0.19841361]\n",
      " [0.79821673 0.20178327]\n",
      " [0.8151557  0.1848443 ]\n",
      " [0.09930206 0.90069794]\n",
      " [0.40738951 0.59261049]\n",
      " [0.55968811 0.44031189]\n",
      " [0.80339714 0.19660286]\n",
      " [0.14698094 0.85301906]\n",
      " [0.8130642  0.1869358 ]\n",
      " [0.23593628 0.76406372]\n",
      " [0.79359929 0.20640071]\n",
      " [0.88911887 0.11088113]\n",
      " [0.80368128 0.19631872]\n",
      " [0.22559088 0.77440912]\n",
      " [0.04095318 0.95904682]\n",
      " [0.81773114 0.18226886]\n",
      " [0.48225827 0.51774173]\n",
      " [0.21309431 0.78690569]\n",
      " [0.7964173  0.2035827 ]\n",
      " [0.27120882 0.72879118]\n",
      " [0.90534297 0.09465703]\n",
      " [0.03582973 0.96417027]\n",
      " [0.8151557  0.1848443 ]\n",
      " [0.80645366 0.19354634]\n",
      " [0.82175236 0.17824764]\n",
      " [0.80109555 0.19890445]\n",
      " [0.009693   0.990307  ]\n",
      " [0.40781393 0.59218607]\n",
      " [0.7767715  0.2232285 ]\n",
      " [0.03136634 0.96863366]\n",
      " [0.91446533 0.08553467]\n",
      " [0.0415372  0.9584628 ]\n",
      " [0.40415666 0.59584334]\n",
      " [0.73909357 0.26090643]\n",
      " [0.23098339 0.76901661]\n",
      " [0.03535616 0.96464384]\n",
      " [0.84153567 0.15846433]\n",
      " [0.8151557  0.1848443 ]\n",
      " [0.30038106 0.69961894]\n",
      " [0.04142244 0.95857756]\n",
      " [0.80704278 0.19295722]\n",
      " [0.81106031 0.18893969]\n",
      " [0.03225675 0.96774325]\n",
      " [0.20855605 0.79144395]\n",
      " [0.40581852 0.59418148]\n",
      " [0.89567321 0.10432679]\n",
      " [0.79263068 0.20736932]\n",
      " [0.10477423 0.89522577]\n",
      " [0.80272386 0.19727614]\n",
      " [0.23056202 0.76943798]\n",
      " [0.81321913 0.18678087]\n",
      " [0.79612177 0.20387823]\n",
      " [0.80387808 0.19612192]\n",
      " [0.81593055 0.18406945]\n",
      " [0.80884837 0.19115163]\n",
      " [0.81991897 0.18008103]\n",
      " [0.88651935 0.11348065]\n",
      " [0.82362938 0.17637062]\n",
      " [0.80140778 0.19859222]\n",
      " [0.81556082 0.18443918]\n",
      " [0.80463161 0.19536839]\n",
      " [0.03862575 0.96137425]\n",
      " [0.80627297 0.19372703]\n",
      " [0.8076731  0.1923269 ]\n",
      " [0.115086   0.884914  ]\n",
      " [0.81593055 0.18406945]\n",
      " [0.82034571 0.17965429]\n",
      " [0.80156829 0.19843171]\n",
      " [0.80821062 0.19178938]\n",
      " [0.77268777 0.22731223]\n",
      " [0.23098339 0.76901661]\n",
      " [0.48045256 0.51954744]\n",
      " [0.81530518 0.18469482]\n",
      " [0.79918065 0.20081935]\n",
      " [0.647667   0.352333  ]\n",
      " [0.7598588  0.2401412 ]\n",
      " [0.78519372 0.21480628]\n",
      " [0.27770734 0.72229266]\n",
      " [0.80570472 0.19429528]\n",
      " [0.23263065 0.76736935]\n",
      " [0.04407332 0.95592668]\n",
      " [0.79603336 0.20396664]\n",
      " [0.18636854 0.81363146]\n",
      " [0.8018941  0.1981059 ]\n",
      " [0.78877773 0.21122227]\n",
      " [0.80802092 0.19197908]\n",
      " [0.79654734 0.20345266]\n",
      " [0.79494692 0.20505308]]\n"
     ]
    }
   ],
   "source": [
    "# store the predicted probabilities\n",
    "SVM_prob= svm_tune.predict_proba(X_test)\n",
    "print(SVM_prob)"
   ]
  },
  {
   "cell_type": "code",
   "execution_count": 87,
   "id": "35c61ed0",
   "metadata": {},
   "outputs": [
    {
     "name": "stdout",
     "output_type": "stream",
     "text": [
      "0.8755169561621173\n"
     ]
    }
   ],
   "source": [
    "fpr, tpr, z= metrics.roc_curve(Y_test, SVM_prob[:,1])\n",
    "auc= metrics.auc(fpr,tpr)\n",
    "print(auc)"
   ]
  },
  {
   "cell_type": "code",
   "execution_count": 88,
   "id": "1084f881",
   "metadata": {},
   "outputs": [
    {
     "data": {
      "image/png": "[encoded data removed]",
      "text/plain": [
       "<Figure size 432x288 with 1 Axes>"
      ]
     },
     "metadata": {
      "needs_background": "light"
     },
     "output_type": "display_data"
    }
   ],
   "source": [
    "plt.title('Receiver Operating Characteristic')\n",
    "plt.plot(fpr,tpr, 'b', label = auc)\n",
    "plt.legend(loc = 'lower right')\n",
    "plt.plot([0, 1], [0, 1],'r--')\n",
    "plt.xlim([0, 1])\n",
    "plt.ylim([0, 1])\n",
    "plt.xlabel('False Positive Rate')\n",
    "plt.ylabel('True Positive Rate')\n",
    "plt.show()"
   ]
  },
  {
   "cell_type": "markdown",
   "id": "f9dddb6a",
   "metadata": {},
   "source": [
    "## Decision Tree"
   ]
  },
  {
   "cell_type": "code",
   "execution_count": 89,
   "id": "be83e651",
   "metadata": {},
   "outputs": [],
   "source": [
    "dt= DecisionTreeClassifier(criterion=\"gini\", splitter=\"best\", random_state=10)\n",
    "dt.fit(X_train, Y_train)\n",
    "DT= dt.predict(X_test)"
   ]
  },
  {
   "cell_type": "code",
   "execution_count": 90,
   "id": "173193f6",
   "metadata": {},
   "outputs": [
    {
     "name": "stdout",
     "output_type": "stream",
     "text": [
      "Accuracy score:\n",
      " 0.776536312849162 \n",
      "\n",
      "Confusion matix:\n",
      " [[91 26]\n",
      " [14 48]] \n",
      "\n",
      "Classification report\n",
      "               precision    recall  f1-score   support\n",
      "\n",
      "           0       0.87      0.78      0.82       117\n",
      "           1       0.65      0.77      0.71        62\n",
      "\n",
      "    accuracy                           0.78       179\n",
      "   macro avg       0.76      0.78      0.76       179\n",
      "weighted avg       0.79      0.78      0.78       179\n",
      " \n",
      "\n"
     ]
    }
   ],
   "source": [
    "print(\"Accuracy score:\\n\", accuracy_score(Y_test, DT),\"\\n\")\n",
    "print(\"Confusion matix:\\n\", confusion_matrix(Y_test, DT),\"\\n\")\n",
    "print(\"Classification report\\n\", classification_report(Y_test, DT),\"\\n\")"
   ]
  },
  {
   "cell_type": "markdown",
   "id": "0169a538",
   "metadata": {},
   "source": [
    "## Tune Decision Tree"
   ]
  },
  {
   "cell_type": "code",
   "execution_count": 173,
   "id": "404b910e",
   "metadata": {},
   "outputs": [],
   "source": [
    "dt_tune= DecisionTreeClassifier(criterion=\"gini\", splitter=\"best\", random_state=10, min_samples_leaf=5, max_depth=100, min_samples_split=4,\n",
    "                                max_leaf_nodes=100)\n",
    "dt_tune.fit(X_train, Y_train)\n",
    "DT_tune= dt_tune.predict(X_test)"
   ]
  },
  {
   "cell_type": "code",
   "execution_count": 174,
   "id": "418bfa37",
   "metadata": {},
   "outputs": [
    {
     "name": "stdout",
     "output_type": "stream",
     "text": [
      "Accuracy score:\n",
      " 0.8603351955307262 \n",
      "\n",
      "Confusion matix:\n",
      " [[105  12]\n",
      " [ 13  49]] \n",
      "\n",
      "Classification report\n",
      "               precision    recall  f1-score   support\n",
      "\n",
      "           0       0.89      0.90      0.89       117\n",
      "           1       0.80      0.79      0.80        62\n",
      "\n",
      "    accuracy                           0.86       179\n",
      "   macro avg       0.85      0.84      0.85       179\n",
      "weighted avg       0.86      0.86      0.86       179\n",
      " \n",
      "\n"
     ]
    }
   ],
   "source": [
    "print(\"Accuracy score:\\n\", accuracy_score(Y_test, DT_tune),\"\\n\")\n",
    "print(\"Confusion matix:\\n\", confusion_matrix(Y_test, DT_tune),\"\\n\")\n",
    "print(\"Classification report\\n\", classification_report(Y_test, DT_tune),\"\\n\")"
   ]
  },
  {
   "cell_type": "code",
   "execution_count": 93,
   "id": "728e01a8",
   "metadata": {},
   "outputs": [
    {
     "name": "stdout",
     "output_type": "stream",
     "text": [
      "[[1.         0.        ]\n",
      " [1.         0.        ]\n",
      " [1.         0.        ]\n",
      " [0.4        0.6       ]\n",
      " [0.         1.        ]\n",
      " [1.         0.        ]\n",
      " [0.66666667 0.33333333]\n",
      " [1.         0.        ]\n",
      " [1.         0.        ]\n",
      " [1.         0.        ]\n",
      " [1.         0.        ]\n",
      " [0.         1.        ]\n",
      " [0.         1.        ]\n",
      " [1.         0.        ]\n",
      " [0.66666667 0.33333333]\n",
      " [1.         0.        ]\n",
      " [0.875      0.125     ]\n",
      " [1.         0.        ]\n",
      " [0.25       0.75      ]\n",
      " [1.         0.        ]\n",
      " [1.         0.        ]\n",
      " [0.71428571 0.28571429]\n",
      " [0.33333333 0.66666667]\n",
      " [0.57142857 0.42857143]\n",
      " [0.         1.        ]\n",
      " [1.         0.        ]\n",
      " [0.5        0.5       ]\n",
      " [1.         0.        ]\n",
      " [1.         0.        ]\n",
      " [0.         1.        ]\n",
      " [0.         1.        ]\n",
      " [1.         0.        ]\n",
      " [0.8        0.2       ]\n",
      " [0.5        0.5       ]\n",
      " [0.         1.        ]\n",
      " [0.57142857 0.42857143]\n",
      " [0.25       0.75      ]\n",
      " [0.4        0.6       ]\n",
      " [0.91666667 0.08333333]\n",
      " [0.5        0.5       ]\n",
      " [1.         0.        ]\n",
      " [0.875      0.125     ]\n",
      " [1.         0.        ]\n",
      " [0.6        0.4       ]\n",
      " [0.83333333 0.16666667]\n",
      " [0.2        0.8       ]\n",
      " [0.83333333 0.16666667]\n",
      " [0.5        0.5       ]\n",
      " [0.         1.        ]\n",
      " [0.83333333 0.16666667]\n",
      " [0.83333333 0.16666667]\n",
      " [1.         0.        ]\n",
      " [0.71428571 0.28571429]\n",
      " [0.         1.        ]\n",
      " [0.         1.        ]\n",
      " [0.         1.        ]\n",
      " [1.         0.        ]\n",
      " [0.4        0.6       ]\n",
      " [0.         1.        ]\n",
      " [1.         0.        ]\n",
      " [0.66666667 0.33333333]\n",
      " [0.         1.        ]\n",
      " [0.25       0.75      ]\n",
      " [0.         1.        ]\n",
      " [0.57142857 0.42857143]\n",
      " [1.         0.        ]\n",
      " [0.55555556 0.44444444]\n",
      " [1.         0.        ]\n",
      " [1.         0.        ]\n",
      " [0.33333333 0.66666667]\n",
      " [0.875      0.125     ]\n",
      " [1.         0.        ]\n",
      " [0.66666667 0.33333333]\n",
      " [1.         0.        ]\n",
      " [0.         1.        ]\n",
      " [1.         0.        ]\n",
      " [1.         0.        ]\n",
      " [1.         0.        ]\n",
      " [0.66666667 0.33333333]\n",
      " [1.         0.        ]\n",
      " [1.         0.        ]\n",
      " [0.91666667 0.08333333]\n",
      " [1.         0.        ]\n",
      " [0.4        0.6       ]\n",
      " [0.2        0.8       ]\n",
      " [0.88888889 0.11111111]\n",
      " [0.         1.        ]\n",
      " [0.         1.        ]\n",
      " [0.66666667 0.33333333]\n",
      " [0.2        0.8       ]\n",
      " [1.         0.        ]\n",
      " [1.         0.        ]\n",
      " [0.6        0.4       ]\n",
      " [1.         0.        ]\n",
      " [0.         1.        ]\n",
      " [1.         0.        ]\n",
      " [0.6        0.4       ]\n",
      " [0.8        0.2       ]\n",
      " [0.         1.        ]\n",
      " [1.         0.        ]\n",
      " [0.         1.        ]\n",
      " [1.         0.        ]\n",
      " [0.5        0.5       ]\n",
      " [0.55555556 0.44444444]\n",
      " [0.         1.        ]\n",
      " [0.         1.        ]\n",
      " [1.         0.        ]\n",
      " [0.4        0.6       ]\n",
      " [0.         1.        ]\n",
      " [0.66666667 0.33333333]\n",
      " [0.33333333 0.66666667]\n",
      " [0.8        0.2       ]\n",
      " [0.         1.        ]\n",
      " [1.         0.        ]\n",
      " [1.         0.        ]\n",
      " [1.         0.        ]\n",
      " [0.8        0.2       ]\n",
      " [0.         1.        ]\n",
      " [0.25       0.75      ]\n",
      " [0.         1.        ]\n",
      " [0.         1.        ]\n",
      " [1.         0.        ]\n",
      " [0.         1.        ]\n",
      " [0.6        0.4       ]\n",
      " [0.2        0.8       ]\n",
      " [0.25       0.75      ]\n",
      " [0.         1.        ]\n",
      " [1.         0.        ]\n",
      " [1.         0.        ]\n",
      " [0.         1.        ]\n",
      " [0.         1.        ]\n",
      " [1.         0.        ]\n",
      " [1.         0.        ]\n",
      " [0.4        0.6       ]\n",
      " [0.         1.        ]\n",
      " [1.         0.        ]\n",
      " [1.         0.        ]\n",
      " [0.66666667 0.33333333]\n",
      " [0.         1.        ]\n",
      " [1.         0.        ]\n",
      " [0.25       0.75      ]\n",
      " [1.         0.        ]\n",
      " [0.2        0.8       ]\n",
      " [0.8        0.2       ]\n",
      " [1.         0.        ]\n",
      " [1.         0.        ]\n",
      " [0.71428571 0.28571429]\n",
      " [1.         0.        ]\n",
      " [1.         0.        ]\n",
      " [0.91666667 0.08333333]\n",
      " [0.57142857 0.42857143]\n",
      " [0.2        0.8       ]\n",
      " [0.         1.        ]\n",
      " [1.         0.        ]\n",
      " [0.71428571 0.28571429]\n",
      " [0.8        0.2       ]\n",
      " [1.         0.        ]\n",
      " [0.875      0.125     ]\n",
      " [0.91666667 0.08333333]\n",
      " [1.         0.        ]\n",
      " [1.         0.        ]\n",
      " [0.25       0.75      ]\n",
      " [0.2        0.8       ]\n",
      " [1.         0.        ]\n",
      " [0.83333333 0.16666667]\n",
      " [0.66666667 0.33333333]\n",
      " [0.33333333 0.66666667]\n",
      " [1.         0.        ]\n",
      " [0.4        0.6       ]\n",
      " [1.         0.        ]\n",
      " [0.4        0.6       ]\n",
      " [0.         1.        ]\n",
      " [0.91666667 0.08333333]\n",
      " [0.8        0.2       ]\n",
      " [0.8        0.2       ]\n",
      " [0.83333333 0.16666667]\n",
      " [0.8        0.2       ]\n",
      " [1.         0.        ]\n",
      " [0.55555556 0.44444444]]\n"
     ]
    }
   ],
   "source": [
    "# store the predicted probabilities\n",
    "DT_prob= dt_tune.predict_proba(X_test)\n",
    "print(DT_prob)"
   ]
  },
  {
   "cell_type": "code",
   "execution_count": 94,
   "id": "75247dc1",
   "metadata": {},
   "outputs": [
    {
     "name": "stdout",
     "output_type": "stream",
     "text": [
      "0.8868899917287014\n"
     ]
    }
   ],
   "source": [
    "fpr, tpr, z= metrics.roc_curve(Y_test, DT_prob[:,1])\n",
    "auc= metrics.auc(fpr,tpr)\n",
    "print(auc)"
   ]
  },
  {
   "cell_type": "code",
   "execution_count": 95,
   "id": "11d7a1f3",
   "metadata": {},
   "outputs": [
    {
     "data": {
      "image/png": "[encoded data removed]",
      "text/plain": [
       "<Figure size 432x288 with 1 Axes>"
      ]
     },
     "metadata": {
      "needs_background": "light"
     },
     "output_type": "display_data"
    }
   ],
   "source": [
    "plt.title('Receiver Operating Characteristic')\n",
    "plt.plot(fpr,tpr, 'b', label = auc)\n",
    "plt.legend(loc = 'lower right')\n",
    "plt.plot([0, 1], [0, 1],'r--')\n",
    "plt.xlim([0, 1])\n",
    "plt.ylim([0, 1])\n",
    "plt.xlabel('False Positive Rate')\n",
    "plt.ylabel('True Positive Rate')\n",
    "plt.show()"
   ]
  },
  {
   "cell_type": "markdown",
   "id": "bffdd63b",
   "metadata": {},
   "source": [
    "## Extra Tree"
   ]
  },
  {
   "cell_type": "code",
   "execution_count": 96,
   "id": "6ffb2167",
   "metadata": {},
   "outputs": [],
   "source": [
    "ext= ExtraTreesClassifier(n_estimators=100, random_state=10)\n",
    "ext.fit(X_train,Y_train)\n",
    "EXT= ext.predict(X_test)"
   ]
  },
  {
   "cell_type": "code",
   "execution_count": 97,
   "id": "dadcce6d",
   "metadata": {},
   "outputs": [
    {
     "name": "stdout",
     "output_type": "stream",
     "text": [
      "Accuracy score:\n",
      " 0.7653631284916201 \n",
      "\n",
      "Confusion matix:\n",
      " [[95 22]\n",
      " [20 42]] \n",
      "\n",
      "Classification report\n",
      "               precision    recall  f1-score   support\n",
      "\n",
      "           0       0.83      0.81      0.82       117\n",
      "           1       0.66      0.68      0.67        62\n",
      "\n",
      "    accuracy                           0.77       179\n",
      "   macro avg       0.74      0.74      0.74       179\n",
      "weighted avg       0.77      0.77      0.77       179\n",
      " \n",
      "\n"
     ]
    }
   ],
   "source": [
    "print(\"Accuracy score:\\n\", accuracy_score(Y_test, EXT),\"\\n\")\n",
    "print(\"Confusion matix:\\n\", confusion_matrix(Y_test, EXT),\"\\n\")\n",
    "print(\"Classification report\\n\", classification_report(Y_test, EXT),\"\\n\")"
   ]
  },
  {
   "cell_type": "markdown",
   "id": "86dad162",
   "metadata": {},
   "source": [
    "## Tune Extra Tree"
   ]
  },
  {
   "cell_type": "code",
   "execution_count": 98,
   "id": "f643aef8",
   "metadata": {},
   "outputs": [],
   "source": [
    "ext_tune= ExtraTreesClassifier(n_estimators=110, random_state=10, criterion=\"gini\", min_samples_leaf=3, max_depth=100, min_samples_split=5)\n",
    "ext_tune.fit(X_train,Y_train)\n",
    "EXT_tune= ext_tune.predict(X_test)"
   ]
  },
  {
   "cell_type": "code",
   "execution_count": 99,
   "id": "a7c393b1",
   "metadata": {},
   "outputs": [
    {
     "name": "stdout",
     "output_type": "stream",
     "text": [
      "Accuracy score:\n",
      " 0.8379888268156425 \n",
      "\n",
      "Confusion matix:\n",
      " [[108   9]\n",
      " [ 20  42]] \n",
      "\n",
      "Classification report\n",
      "               precision    recall  f1-score   support\n",
      "\n",
      "           0       0.84      0.92      0.88       117\n",
      "           1       0.82      0.68      0.74        62\n",
      "\n",
      "    accuracy                           0.84       179\n",
      "   macro avg       0.83      0.80      0.81       179\n",
      "weighted avg       0.84      0.84      0.83       179\n",
      " \n",
      "\n"
     ]
    }
   ],
   "source": [
    "print(\"Accuracy score:\\n\", accuracy_score(Y_test, EXT_tune),\"\\n\")\n",
    "print(\"Confusion matix:\\n\", confusion_matrix(Y_test, EXT_tune),\"\\n\")\n",
    "print(\"Classification report\\n\", classification_report(Y_test, EXT_tune),\"\\n\")"
   ]
  },
  {
   "cell_type": "markdown",
   "id": "97401ba1",
   "metadata": {},
   "source": [
    "## Random Forest"
   ]
  },
  {
   "cell_type": "code",
   "execution_count": 100,
   "id": "4c418130",
   "metadata": {},
   "outputs": [],
   "source": [
    "rf= RandomForestClassifier(n_estimators=100, random_state=10)\n",
    "rf.fit(X_train,Y_train)\n",
    "RF= rf.predict(X_test)"
   ]
  },
  {
   "cell_type": "code",
   "execution_count": 101,
   "id": "7594cdfe",
   "metadata": {},
   "outputs": [
    {
     "name": "stdout",
     "output_type": "stream",
     "text": [
      "Accuracy score:\n",
      " 0.8268156424581006 \n",
      "\n",
      "Confusion matix:\n",
      " [[101  16]\n",
      " [ 15  47]] \n",
      "\n",
      "Classification report\n",
      "               precision    recall  f1-score   support\n",
      "\n",
      "           0       0.87      0.86      0.87       117\n",
      "           1       0.75      0.76      0.75        62\n",
      "\n",
      "    accuracy                           0.83       179\n",
      "   macro avg       0.81      0.81      0.81       179\n",
      "weighted avg       0.83      0.83      0.83       179\n",
      " \n",
      "\n"
     ]
    }
   ],
   "source": [
    "print(\"Accuracy score:\\n\", accuracy_score(Y_test, RF),\"\\n\")\n",
    "print(\"Confusion matix:\\n\", confusion_matrix(Y_test, RF),\"\\n\")\n",
    "print(\"Classification report\\n\", classification_report(Y_test, RF),\"\\n\")"
   ]
  },
  {
   "cell_type": "markdown",
   "id": "c7563d2f",
   "metadata": {},
   "source": [
    "## Tune Random Forest"
   ]
  },
  {
   "cell_type": "code",
   "execution_count": 175,
   "id": "0c9105d2",
   "metadata": {},
   "outputs": [],
   "source": [
    "rf_tune= RandomForestClassifier(n_estimators=100, random_state=10, criterion=\"gini\", min_samples_leaf=3, max_depth=15, min_samples_split=4)\n",
    "rf_tune.fit(X_train,Y_train)\n",
    "RF_tune= rf_tune.predict(X_test)"
   ]
  },
  {
   "cell_type": "code",
   "execution_count": 176,
   "id": "051553f0",
   "metadata": {},
   "outputs": [
    {
     "name": "stdout",
     "output_type": "stream",
     "text": [
      "Accuracy score:\n",
      " 0.8659217877094972 \n",
      "\n",
      "Confusion matix:\n",
      " [[106  11]\n",
      " [ 13  49]] \n",
      "\n",
      "Classification report\n",
      "               precision    recall  f1-score   support\n",
      "\n",
      "           0       0.89      0.91      0.90       117\n",
      "           1       0.82      0.79      0.80        62\n",
      "\n",
      "    accuracy                           0.87       179\n",
      "   macro avg       0.85      0.85      0.85       179\n",
      "weighted avg       0.87      0.87      0.87       179\n",
      " \n",
      "\n"
     ]
    }
   ],
   "source": [
    "print(\"Accuracy score:\\n\", accuracy_score(Y_test, RF_tune),\"\\n\")\n",
    "print(\"Confusion matix:\\n\", confusion_matrix(Y_test, RF_tune),\"\\n\")\n",
    "print(\"Classification report\\n\", classification_report(Y_test, RF_tune),\"\\n\")"
   ]
  },
  {
   "cell_type": "code",
   "execution_count": 152,
   "id": "9e7b4fd8",
   "metadata": {},
   "outputs": [
    {
     "name": "stdout",
     "output_type": "stream",
     "text": [
      "[[1.         0.        ]\n",
      " [1.         0.        ]\n",
      " [1.         0.        ]\n",
      " [0.4        0.6       ]\n",
      " [0.         1.        ]\n",
      " [1.         0.        ]\n",
      " [0.66666667 0.33333333]\n",
      " [1.         0.        ]\n",
      " [1.         0.        ]\n",
      " [1.         0.        ]\n",
      " [1.         0.        ]\n",
      " [0.         1.        ]\n",
      " [0.         1.        ]\n",
      " [1.         0.        ]\n",
      " [0.66666667 0.33333333]\n",
      " [1.         0.        ]\n",
      " [0.875      0.125     ]\n",
      " [1.         0.        ]\n",
      " [0.25       0.75      ]\n",
      " [1.         0.        ]\n",
      " [1.         0.        ]\n",
      " [0.71428571 0.28571429]\n",
      " [0.33333333 0.66666667]\n",
      " [0.57142857 0.42857143]\n",
      " [0.         1.        ]\n",
      " [1.         0.        ]\n",
      " [0.5        0.5       ]\n",
      " [1.         0.        ]\n",
      " [1.         0.        ]\n",
      " [0.         1.        ]\n",
      " [0.         1.        ]\n",
      " [1.         0.        ]\n",
      " [0.8        0.2       ]\n",
      " [0.5        0.5       ]\n",
      " [0.         1.        ]\n",
      " [0.57142857 0.42857143]\n",
      " [0.25       0.75      ]\n",
      " [0.4        0.6       ]\n",
      " [0.91666667 0.08333333]\n",
      " [0.5        0.5       ]\n",
      " [1.         0.        ]\n",
      " [0.875      0.125     ]\n",
      " [1.         0.        ]\n",
      " [0.6        0.4       ]\n",
      " [0.83333333 0.16666667]\n",
      " [0.2        0.8       ]\n",
      " [0.83333333 0.16666667]\n",
      " [0.5        0.5       ]\n",
      " [0.         1.        ]\n",
      " [0.83333333 0.16666667]\n",
      " [0.83333333 0.16666667]\n",
      " [1.         0.        ]\n",
      " [0.71428571 0.28571429]\n",
      " [0.         1.        ]\n",
      " [0.         1.        ]\n",
      " [0.         1.        ]\n",
      " [1.         0.        ]\n",
      " [0.4        0.6       ]\n",
      " [0.         1.        ]\n",
      " [1.         0.        ]\n",
      " [0.66666667 0.33333333]\n",
      " [0.         1.        ]\n",
      " [0.25       0.75      ]\n",
      " [0.         1.        ]\n",
      " [0.57142857 0.42857143]\n",
      " [1.         0.        ]\n",
      " [0.55555556 0.44444444]\n",
      " [1.         0.        ]\n",
      " [1.         0.        ]\n",
      " [0.33333333 0.66666667]\n",
      " [0.875      0.125     ]\n",
      " [1.         0.        ]\n",
      " [0.66666667 0.33333333]\n",
      " [1.         0.        ]\n",
      " [0.         1.        ]\n",
      " [1.         0.        ]\n",
      " [1.         0.        ]\n",
      " [1.         0.        ]\n",
      " [0.66666667 0.33333333]\n",
      " [1.         0.        ]\n",
      " [1.         0.        ]\n",
      " [0.91666667 0.08333333]\n",
      " [1.         0.        ]\n",
      " [0.4        0.6       ]\n",
      " [0.2        0.8       ]\n",
      " [0.88888889 0.11111111]\n",
      " [0.         1.        ]\n",
      " [0.         1.        ]\n",
      " [0.66666667 0.33333333]\n",
      " [0.2        0.8       ]\n",
      " [1.         0.        ]\n",
      " [1.         0.        ]\n",
      " [0.6        0.4       ]\n",
      " [1.         0.        ]\n",
      " [0.         1.        ]\n",
      " [1.         0.        ]\n",
      " [0.6        0.4       ]\n",
      " [0.8        0.2       ]\n",
      " [0.         1.        ]\n",
      " [1.         0.        ]\n",
      " [0.         1.        ]\n",
      " [1.         0.        ]\n",
      " [0.5        0.5       ]\n",
      " [0.55555556 0.44444444]\n",
      " [0.         1.        ]\n",
      " [0.         1.        ]\n",
      " [1.         0.        ]\n",
      " [0.4        0.6       ]\n",
      " [0.         1.        ]\n",
      " [0.66666667 0.33333333]\n",
      " [0.33333333 0.66666667]\n",
      " [0.8        0.2       ]\n",
      " [0.         1.        ]\n",
      " [1.         0.        ]\n",
      " [1.         0.        ]\n",
      " [1.         0.        ]\n",
      " [0.8        0.2       ]\n",
      " [0.         1.        ]\n",
      " [0.25       0.75      ]\n",
      " [0.         1.        ]\n",
      " [0.         1.        ]\n",
      " [1.         0.        ]\n",
      " [0.         1.        ]\n",
      " [0.6        0.4       ]\n",
      " [0.2        0.8       ]\n",
      " [0.25       0.75      ]\n",
      " [0.         1.        ]\n",
      " [1.         0.        ]\n",
      " [1.         0.        ]\n",
      " [0.         1.        ]\n",
      " [0.         1.        ]\n",
      " [1.         0.        ]\n",
      " [1.         0.        ]\n",
      " [0.4        0.6       ]\n",
      " [0.         1.        ]\n",
      " [1.         0.        ]\n",
      " [1.         0.        ]\n",
      " [0.66666667 0.33333333]\n",
      " [0.         1.        ]\n",
      " [1.         0.        ]\n",
      " [0.25       0.75      ]\n",
      " [1.         0.        ]\n",
      " [0.2        0.8       ]\n",
      " [0.8        0.2       ]\n",
      " [1.         0.        ]\n",
      " [1.         0.        ]\n",
      " [0.71428571 0.28571429]\n",
      " [1.         0.        ]\n",
      " [1.         0.        ]\n",
      " [0.91666667 0.08333333]\n",
      " [0.57142857 0.42857143]\n",
      " [0.2        0.8       ]\n",
      " [0.         1.        ]\n",
      " [1.         0.        ]\n",
      " [0.71428571 0.28571429]\n",
      " [0.8        0.2       ]\n",
      " [1.         0.        ]\n",
      " [0.875      0.125     ]\n",
      " [0.91666667 0.08333333]\n",
      " [1.         0.        ]\n",
      " [1.         0.        ]\n",
      " [0.25       0.75      ]\n",
      " [0.2        0.8       ]\n",
      " [1.         0.        ]\n",
      " [0.83333333 0.16666667]\n",
      " [0.66666667 0.33333333]\n",
      " [0.33333333 0.66666667]\n",
      " [1.         0.        ]\n",
      " [0.4        0.6       ]\n",
      " [1.         0.        ]\n",
      " [0.4        0.6       ]\n",
      " [0.         1.        ]\n",
      " [0.91666667 0.08333333]\n",
      " [0.8        0.2       ]\n",
      " [0.8        0.2       ]\n",
      " [0.83333333 0.16666667]\n",
      " [0.8        0.2       ]\n",
      " [1.         0.        ]\n",
      " [0.55555556 0.44444444]]\n"
     ]
    }
   ],
   "source": [
    "# store the predicted probabilities\n",
    "RF_prob= dt_tune.predict_proba(X_test)\n",
    "print(RF_prob)"
   ]
  },
  {
   "cell_type": "code",
   "execution_count": 153,
   "id": "a6c31f1f",
   "metadata": {},
   "outputs": [
    {
     "name": "stdout",
     "output_type": "stream",
     "text": [
      "0.8868899917287014\n"
     ]
    }
   ],
   "source": [
    "fpr, tpr, z= metrics.roc_curve(Y_test, DT_prob[:,1])\n",
    "auc= metrics.auc(fpr,tpr)\n",
    "print(auc)"
   ]
  },
  {
   "cell_type": "code",
   "execution_count": 154,
   "id": "b3e7c07f",
   "metadata": {},
   "outputs": [
    {
     "data": {
      "image/png": "[encoded data removed]",
      "text/plain": [
       "<Figure size 432x288 with 1 Axes>"
      ]
     },
     "metadata": {
      "needs_background": "light"
     },
     "output_type": "display_data"
    }
   ],
   "source": [
    "plt.title('Receiver Operating Characteristic')\n",
    "plt.plot(fpr,tpr, 'b', label = auc)\n",
    "plt.legend(loc = 'lower right')\n",
    "plt.plot([0, 1], [0, 1],'r--')\n",
    "plt.xlim([0, 1])\n",
    "plt.ylim([0, 1])\n",
    "plt.xlabel('False Positive Rate')\n",
    "plt.ylabel('True Positive Rate')\n",
    "plt.show()"
   ]
  },
  {
   "cell_type": "markdown",
   "id": "e18ba6c1",
   "metadata": {},
   "source": [
    "## Ada Boost"
   ]
  },
  {
   "cell_type": "code",
   "execution_count": 107,
   "id": "dd6bf3ad",
   "metadata": {},
   "outputs": [],
   "source": [
    "ab= AdaBoostClassifier(n_estimators=100, random_state=10)\n",
    "ab.fit(X_train,Y_train)\n",
    "AB= ab.predict(X_test)"
   ]
  },
  {
   "cell_type": "code",
   "execution_count": 108,
   "id": "d83234a4",
   "metadata": {},
   "outputs": [
    {
     "name": "stdout",
     "output_type": "stream",
     "text": [
      "Accuracy score:\n",
      " 0.8268156424581006 \n",
      "\n",
      "Confusion matix:\n",
      " [[99 18]\n",
      " [13 49]] \n",
      "\n",
      "Classification report\n",
      "               precision    recall  f1-score   support\n",
      "\n",
      "           0       0.88      0.85      0.86       117\n",
      "           1       0.73      0.79      0.76        62\n",
      "\n",
      "    accuracy                           0.83       179\n",
      "   macro avg       0.81      0.82      0.81       179\n",
      "weighted avg       0.83      0.83      0.83       179\n",
      " \n",
      "\n"
     ]
    }
   ],
   "source": [
    "print(\"Accuracy score:\\n\", accuracy_score(Y_test, AB),\"\\n\")\n",
    "print(\"Confusion matix:\\n\", confusion_matrix(Y_test, AB),\"\\n\")\n",
    "print(\"Classification report\\n\", classification_report(Y_test, AB),\"\\n\")"
   ]
  },
  {
   "cell_type": "markdown",
   "id": "59e50945",
   "metadata": {},
   "source": [
    "## Gradient Boost"
   ]
  },
  {
   "cell_type": "code",
   "execution_count": 109,
   "id": "628cbede",
   "metadata": {},
   "outputs": [],
   "source": [
    "gb= GradientBoostingClassifier(n_estimators=100, random_state=10)\n",
    "gb.fit(X_train,Y_train)\n",
    "GB= gb.predict(X_test)"
   ]
  },
  {
   "cell_type": "code",
   "execution_count": 110,
   "id": "ef56d74c",
   "metadata": {},
   "outputs": [
    {
     "name": "stdout",
     "output_type": "stream",
     "text": [
      "Accuracy score:\n",
      " 0.8435754189944135 \n",
      "\n",
      "Confusion matix:\n",
      " [[104  13]\n",
      " [ 15  47]] \n",
      "\n",
      "Classification report\n",
      "               precision    recall  f1-score   support\n",
      "\n",
      "           0       0.87      0.89      0.88       117\n",
      "           1       0.78      0.76      0.77        62\n",
      "\n",
      "    accuracy                           0.84       179\n",
      "   macro avg       0.83      0.82      0.83       179\n",
      "weighted avg       0.84      0.84      0.84       179\n",
      " \n",
      "\n"
     ]
    }
   ],
   "source": [
    "print(\"Accuracy score:\\n\", accuracy_score(Y_test, GB),\"\\n\")\n",
    "print(\"Confusion matix:\\n\", confusion_matrix(Y_test, GB),\"\\n\")\n",
    "print(\"Classification report\\n\", classification_report(Y_test, GB),\"\\n\")"
   ]
  },
  {
   "cell_type": "markdown",
   "id": "6e53f3dc",
   "metadata": {},
   "source": [
    "## Tune Gradient Boost"
   ]
  },
  {
   "cell_type": "code",
   "execution_count": 177,
   "id": "e93f4a5e",
   "metadata": {},
   "outputs": [],
   "source": [
    "gb_tune= GradientBoostingClassifier(n_estimators=11, random_state=10)\n",
    "gb_tune.fit(X_train,Y_train)\n",
    "GB_tune= gb_tune.predict(X_test)"
   ]
  },
  {
   "cell_type": "code",
   "execution_count": 178,
   "id": "afcfc3ff",
   "metadata": {},
   "outputs": [
    {
     "name": "stdout",
     "output_type": "stream",
     "text": [
      "Accuracy score:\n",
      " 0.8603351955307262 \n",
      "\n",
      "Confusion matix:\n",
      " [[111   6]\n",
      " [ 19  43]] \n",
      "\n",
      "Classification report\n",
      "               precision    recall  f1-score   support\n",
      "\n",
      "           0       0.85      0.95      0.90       117\n",
      "           1       0.88      0.69      0.77        62\n",
      "\n",
      "    accuracy                           0.86       179\n",
      "   macro avg       0.87      0.82      0.84       179\n",
      "weighted avg       0.86      0.86      0.86       179\n",
      " \n",
      "\n"
     ]
    }
   ],
   "source": [
    "print(\"Accuracy score:\\n\", accuracy_score(Y_test, GB_tune),\"\\n\")\n",
    "print(\"Confusion matix:\\n\", confusion_matrix(Y_test, GB_tune),\"\\n\")\n",
    "print(\"Classification report\\n\", classification_report(Y_test, GB_tune),\"\\n\")"
   ]
  },
  {
   "cell_type": "markdown",
   "id": "e1e04c8d",
   "metadata": {},
   "source": [
    "## XGBoost"
   ]
  },
  {
   "cell_type": "code",
   "execution_count": 113,
   "id": "208400ff",
   "metadata": {},
   "outputs": [
    {
     "name": "stdout",
     "output_type": "stream",
     "text": [
      "[14:57:19] WARNING: C:/Users/Administrator/workspace/xgboost-win64_release_1.4.0/src/learner.cc:573: \n",
      "Parameters: { \"criterion\", \"min_samples_leaf\", \"min_samples_split\" } might not be used.\n",
      "\n",
      "  This may not be accurate due to some parameters are only used in language bindings but\n",
      "  passed down to XGBoost core.  Or some parameters are not used but slip through this\n",
      "  verification. Please open an issue if you find above cases.\n",
      "\n",
      "\n",
      "[14:57:19] WARNING: C:/Users/Administrator/workspace/xgboost-win64_release_1.4.0/src/learner.cc:1095: Starting in XGBoost 1.3.0, the default evaluation metric used with the objective 'binary:logistic' was changed from 'error' to 'logloss'. Explicitly set eval_metric if you'd like to restore the old behavior.\n"
     ]
    }
   ],
   "source": [
    "xgb= XGBClassifier(n_estimators=100,random_state=10, criterion=\"gini\", min_samples_leaf=3, max_depth=15, min_samples_split=4)\n",
    "xgb.fit(X_train,Y_train)\n",
    "XGB=xgb.predict(X_test)"
   ]
  },
  {
   "cell_type": "code",
   "execution_count": 114,
   "id": "046959e1",
   "metadata": {},
   "outputs": [
    {
     "name": "stdout",
     "output_type": "stream",
     "text": [
      "Accuracy score:\n",
      " 0.8212290502793296 \n",
      "\n",
      "Confusion matix:\n",
      " [[101  16]\n",
      " [ 16  46]] \n",
      "\n",
      "Classification report\n",
      "               precision    recall  f1-score   support\n",
      "\n",
      "           0       0.86      0.86      0.86       117\n",
      "           1       0.74      0.74      0.74        62\n",
      "\n",
      "    accuracy                           0.82       179\n",
      "   macro avg       0.80      0.80      0.80       179\n",
      "weighted avg       0.82      0.82      0.82       179\n",
      " \n",
      "\n"
     ]
    }
   ],
   "source": [
    "print(\"Accuracy score:\\n\", accuracy_score(Y_test, XGB),\"\\n\")\n",
    "print(\"Confusion matix:\\n\", confusion_matrix(Y_test, XGB),\"\\n\")\n",
    "print(\"Classification report\\n\", classification_report(Y_test, XGB),\"\\n\")"
   ]
  },
  {
   "cell_type": "markdown",
   "id": "cf828f24",
   "metadata": {},
   "source": [
    "## Ensemble Model"
   ]
  },
  {
   "cell_type": "code",
   "execution_count": 115,
   "id": "0d167c96",
   "metadata": {},
   "outputs": [],
   "source": [
    "estimators = []\n",
    "\n",
    "model1 = KNeighborsClassifier(n_neighbors=11,metric='minkowski')\n",
    "estimators.append((\"knn\", model1))\n",
    "\n",
    "model2 = SVC(kernel='rbf', C=415, gamma=0.01, random_state=10, probability=True)\n",
    "estimators.append((\"svm\", model2))\n",
    "\n",
    "model3 = DecisionTreeClassifier(criterion=\"gini\",splitter=\"best\",random_state=10,min_samples_leaf=5,max_depth=100,min_samples_split=4,max_leaf_nodes=100)\n",
    "estimators.append((\"dt\", model3))\n",
    "\n",
    "model4 = RandomForestClassifier(n_estimators=100, random_state=10, criterion=\"gini\", min_samples_leaf=3, max_depth=15, min_samples_split=4)\n",
    "estimators.append((\"rf\", model4))\n",
    "\n",
    "model5 = GradientBoostingClassifier(n_estimators=11, random_state=10)\n",
    "estimators.append((\"gb\", model5))\n",
    "\n",
    "\n",
    "# create the ensemble model\n",
    "ensemble = VotingClassifier(estimators)\n",
    "ensemble.fit(X_train, Y_train)\n",
    "EM=ensemble.predict(X_test)"
   ]
  },
  {
   "cell_type": "code",
   "execution_count": 116,
   "id": "3ebd46a4",
   "metadata": {},
   "outputs": [
    {
     "name": "stdout",
     "output_type": "stream",
     "text": [
      "Accuracy score:\n",
      " 0.8770949720670391 \n",
      "\n",
      "Confusion matix:\n",
      " [[109   8]\n",
      " [ 14  48]] \n",
      "\n",
      "Classification report\n",
      "               precision    recall  f1-score   support\n",
      "\n",
      "           0       0.89      0.93      0.91       117\n",
      "           1       0.86      0.77      0.81        62\n",
      "\n",
      "    accuracy                           0.88       179\n",
      "   macro avg       0.87      0.85      0.86       179\n",
      "weighted avg       0.88      0.88      0.88       179\n",
      " \n",
      "\n"
     ]
    }
   ],
   "source": [
    "print(\"Accuracy score:\\n\", accuracy_score(Y_test, EM),\"\\n\")\n",
    "print(\"Confusion matix:\\n\", confusion_matrix(Y_test, EM),\"\\n\")\n",
    "print(\"Classification report\\n\", classification_report(Y_test, EM),\"\\n\")"
   ]
  },
  {
   "cell_type": "markdown",
   "id": "f4cb70e2",
   "metadata": {},
   "source": [
    "## K-Fold Cross Validation"
   ]
  },
  {
   "cell_type": "code",
   "execution_count": 126,
   "id": "5d47b44a",
   "metadata": {},
   "outputs": [
    {
     "name": "stdout",
     "output_type": "stream",
     "text": [
      "[0.83333333 0.875      0.77083333 0.85416667 0.875      0.79166667\n",
      " 0.8125     0.76595745 0.70212766 0.76595745 0.80851064 0.93617021\n",
      " 0.78723404 0.80851064 0.91489362]\n",
      "0.8201241134751772\n"
     ]
    }
   ],
   "source": [
    "# model=KNeighborsClassifier(n_neighbors=11,metric='minkowski') #0.7989952718676124\n",
    "# model=SVC(kernel='rbf', C=415, gamma=0.01, random_state=10, probability=True) #0.8103132387706855\n",
    "# model=DecisionTreeClassifier(criterion=\"gini\",splitter=\"best\",random_state=10,min_samples_leaf=5,max_depth=100,min_samples_split=4,max_leaf_nodes=100) #0.796306146572104\n",
    "model=RandomForestClassifier(n_estimators=100, random_state=10, criterion=\"gini\", min_samples_leaf=3, max_depth=15, min_samples_split=4) #0.8201241134751772\n",
    "# model=GradientBoostingClassifier(n_estimators=11, random_state=10) #0.8061170212765957\n",
    "\n",
    "#performing kfold_cross_validation\n",
    "kfold_cv=KFold(n_splits=15)\n",
    "#print(kfold_cv)\n",
    "\n",
    "#running the model using scoring metric as accuracy\n",
    "kfold_cv_result=cross_val_score(estimator=model,X=X_train, y=Y_train, cv=kfold_cv)\n",
    "print(kfold_cv_result)\n",
    "\n",
    "#finding the mean\n",
    "print(kfold_cv_result.mean())"
   ]
  },
  {
   "cell_type": "markdown",
   "id": "750613f1",
   "metadata": {},
   "source": [
    "# All operation on Testing Dataset"
   ]
  },
  {
   "cell_type": "markdown",
   "id": "44073226",
   "metadata": {},
   "source": [
    "# Importing test data"
   ]
  },
  {
   "cell_type": "code",
   "execution_count": null,
   "id": "8b16a81d",
   "metadata": {},
   "outputs": [],
   "source": [
    "test=pd.read_csv(r'test.csv',index_col=0,header=0)\n",
    "test.head()"
   ]
  },
  {
   "cell_type": "code",
   "execution_count": 129,
   "id": "f838e362",
   "metadata": {},
   "outputs": [
    {
     "data": {
      "text/plain": [
       "(418, 10)"
      ]
     },
     "execution_count": 129,
     "metadata": {},
     "output_type": "execute_result"
    }
   ],
   "source": [
    "test.shape"
   ]
  },
  {
   "cell_type": "code",
   "execution_count": 130,
   "id": "660a7278",
   "metadata": {},
   "outputs": [
    {
     "name": "stdout",
     "output_type": "stream",
     "text": [
      "<class 'pandas.core.frame.DataFrame'>\n",
      "Int64Index: 418 entries, 892 to 1309\n",
      "Data columns (total 10 columns):\n",
      " #   Column    Non-Null Count  Dtype  \n",
      "---  ------    --------------  -----  \n",
      " 0   Pclass    418 non-null    int64  \n",
      " 1   Name      418 non-null    object \n",
      " 2   Sex       418 non-null    object \n",
      " 3   Age       332 non-null    float64\n",
      " 4   SibSp     418 non-null    int64  \n",
      " 5   Parch     418 non-null    int64  \n",
      " 6   Ticket    418 non-null    object \n",
      " 7   Fare      417 non-null    float64\n",
      " 8   Cabin     91 non-null     object \n",
      " 9   Embarked  418 non-null    object \n",
      "dtypes: float64(2), int64(3), object(5)\n",
      "memory usage: 35.9+ KB\n"
     ]
    }
   ],
   "source": [
    "test.info()"
   ]
  },
  {
   "cell_type": "code",
   "execution_count": 131,
   "id": "036f6626",
   "metadata": {},
   "outputs": [
    {
     "data": {
      "text/plain": [
       "<AxesSubplot:ylabel='PassengerId'>"
      ]
     },
     "execution_count": 131,
     "metadata": {},
     "output_type": "execute_result"
    },
    {
     "data": {
      "image/png": "[encoded data removed]",
      "text/plain": [
       "<Figure size 432x288 with 1 Axes>"
      ]
     },
     "metadata": {
      "needs_background": "light"
     },
     "output_type": "display_data"
    }
   ],
   "source": [
    "sns.heatmap(test.isnull(), yticklabels=False, cbar=False, cmap=\"viridis\")"
   ]
  },
  {
   "cell_type": "code",
   "execution_count": 132,
   "id": "61f4968b",
   "metadata": {},
   "outputs": [
    {
     "data": {
      "text/plain": [
       "Pclass        0\n",
       "Name          0\n",
       "Sex           0\n",
       "Age          86\n",
       "SibSp         0\n",
       "Parch         0\n",
       "Ticket        0\n",
       "Fare          1\n",
       "Cabin       327\n",
       "Embarked      0\n",
       "dtype: int64"
      ]
     },
     "execution_count": 132,
     "metadata": {},
     "output_type": "execute_result"
    }
   ],
   "source": [
    "test.isnull().sum()"
   ]
  },
  {
   "cell_type": "code",
   "execution_count": 134,
   "id": "5721bc06",
   "metadata": {},
   "outputs": [],
   "source": [
    "test.drop([\"Name\"], axis=1, inplace=True)"
   ]
  },
  {
   "cell_type": "code",
   "execution_count": 139,
   "id": "bff4c4e4",
   "metadata": {},
   "outputs": [],
   "source": [
    "test[\"Age\"].fillna(df[\"Age\"].mean(), inplace=True)"
   ]
  },
  {
   "cell_type": "code",
   "execution_count": 142,
   "id": "f9ddaaa5",
   "metadata": {},
   "outputs": [],
   "source": [
    "test.drop([\"Ticket\"], axis=1, inplace=True)"
   ]
  },
  {
   "cell_type": "code",
   "execution_count": 136,
   "id": "e595a2a5",
   "metadata": {},
   "outputs": [],
   "source": [
    "test[\"Fare\"].fillna(df[\"Fare\"].mean(), inplace=True)"
   ]
  },
  {
   "cell_type": "code",
   "execution_count": 137,
   "id": "81941345",
   "metadata": {},
   "outputs": [],
   "source": [
    "test.drop([\"Cabin\"], axis=1, inplace=True)"
   ]
  },
  {
   "cell_type": "code",
   "execution_count": 143,
   "id": "b5a32c2f",
   "metadata": {},
   "outputs": [
    {
     "data": {
      "text/plain": [
       "<AxesSubplot:ylabel='PassengerId'>"
      ]
     },
     "execution_count": 143,
     "metadata": {},
     "output_type": "execute_result"
    },
    {
     "data": {
      "image/png": "[encoded data removed]",
      "text/plain": [
       "<Figure size 432x288 with 1 Axes>"
      ]
     },
     "metadata": {
      "needs_background": "light"
     },
     "output_type": "display_data"
    }
   ],
   "source": [
    "sns.heatmap(test.isnull(), yticklabels=False, cbar=False, cmap=\"viridis\")"
   ]
  },
  {
   "cell_type": "code",
   "execution_count": 144,
   "id": "8bc5a2cd",
   "metadata": {},
   "outputs": [
    {
     "data": {
      "text/plain": [
       "Pclass      0\n",
       "Sex         0\n",
       "Age         0\n",
       "SibSp       0\n",
       "Parch       0\n",
       "Fare        0\n",
       "Embarked    0\n",
       "dtype: int64"
      ]
     },
     "execution_count": 144,
     "metadata": {},
     "output_type": "execute_result"
    }
   ],
   "source": [
    "test.isnull().sum()"
   ]
  },
  {
   "cell_type": "markdown",
   "id": "c2777a74",
   "metadata": {},
   "source": [
    "# Data Pre-processing"
   ]
  },
  {
   "cell_type": "code",
   "execution_count": 145,
   "id": "ab800137",
   "metadata": {},
   "outputs": [
    {
     "name": "stdout",
     "output_type": "stream",
     "text": [
      "Feature Sex\n",
      "mapping {'female': 0, 'male': 1}\n",
      "Feature Embarked\n",
      "mapping {'C': 0, 'Q': 1, 'S': 2}\n"
     ]
    }
   ],
   "source": [
    "# For preprocessing the data\n",
    "le=LabelEncoder()\n",
    "\n",
    "col=['Sex','Embarked']\n",
    "for x in col:\n",
    "    test[x]=le.fit_transform(test[x])\n",
    "    le_name_mapping = dict(zip(le.classes_, le.transform(le.classes_)))\n",
    "    print('Feature', x)\n",
    "    print('mapping', le_name_mapping)"
   ]
  },
  {
   "cell_type": "code",
   "execution_count": 146,
   "id": "6d8e0c42",
   "metadata": {},
   "outputs": [
    {
     "data": {
      "text/html": [
       "<div>\n",
       "<style scoped>\n",
       "    .dataframe tbody tr th:only-of-type {\n",
       "        vertical-align: middle;\n",
       "    }\n",
       "\n",
       "    .dataframe tbody tr th {\n",
       "        vertical-align: top;\n",
       "    }\n",
       "\n",
       "    .dataframe thead th {\n",
       "        text-align: right;\n",
       "    }\n",
       "</style>\n",
       "<table border=\"1\" class=\"dataframe\">\n",
       "  <thead>\n",
       "    <tr style=\"text-align: right;\">\n",
       "      <th></th>\n",
       "      <th>Pclass</th>\n",
       "      <th>Sex</th>\n",
       "      <th>Age</th>\n",
       "      <th>SibSp</th>\n",
       "      <th>Parch</th>\n",
       "      <th>Fare</th>\n",
       "      <th>Embarked</th>\n",
       "    </tr>\n",
       "    <tr>\n",
       "      <th>PassengerId</th>\n",
       "      <th></th>\n",
       "      <th></th>\n",
       "      <th></th>\n",
       "      <th></th>\n",
       "      <th></th>\n",
       "      <th></th>\n",
       "      <th></th>\n",
       "    </tr>\n",
       "  </thead>\n",
       "  <tbody>\n",
       "    <tr>\n",
       "      <th>892</th>\n",
       "      <td>3</td>\n",
       "      <td>1</td>\n",
       "      <td>34.5</td>\n",
       "      <td>0</td>\n",
       "      <td>0</td>\n",
       "      <td>7.8292</td>\n",
       "      <td>1</td>\n",
       "    </tr>\n",
       "    <tr>\n",
       "      <th>893</th>\n",
       "      <td>3</td>\n",
       "      <td>0</td>\n",
       "      <td>47.0</td>\n",
       "      <td>1</td>\n",
       "      <td>0</td>\n",
       "      <td>7.0000</td>\n",
       "      <td>2</td>\n",
       "    </tr>\n",
       "    <tr>\n",
       "      <th>894</th>\n",
       "      <td>2</td>\n",
       "      <td>1</td>\n",
       "      <td>62.0</td>\n",
       "      <td>0</td>\n",
       "      <td>0</td>\n",
       "      <td>9.6875</td>\n",
       "      <td>1</td>\n",
       "    </tr>\n",
       "    <tr>\n",
       "      <th>895</th>\n",
       "      <td>3</td>\n",
       "      <td>1</td>\n",
       "      <td>27.0</td>\n",
       "      <td>0</td>\n",
       "      <td>0</td>\n",
       "      <td>8.6625</td>\n",
       "      <td>2</td>\n",
       "    </tr>\n",
       "    <tr>\n",
       "      <th>896</th>\n",
       "      <td>3</td>\n",
       "      <td>0</td>\n",
       "      <td>22.0</td>\n",
       "      <td>1</td>\n",
       "      <td>1</td>\n",
       "      <td>12.2875</td>\n",
       "      <td>2</td>\n",
       "    </tr>\n",
       "  </tbody>\n",
       "</table>\n",
       "</div>"
      ],
      "text/plain": [
       "             Pclass  Sex   Age  SibSp  Parch     Fare  Embarked\n",
       "PassengerId                                                    \n",
       "892               3    1  34.5      0      0   7.8292         1\n",
       "893               3    0  47.0      1      0   7.0000         2\n",
       "894               2    1  62.0      0      0   9.6875         1\n",
       "895               3    1  27.0      0      0   8.6625         2\n",
       "896               3    0  22.0      1      1  12.2875         2"
      ]
     },
     "execution_count": 146,
     "metadata": {},
     "output_type": "execute_result"
    }
   ],
   "source": [
    "test.head()"
   ]
  },
  {
   "cell_type": "markdown",
   "id": "0571bbe4",
   "metadata": {},
   "source": [
    "# Scaling Data and Implementing model"
   ]
  },
  {
   "cell_type": "code",
   "execution_count": 147,
   "id": "c0ec763d",
   "metadata": {},
   "outputs": [],
   "source": [
    "X_test_new  = test.iloc[:,:]"
   ]
  },
  {
   "cell_type": "code",
   "execution_count": 148,
   "id": "b391d059",
   "metadata": {},
   "outputs": [],
   "source": [
    "X_test_new = scaler.transform(X_test_new)"
   ]
  },
  {
   "cell_type": "code",
   "execution_count": 149,
   "id": "5e62e973",
   "metadata": {},
   "outputs": [
    {
     "data": {
      "text/plain": [
       "array([[ 8.25233303e-01,  7.53844771e-01,  3.71863232e-01, ...,\n",
       "        -4.77849481e-01, -4.84934969e-01, -7.16127165e-01],\n",
       "       [ 8.25233303e-01, -1.32653305e+00,  1.33510795e+00, ...,\n",
       "        -4.77849481e-01, -5.01052942e-01,  5.68211731e-01],\n",
       "       [-3.76333388e-01,  7.53844771e-01,  2.49100160e+00, ...,\n",
       "        -4.77849481e-01, -4.48813370e-01, -7.16127165e-01],\n",
       "       ...,\n",
       "       [ 8.25233303e-01,  7.53844771e-01,  6.80101540e-01, ...,\n",
       "        -4.77849481e-01, -4.96193447e-01,  5.68211731e-01],\n",
       "       [ 8.25233303e-01,  7.53844771e-01,  1.90926816e-03, ...,\n",
       "        -4.77849481e-01, -4.80643063e-01,  5.68211731e-01],\n",
       "       [ 8.25233303e-01,  7.53844771e-01,  1.90926816e-03, ...,\n",
       "         7.11761814e-01, -2.02518610e-01, -2.00046606e+00]])"
      ]
     },
     "execution_count": 149,
     "metadata": {},
     "output_type": "execute_result"
    }
   ],
   "source": [
    "X_test_new"
   ]
  },
  {
   "cell_type": "code",
   "execution_count": 155,
   "id": "c21d2ca5",
   "metadata": {},
   "outputs": [],
   "source": [
    "Y_pred_new=rf_tune.predict(X_test_new)"
   ]
  },
  {
   "cell_type": "code",
   "execution_count": 156,
   "id": "408e71ea",
   "metadata": {},
   "outputs": [
    {
     "name": "stdout",
     "output_type": "stream",
     "text": [
      "[0 0 0 0 1 0 1 0 1 0 0 0 1 0 1 1 0 0 0 1 1 0 1 0 1 0 1 0 1 0 0 0 0 0 1 0 0\n",
      " 0 0 1 0 1 0 1 1 0 0 0 1 1 0 0 1 1 0 0 0 0 0 1 0 0 0 1 1 1 1 0 0 1 1 0 0 0\n",
      " 1 0 0 1 0 1 1 0 0 0 0 0 1 0 1 1 0 0 1 0 0 0 1 0 0 0 1 0 0 0 0 0 0 0 0 0 0\n",
      " 1 1 1 1 0 0 1 1 1 1 0 1 0 0 1 0 1 0 0 0 0 0 0 0 0 0 0 0 0 0 1 0 0 1 0 0 0\n",
      " 1 0 1 0 0 1 0 0 1 0 1 1 1 1 1 0 0 1 0 0 1 0 0 0 0 0 0 1 1 1 1 1 0 0 1 0 1\n",
      " 0 1 0 0 0 0 0 1 0 1 0 1 0 0 0 1 1 1 1 0 0 1 0 1 0 0 0 0 1 0 0 1 0 1 0 1 0\n",
      " 1 0 1 1 0 1 0 0 0 1 0 0 1 0 1 0 1 1 1 1 0 0 0 0 1 0 1 1 1 0 1 0 0 0 0 0 1\n",
      " 0 0 0 1 1 0 0 0 0 0 0 0 0 1 1 0 1 0 0 0 0 0 1 1 1 1 0 0 0 0 0 0 1 0 0 0 0\n",
      " 1 0 0 0 0 0 0 0 1 1 0 1 0 0 0 0 0 1 1 1 1 0 0 0 0 0 0 1 1 0 1 0 0 0 1 0 0\n",
      " 1 0 0 0 0 0 0 0 0 0 1 0 1 0 1 0 1 1 0 0 0 1 0 1 0 0 1 0 1 1 0 1 0 0 0 1 0\n",
      " 0 1 0 0 1 1 0 0 0 0 0 0 1 0 0 1 0 0 0 0 0 1 0 0 0 1 0 1 0 0 1 0 1 0 1 0 0\n",
      " 0 1 1 1 1 0 0 1 0 0 0]\n"
     ]
    }
   ],
   "source": [
    "print(Y_pred_new)"
   ]
  },
  {
   "cell_type": "code",
   "execution_count": 157,
   "id": "70ca01cc",
   "metadata": {},
   "outputs": [
    {
     "data": {
      "text/plain": [
       "(418,)"
      ]
     },
     "execution_count": 157,
     "metadata": {},
     "output_type": "execute_result"
    }
   ],
   "source": [
    "Y_pred_new.shape"
   ]
  },
  {
   "cell_type": "markdown",
   "id": "254bf95c",
   "metadata": {},
   "source": [
    "# Importing submission file"
   ]
  },
  {
   "cell_type": "code",
   "execution_count": 158,
   "id": "0125ce97",
   "metadata": {},
   "outputs": [],
   "source": [
    "df=pd.read_csv(r'gender_submission.csv',header=0)"
   ]
  },
  {
   "cell_type": "code",
   "execution_count": 160,
   "id": "a75e520a",
   "metadata": {},
   "outputs": [
    {
     "data": {
      "text/html": [
       "<div>\n",
       "<style scoped>\n",
       "    .dataframe tbody tr th:only-of-type {\n",
       "        vertical-align: middle;\n",
       "    }\n",
       "\n",
       "    .dataframe tbody tr th {\n",
       "        vertical-align: top;\n",
       "    }\n",
       "\n",
       "    .dataframe thead th {\n",
       "        text-align: right;\n",
       "    }\n",
       "</style>\n",
       "<table border=\"1\" class=\"dataframe\">\n",
       "  <thead>\n",
       "    <tr style=\"text-align: right;\">\n",
       "      <th></th>\n",
       "      <th>PassengerId</th>\n",
       "      <th>Survived</th>\n",
       "    </tr>\n",
       "  </thead>\n",
       "  <tbody>\n",
       "    <tr>\n",
       "      <th>0</th>\n",
       "      <td>892</td>\n",
       "      <td>0</td>\n",
       "    </tr>\n",
       "    <tr>\n",
       "      <th>1</th>\n",
       "      <td>893</td>\n",
       "      <td>0</td>\n",
       "    </tr>\n",
       "    <tr>\n",
       "      <th>2</th>\n",
       "      <td>894</td>\n",
       "      <td>0</td>\n",
       "    </tr>\n",
       "    <tr>\n",
       "      <th>3</th>\n",
       "      <td>895</td>\n",
       "      <td>0</td>\n",
       "    </tr>\n",
       "    <tr>\n",
       "      <th>4</th>\n",
       "      <td>896</td>\n",
       "      <td>0</td>\n",
       "    </tr>\n",
       "  </tbody>\n",
       "</table>\n",
       "</div>"
      ],
      "text/plain": [
       "   PassengerId  Survived\n",
       "0          892         0\n",
       "1          893         0\n",
       "2          894         0\n",
       "3          895         0\n",
       "4          896         0"
      ]
     },
     "execution_count": 160,
     "metadata": {},
     "output_type": "execute_result"
    }
   ],
   "source": [
    "df.head()"
   ]
  },
  {
   "cell_type": "code",
   "execution_count": 159,
   "id": "35667b2b",
   "metadata": {},
   "outputs": [
    {
     "data": {
      "text/plain": [
       "(418, 2)"
      ]
     },
     "execution_count": 159,
     "metadata": {},
     "output_type": "execute_result"
    }
   ],
   "source": [
    "df.shape"
   ]
  },
  {
   "cell_type": "code",
   "execution_count": 161,
   "id": "ed576332",
   "metadata": {},
   "outputs": [],
   "source": [
    "df['Survived']=Y_pred_new"
   ]
  },
  {
   "cell_type": "code",
   "execution_count": 162,
   "id": "b0fd5d0d",
   "metadata": {},
   "outputs": [
    {
     "data": {
      "text/html": [
       "<div>\n",
       "<style scoped>\n",
       "    .dataframe tbody tr th:only-of-type {\n",
       "        vertical-align: middle;\n",
       "    }\n",
       "\n",
       "    .dataframe tbody tr th {\n",
       "        vertical-align: top;\n",
       "    }\n",
       "\n",
       "    .dataframe thead th {\n",
       "        text-align: right;\n",
       "    }\n",
       "</style>\n",
       "<table border=\"1\" class=\"dataframe\">\n",
       "  <thead>\n",
       "    <tr style=\"text-align: right;\">\n",
       "      <th></th>\n",
       "      <th>PassengerId</th>\n",
       "      <th>Survived</th>\n",
       "    </tr>\n",
       "  </thead>\n",
       "  <tbody>\n",
       "    <tr>\n",
       "      <th>0</th>\n",
       "      <td>892</td>\n",
       "      <td>0</td>\n",
       "    </tr>\n",
       "    <tr>\n",
       "      <th>1</th>\n",
       "      <td>893</td>\n",
       "      <td>0</td>\n",
       "    </tr>\n",
       "    <tr>\n",
       "      <th>2</th>\n",
       "      <td>894</td>\n",
       "      <td>0</td>\n",
       "    </tr>\n",
       "    <tr>\n",
       "      <th>3</th>\n",
       "      <td>895</td>\n",
       "      <td>0</td>\n",
       "    </tr>\n",
       "    <tr>\n",
       "      <th>4</th>\n",
       "      <td>896</td>\n",
       "      <td>1</td>\n",
       "    </tr>\n",
       "  </tbody>\n",
       "</table>\n",
       "</div>"
      ],
      "text/plain": [
       "   PassengerId  Survived\n",
       "0          892         0\n",
       "1          893         0\n",
       "2          894         0\n",
       "3          895         0\n",
       "4          896         1"
      ]
     },
     "execution_count": 162,
     "metadata": {},
     "output_type": "execute_result"
    }
   ],
   "source": [
    "df.head()"
   ]
  },
  {
   "cell_type": "code",
   "execution_count": 163,
   "id": "05c4486d",
   "metadata": {},
   "outputs": [],
   "source": [
    "df.to_csv(r'gender_submission.csv', index=False,header=True)"
   ]
  },
  {
   "cell_type": "markdown",
   "id": "e8343994",
   "metadata": {},
   "source": [
    "# Dumping model"
   ]
  },
  {
   "cell_type": "code",
   "execution_count": 179,
   "id": "c452050c",
   "metadata": {},
   "outputs": [],
   "source": [
    "pickle.dump(knn_tune,open(r'C:\\Users\\vishal\\Web Deployment\\Titanic Machine Learning from Disaster\\models\\knn_tune.pkl','wb'))\n",
    "pickle.dump(svm_tune,open(r'C:\\Users\\vishal\\Web Deployment\\Titanic Machine Learning from Disaster\\models\\svc_tune.pkl','wb'))\n",
    "pickle.dump(dt_tune,open(r'C:\\Users\\vishal\\Web Deployment\\Titanic Machine Learning from Disaster\\models\\dt_tune.pkl','wb'))\n",
    "pickle.dump(rf_tune,open(r'C:\\Users\\vishal\\Web Deployment\\Titanic Machine Learning from Disaster\\models\\rt_tune.pkl','wb'))\n",
    "pickle.dump(gb_tune,open(r'C:\\Users\\vishal\\Web Deployment\\Titanic Machine Learning from Disaster\\models\\gb_tune.pkl','wb'))"
   ]
  },
  {
   "cell_type": "code",
   "execution_count": null,
   "id": "28e3702b",
   "metadata": {},
   "outputs": [],
   "source": []
  }
 ],
 "metadata": {
  "kernelspec": {
   "display_name": "Python 3",
   "language": "python",
   "name": "python3"
  },
  "language_info": {
   "codemirror_mode": {
    "name": "ipython",
    "version": 3
   },
   "file_extension": ".py",
   "mimetype": "text/x-python",
   "name": "python",
   "nbconvert_exporter": "python",
   "pygments_lexer": "ipython3",
   "version": "3.8.8"
  }
 },
 "nbformat": 4,
 "nbformat_minor": 5
}
